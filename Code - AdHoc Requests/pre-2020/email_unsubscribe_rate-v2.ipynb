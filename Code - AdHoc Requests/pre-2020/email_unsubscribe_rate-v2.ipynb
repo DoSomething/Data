{
 "cells": [
  {
   "cell_type": "code",
   "execution_count": 1,
   "metadata": {},
   "outputs": [],
   "source": [
    "## trello request: https://trello.com/c/fsJJHKuf/1484-email-unsubscriptions-20\n",
    "%matplotlib inline"
   ]
  },
  {
   "cell_type": "code",
   "execution_count": 2,
   "metadata": {},
   "outputs": [
    {
     "name": "stderr",
     "output_type": "stream",
     "text": [
      "/usr/local/lib/python3.7/site-packages/psycopg2/__init__.py:144: UserWarning: The psycopg2 wheel package will be renamed from release 2.8; in order to keep installing from binary please use \"pip install psycopg2-binary\" instead. For details see: <http://initd.org/psycopg/docs/install.html#binary-install-from-pypi>.\n",
      "  \"\"\")\n"
     ]
    }
   ],
   "source": [
    "import matplotlib.pyplot as plt\n",
    "import numpy as np\n",
    "import pandas as pd\n",
    "\n",
    "import utils_gen as u\n",
    "\n",
    "plt.rcParams['figure.figsize'] = (12, 9)\n",
    "pd.set_option('precision', 2)"
   ]
  },
  {
   "cell_type": "code",
   "execution_count": 24,
   "metadata": {},
   "outputs": [],
   "source": [
    "conn = u.load_connection()"
   ]
  },
  {
   "cell_type": "code",
   "execution_count": 4,
   "metadata": {},
   "outputs": [],
   "source": [
    "sql_email_status = '''\n",
    "SELECT *\n",
    "FROM cio.customer_event\n",
    "WHERE timestamp >= '2018-11-04'\n",
    "AND timestamp < '2019-02-24'\n",
    "'''\n",
    "\n",
    "df_subscription_status = pd.read_sql(sql_email_status, conn)"
   ]
  },
  {
   "cell_type": "code",
   "execution_count": 5,
   "metadata": {},
   "outputs": [],
   "source": [
    "df_subscribers = df_subscription_status[df_subscription_status['event_type'] == 'customer_subscribed']\n",
    "df_unsubscribers = df_subscription_status[df_subscription_status['event_type'] == 'customer_unsubscribed']"
   ]
  },
  {
   "cell_type": "code",
   "execution_count": 6,
   "metadata": {},
   "outputs": [],
   "source": [
    "all_users_byweek = df_subscription_status.set_index('timestamp').groupby(pd.Grouper(freq='W')).agg(\n",
    "    {'customer_id': lambda x: len(x.unique())})"
   ]
  },
  {
   "cell_type": "code",
   "execution_count": 7,
   "metadata": {},
   "outputs": [],
   "source": [
    "unsubscribed_users_byweek = df_unsubscribers.set_index('timestamp').groupby(pd.Grouper(freq='W')).agg(\n",
    "    {'customer_id': lambda x: len(x.unique())})"
   ]
  },
  {
   "cell_type": "code",
   "execution_count": 8,
   "metadata": {},
   "outputs": [
    {
     "data": {
      "text/html": [
       "<div>\n",
       "<style scoped>\n",
       "    .dataframe tbody tr th:only-of-type {\n",
       "        vertical-align: middle;\n",
       "    }\n",
       "\n",
       "    .dataframe tbody tr th {\n",
       "        vertical-align: top;\n",
       "    }\n",
       "\n",
       "    .dataframe thead th {\n",
       "        text-align: right;\n",
       "    }\n",
       "</style>\n",
       "<table border=\"1\" class=\"dataframe\">\n",
       "  <thead>\n",
       "    <tr style=\"text-align: right;\">\n",
       "      <th></th>\n",
       "      <th>customer_id</th>\n",
       "    </tr>\n",
       "    <tr>\n",
       "      <th>timestamp</th>\n",
       "      <th></th>\n",
       "    </tr>\n",
       "  </thead>\n",
       "  <tbody>\n",
       "    <tr>\n",
       "      <th>2018-11-04</th>\n",
       "      <td>46.95</td>\n",
       "    </tr>\n",
       "    <tr>\n",
       "      <th>2018-11-11</th>\n",
       "      <td>46.39</td>\n",
       "    </tr>\n",
       "    <tr>\n",
       "      <th>2018-11-18</th>\n",
       "      <td>69.68</td>\n",
       "    </tr>\n",
       "    <tr>\n",
       "      <th>2018-11-25</th>\n",
       "      <td>58.30</td>\n",
       "    </tr>\n",
       "    <tr>\n",
       "      <th>2018-12-02</th>\n",
       "      <td>64.98</td>\n",
       "    </tr>\n",
       "  </tbody>\n",
       "</table>\n",
       "</div>"
      ],
      "text/plain": [
       "            customer_id\n",
       "timestamp              \n",
       "2018-11-04        46.95\n",
       "2018-11-11        46.39\n",
       "2018-11-18        69.68\n",
       "2018-11-25        58.30\n",
       "2018-12-02        64.98"
      ]
     },
     "execution_count": 8,
     "metadata": {},
     "output_type": "execute_result"
    }
   ],
   "source": [
    "((unsubscribed_users_byweek / all_users_byweek) * 100).head()"
   ]
  },
  {
   "cell_type": "code",
   "execution_count": 9,
   "metadata": {},
   "outputs": [],
   "source": [
    "sql_email_event  = '''\n",
    "SELECT *\n",
    "FROM cio.email_sent\n",
    "WHERE timestamp >= '{start_date}'\n",
    "AND timestamp < '{end_date}'\n",
    "'''"
   ]
  },
  {
   "cell_type": "code",
   "execution_count": 14,
   "metadata": {},
   "outputs": [],
   "source": [
    "df_percentusers_emails = pd.DataFrame()\n",
    "df_percentunsub_emails = pd.DataFrame()"
   ]
  },
  {
   "cell_type": "code",
   "execution_count": 15,
   "metadata": {},
   "outputs": [],
   "source": [
    "## Week-to-week, what's the percentage of total email subscribers who are receiving 1, 2, 3, 4, 5, 6+ emails per week?\n",
    "## What percentage of these users in each '# of emails received' category unsubscribed in that time period?\n",
    "\n",
    "for group, df in df_subscription_status.set_index('timestamp').groupby(pd.Grouper(freq='W')):\n",
    "    string_dict = {'start_date': group, 'end_date': group + pd.Timedelta(days=7)}\n",
    "    \n",
    "    ##  grab emails\n",
    "    df_emails_sub = pd.read_sql(sql_email_event.format(**string_dict), conn)\n",
    "    \n",
    "    num_emails_peruser = df_emails_sub.groupby('customer_id')['email_id'].size().reset_index()\n",
    "    num_emails_peruser['num_emails'] = pd.cut(\n",
    "        num_emails_peruser['email_id'],\n",
    "        bins=[0, 1, 2, 3, 4, 5, num_emails_peruser['email_id'].max()],\n",
    "        labels=['1', '2', '3', '4', '5', '6+']\n",
    "    )\n",
    "    \n",
    "    num_users_emails = num_emails_peruser.groupby('num_emails').agg({'customer_id': lambda x: len(x.unique())})\n",
    "    percent_users = (num_users_emails / num_users_emails.sum())*100\n",
    "    percent_users.rename(columns={'customer_id': group}, inplace=True)\n",
    "    percent_users = percent_users.transpose()\n",
    "    \n",
    "    df_percentusers_emails = df_percentusers_emails.append(percent_users)\n",
    "    \n",
    "    \n",
    "    ##  grab unsubscribed events\n",
    "    unsubscribers = df[df['event_type'] == 'customer_unsubscribed']['customer_id'].unique()\n",
    "    num_emails_peruser.loc[num_emails_peruser['customer_id'].isin(unsubscribers), 'unsubscriber'] = 1\n",
    "    num_unsubscribers_emails = num_emails_peruser[num_emails_peruser['unsubscriber'] == 1].groupby('num_emails').agg(\n",
    "        {'customer_id': lambda x: len(x.unique())}).fillna(0)\n",
    "    percent_unsubscribe = (num_unsubscribers_emails / num_users_emails)*100\n",
    "    percent_unsubscribe.rename(columns={'customer_id': group}, inplace=True)\n",
    "    percent_unsubscribe = percent_unsubscribe.transpose()\n",
    "\n",
    "    df_percentunsub_emails = df_percentunsub_emails.append(percent_unsubscribe)"
   ]
  },
  {
   "cell_type": "code",
   "execution_count": 17,
   "metadata": {},
   "outputs": [
    {
     "data": {
      "text/plain": [
       "<matplotlib.axes._subplots.AxesSubplot at 0x13b651860>"
      ]
     },
     "execution_count": 17,
     "metadata": {},
     "output_type": "execute_result"
    },
    {
     "data": {
      "image/png": "[encoded data removed]",
      "text/plain": [
       "<Figure size 864x648 with 1 Axes>"
      ]
     },
     "metadata": {
      "needs_background": "light"
     },
     "output_type": "display_data"
    }
   ],
   "source": [
    "df_percentunsub_emails.plot()"
   ]
  },
  {
   "cell_type": "code",
   "execution_count": 18,
   "metadata": {},
   "outputs": [],
   "source": [
    "df_percentusers_emails.to_csv('percentuser_emailed.csv')\n",
    "df_percentunsub_emails.to_csv('percentunsub_emailed.csv')"
   ]
  },
  {
   "cell_type": "code",
   "execution_count": 10,
   "metadata": {},
   "outputs": [],
   "source": [
    "sql_email_event  = '''\n",
    "SELECT customer_id, count(DISTINCT email_id) as num_emails\n",
    "FROM cio.email_sent\n",
    "WHERE timestamp >= '{start_date}'\n",
    "AND timestamp < '{end_date}'\n",
    "GROUP BY customer_id\n",
    "'''\n",
    "\n",
    "sql_signups = '''\n",
    "SELECT *\n",
    "FROM signups\n",
    "WHERE northstar_id in ({users})\n",
    "AND created_at <= '{end_date}'\n",
    "AND created_at >= ('{start_date}'::timestamp - INTERVAL '1 month')\n",
    "'''"
   ]
  },
  {
   "cell_type": "code",
   "execution_count": 25,
   "metadata": {},
   "outputs": [],
   "source": [
    "## What percentage of users receiving 4+ emails were signed up for 1 campaign? 2+ campaigns?\n",
    "df_signups = pd.DataFrame()\n",
    "for group, df in df_subscription_status.set_index('timestamp').groupby(pd.Grouper(freq='W')):\n",
    "    string_dict = {'start_date': group, 'end_date': group + pd.Timedelta(days=7)}\n",
    "    \n",
    "    #  grab emails from that week\n",
    "    df_emails_sub = pd.read_sql(sql_email_event.format(**string_dict), conn)\n",
    "    df_emails_sub = df_emails_sub[df_emails_sub['num_emails'] >= 4]\n",
    "    \n",
    "    #  grab users \n",
    "    users = u.sql_stringify_list(df_emails_sub['customer_id'].unique())\n",
    "    string_dict['users'] = users\n",
    "    \n",
    "    #  grab signups \n",
    "    df_signups_sub = pd.read_sql(sql_signups.format(**string_dict), conn)\n",
    "    num_signups_peruser = df_signups_sub.groupby('northstar_id').size()\n",
    "\n",
    "    percent_onesignup = (num_signups_peruser == 1).sum() / len(df_emails_sub['customer_id'].unique())\n",
    "    percent_moresignups = (num_signups_peruser >= 2).sum() / len(df_emails_sub['customer_id'].unique())\n",
    "    \n",
    "    df_signups = df_signups.append({\n",
    "        'Date': group,\n",
    "        'Number of Users with 1 signup': (num_signups_peruser == 1).sum(),\n",
    "        'Number of Users 2+ signups': (num_signups_peruser >= 2).sum(),\n",
    "        'Percent of Users with 1 signup': percent_onesignup,\n",
    "        'Percent of Users with 2+ signups': percent_moresignups,\n",
    "    }, ignore_index=True)"
   ]
  },
  {
   "cell_type": "code",
   "execution_count": 26,
   "metadata": {},
   "outputs": [
    {
     "data": {
      "text/html": [
       "<div>\n",
       "<style scoped>\n",
       "    .dataframe tbody tr th:only-of-type {\n",
       "        vertical-align: middle;\n",
       "    }\n",
       "\n",
       "    .dataframe tbody tr th {\n",
       "        vertical-align: top;\n",
       "    }\n",
       "\n",
       "    .dataframe thead th {\n",
       "        text-align: right;\n",
       "    }\n",
       "</style>\n",
       "<table border=\"1\" class=\"dataframe\">\n",
       "  <thead>\n",
       "    <tr style=\"text-align: right;\">\n",
       "      <th></th>\n",
       "      <th>Date</th>\n",
       "      <th>Number of Users 2+ signups</th>\n",
       "      <th>Number of Users with 1 signup</th>\n",
       "      <th>Percent of Users with 1 signup</th>\n",
       "      <th>Percent of Users with 2+ signups</th>\n",
       "    </tr>\n",
       "  </thead>\n",
       "  <tbody>\n",
       "    <tr>\n",
       "      <th>0</th>\n",
       "      <td>2018-11-04</td>\n",
       "      <td>6085.0</td>\n",
       "      <td>31312.0</td>\n",
       "      <td>0.08</td>\n",
       "      <td>0.02</td>\n",
       "    </tr>\n",
       "    <tr>\n",
       "      <th>1</th>\n",
       "      <td>2018-11-11</td>\n",
       "      <td>5816.0</td>\n",
       "      <td>45474.0</td>\n",
       "      <td>0.30</td>\n",
       "      <td>0.04</td>\n",
       "    </tr>\n",
       "    <tr>\n",
       "      <th>2</th>\n",
       "      <td>2018-11-18</td>\n",
       "      <td>2068.0</td>\n",
       "      <td>2915.0</td>\n",
       "      <td>0.51</td>\n",
       "      <td>0.36</td>\n",
       "    </tr>\n",
       "    <tr>\n",
       "      <th>3</th>\n",
       "      <td>2018-11-25</td>\n",
       "      <td>5313.0</td>\n",
       "      <td>5781.0</td>\n",
       "      <td>0.19</td>\n",
       "      <td>0.18</td>\n",
       "    </tr>\n",
       "    <tr>\n",
       "      <th>4</th>\n",
       "      <td>2018-12-02</td>\n",
       "      <td>3759.0</td>\n",
       "      <td>5068.0</td>\n",
       "      <td>0.25</td>\n",
       "      <td>0.19</td>\n",
       "    </tr>\n",
       "    <tr>\n",
       "      <th>5</th>\n",
       "      <td>2018-12-09</td>\n",
       "      <td>1692.0</td>\n",
       "      <td>2090.0</td>\n",
       "      <td>0.24</td>\n",
       "      <td>0.20</td>\n",
       "    </tr>\n",
       "    <tr>\n",
       "      <th>6</th>\n",
       "      <td>2018-12-16</td>\n",
       "      <td>3944.0</td>\n",
       "      <td>9730.0</td>\n",
       "      <td>0.03</td>\n",
       "      <td>0.01</td>\n",
       "    </tr>\n",
       "    <tr>\n",
       "      <th>7</th>\n",
       "      <td>2018-12-23</td>\n",
       "      <td>540.0</td>\n",
       "      <td>1819.0</td>\n",
       "      <td>0.67</td>\n",
       "      <td>0.20</td>\n",
       "    </tr>\n",
       "    <tr>\n",
       "      <th>8</th>\n",
       "      <td>2018-12-30</td>\n",
       "      <td>799.0</td>\n",
       "      <td>1011.0</td>\n",
       "      <td>0.49</td>\n",
       "      <td>0.39</td>\n",
       "    </tr>\n",
       "    <tr>\n",
       "      <th>9</th>\n",
       "      <td>2019-01-06</td>\n",
       "      <td>3038.0</td>\n",
       "      <td>13050.0</td>\n",
       "      <td>0.11</td>\n",
       "      <td>0.03</td>\n",
       "    </tr>\n",
       "    <tr>\n",
       "      <th>10</th>\n",
       "      <td>2019-01-13</td>\n",
       "      <td>3511.0</td>\n",
       "      <td>12806.0</td>\n",
       "      <td>0.19</td>\n",
       "      <td>0.05</td>\n",
       "    </tr>\n",
       "    <tr>\n",
       "      <th>11</th>\n",
       "      <td>2019-01-20</td>\n",
       "      <td>1637.0</td>\n",
       "      <td>3765.0</td>\n",
       "      <td>0.69</td>\n",
       "      <td>0.30</td>\n",
       "    </tr>\n",
       "    <tr>\n",
       "      <th>12</th>\n",
       "      <td>2019-01-27</td>\n",
       "      <td>4541.0</td>\n",
       "      <td>10341.0</td>\n",
       "      <td>0.19</td>\n",
       "      <td>0.08</td>\n",
       "    </tr>\n",
       "    <tr>\n",
       "      <th>13</th>\n",
       "      <td>2019-02-03</td>\n",
       "      <td>2213.0</td>\n",
       "      <td>2562.0</td>\n",
       "      <td>0.37</td>\n",
       "      <td>0.32</td>\n",
       "    </tr>\n",
       "    <tr>\n",
       "      <th>14</th>\n",
       "      <td>2019-02-10</td>\n",
       "      <td>4154.0</td>\n",
       "      <td>9515.0</td>\n",
       "      <td>0.06</td>\n",
       "      <td>0.03</td>\n",
       "    </tr>\n",
       "    <tr>\n",
       "      <th>15</th>\n",
       "      <td>2019-02-17</td>\n",
       "      <td>1002.0</td>\n",
       "      <td>2734.0</td>\n",
       "      <td>0.71</td>\n",
       "      <td>0.26</td>\n",
       "    </tr>\n",
       "    <tr>\n",
       "      <th>16</th>\n",
       "      <td>2019-02-24</td>\n",
       "      <td>818.0</td>\n",
       "      <td>2449.0</td>\n",
       "      <td>0.75</td>\n",
       "      <td>0.25</td>\n",
       "    </tr>\n",
       "  </tbody>\n",
       "</table>\n",
       "</div>"
      ],
      "text/plain": [
       "         Date  Number of Users 2+ signups  Number of Users with 1 signup  \\\n",
       "0  2018-11-04                      6085.0                        31312.0   \n",
       "1  2018-11-11                      5816.0                        45474.0   \n",
       "2  2018-11-18                      2068.0                         2915.0   \n",
       "3  2018-11-25                      5313.0                         5781.0   \n",
       "4  2018-12-02                      3759.0                         5068.0   \n",
       "5  2018-12-09                      1692.0                         2090.0   \n",
       "6  2018-12-16                      3944.0                         9730.0   \n",
       "7  2018-12-23                       540.0                         1819.0   \n",
       "8  2018-12-30                       799.0                         1011.0   \n",
       "9  2019-01-06                      3038.0                        13050.0   \n",
       "10 2019-01-13                      3511.0                        12806.0   \n",
       "11 2019-01-20                      1637.0                         3765.0   \n",
       "12 2019-01-27                      4541.0                        10341.0   \n",
       "13 2019-02-03                      2213.0                         2562.0   \n",
       "14 2019-02-10                      4154.0                         9515.0   \n",
       "15 2019-02-17                      1002.0                         2734.0   \n",
       "16 2019-02-24                       818.0                         2449.0   \n",
       "\n",
       "    Percent of Users with 1 signup  Percent of Users with 2+ signups  \n",
       "0                             0.08                              0.02  \n",
       "1                             0.30                              0.04  \n",
       "2                             0.51                              0.36  \n",
       "3                             0.19                              0.18  \n",
       "4                             0.25                              0.19  \n",
       "5                             0.24                              0.20  \n",
       "6                             0.03                              0.01  \n",
       "7                             0.67                              0.20  \n",
       "8                             0.49                              0.39  \n",
       "9                             0.11                              0.03  \n",
       "10                            0.19                              0.05  \n",
       "11                            0.69                              0.30  \n",
       "12                            0.19                              0.08  \n",
       "13                            0.37                              0.32  \n",
       "14                            0.06                              0.03  \n",
       "15                            0.71                              0.26  \n",
       "16                            0.75                              0.25  "
      ]
     },
     "execution_count": 26,
     "metadata": {},
     "output_type": "execute_result"
    }
   ],
   "source": [
    "df_signups"
   ]
  },
  {
   "cell_type": "code",
   "execution_count": 27,
   "metadata": {},
   "outputs": [],
   "source": [
    "df_signups.to_csv('signups_emails.csv')"
   ]
  },
  {
   "cell_type": "code",
   "execution_count": null,
   "metadata": {},
   "outputs": [],
   "source": []
  }
 ],
 "metadata": {
  "kernelspec": {
   "display_name": "Python 3",
   "language": "python",
   "name": "python3"
  },
  "language_info": {
   "codemirror_mode": {
    "name": "ipython",
    "version": 3
   },
   "file_extension": ".py",
   "mimetype": "text/x-python",
   "name": "python",
   "nbconvert_exporter": "python",
   "pygments_lexer": "ipython3",
   "version": "3.7.0"
  }
 },
 "nbformat": 4,
 "nbformat_minor": 2
}
