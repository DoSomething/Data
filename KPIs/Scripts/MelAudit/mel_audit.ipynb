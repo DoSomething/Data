{
 "cells": [
  {
   "cell_type": "code",
   "execution_count": 1,
   "metadata": {},
   "outputs": [],
   "source": [
    "%load_ext autoreload\n",
    "%autoreload 2\n",
    "%matplotlib inline"
   ]
  },
  {
   "cell_type": "code",
   "execution_count": 2,
   "metadata": {},
   "outputs": [
    {
     "name": "stderr",
     "output_type": "stream",
     "text": [
      "/usr/local/lib/python3.7/site-packages/psycopg2/__init__.py:144: UserWarning: The psycopg2 wheel package will be renamed from release 2.8; in order to keep installing from binary please use \"pip install psycopg2-binary\" instead. For details see: <http://initd.org/psycopg/docs/install.html#binary-install-from-pypi>.\n",
      "  \"\"\")\n"
     ]
    }
   ],
   "source": [
    "import matplotlib.pyplot as plt\n",
    "import numpy as np\n",
    "import os\n",
    "import pandas as pd\n",
    "import seaborn as sns\n",
    "\n",
    "import utils\n",
    "\n",
    "plt.rcParams['figure.figsize'] = (12, 8)"
   ]
  },
  {
   "cell_type": "code",
   "execution_count": 3,
   "metadata": {},
   "outputs": [],
   "source": [
    "conn = utils.load_connection()"
   ]
  },
  {
   "cell_type": "code",
   "execution_count": 4,
   "metadata": {},
   "outputs": [],
   "source": [
    "mel_sql = '''\n",
    "select *\n",
    "from public.member_event_log\n",
    "where \"timestamp\" > '2018-01-01'\n",
    "'''"
   ]
  },
  {
   "cell_type": "code",
   "execution_count": 5,
   "metadata": {},
   "outputs": [],
   "source": [
    "if os.path.exists('member_event_log.csv.gz'):\n",
    "    df_mel = pd.read_csv('member_event_log.csv.gz', compression='gzip', low_memory=False)\n",
    "    df_mel['timestamp'] = pd.to_datetime(df_mel['timestamp'])\n",
    "else:\n",
    "    df_mel = pd.read_sql(mel_sql, con=conn)\n",
    "    df_mel.to_csv('member_event_log.csv.gz', compression='gzip', index=False)"
   ]
  },
  {
   "cell_type": "code",
   "execution_count": 6,
   "metadata": {},
   "outputs": [
    {
     "data": {
      "text/html": [
       "<div>\n",
       "<style scoped>\n",
       "    .dataframe tbody tr th:only-of-type {\n",
       "        vertical-align: middle;\n",
       "    }\n",
       "\n",
       "    .dataframe tbody tr th {\n",
       "        vertical-align: top;\n",
       "    }\n",
       "\n",
       "    .dataframe thead th {\n",
       "        text-align: right;\n",
       "    }\n",
       "</style>\n",
       "<table border=\"1\" class=\"dataframe\">\n",
       "  <thead>\n",
       "    <tr style=\"text-align: right;\">\n",
       "      <th></th>\n",
       "      <th>event_id</th>\n",
       "      <th>northstar_id</th>\n",
       "      <th>timestamp</th>\n",
       "      <th>action_type</th>\n",
       "      <th>action_id</th>\n",
       "      <th>source</th>\n",
       "      <th>action_serial_id</th>\n",
       "      <th>channel</th>\n",
       "    </tr>\n",
       "  </thead>\n",
       "  <tbody>\n",
       "    <tr>\n",
       "      <th>0</th>\n",
       "      <td>d90a85a0e9b872558709fd3d3413abaf</td>\n",
       "      <td>55a72b25469c64022e8c5e19</td>\n",
       "      <td>2018-01-20 00:38:32</td>\n",
       "      <td>site_access</td>\n",
       "      <td>3</td>\n",
       "      <td>NaN</td>\n",
       "      <td>0</td>\n",
       "      <td>web</td>\n",
       "    </tr>\n",
       "    <tr>\n",
       "      <th>1</th>\n",
       "      <td>f1db163a245391feafa2d7aeacc889a3</td>\n",
       "      <td>55a7992d469c649d2b8da515</td>\n",
       "      <td>2018-02-06 22:33:16</td>\n",
       "      <td>site_access</td>\n",
       "      <td>3</td>\n",
       "      <td>NaN</td>\n",
       "      <td>0</td>\n",
       "      <td>web</td>\n",
       "    </tr>\n",
       "    <tr>\n",
       "      <th>2</th>\n",
       "      <td>ee3a7c704be03906c6b03acf7c91efa2</td>\n",
       "      <td>55a7c020469c646a348b9a30</td>\n",
       "      <td>2018-05-07 16:22:30</td>\n",
       "      <td>site_access</td>\n",
       "      <td>3</td>\n",
       "      <td>NaN</td>\n",
       "      <td>0</td>\n",
       "      <td>web</td>\n",
       "    </tr>\n",
       "    <tr>\n",
       "      <th>3</th>\n",
       "      <td>f814a62ab9536cda318c28cc4bb41942</td>\n",
       "      <td>55a80fd2469c646a348c3431</td>\n",
       "      <td>2018-02-27 22:43:48</td>\n",
       "      <td>site_access</td>\n",
       "      <td>3</td>\n",
       "      <td>NaN</td>\n",
       "      <td>0</td>\n",
       "      <td>web</td>\n",
       "    </tr>\n",
       "    <tr>\n",
       "      <th>4</th>\n",
       "      <td>d73b6a683a3375b814eafbb0d80f552f</td>\n",
       "      <td>55a82048469c649e2b8ed5e0</td>\n",
       "      <td>2018-03-20 06:36:28</td>\n",
       "      <td>site_access</td>\n",
       "      <td>3</td>\n",
       "      <td>NaN</td>\n",
       "      <td>0</td>\n",
       "      <td>web</td>\n",
       "    </tr>\n",
       "  </tbody>\n",
       "</table>\n",
       "</div>"
      ],
      "text/plain": [
       "                           event_id              northstar_id  \\\n",
       "0  d90a85a0e9b872558709fd3d3413abaf  55a72b25469c64022e8c5e19   \n",
       "1  f1db163a245391feafa2d7aeacc889a3  55a7992d469c649d2b8da515   \n",
       "2  ee3a7c704be03906c6b03acf7c91efa2  55a7c020469c646a348b9a30   \n",
       "3  f814a62ab9536cda318c28cc4bb41942  55a80fd2469c646a348c3431   \n",
       "4  d73b6a683a3375b814eafbb0d80f552f  55a82048469c649e2b8ed5e0   \n",
       "\n",
       "            timestamp  action_type  action_id source action_serial_id channel  \n",
       "0 2018-01-20 00:38:32  site_access          3    NaN                0     web  \n",
       "1 2018-02-06 22:33:16  site_access          3    NaN                0     web  \n",
       "2 2018-05-07 16:22:30  site_access          3    NaN                0     web  \n",
       "3 2018-02-27 22:43:48  site_access          3    NaN                0     web  \n",
       "4 2018-03-20 06:36:28  site_access          3    NaN                0     web  "
      ]
     },
     "execution_count": 6,
     "metadata": {},
     "output_type": "execute_result"
    }
   ],
   "source": [
    "df_mel.head()"
   ]
  },
  {
   "cell_type": "markdown",
   "metadata": {},
   "source": [
    "## Look at fields with null values."
   ]
  },
  {
   "cell_type": "code",
   "execution_count": 7,
   "metadata": {},
   "outputs": [
    {
     "data": {
      "text/html": [
       "<div>\n",
       "<style scoped>\n",
       "    .dataframe tbody tr th:only-of-type {\n",
       "        vertical-align: middle;\n",
       "    }\n",
       "\n",
       "    .dataframe tbody tr th {\n",
       "        vertical-align: top;\n",
       "    }\n",
       "\n",
       "    .dataframe thead th {\n",
       "        text-align: right;\n",
       "    }\n",
       "</style>\n",
       "<table border=\"1\" class=\"dataframe\">\n",
       "  <thead>\n",
       "    <tr style=\"text-align: right;\">\n",
       "      <th></th>\n",
       "      <th>col</th>\n",
       "      <th>num_null</th>\n",
       "      <th>percent_null</th>\n",
       "    </tr>\n",
       "  </thead>\n",
       "  <tbody>\n",
       "    <tr>\n",
       "      <th>0</th>\n",
       "      <td>event_id</td>\n",
       "      <td>0</td>\n",
       "      <td>0.000000</td>\n",
       "    </tr>\n",
       "    <tr>\n",
       "      <th>1</th>\n",
       "      <td>northstar_id</td>\n",
       "      <td>140</td>\n",
       "      <td>0.000019</td>\n",
       "    </tr>\n",
       "    <tr>\n",
       "      <th>2</th>\n",
       "      <td>timestamp</td>\n",
       "      <td>0</td>\n",
       "      <td>0.000000</td>\n",
       "    </tr>\n",
       "    <tr>\n",
       "      <th>3</th>\n",
       "      <td>action_type</td>\n",
       "      <td>0</td>\n",
       "      <td>0.000000</td>\n",
       "    </tr>\n",
       "    <tr>\n",
       "      <th>4</th>\n",
       "      <td>action_id</td>\n",
       "      <td>0</td>\n",
       "      <td>0.000000</td>\n",
       "    </tr>\n",
       "    <tr>\n",
       "      <th>5</th>\n",
       "      <td>source</td>\n",
       "      <td>1209252</td>\n",
       "      <td>0.161124</td>\n",
       "    </tr>\n",
       "    <tr>\n",
       "      <th>6</th>\n",
       "      <td>action_serial_id</td>\n",
       "      <td>1680272</td>\n",
       "      <td>0.223884</td>\n",
       "    </tr>\n",
       "    <tr>\n",
       "      <th>7</th>\n",
       "      <td>channel</td>\n",
       "      <td>0</td>\n",
       "      <td>0.000000</td>\n",
       "    </tr>\n",
       "  </tbody>\n",
       "</table>\n",
       "</div>"
      ],
      "text/plain": [
       "                col  num_null  percent_null\n",
       "0          event_id         0      0.000000\n",
       "1      northstar_id       140      0.000019\n",
       "2         timestamp         0      0.000000\n",
       "3       action_type         0      0.000000\n",
       "4         action_id         0      0.000000\n",
       "5            source   1209252      0.161124\n",
       "6  action_serial_id   1680272      0.223884\n",
       "7           channel         0      0.000000"
      ]
     },
     "execution_count": 7,
     "metadata": {},
     "output_type": "execute_result"
    }
   ],
   "source": [
    "# print each column and number of null values\n",
    "utils.print_null_vals(df_mel)"
   ]
  },
  {
   "cell_type": "markdown",
   "metadata": {},
   "source": [
    "### NS IDs"
   ]
  },
  {
   "cell_type": "code",
   "execution_count": 8,
   "metadata": {},
   "outputs": [
    {
     "data": {
      "text/html": [
       "<div>\n",
       "<style scoped>\n",
       "    .dataframe tbody tr th:only-of-type {\n",
       "        vertical-align: middle;\n",
       "    }\n",
       "\n",
       "    .dataframe tbody tr th {\n",
       "        vertical-align: top;\n",
       "    }\n",
       "\n",
       "    .dataframe thead th {\n",
       "        text-align: right;\n",
       "    }\n",
       "</style>\n",
       "<table border=\"1\" class=\"dataframe\">\n",
       "  <thead>\n",
       "    <tr style=\"text-align: right;\">\n",
       "      <th></th>\n",
       "      <th>event_id</th>\n",
       "      <th>northstar_id</th>\n",
       "      <th>timestamp</th>\n",
       "      <th>action_type</th>\n",
       "      <th>action_id</th>\n",
       "      <th>source</th>\n",
       "      <th>action_serial_id</th>\n",
       "      <th>channel</th>\n",
       "    </tr>\n",
       "  </thead>\n",
       "  <tbody>\n",
       "    <tr>\n",
       "      <th>2454735</th>\n",
       "      <td>53e15060db70b1d56167f1bbd717bfa8</td>\n",
       "      <td>NaN</td>\n",
       "      <td>2018-05-26 09:41:35.000000</td>\n",
       "      <td>clicked_link</td>\n",
       "      <td>7</td>\n",
       "      <td>1</td>\n",
       "      <td>01CEDX68XVTV6ZCHGQDVTZF7H5</td>\n",
       "      <td>email</td>\n",
       "    </tr>\n",
       "    <tr>\n",
       "      <th>2512663</th>\n",
       "      <td>9f26aaab8358db78e5d630099d4f105e</td>\n",
       "      <td>NaN</td>\n",
       "      <td>2018-06-26 11:44:17.000000</td>\n",
       "      <td>clicked_link</td>\n",
       "      <td>7</td>\n",
       "      <td>4</td>\n",
       "      <td>01CGXYH8935N409HG5P12GF8X1</td>\n",
       "      <td>email</td>\n",
       "    </tr>\n",
       "    <tr>\n",
       "      <th>2526293</th>\n",
       "      <td>29fd201ef1767c26371ebdb21bcc5922</td>\n",
       "      <td>NaN</td>\n",
       "      <td>2018-08-06 15:33:55.000000</td>\n",
       "      <td>clicked_link</td>\n",
       "      <td>7</td>\n",
       "      <td>3</td>\n",
       "      <td>01CM7XZ60EMREMEQ80X0EHHSFD</td>\n",
       "      <td>email</td>\n",
       "    </tr>\n",
       "    <tr>\n",
       "      <th>2651878</th>\n",
       "      <td>120dd53b7105561e380a4dac44223868</td>\n",
       "      <td>NaN</td>\n",
       "      <td>2018-07-26 21:54:10.000000</td>\n",
       "      <td>clicked_link</td>\n",
       "      <td>7</td>\n",
       "      <td>1</td>\n",
       "      <td>01CKC9BHQZPBZXXRBYXYMCWEAT</td>\n",
       "      <td>email</td>\n",
       "    </tr>\n",
       "    <tr>\n",
       "      <th>2658076</th>\n",
       "      <td>09f04d7d2c7855e0ebe3a5bd2918193f</td>\n",
       "      <td>NaN</td>\n",
       "      <td>2018-08-24 08:52:58.000000</td>\n",
       "      <td>clicked_link</td>\n",
       "      <td>7</td>\n",
       "      <td>2</td>\n",
       "      <td>01CNNJ5Z0E9GH8P23FXJAYFYHN</td>\n",
       "      <td>email</td>\n",
       "    </tr>\n",
       "    <tr>\n",
       "      <th>2849364</th>\n",
       "      <td>d442154bd9c93a4a66cc6bed261ef979</td>\n",
       "      <td>NaN</td>\n",
       "      <td>2018-05-28 10:57:27.000000</td>\n",
       "      <td>clicked_link</td>\n",
       "      <td>7</td>\n",
       "      <td>1</td>\n",
       "      <td>01CEK6AN9Y1QAC1YF5PBSENFCW</td>\n",
       "      <td>email</td>\n",
       "    </tr>\n",
       "    <tr>\n",
       "      <th>2965716</th>\n",
       "      <td>3435d7a211ca3666246d914cbfca045b</td>\n",
       "      <td>NaN</td>\n",
       "      <td>2018-07-30 14:00:00.798008</td>\n",
       "      <td>bertly_link_uncertain</td>\n",
       "      <td>10</td>\n",
       "      <td>bertly</td>\n",
       "      <td>e8efd5e8-86d4-48c8-ae95-0cbbd3802738</td>\n",
       "      <td>web</td>\n",
       "    </tr>\n",
       "    <tr>\n",
       "      <th>3002272</th>\n",
       "      <td>be13c2c02cc5271895498f1bb996b925</td>\n",
       "      <td>NaN</td>\n",
       "      <td>2018-07-27 20:50:33.297991</td>\n",
       "      <td>bertly_link_uncertain</td>\n",
       "      <td>10</td>\n",
       "      <td>bertly</td>\n",
       "      <td>b6e1ad25-eba1-4f97-a60e-ead205924e78</td>\n",
       "      <td>web</td>\n",
       "    </tr>\n",
       "    <tr>\n",
       "      <th>3009680</th>\n",
       "      <td>e3e7e7a7ed46281eab580d9f9836ffb5</td>\n",
       "      <td>NaN</td>\n",
       "      <td>2018-07-29 22:57:37.395024</td>\n",
       "      <td>bertly_link_uncertain</td>\n",
       "      <td>10</td>\n",
       "      <td>bertly</td>\n",
       "      <td>6debcef2-a5b7-4669-bc66-d19ad8d91c26</td>\n",
       "      <td>web</td>\n",
       "    </tr>\n",
       "    <tr>\n",
       "      <th>3070885</th>\n",
       "      <td>301af169993e06e72615e545cd29094c</td>\n",
       "      <td>NaN</td>\n",
       "      <td>2018-07-30 05:52:37.482881</td>\n",
       "      <td>bertly_link_uncertain</td>\n",
       "      <td>10</td>\n",
       "      <td>bertly</td>\n",
       "      <td>a2b06311-5f58-41e7-a3c2-08ef97a8fd7c</td>\n",
       "      <td>web</td>\n",
       "    </tr>\n",
       "  </tbody>\n",
       "</table>\n",
       "</div>"
      ],
      "text/plain": [
       "                                 event_id northstar_id  \\\n",
       "2454735  53e15060db70b1d56167f1bbd717bfa8          NaN   \n",
       "2512663  9f26aaab8358db78e5d630099d4f105e          NaN   \n",
       "2526293  29fd201ef1767c26371ebdb21bcc5922          NaN   \n",
       "2651878  120dd53b7105561e380a4dac44223868          NaN   \n",
       "2658076  09f04d7d2c7855e0ebe3a5bd2918193f          NaN   \n",
       "2849364  d442154bd9c93a4a66cc6bed261ef979          NaN   \n",
       "2965716  3435d7a211ca3666246d914cbfca045b          NaN   \n",
       "3002272  be13c2c02cc5271895498f1bb996b925          NaN   \n",
       "3009680  e3e7e7a7ed46281eab580d9f9836ffb5          NaN   \n",
       "3070885  301af169993e06e72615e545cd29094c          NaN   \n",
       "\n",
       "                         timestamp            action_type  action_id  source  \\\n",
       "2454735 2018-05-26 09:41:35.000000           clicked_link          7       1   \n",
       "2512663 2018-06-26 11:44:17.000000           clicked_link          7       4   \n",
       "2526293 2018-08-06 15:33:55.000000           clicked_link          7       3   \n",
       "2651878 2018-07-26 21:54:10.000000           clicked_link          7       1   \n",
       "2658076 2018-08-24 08:52:58.000000           clicked_link          7       2   \n",
       "2849364 2018-05-28 10:57:27.000000           clicked_link          7       1   \n",
       "2965716 2018-07-30 14:00:00.798008  bertly_link_uncertain         10  bertly   \n",
       "3002272 2018-07-27 20:50:33.297991  bertly_link_uncertain         10  bertly   \n",
       "3009680 2018-07-29 22:57:37.395024  bertly_link_uncertain         10  bertly   \n",
       "3070885 2018-07-30 05:52:37.482881  bertly_link_uncertain         10  bertly   \n",
       "\n",
       "                             action_serial_id channel  \n",
       "2454735            01CEDX68XVTV6ZCHGQDVTZF7H5   email  \n",
       "2512663            01CGXYH8935N409HG5P12GF8X1   email  \n",
       "2526293            01CM7XZ60EMREMEQ80X0EHHSFD   email  \n",
       "2651878            01CKC9BHQZPBZXXRBYXYMCWEAT   email  \n",
       "2658076            01CNNJ5Z0E9GH8P23FXJAYFYHN   email  \n",
       "2849364            01CEK6AN9Y1QAC1YF5PBSENFCW   email  \n",
       "2965716  e8efd5e8-86d4-48c8-ae95-0cbbd3802738     web  \n",
       "3002272  b6e1ad25-eba1-4f97-a60e-ead205924e78     web  \n",
       "3009680  6debcef2-a5b7-4669-bc66-d19ad8d91c26     web  \n",
       "3070885  a2b06311-5f58-41e7-a3c2-08ef97a8fd7c     web  "
      ]
     },
     "execution_count": 8,
     "metadata": {},
     "output_type": "execute_result"
    }
   ],
   "source": [
    "df_mel[df_mel['northstar_id'].isnull()].head(10)"
   ]
  },
  {
   "cell_type": "code",
   "execution_count": 9,
   "metadata": {},
   "outputs": [
    {
     "data": {
      "text/plain": [
       "bertly_link_uncertain    100\n",
       "bertly_link_click         33\n",
       "clicked_link               6\n",
       "bertly_link_preview        1\n",
       "Name: action_type, dtype: int64"
      ]
     },
     "execution_count": 9,
     "metadata": {},
     "output_type": "execute_result"
    }
   ],
   "source": [
    "df_mel[df_mel['northstar_id'].isnull()]['action_type'].value_counts()"
   ]
  },
  {
   "cell_type": "markdown",
   "metadata": {},
   "source": [
    "Is this related to the known issue of when pulling the northstar_id from a url string for bertly fails? Is there a way to safeguard against this?"
   ]
  },
  {
   "cell_type": "markdown",
   "metadata": {},
   "source": [
    "### Source"
   ]
  },
  {
   "cell_type": "code",
   "execution_count": 10,
   "metadata": {},
   "outputs": [
    {
     "data": {
      "text/plain": [
       "site_access    648570\n",
       "site_login     527813\n",
       "signup          29783\n",
       "post             3086\n",
       "Name: action_type, dtype: int64"
      ]
     },
     "execution_count": 10,
     "metadata": {},
     "output_type": "execute_result"
    }
   ],
   "source": [
    "df_mel[df_mel['source'].isnull()]['action_type'].value_counts()"
   ]
  },
  {
   "cell_type": "markdown",
   "metadata": {},
   "source": [
    "We expect site_access and site_login to have null sources, but should signups and posts?"
   ]
  },
  {
   "cell_type": "code",
   "execution_count": 11,
   "metadata": {},
   "outputs": [
    {
     "data": {
      "text/html": [
       "<div>\n",
       "<style scoped>\n",
       "    .dataframe tbody tr th:only-of-type {\n",
       "        vertical-align: middle;\n",
       "    }\n",
       "\n",
       "    .dataframe tbody tr th {\n",
       "        vertical-align: top;\n",
       "    }\n",
       "\n",
       "    .dataframe thead th {\n",
       "        text-align: right;\n",
       "    }\n",
       "</style>\n",
       "<table border=\"1\" class=\"dataframe\">\n",
       "  <thead>\n",
       "    <tr style=\"text-align: right;\">\n",
       "      <th></th>\n",
       "      <th>event_id</th>\n",
       "      <th>northstar_id</th>\n",
       "      <th>timestamp</th>\n",
       "      <th>action_type</th>\n",
       "      <th>action_id</th>\n",
       "      <th>source</th>\n",
       "      <th>action_serial_id</th>\n",
       "      <th>channel</th>\n",
       "    </tr>\n",
       "  </thead>\n",
       "  <tbody>\n",
       "    <tr>\n",
       "      <th>18456</th>\n",
       "      <td>3c671a97067f877fc21a7c454119b8a0</td>\n",
       "      <td>5585a742469c64e3608b51d1</td>\n",
       "      <td>2018-04-10 16:25:33</td>\n",
       "      <td>signup</td>\n",
       "      <td>1</td>\n",
       "      <td>NaN</td>\n",
       "      <td>9064166</td>\n",
       "      <td>web</td>\n",
       "    </tr>\n",
       "    <tr>\n",
       "      <th>18457</th>\n",
       "      <td>977a18f25a05ebcbd11e61bf4c5371a3</td>\n",
       "      <td>55a7a970469c646a348b5f21</td>\n",
       "      <td>2018-03-04 21:13:49</td>\n",
       "      <td>signup</td>\n",
       "      <td>1</td>\n",
       "      <td>NaN</td>\n",
       "      <td>8868042</td>\n",
       "      <td>web</td>\n",
       "    </tr>\n",
       "    <tr>\n",
       "      <th>18458</th>\n",
       "      <td>431d8569ab96492d485bae1ba4dbcaf4</td>\n",
       "      <td>55a81c82469c649e2b8ec9b8</td>\n",
       "      <td>2018-10-04 05:48:03</td>\n",
       "      <td>signup</td>\n",
       "      <td>1</td>\n",
       "      <td>NaN</td>\n",
       "      <td>9532612</td>\n",
       "      <td>web</td>\n",
       "    </tr>\n",
       "    <tr>\n",
       "      <th>18459</th>\n",
       "      <td>b86e2f5abde5f8f0ce155b022e8bfca5</td>\n",
       "      <td>55a896a9469c649e2b903af2</td>\n",
       "      <td>2018-01-08 03:18:44</td>\n",
       "      <td>signup</td>\n",
       "      <td>1</td>\n",
       "      <td>NaN</td>\n",
       "      <td>8496136</td>\n",
       "      <td>web</td>\n",
       "    </tr>\n",
       "    <tr>\n",
       "      <th>18460</th>\n",
       "      <td>f5308710215e12c84ce61cc64b31962b</td>\n",
       "      <td>55ad7c4c469c640d198be063</td>\n",
       "      <td>2018-03-17 14:52:23</td>\n",
       "      <td>signup</td>\n",
       "      <td>1</td>\n",
       "      <td>NaN</td>\n",
       "      <td>8969762</td>\n",
       "      <td>web</td>\n",
       "    </tr>\n",
       "  </tbody>\n",
       "</table>\n",
       "</div>"
      ],
      "text/plain": [
       "                               event_id              northstar_id  \\\n",
       "18456  3c671a97067f877fc21a7c454119b8a0  5585a742469c64e3608b51d1   \n",
       "18457  977a18f25a05ebcbd11e61bf4c5371a3  55a7a970469c646a348b5f21   \n",
       "18458  431d8569ab96492d485bae1ba4dbcaf4  55a81c82469c649e2b8ec9b8   \n",
       "18459  b86e2f5abde5f8f0ce155b022e8bfca5  55a896a9469c649e2b903af2   \n",
       "18460  f5308710215e12c84ce61cc64b31962b  55ad7c4c469c640d198be063   \n",
       "\n",
       "                timestamp action_type  action_id source action_serial_id  \\\n",
       "18456 2018-04-10 16:25:33      signup          1    NaN          9064166   \n",
       "18457 2018-03-04 21:13:49      signup          1    NaN          8868042   \n",
       "18458 2018-10-04 05:48:03      signup          1    NaN          9532612   \n",
       "18459 2018-01-08 03:18:44      signup          1    NaN          8496136   \n",
       "18460 2018-03-17 14:52:23      signup          1    NaN          8969762   \n",
       "\n",
       "      channel  \n",
       "18456     web  \n",
       "18457     web  \n",
       "18458     web  \n",
       "18459     web  \n",
       "18460     web  "
      ]
     },
     "execution_count": 11,
     "metadata": {},
     "output_type": "execute_result"
    }
   ],
   "source": [
    "df_mel[(df_mel['source'].isnull()) & (df_mel['action_type'] == 'signup')].head()"
   ]
  },
  {
   "cell_type": "code",
   "execution_count": 12,
   "metadata": {},
   "outputs": [],
   "source": [
    "df_mel_check = df_mel[(df_mel['source'].isnull()) & (df_mel['action_type'] == 'signup')].set_index('timestamp').groupby(\n",
    "    [pd.Grouper(freq='W')]\n",
    ").agg({'northstar_id': lambda x: len(x.unique())})"
   ]
  },
  {
   "cell_type": "code",
   "execution_count": 13,
   "metadata": {},
   "outputs": [
    {
     "data": {
      "image/png": "[encoded data removed]",
      "text/plain": [
       "<Figure size 864x576 with 1 Axes>"
      ]
     },
     "metadata": {
      "needs_background": "light"
     },
     "output_type": "display_data"
    }
   ],
   "source": [
    "df_mel_check.plot();"
   ]
  },
  {
   "cell_type": "code",
   "execution_count": 14,
   "metadata": {},
   "outputs": [
    {
     "data": {
      "image/png": "[encoded data removed]",
      "text/plain": [
       "<Figure size 864x576 with 1 Axes>"
      ]
     },
     "metadata": {
      "needs_background": "light"
     },
     "output_type": "display_data"
    }
   ],
   "source": [
    "df_mel_check_posts = df_mel[(df_mel['source'].isnull()) & (df_mel['action_type'] == 'post')].set_index('timestamp').groupby(\n",
    "    [pd.Grouper(freq='W')]\n",
    ").agg({'northstar_id': lambda x: len(x.unique())}).fillna(0)\n",
    "df_mel_check_posts.plot();"
   ]
  },
  {
   "cell_type": "markdown",
   "metadata": {},
   "source": [
    "According to MEL sql logic, campaign signups and posts can also have a null source, in which case the channel is web. What cases is this capturing, and why has this occurrence decreased over time? \n",
    "- Biggest offenders according to rogue.signups are campaign_ids 3590 (8,402 unique ns ids), 2063 (1,342), 7822 (985) \n",
    "\n",
    "Same question for posts, why does this only seem to be an issue in the last week of March?\n",
    "- Most of this generated from 3 campaign_ids = 467, 5411, 7314 and seem to occur on March 29?\n"
   ]
  },
  {
   "cell_type": "markdown",
   "metadata": {},
   "source": [
    "### Action_serial_id"
   ]
  },
  {
   "cell_type": "code",
   "execution_count": 15,
   "metadata": {},
   "outputs": [
    {
     "data": {
      "text/plain": [
       "site_access         648570\n",
       "site_login          527813\n",
       "account_creation    503889\n",
       "Name: action_type, dtype: int64"
      ]
     },
     "execution_count": 15,
     "metadata": {},
     "output_type": "execute_result"
    }
   ],
   "source": [
    "df_mel[df_mel['action_serial_id'] == '0']['action_type'].value_counts()"
   ]
  },
  {
   "cell_type": "markdown",
   "metadata": {},
   "source": [
    "The above action types are expected."
   ]
  },
  {
   "cell_type": "markdown",
   "metadata": {},
   "source": [
    "## Duplicates"
   ]
  },
  {
   "cell_type": "code",
   "execution_count": 16,
   "metadata": {},
   "outputs": [
    {
     "data": {
      "text/html": [
       "<div>\n",
       "<style scoped>\n",
       "    .dataframe tbody tr th:only-of-type {\n",
       "        vertical-align: middle;\n",
       "    }\n",
       "\n",
       "    .dataframe tbody tr th {\n",
       "        vertical-align: top;\n",
       "    }\n",
       "\n",
       "    .dataframe thead th {\n",
       "        text-align: right;\n",
       "    }\n",
       "</style>\n",
       "<table border=\"1\" class=\"dataframe\">\n",
       "  <thead>\n",
       "    <tr style=\"text-align: right;\">\n",
       "      <th></th>\n",
       "      <th>event_id</th>\n",
       "      <th>northstar_id</th>\n",
       "      <th>timestamp</th>\n",
       "      <th>action_type</th>\n",
       "      <th>action_id</th>\n",
       "      <th>source</th>\n",
       "      <th>action_serial_id</th>\n",
       "      <th>channel</th>\n",
       "    </tr>\n",
       "  </thead>\n",
       "  <tbody>\n",
       "  </tbody>\n",
       "</table>\n",
       "</div>"
      ],
      "text/plain": [
       "Empty DataFrame\n",
       "Columns: [event_id, northstar_id, timestamp, action_type, action_id, source, action_serial_id, channel]\n",
       "Index: []"
      ]
     },
     "execution_count": 16,
     "metadata": {},
     "output_type": "execute_result"
    }
   ],
   "source": [
    "# The only single column I expect to be unique is the event_id, which it looks like they are.\n",
    "df_mel[df_mel.duplicated('event_id')]"
   ]
  },
  {
   "cell_type": "code",
   "execution_count": 17,
   "metadata": {},
   "outputs": [],
   "source": [
    "# Another expectation might be the northstar_id, action_type, action_serial_id combination should be unique because\n",
    "# the action_serial_id should be unique to a post/signup (given that Quasar keeps a log of posts/signups rather than \n",
    "# overwriting when updated as in Rogue)\n",
    "df_dupes = df_mel[df_mel.duplicated(\n",
    "    ['northstar_id', 'action_type', 'action_serial_id'], keep=False)].sort_values(['northstar_id', 'timestamp'])\n",
    "\n",
    "# removing site access and site logins because action_serial_id always set to 0 and duplicates expected\n",
    "df_dupes = df_dupes[~((df_dupes['action_type'] == 'site_login')| (df_dupes['action_type'] == 'site_access'))]"
   ]
  },
  {
   "cell_type": "code",
   "execution_count": 18,
   "metadata": {
    "scrolled": true
   },
   "outputs": [
    {
     "data": {
      "text/html": [
       "<div>\n",
       "<style scoped>\n",
       "    .dataframe tbody tr th:only-of-type {\n",
       "        vertical-align: middle;\n",
       "    }\n",
       "\n",
       "    .dataframe tbody tr th {\n",
       "        vertical-align: top;\n",
       "    }\n",
       "\n",
       "    .dataframe thead th {\n",
       "        text-align: right;\n",
       "    }\n",
       "</style>\n",
       "<table border=\"1\" class=\"dataframe\">\n",
       "  <thead>\n",
       "    <tr style=\"text-align: right;\">\n",
       "      <th></th>\n",
       "      <th>event_id</th>\n",
       "      <th>northstar_id</th>\n",
       "      <th>timestamp</th>\n",
       "      <th>action_type</th>\n",
       "      <th>action_id</th>\n",
       "      <th>source</th>\n",
       "      <th>action_serial_id</th>\n",
       "      <th>channel</th>\n",
       "    </tr>\n",
       "  </thead>\n",
       "  <tbody>\n",
       "    <tr>\n",
       "      <th>2390819</th>\n",
       "      <td>bcc41300bad974ec14a86ff80913c70d</td>\n",
       "      <td>5543c402469c64bf3d8b457f</td>\n",
       "      <td>2018-04-02 16:27:40</td>\n",
       "      <td>clicked_link</td>\n",
       "      <td>7</td>\n",
       "      <td>1</td>\n",
       "      <td>01CA42ETJF84VBMFCDTJMP9CKN</td>\n",
       "      <td>email</td>\n",
       "    </tr>\n",
       "    <tr>\n",
       "      <th>2802867</th>\n",
       "      <td>dfeb58a177a8fde32101d4cd19565537</td>\n",
       "      <td>5543c402469c64bf3d8b457f</td>\n",
       "      <td>2018-04-02 20:27:40</td>\n",
       "      <td>clicked_link</td>\n",
       "      <td>7</td>\n",
       "      <td>1</td>\n",
       "      <td>01CA42ETJF84VBMFCDTJMP9CKN</td>\n",
       "      <td>email</td>\n",
       "    </tr>\n",
       "    <tr>\n",
       "      <th>2939284</th>\n",
       "      <td>c4ab979dd06c10f202be324562bdd960</td>\n",
       "      <td>5543eafd469c64bf3d8b4653</td>\n",
       "      <td>2018-04-02 16:30:38</td>\n",
       "      <td>clicked_link</td>\n",
       "      <td>7</td>\n",
       "      <td>1</td>\n",
       "      <td>01CA42QWR3JWM48C6J79J8HWSM</td>\n",
       "      <td>email</td>\n",
       "    </tr>\n",
       "    <tr>\n",
       "      <th>2807741</th>\n",
       "      <td>09e7710af9e9b0dff26e23bdefb0aa56</td>\n",
       "      <td>5543eafd469c64bf3d8b4653</td>\n",
       "      <td>2018-04-02 20:30:38</td>\n",
       "      <td>clicked_link</td>\n",
       "      <td>7</td>\n",
       "      <td>1</td>\n",
       "      <td>01CA42QWR3JWM48C6J79J8HWSM</td>\n",
       "      <td>email</td>\n",
       "    </tr>\n",
       "    <tr>\n",
       "      <th>2457291</th>\n",
       "      <td>573484a129f536728ecd3be53fdfb7d8</td>\n",
       "      <td>5543fb9c469c64ec7d8b4733</td>\n",
       "      <td>2018-03-20 18:23:26</td>\n",
       "      <td>clicked_link</td>\n",
       "      <td>7</td>\n",
       "      <td>1</td>\n",
       "      <td>01C92RB7EMNHQ6H8BX6JMZ0R3F</td>\n",
       "      <td>email</td>\n",
       "    </tr>\n",
       "    <tr>\n",
       "      <th>2407687</th>\n",
       "      <td>1f69162d8aa20bf1d8a81ae273c978c9</td>\n",
       "      <td>5543fb9c469c64ec7d8b4733</td>\n",
       "      <td>2018-03-20 22:23:26</td>\n",
       "      <td>clicked_link</td>\n",
       "      <td>7</td>\n",
       "      <td>1</td>\n",
       "      <td>01C92RB7EMNHQ6H8BX6JMZ0R3F</td>\n",
       "      <td>email</td>\n",
       "    </tr>\n",
       "    <tr>\n",
       "      <th>2540389</th>\n",
       "      <td>ca8ef418320081cb8e7cc75ead5886eb</td>\n",
       "      <td>5543fb9c469c64ec7d8b4733</td>\n",
       "      <td>2018-03-24 08:55:14</td>\n",
       "      <td>clicked_link</td>\n",
       "      <td>7</td>\n",
       "      <td>1</td>\n",
       "      <td>01C9C1W6G37DGV586BSBYAKJ47</td>\n",
       "      <td>email</td>\n",
       "    </tr>\n",
       "    <tr>\n",
       "      <th>2631704</th>\n",
       "      <td>89a322a9c6ee8a6b144ec56dc75471ff</td>\n",
       "      <td>5543fb9c469c64ec7d8b4733</td>\n",
       "      <td>2018-03-24 12:55:14</td>\n",
       "      <td>clicked_link</td>\n",
       "      <td>7</td>\n",
       "      <td>1</td>\n",
       "      <td>01C9C1W6G37DGV586BSBYAKJ47</td>\n",
       "      <td>email</td>\n",
       "    </tr>\n",
       "    <tr>\n",
       "      <th>2696083</th>\n",
       "      <td>391d520feffa4a62f517be2464a18de9</td>\n",
       "      <td>5543fb9c469c64ec7d8b4733</td>\n",
       "      <td>2018-03-28 13:21:46</td>\n",
       "      <td>clicked_link</td>\n",
       "      <td>7</td>\n",
       "      <td>1</td>\n",
       "      <td>01C9PT35QKZX6MSHH1E9NSGYH5</td>\n",
       "      <td>email</td>\n",
       "    </tr>\n",
       "    <tr>\n",
       "      <th>2734393</th>\n",
       "      <td>701e33b7b94583a39115af4d1674c8a7</td>\n",
       "      <td>5543fb9c469c64ec7d8b4733</td>\n",
       "      <td>2018-03-28 17:21:46</td>\n",
       "      <td>clicked_link</td>\n",
       "      <td>7</td>\n",
       "      <td>1</td>\n",
       "      <td>01C9PT35QKZX6MSHH1E9NSGYH5</td>\n",
       "      <td>email</td>\n",
       "    </tr>\n",
       "  </tbody>\n",
       "</table>\n",
       "</div>"
      ],
      "text/plain": [
       "                                 event_id              northstar_id  \\\n",
       "2390819  bcc41300bad974ec14a86ff80913c70d  5543c402469c64bf3d8b457f   \n",
       "2802867  dfeb58a177a8fde32101d4cd19565537  5543c402469c64bf3d8b457f   \n",
       "2939284  c4ab979dd06c10f202be324562bdd960  5543eafd469c64bf3d8b4653   \n",
       "2807741  09e7710af9e9b0dff26e23bdefb0aa56  5543eafd469c64bf3d8b4653   \n",
       "2457291  573484a129f536728ecd3be53fdfb7d8  5543fb9c469c64ec7d8b4733   \n",
       "2407687  1f69162d8aa20bf1d8a81ae273c978c9  5543fb9c469c64ec7d8b4733   \n",
       "2540389  ca8ef418320081cb8e7cc75ead5886eb  5543fb9c469c64ec7d8b4733   \n",
       "2631704  89a322a9c6ee8a6b144ec56dc75471ff  5543fb9c469c64ec7d8b4733   \n",
       "2696083  391d520feffa4a62f517be2464a18de9  5543fb9c469c64ec7d8b4733   \n",
       "2734393  701e33b7b94583a39115af4d1674c8a7  5543fb9c469c64ec7d8b4733   \n",
       "\n",
       "                  timestamp   action_type  action_id source  \\\n",
       "2390819 2018-04-02 16:27:40  clicked_link          7      1   \n",
       "2802867 2018-04-02 20:27:40  clicked_link          7      1   \n",
       "2939284 2018-04-02 16:30:38  clicked_link          7      1   \n",
       "2807741 2018-04-02 20:30:38  clicked_link          7      1   \n",
       "2457291 2018-03-20 18:23:26  clicked_link          7      1   \n",
       "2407687 2018-03-20 22:23:26  clicked_link          7      1   \n",
       "2540389 2018-03-24 08:55:14  clicked_link          7      1   \n",
       "2631704 2018-03-24 12:55:14  clicked_link          7      1   \n",
       "2696083 2018-03-28 13:21:46  clicked_link          7      1   \n",
       "2734393 2018-03-28 17:21:46  clicked_link          7      1   \n",
       "\n",
       "                   action_serial_id channel  \n",
       "2390819  01CA42ETJF84VBMFCDTJMP9CKN   email  \n",
       "2802867  01CA42ETJF84VBMFCDTJMP9CKN   email  \n",
       "2939284  01CA42QWR3JWM48C6J79J8HWSM   email  \n",
       "2807741  01CA42QWR3JWM48C6J79J8HWSM   email  \n",
       "2457291  01C92RB7EMNHQ6H8BX6JMZ0R3F   email  \n",
       "2407687  01C92RB7EMNHQ6H8BX6JMZ0R3F   email  \n",
       "2540389  01C9C1W6G37DGV586BSBYAKJ47   email  \n",
       "2631704  01C9C1W6G37DGV586BSBYAKJ47   email  \n",
       "2696083  01C9PT35QKZX6MSHH1E9NSGYH5   email  \n",
       "2734393  01C9PT35QKZX6MSHH1E9NSGYH5   email  "
      ]
     },
     "execution_count": 18,
     "metadata": {},
     "output_type": "execute_result"
    }
   ],
   "source": [
    "df_dupes.head(10)"
   ]
  },
  {
   "cell_type": "code",
   "execution_count": 19,
   "metadata": {},
   "outputs": [
    {
     "data": {
      "text/plain": [
       "56dad08d469c64d8578b4f14    74\n",
       "56daa439469c6444628b4d95    72\n",
       "56dafb96469c6444628b4db5    66\n",
       "56db2b2d469c64d8578b4f64    64\n",
       "5a9b23f2a0bfad2e34699896    24\n",
       "5a517200a0bfad6541202414    22\n",
       "59dbaa60a0bfad082a6207c2    22\n",
       "5a5ee751a0bfad793c61883b    20\n",
       "59d7a716a0bfad17256c8e5a    20\n",
       "59d2b090a0bfad02a813b46a    20\n",
       "Name: northstar_id, dtype: int64"
      ]
     },
     "execution_count": 19,
     "metadata": {},
     "output_type": "execute_result"
    }
   ],
   "source": [
    "df_dupes['northstar_id'].value_counts().head(10)"
   ]
  },
  {
   "cell_type": "code",
   "execution_count": 20,
   "metadata": {},
   "outputs": [
    {
     "data": {
      "text/plain": [
       "<matplotlib.axes._subplots.AxesSubplot at 0x11e841780>"
      ]
     },
     "execution_count": 20,
     "metadata": {},
     "output_type": "execute_result"
    },
    {
     "data": {
      "image/png": "[encoded data removed]",
      "text/plain": [
       "<Figure size 864x576 with 1 Axes>"
      ]
     },
     "metadata": {
      "needs_background": "light"
     },
     "output_type": "display_data"
    }
   ],
   "source": [
    "df_dupes.set_index('timestamp').groupby(pd.Grouper(freq='M'))['northstar_id'].count().plot()"
   ]
  },
  {
   "cell_type": "markdown",
   "metadata": {},
   "source": [
    "Why are there duplicates where one timestamp is exactly 4 hours ahead of the other? This also only seems to be an issue in Mar/April."
   ]
  },
  {
   "cell_type": "code",
   "execution_count": 21,
   "metadata": {},
   "outputs": [],
   "source": [
    "# Another combination of fields that should potentially be unique are NS ids, timestamps, and action types.\n",
    "# In which case, how were different action_serial_ids generated?\n",
    "df_dupes2 = df_mel[df_mel.duplicated(\n",
    "    ['northstar_id', 'timestamp', 'action_type'], keep=False)].sort_values(['northstar_id', 'timestamp'])"
   ]
  },
  {
   "cell_type": "code",
   "execution_count": 22,
   "metadata": {},
   "outputs": [
    {
     "data": {
      "text/html": [
       "<div>\n",
       "<style scoped>\n",
       "    .dataframe tbody tr th:only-of-type {\n",
       "        vertical-align: middle;\n",
       "    }\n",
       "\n",
       "    .dataframe tbody tr th {\n",
       "        vertical-align: top;\n",
       "    }\n",
       "\n",
       "    .dataframe thead th {\n",
       "        text-align: right;\n",
       "    }\n",
       "</style>\n",
       "<table border=\"1\" class=\"dataframe\">\n",
       "  <thead>\n",
       "    <tr style=\"text-align: right;\">\n",
       "      <th></th>\n",
       "      <th>event_id</th>\n",
       "      <th>northstar_id</th>\n",
       "      <th>timestamp</th>\n",
       "      <th>action_type</th>\n",
       "      <th>action_id</th>\n",
       "      <th>source</th>\n",
       "      <th>action_serial_id</th>\n",
       "      <th>channel</th>\n",
       "    </tr>\n",
       "  </thead>\n",
       "  <tbody>\n",
       "    <tr>\n",
       "      <th>3599978</th>\n",
       "      <td>38529c9b4577f02fa315112e3ab8a785</td>\n",
       "      <td>5543dfd6469c64ec7d8b46b3</td>\n",
       "      <td>2018-06-07 18:14:51.829585</td>\n",
       "      <td>bertly_link_uncertain</td>\n",
       "      <td>10</td>\n",
       "      <td>bertly</td>\n",
       "      <td>1133f90c-6485-408a-976a-d04cd3bf023f</td>\n",
       "      <td>sms</td>\n",
       "    </tr>\n",
       "    <tr>\n",
       "      <th>4129618</th>\n",
       "      <td>550a5e755608beaf5a2162ce8d85fdff</td>\n",
       "      <td>5543dfd6469c64ec7d8b46b3</td>\n",
       "      <td>2018-06-07 18:14:51.829585</td>\n",
       "      <td>bertly_link_uncertain</td>\n",
       "      <td>10</td>\n",
       "      <td>bertly</td>\n",
       "      <td>f5a614a0-0f57-4420-b57c-d555971431fe</td>\n",
       "      <td>sms</td>\n",
       "    </tr>\n",
       "    <tr>\n",
       "      <th>3200468</th>\n",
       "      <td>92d443681cf6766c5de3cbe5a9cdabcb</td>\n",
       "      <td>5543dfd6469c64ec7d8b46b3</td>\n",
       "      <td>2018-06-07 18:14:51.887231</td>\n",
       "      <td>bertly_link_uncertain</td>\n",
       "      <td>10</td>\n",
       "      <td>bertly</td>\n",
       "      <td>c04cf487-3e6b-4ebb-9450-0ca3e87f446a</td>\n",
       "      <td>sms</td>\n",
       "    </tr>\n",
       "    <tr>\n",
       "      <th>4757998</th>\n",
       "      <td>8d8ea32998fd5032c14f9799d4b883c3</td>\n",
       "      <td>5543dfd6469c64ec7d8b46b3</td>\n",
       "      <td>2018-06-07 18:14:51.887231</td>\n",
       "      <td>bertly_link_uncertain</td>\n",
       "      <td>10</td>\n",
       "      <td>bertly</td>\n",
       "      <td>26d61671-708b-4334-be52-84621c0ef3fd</td>\n",
       "      <td>sms</td>\n",
       "    </tr>\n",
       "    <tr>\n",
       "      <th>3134578</th>\n",
       "      <td>c4d782f32294dcb2b99cd09212164192</td>\n",
       "      <td>5543dfd6469c64ec7d8b46b3</td>\n",
       "      <td>2018-06-07 18:14:59.462954</td>\n",
       "      <td>bertly_link_uncertain</td>\n",
       "      <td>10</td>\n",
       "      <td>bertly</td>\n",
       "      <td>68a8d1e6-2248-4505-bb0f-b8ec5ec12f73</td>\n",
       "      <td>sms</td>\n",
       "    </tr>\n",
       "  </tbody>\n",
       "</table>\n",
       "</div>"
      ],
      "text/plain": [
       "                                 event_id              northstar_id  \\\n",
       "3599978  38529c9b4577f02fa315112e3ab8a785  5543dfd6469c64ec7d8b46b3   \n",
       "4129618  550a5e755608beaf5a2162ce8d85fdff  5543dfd6469c64ec7d8b46b3   \n",
       "3200468  92d443681cf6766c5de3cbe5a9cdabcb  5543dfd6469c64ec7d8b46b3   \n",
       "4757998  8d8ea32998fd5032c14f9799d4b883c3  5543dfd6469c64ec7d8b46b3   \n",
       "3134578  c4d782f32294dcb2b99cd09212164192  5543dfd6469c64ec7d8b46b3   \n",
       "\n",
       "                         timestamp            action_type  action_id  source  \\\n",
       "3599978 2018-06-07 18:14:51.829585  bertly_link_uncertain         10  bertly   \n",
       "4129618 2018-06-07 18:14:51.829585  bertly_link_uncertain         10  bertly   \n",
       "3200468 2018-06-07 18:14:51.887231  bertly_link_uncertain         10  bertly   \n",
       "4757998 2018-06-07 18:14:51.887231  bertly_link_uncertain         10  bertly   \n",
       "3134578 2018-06-07 18:14:59.462954  bertly_link_uncertain         10  bertly   \n",
       "\n",
       "                             action_serial_id channel  \n",
       "3599978  1133f90c-6485-408a-976a-d04cd3bf023f     sms  \n",
       "4129618  f5a614a0-0f57-4420-b57c-d555971431fe     sms  \n",
       "3200468  c04cf487-3e6b-4ebb-9450-0ca3e87f446a     sms  \n",
       "4757998  26d61671-708b-4334-be52-84621c0ef3fd     sms  \n",
       "3134578  68a8d1e6-2248-4505-bb0f-b8ec5ec12f73     sms  "
      ]
     },
     "execution_count": 22,
     "metadata": {},
     "output_type": "execute_result"
    }
   ],
   "source": [
    "df_dupes2.head()"
   ]
  },
  {
   "cell_type": "code",
   "execution_count": 23,
   "metadata": {},
   "outputs": [
    {
     "data": {
      "text/plain": [
       "SMS                26579\n",
       "phoenix-next        3160\n",
       "sms                 1926\n",
       "1                    815\n",
       "bertly               484\n",
       "2                    370\n",
       "turbovote             36\n",
       "7                     16\n",
       "8                      8\n",
       "campaigns              6\n",
       "niche                  4\n",
       "3                      3\n",
       "importer-client        3\n",
       "5                      2\n",
       "rock-the-vote          2\n",
       "9                      2\n",
       "Name: source, dtype: int64"
      ]
     },
     "execution_count": 23,
     "metadata": {},
     "output_type": "execute_result"
    }
   ],
   "source": [
    "# It seems like many of these are related to bertly clicks occuring before user agent strings were being captured.\n",
    "df_dupes2['source'].value_counts()"
   ]
  },
  {
   "cell_type": "code",
   "execution_count": 24,
   "metadata": {},
   "outputs": [
    {
     "data": {
      "text/html": [
       "<div>\n",
       "<style scoped>\n",
       "    .dataframe tbody tr th:only-of-type {\n",
       "        vertical-align: middle;\n",
       "    }\n",
       "\n",
       "    .dataframe tbody tr th {\n",
       "        vertical-align: top;\n",
       "    }\n",
       "\n",
       "    .dataframe thead th {\n",
       "        text-align: right;\n",
       "    }\n",
       "</style>\n",
       "<table border=\"1\" class=\"dataframe\">\n",
       "  <thead>\n",
       "    <tr style=\"text-align: right;\">\n",
       "      <th></th>\n",
       "      <th>event_id</th>\n",
       "      <th>northstar_id</th>\n",
       "      <th>timestamp</th>\n",
       "      <th>action_type</th>\n",
       "      <th>action_id</th>\n",
       "      <th>source</th>\n",
       "      <th>action_serial_id</th>\n",
       "      <th>channel</th>\n",
       "    </tr>\n",
       "  </thead>\n",
       "  <tbody>\n",
       "    <tr>\n",
       "      <th>859885</th>\n",
       "      <td>739f12045d1ecf17a8a2732d9bb9fecb</td>\n",
       "      <td>554764a5469c64ed7d8b4f68</td>\n",
       "      <td>2018-09-06 16:46:12</td>\n",
       "      <td>messaged_gambit</td>\n",
       "      <td>6</td>\n",
       "      <td>SMS</td>\n",
       "      <td>5b9159d456e5e3000464c27b</td>\n",
       "      <td>sms</td>\n",
       "    </tr>\n",
       "    <tr>\n",
       "      <th>859886</th>\n",
       "      <td>c17d6cb0d5a1d5a4226da07d228227e2</td>\n",
       "      <td>554764a5469c64ed7d8b4f68</td>\n",
       "      <td>2018-09-06 16:46:12</td>\n",
       "      <td>messaged_gambit</td>\n",
       "      <td>6</td>\n",
       "      <td>SMS</td>\n",
       "      <td>5b9159d4b18c6a00040e9af5</td>\n",
       "      <td>sms</td>\n",
       "    </tr>\n",
       "    <tr>\n",
       "      <th>859887</th>\n",
       "      <td>55efd06a0059facd88f04a7c67325106</td>\n",
       "      <td>554764a5469c64ed7d8b4f68</td>\n",
       "      <td>2018-09-06 16:46:12</td>\n",
       "      <td>messaged_gambit</td>\n",
       "      <td>6</td>\n",
       "      <td>SMS</td>\n",
       "      <td>5b9159d4e309ed00043830ab</td>\n",
       "      <td>sms</td>\n",
       "    </tr>\n",
       "    <tr>\n",
       "      <th>859944</th>\n",
       "      <td>9c0894a88ebf17324dd2d5eb0cccc910</td>\n",
       "      <td>55479986469c64ec7d8b5085</td>\n",
       "      <td>2018-01-31 03:14:48</td>\n",
       "      <td>messaged_gambit</td>\n",
       "      <td>6</td>\n",
       "      <td>SMS</td>\n",
       "      <td>5a7134a83fa8aa0004713f15</td>\n",
       "      <td>sms</td>\n",
       "    </tr>\n",
       "    <tr>\n",
       "      <th>859945</th>\n",
       "      <td>8fc7070a954995cc6b650a804fd8a2f5</td>\n",
       "      <td>55479986469c64ec7d8b5085</td>\n",
       "      <td>2018-01-31 03:14:48</td>\n",
       "      <td>messaged_gambit</td>\n",
       "      <td>6</td>\n",
       "      <td>SMS</td>\n",
       "      <td>5a7134a86cfd310004722717</td>\n",
       "      <td>sms</td>\n",
       "    </tr>\n",
       "    <tr>\n",
       "      <th>859953</th>\n",
       "      <td>79b001a997767cd145df933c3f7a51bc</td>\n",
       "      <td>55479986469c64ec7d8b5085</td>\n",
       "      <td>2018-08-28 19:39:59</td>\n",
       "      <td>messaged_gambit</td>\n",
       "      <td>6</td>\n",
       "      <td>SMS</td>\n",
       "      <td>5b85a50f4b53610004be5039</td>\n",
       "      <td>sms</td>\n",
       "    </tr>\n",
       "    <tr>\n",
       "      <th>859954</th>\n",
       "      <td>8f3861df198a6e9606ad3af6662c8c2e</td>\n",
       "      <td>55479986469c64ec7d8b5085</td>\n",
       "      <td>2018-08-28 19:39:59</td>\n",
       "      <td>messaged_gambit</td>\n",
       "      <td>6</td>\n",
       "      <td>SMS</td>\n",
       "      <td>5b85a50fce46d90004536742</td>\n",
       "      <td>sms</td>\n",
       "    </tr>\n",
       "    <tr>\n",
       "      <th>860928</th>\n",
       "      <td>4b3c6ab8854586d55a9d8862e6c144cd</td>\n",
       "      <td>554a0e2c469c64bf3d8b5860</td>\n",
       "      <td>2018-01-23 21:05:09</td>\n",
       "      <td>messaged_gambit</td>\n",
       "      <td>6</td>\n",
       "      <td>SMS</td>\n",
       "      <td>5a67a3856340af00043e3306</td>\n",
       "      <td>sms</td>\n",
       "    </tr>\n",
       "    <tr>\n",
       "      <th>860929</th>\n",
       "      <td>2d79d555a152cf14c1208a9354108ee2</td>\n",
       "      <td>554a0e2c469c64bf3d8b5860</td>\n",
       "      <td>2018-01-23 21:05:09</td>\n",
       "      <td>messaged_gambit</td>\n",
       "      <td>6</td>\n",
       "      <td>SMS</td>\n",
       "      <td>5a67a3858d3c0c000475932d</td>\n",
       "      <td>sms</td>\n",
       "    </tr>\n",
       "    <tr>\n",
       "      <th>862204</th>\n",
       "      <td>838ceab434a94a5ae0981fbb6784fca5</td>\n",
       "      <td>5554cb62469c6455048b4570</td>\n",
       "      <td>2018-09-19 17:48:32</td>\n",
       "      <td>messaged_gambit</td>\n",
       "      <td>6</td>\n",
       "      <td>SMS</td>\n",
       "      <td>5ba28bf02217640004b60f65</td>\n",
       "      <td>sms</td>\n",
       "    </tr>\n",
       "  </tbody>\n",
       "</table>\n",
       "</div>"
      ],
      "text/plain": [
       "                                event_id              northstar_id  \\\n",
       "859885  739f12045d1ecf17a8a2732d9bb9fecb  554764a5469c64ed7d8b4f68   \n",
       "859886  c17d6cb0d5a1d5a4226da07d228227e2  554764a5469c64ed7d8b4f68   \n",
       "859887  55efd06a0059facd88f04a7c67325106  554764a5469c64ed7d8b4f68   \n",
       "859944  9c0894a88ebf17324dd2d5eb0cccc910  55479986469c64ec7d8b5085   \n",
       "859945  8fc7070a954995cc6b650a804fd8a2f5  55479986469c64ec7d8b5085   \n",
       "859953  79b001a997767cd145df933c3f7a51bc  55479986469c64ec7d8b5085   \n",
       "859954  8f3861df198a6e9606ad3af6662c8c2e  55479986469c64ec7d8b5085   \n",
       "860928  4b3c6ab8854586d55a9d8862e6c144cd  554a0e2c469c64bf3d8b5860   \n",
       "860929  2d79d555a152cf14c1208a9354108ee2  554a0e2c469c64bf3d8b5860   \n",
       "862204  838ceab434a94a5ae0981fbb6784fca5  5554cb62469c6455048b4570   \n",
       "\n",
       "                 timestamp      action_type  action_id source  \\\n",
       "859885 2018-09-06 16:46:12  messaged_gambit          6    SMS   \n",
       "859886 2018-09-06 16:46:12  messaged_gambit          6    SMS   \n",
       "859887 2018-09-06 16:46:12  messaged_gambit          6    SMS   \n",
       "859944 2018-01-31 03:14:48  messaged_gambit          6    SMS   \n",
       "859945 2018-01-31 03:14:48  messaged_gambit          6    SMS   \n",
       "859953 2018-08-28 19:39:59  messaged_gambit          6    SMS   \n",
       "859954 2018-08-28 19:39:59  messaged_gambit          6    SMS   \n",
       "860928 2018-01-23 21:05:09  messaged_gambit          6    SMS   \n",
       "860929 2018-01-23 21:05:09  messaged_gambit          6    SMS   \n",
       "862204 2018-09-19 17:48:32  messaged_gambit          6    SMS   \n",
       "\n",
       "                action_serial_id channel  \n",
       "859885  5b9159d456e5e3000464c27b     sms  \n",
       "859886  5b9159d4b18c6a00040e9af5     sms  \n",
       "859887  5b9159d4e309ed00043830ab     sms  \n",
       "859944  5a7134a83fa8aa0004713f15     sms  \n",
       "859945  5a7134a86cfd310004722717     sms  \n",
       "859953  5b85a50f4b53610004be5039     sms  \n",
       "859954  5b85a50fce46d90004536742     sms  \n",
       "860928  5a67a3856340af00043e3306     sms  \n",
       "860929  5a67a3858d3c0c000475932d     sms  \n",
       "862204  5ba28bf02217640004b60f65     sms  "
      ]
     },
     "execution_count": 24,
     "metadata": {},
     "output_type": "execute_result"
    }
   ],
   "source": [
    "df_dupes2[df_dupes2['source'] == 'SMS'].head(10)"
   ]
  },
  {
   "cell_type": "markdown",
   "metadata": {},
   "source": [
    "Looking at the gambit messages table for the first northstar ID, it's not clear what the expected behavior is for this action. It looks like this user tried to unsubscribe at least twice before these duplicates appeared. What do we want to count as member activity?"
   ]
  },
  {
   "cell_type": "code",
   "execution_count": 25,
   "metadata": {},
   "outputs": [
    {
     "data": {
      "text/html": [
       "<div>\n",
       "<style scoped>\n",
       "    .dataframe tbody tr th:only-of-type {\n",
       "        vertical-align: middle;\n",
       "    }\n",
       "\n",
       "    .dataframe tbody tr th {\n",
       "        vertical-align: top;\n",
       "    }\n",
       "\n",
       "    .dataframe thead th {\n",
       "        text-align: right;\n",
       "    }\n",
       "</style>\n",
       "<table border=\"1\" class=\"dataframe\">\n",
       "  <thead>\n",
       "    <tr style=\"text-align: right;\">\n",
       "      <th></th>\n",
       "      <th>event_id</th>\n",
       "      <th>northstar_id</th>\n",
       "      <th>timestamp</th>\n",
       "      <th>action_type</th>\n",
       "      <th>action_id</th>\n",
       "      <th>source</th>\n",
       "      <th>action_serial_id</th>\n",
       "      <th>channel</th>\n",
       "    </tr>\n",
       "  </thead>\n",
       "  <tbody>\n",
       "    <tr>\n",
       "      <th>5246278</th>\n",
       "      <td>eb62e4712946498a7fed9eaf248f4a44</td>\n",
       "      <td>5553747b469c64ec7d8b7372</td>\n",
       "      <td>2018-07-10 06:16:40</td>\n",
       "      <td>signup</td>\n",
       "      <td>1</td>\n",
       "      <td>phoenix-next</td>\n",
       "      <td>9312378</td>\n",
       "      <td>web</td>\n",
       "    </tr>\n",
       "    <tr>\n",
       "      <th>5246279</th>\n",
       "      <td>3311b33cba6ffdb2dc7a580fa2811531</td>\n",
       "      <td>5553747b469c64ec7d8b7372</td>\n",
       "      <td>2018-07-10 06:16:40</td>\n",
       "      <td>signup</td>\n",
       "      <td>1</td>\n",
       "      <td>phoenix-next</td>\n",
       "      <td>9312379</td>\n",
       "      <td>web</td>\n",
       "    </tr>\n",
       "    <tr>\n",
       "      <th>5248584</th>\n",
       "      <td>29db0b222449f2862b469fa6770b70d7</td>\n",
       "      <td>556b59fb469c6416048b9ba2</td>\n",
       "      <td>2018-06-22 23:23:28</td>\n",
       "      <td>signup</td>\n",
       "      <td>1</td>\n",
       "      <td>phoenix-next</td>\n",
       "      <td>9282903</td>\n",
       "      <td>web</td>\n",
       "    </tr>\n",
       "    <tr>\n",
       "      <th>5248585</th>\n",
       "      <td>10221fd753559aaa2d58ba776e8f28ed</td>\n",
       "      <td>556b59fb469c6416048b9ba2</td>\n",
       "      <td>2018-06-22 23:23:28</td>\n",
       "      <td>signup</td>\n",
       "      <td>1</td>\n",
       "      <td>phoenix-next</td>\n",
       "      <td>9282904</td>\n",
       "      <td>web</td>\n",
       "    </tr>\n",
       "    <tr>\n",
       "      <th>5251091</th>\n",
       "      <td>c7de5a4600dd49556daebd594187863b</td>\n",
       "      <td>5574aaac469c648c778b4c9c</td>\n",
       "      <td>2018-07-10 15:00:05</td>\n",
       "      <td>signup</td>\n",
       "      <td>1</td>\n",
       "      <td>phoenix-next</td>\n",
       "      <td>9312852</td>\n",
       "      <td>web</td>\n",
       "    </tr>\n",
       "    <tr>\n",
       "      <th>5251092</th>\n",
       "      <td>579b96d61b0655ea2a1f9c25b7b6686b</td>\n",
       "      <td>5574aaac469c648c778b4c9c</td>\n",
       "      <td>2018-07-10 15:00:05</td>\n",
       "      <td>signup</td>\n",
       "      <td>1</td>\n",
       "      <td>phoenix-next</td>\n",
       "      <td>9312853</td>\n",
       "      <td>web</td>\n",
       "    </tr>\n",
       "    <tr>\n",
       "      <th>5252100</th>\n",
       "      <td>a08fabcc8257c76dddcfba50c216c8fc</td>\n",
       "      <td>5579e3c0469c648c778b6184</td>\n",
       "      <td>2018-08-08 06:13:33</td>\n",
       "      <td>signup</td>\n",
       "      <td>1</td>\n",
       "      <td>phoenix-next</td>\n",
       "      <td>9377474</td>\n",
       "      <td>web</td>\n",
       "    </tr>\n",
       "    <tr>\n",
       "      <th>5252101</th>\n",
       "      <td>5d508064daacb4bf32bac4b536752e17</td>\n",
       "      <td>5579e3c0469c648c778b6184</td>\n",
       "      <td>2018-08-08 06:13:33</td>\n",
       "      <td>signup</td>\n",
       "      <td>1</td>\n",
       "      <td>phoenix-next</td>\n",
       "      <td>9377475</td>\n",
       "      <td>web</td>\n",
       "    </tr>\n",
       "    <tr>\n",
       "      <th>5252570</th>\n",
       "      <td>819b95ddc4d71d1f4666e79f5dd34ef8</td>\n",
       "      <td>557f1089469c648c778b6f7f</td>\n",
       "      <td>2018-03-14 02:42:02</td>\n",
       "      <td>signup</td>\n",
       "      <td>1</td>\n",
       "      <td>phoenix-next</td>\n",
       "      <td>8961794</td>\n",
       "      <td>web</td>\n",
       "    </tr>\n",
       "    <tr>\n",
       "      <th>5252571</th>\n",
       "      <td>9d181f262db87d9ce0c6cb10d072faf8</td>\n",
       "      <td>557f1089469c648c778b6f7f</td>\n",
       "      <td>2018-03-14 02:42:02</td>\n",
       "      <td>signup</td>\n",
       "      <td>1</td>\n",
       "      <td>phoenix-next</td>\n",
       "      <td>8961795</td>\n",
       "      <td>web</td>\n",
       "    </tr>\n",
       "  </tbody>\n",
       "</table>\n",
       "</div>"
      ],
      "text/plain": [
       "                                 event_id              northstar_id  \\\n",
       "5246278  eb62e4712946498a7fed9eaf248f4a44  5553747b469c64ec7d8b7372   \n",
       "5246279  3311b33cba6ffdb2dc7a580fa2811531  5553747b469c64ec7d8b7372   \n",
       "5248584  29db0b222449f2862b469fa6770b70d7  556b59fb469c6416048b9ba2   \n",
       "5248585  10221fd753559aaa2d58ba776e8f28ed  556b59fb469c6416048b9ba2   \n",
       "5251091  c7de5a4600dd49556daebd594187863b  5574aaac469c648c778b4c9c   \n",
       "5251092  579b96d61b0655ea2a1f9c25b7b6686b  5574aaac469c648c778b4c9c   \n",
       "5252100  a08fabcc8257c76dddcfba50c216c8fc  5579e3c0469c648c778b6184   \n",
       "5252101  5d508064daacb4bf32bac4b536752e17  5579e3c0469c648c778b6184   \n",
       "5252570  819b95ddc4d71d1f4666e79f5dd34ef8  557f1089469c648c778b6f7f   \n",
       "5252571  9d181f262db87d9ce0c6cb10d072faf8  557f1089469c648c778b6f7f   \n",
       "\n",
       "                  timestamp action_type  action_id        source  \\\n",
       "5246278 2018-07-10 06:16:40      signup          1  phoenix-next   \n",
       "5246279 2018-07-10 06:16:40      signup          1  phoenix-next   \n",
       "5248584 2018-06-22 23:23:28      signup          1  phoenix-next   \n",
       "5248585 2018-06-22 23:23:28      signup          1  phoenix-next   \n",
       "5251091 2018-07-10 15:00:05      signup          1  phoenix-next   \n",
       "5251092 2018-07-10 15:00:05      signup          1  phoenix-next   \n",
       "5252100 2018-08-08 06:13:33      signup          1  phoenix-next   \n",
       "5252101 2018-08-08 06:13:33      signup          1  phoenix-next   \n",
       "5252570 2018-03-14 02:42:02      signup          1  phoenix-next   \n",
       "5252571 2018-03-14 02:42:02      signup          1  phoenix-next   \n",
       "\n",
       "        action_serial_id channel  \n",
       "5246278          9312378     web  \n",
       "5246279          9312379     web  \n",
       "5248584          9282903     web  \n",
       "5248585          9282904     web  \n",
       "5251091          9312852     web  \n",
       "5251092          9312853     web  \n",
       "5252100          9377474     web  \n",
       "5252101          9377475     web  \n",
       "5252570          8961794     web  \n",
       "5252571          8961795     web  "
      ]
     },
     "execution_count": 25,
     "metadata": {},
     "output_type": "execute_result"
    }
   ],
   "source": [
    "df_dupes2[df_dupes2['source'] == 'phoenix-next'].head(10)"
   ]
  },
  {
   "cell_type": "code",
   "execution_count": 26,
   "metadata": {},
   "outputs": [
    {
     "data": {
      "text/html": [
       "<div>\n",
       "<style scoped>\n",
       "    .dataframe tbody tr th:only-of-type {\n",
       "        vertical-align: middle;\n",
       "    }\n",
       "\n",
       "    .dataframe tbody tr th {\n",
       "        vertical-align: top;\n",
       "    }\n",
       "\n",
       "    .dataframe thead th {\n",
       "        text-align: right;\n",
       "    }\n",
       "</style>\n",
       "<table border=\"1\" class=\"dataframe\">\n",
       "  <thead>\n",
       "    <tr style=\"text-align: right;\">\n",
       "      <th></th>\n",
       "      <th>event_id</th>\n",
       "      <th>northstar_id</th>\n",
       "      <th>timestamp</th>\n",
       "      <th>action_type</th>\n",
       "      <th>action_id</th>\n",
       "      <th>source</th>\n",
       "      <th>action_serial_id</th>\n",
       "      <th>channel</th>\n",
       "    </tr>\n",
       "  </thead>\n",
       "  <tbody>\n",
       "    <tr>\n",
       "      <th>6497079</th>\n",
       "      <td>bd3a28bb6649b6b7be31bdc05ddcdd91</td>\n",
       "      <td>55479986469c64ec7d8b5085</td>\n",
       "      <td>2018-01-30 22:14:49</td>\n",
       "      <td>post</td>\n",
       "      <td>2</td>\n",
       "      <td>sms</td>\n",
       "      <td>441716</td>\n",
       "      <td>sms</td>\n",
       "    </tr>\n",
       "    <tr>\n",
       "      <th>6497080</th>\n",
       "      <td>7edcb7631b22f79b803d52fb47278157</td>\n",
       "      <td>55479986469c64ec7d8b5085</td>\n",
       "      <td>2018-01-30 22:14:49</td>\n",
       "      <td>post</td>\n",
       "      <td>2</td>\n",
       "      <td>sms</td>\n",
       "      <td>441717</td>\n",
       "      <td>sms</td>\n",
       "    </tr>\n",
       "    <tr>\n",
       "      <th>6497082</th>\n",
       "      <td>9a2105f6f5978b9e1b56a8233ce2034e</td>\n",
       "      <td>55479986469c64ec7d8b5085</td>\n",
       "      <td>2018-08-28 19:40:00</td>\n",
       "      <td>post</td>\n",
       "      <td>2</td>\n",
       "      <td>sms</td>\n",
       "      <td>595945</td>\n",
       "      <td>sms</td>\n",
       "    </tr>\n",
       "    <tr>\n",
       "      <th>6497083</th>\n",
       "      <td>63349cb76f1d73c389b7cf5465b28bd1</td>\n",
       "      <td>55479986469c64ec7d8b5085</td>\n",
       "      <td>2018-08-28 19:40:00</td>\n",
       "      <td>post</td>\n",
       "      <td>2</td>\n",
       "      <td>sms</td>\n",
       "      <td>595946</td>\n",
       "      <td>sms</td>\n",
       "    </tr>\n",
       "    <tr>\n",
       "      <th>6497584</th>\n",
       "      <td>8b24147e00acc5e0bb225719f948eaa5</td>\n",
       "      <td>555520c4469c6430068b4dc5</td>\n",
       "      <td>2018-06-07 23:25:41</td>\n",
       "      <td>post</td>\n",
       "      <td>2</td>\n",
       "      <td>sms</td>\n",
       "      <td>540852</td>\n",
       "      <td>sms</td>\n",
       "    </tr>\n",
       "    <tr>\n",
       "      <th>6497585</th>\n",
       "      <td>40b695f9512f351574ebf0c5ccb4558d</td>\n",
       "      <td>555520c4469c6430068b4dc5</td>\n",
       "      <td>2018-06-07 23:25:41</td>\n",
       "      <td>post</td>\n",
       "      <td>2</td>\n",
       "      <td>sms</td>\n",
       "      <td>540853</td>\n",
       "      <td>sms</td>\n",
       "    </tr>\n",
       "    <tr>\n",
       "      <th>6498130</th>\n",
       "      <td>3118f630d80077c1e0f7067425ca3d86</td>\n",
       "      <td>55693e18469c6430068b9391</td>\n",
       "      <td>2018-06-07 20:17:53</td>\n",
       "      <td>post</td>\n",
       "      <td>2</td>\n",
       "      <td>sms</td>\n",
       "      <td>535116</td>\n",
       "      <td>sms</td>\n",
       "    </tr>\n",
       "    <tr>\n",
       "      <th>6498131</th>\n",
       "      <td>2ddd8191dc759f372cec6cc6401075c1</td>\n",
       "      <td>55693e18469c6430068b9391</td>\n",
       "      <td>2018-06-07 20:17:53</td>\n",
       "      <td>post</td>\n",
       "      <td>2</td>\n",
       "      <td>sms</td>\n",
       "      <td>535117</td>\n",
       "      <td>sms</td>\n",
       "    </tr>\n",
       "    <tr>\n",
       "      <th>6498516</th>\n",
       "      <td>587df9a2f325a2644a128f1e263bec1a</td>\n",
       "      <td>556f6597469c6430068bba4d</td>\n",
       "      <td>2018-01-30 20:35:21</td>\n",
       "      <td>post</td>\n",
       "      <td>2</td>\n",
       "      <td>sms</td>\n",
       "      <td>441469</td>\n",
       "      <td>sms</td>\n",
       "    </tr>\n",
       "    <tr>\n",
       "      <th>6498517</th>\n",
       "      <td>5bf9fa9e2711a1ff5ab8374a9e6c7a6b</td>\n",
       "      <td>556f6597469c6430068bba4d</td>\n",
       "      <td>2018-01-30 20:35:21</td>\n",
       "      <td>post</td>\n",
       "      <td>2</td>\n",
       "      <td>sms</td>\n",
       "      <td>441470</td>\n",
       "      <td>sms</td>\n",
       "    </tr>\n",
       "  </tbody>\n",
       "</table>\n",
       "</div>"
      ],
      "text/plain": [
       "                                 event_id              northstar_id  \\\n",
       "6497079  bd3a28bb6649b6b7be31bdc05ddcdd91  55479986469c64ec7d8b5085   \n",
       "6497080  7edcb7631b22f79b803d52fb47278157  55479986469c64ec7d8b5085   \n",
       "6497082  9a2105f6f5978b9e1b56a8233ce2034e  55479986469c64ec7d8b5085   \n",
       "6497083  63349cb76f1d73c389b7cf5465b28bd1  55479986469c64ec7d8b5085   \n",
       "6497584  8b24147e00acc5e0bb225719f948eaa5  555520c4469c6430068b4dc5   \n",
       "6497585  40b695f9512f351574ebf0c5ccb4558d  555520c4469c6430068b4dc5   \n",
       "6498130  3118f630d80077c1e0f7067425ca3d86  55693e18469c6430068b9391   \n",
       "6498131  2ddd8191dc759f372cec6cc6401075c1  55693e18469c6430068b9391   \n",
       "6498516  587df9a2f325a2644a128f1e263bec1a  556f6597469c6430068bba4d   \n",
       "6498517  5bf9fa9e2711a1ff5ab8374a9e6c7a6b  556f6597469c6430068bba4d   \n",
       "\n",
       "                  timestamp action_type  action_id source action_serial_id  \\\n",
       "6497079 2018-01-30 22:14:49        post          2    sms           441716   \n",
       "6497080 2018-01-30 22:14:49        post          2    sms           441717   \n",
       "6497082 2018-08-28 19:40:00        post          2    sms           595945   \n",
       "6497083 2018-08-28 19:40:00        post          2    sms           595946   \n",
       "6497584 2018-06-07 23:25:41        post          2    sms           540852   \n",
       "6497585 2018-06-07 23:25:41        post          2    sms           540853   \n",
       "6498130 2018-06-07 20:17:53        post          2    sms           535116   \n",
       "6498131 2018-06-07 20:17:53        post          2    sms           535117   \n",
       "6498516 2018-01-30 20:35:21        post          2    sms           441469   \n",
       "6498517 2018-01-30 20:35:21        post          2    sms           441470   \n",
       "\n",
       "        channel  \n",
       "6497079     sms  \n",
       "6497080     sms  \n",
       "6497082     sms  \n",
       "6497083     sms  \n",
       "6497584     sms  \n",
       "6497585     sms  \n",
       "6498130     sms  \n",
       "6498131     sms  \n",
       "6498516     sms  \n",
       "6498517     sms  "
      ]
     },
     "execution_count": 26,
     "metadata": {},
     "output_type": "execute_result"
    }
   ],
   "source": [
    "df_dupes2[df_dupes2['source'] == 'sms'].head(10)"
   ]
  },
  {
   "cell_type": "markdown",
   "metadata": {},
   "source": [
    "Any reason why posts or signups would create duplicates? "
   ]
  },
  {
   "cell_type": "code",
   "execution_count": 27,
   "metadata": {},
   "outputs": [],
   "source": [
    "df_dupes2_bymonth = df_dupes2.set_index('timestamp').groupby([pd.Grouper(freq='M'), 'source']).agg(\n",
    "    {'northstar_id': lambda x: len(x.unique())})"
   ]
  },
  {
   "cell_type": "code",
   "execution_count": 28,
   "metadata": {},
   "outputs": [
    {
     "data": {
      "image/png": "[encoded data removed]",
      "text/plain": [
       "<Figure size 864x576 with 1 Axes>"
      ]
     },
     "metadata": {
      "needs_background": "light"
     },
     "output_type": "display_data"
    }
   ],
   "source": [
    "df_dupes2_bymonth.unstack().fillna(0)['northstar_id'][['SMS', 'phoenix-next', 'sms']].plot();"
   ]
  },
  {
   "cell_type": "markdown",
   "metadata": {},
   "source": [
    "Possible bug in Gambit that's causing the spikes in June / Sept? "
   ]
  },
  {
   "cell_type": "markdown",
   "metadata": {},
   "source": [
    "### Look at action_type and channel combinations"
   ]
  },
  {
   "cell_type": "code",
   "execution_count": 29,
   "metadata": {},
   "outputs": [
    {
     "data": {
      "text/html": [
       "<div>\n",
       "<style scoped>\n",
       "    .dataframe tbody tr th:only-of-type {\n",
       "        vertical-align: middle;\n",
       "    }\n",
       "\n",
       "    .dataframe tbody tr th {\n",
       "        vertical-align: top;\n",
       "    }\n",
       "\n",
       "    .dataframe thead th {\n",
       "        text-align: right;\n",
       "    }\n",
       "</style>\n",
       "<table border=\"1\" class=\"dataframe\">\n",
       "  <thead>\n",
       "    <tr style=\"text-align: right;\">\n",
       "      <th></th>\n",
       "      <th></th>\n",
       "      <th>northstar_id</th>\n",
       "    </tr>\n",
       "    <tr>\n",
       "      <th>channel</th>\n",
       "      <th>action_type</th>\n",
       "      <th></th>\n",
       "    </tr>\n",
       "  </thead>\n",
       "  <tbody>\n",
       "    <tr>\n",
       "      <th rowspan=\"2\" valign=\"top\">email</th>\n",
       "      <th>clicked_link</th>\n",
       "      <td>122642</td>\n",
       "    </tr>\n",
       "    <tr>\n",
       "      <th>signup</th>\n",
       "      <td>24</td>\n",
       "    </tr>\n",
       "    <tr>\n",
       "      <th rowspan=\"2\" valign=\"top\">niche_coregistration</th>\n",
       "      <th>account_creation</th>\n",
       "      <td>99290</td>\n",
       "    </tr>\n",
       "    <tr>\n",
       "      <th>signup</th>\n",
       "      <td>112739</td>\n",
       "    </tr>\n",
       "    <tr>\n",
       "      <th rowspan=\"2\" valign=\"top\">other</th>\n",
       "      <th>account_creation</th>\n",
       "      <td>88530</td>\n",
       "    </tr>\n",
       "    <tr>\n",
       "      <th>post</th>\n",
       "      <td>221753</td>\n",
       "    </tr>\n",
       "    <tr>\n",
       "      <th rowspan=\"7\" valign=\"top\">sms</th>\n",
       "      <th>account_creation</th>\n",
       "      <td>6974</td>\n",
       "    </tr>\n",
       "    <tr>\n",
       "      <th>bertly_link_click</th>\n",
       "      <td>150006</td>\n",
       "    </tr>\n",
       "    <tr>\n",
       "      <th>bertly_link_preview</th>\n",
       "      <td>170848</td>\n",
       "    </tr>\n",
       "    <tr>\n",
       "      <th>bertly_link_uncertain</th>\n",
       "      <td>142240</td>\n",
       "    </tr>\n",
       "    <tr>\n",
       "      <th>messaged_gambit</th>\n",
       "      <td>455697</td>\n",
       "    </tr>\n",
       "    <tr>\n",
       "      <th>post</th>\n",
       "      <td>27410</td>\n",
       "    </tr>\n",
       "    <tr>\n",
       "      <th>signup</th>\n",
       "      <td>283348</td>\n",
       "    </tr>\n",
       "    <tr>\n",
       "      <th rowspan=\"8\" valign=\"top\">web</th>\n",
       "      <th>account_creation</th>\n",
       "      <td>309095</td>\n",
       "    </tr>\n",
       "    <tr>\n",
       "      <th>bertly_link_click</th>\n",
       "      <td>1379</td>\n",
       "    </tr>\n",
       "    <tr>\n",
       "      <th>bertly_link_preview</th>\n",
       "      <td>5</td>\n",
       "    </tr>\n",
       "    <tr>\n",
       "      <th>bertly_link_uncertain</th>\n",
       "      <td>2243</td>\n",
       "    </tr>\n",
       "    <tr>\n",
       "      <th>post</th>\n",
       "      <td>57740</td>\n",
       "    </tr>\n",
       "    <tr>\n",
       "      <th>signup</th>\n",
       "      <td>471745</td>\n",
       "    </tr>\n",
       "    <tr>\n",
       "      <th>site_access</th>\n",
       "      <td>381545</td>\n",
       "    </tr>\n",
       "    <tr>\n",
       "      <th>site_login</th>\n",
       "      <td>382042</td>\n",
       "    </tr>\n",
       "  </tbody>\n",
       "</table>\n",
       "</div>"
      ],
      "text/plain": [
       "                                            northstar_id\n",
       "channel              action_type                        \n",
       "email                clicked_link                 122642\n",
       "                     signup                           24\n",
       "niche_coregistration account_creation              99290\n",
       "                     signup                       112739\n",
       "other                account_creation              88530\n",
       "                     post                         221753\n",
       "sms                  account_creation               6974\n",
       "                     bertly_link_click            150006\n",
       "                     bertly_link_preview          170848\n",
       "                     bertly_link_uncertain        142240\n",
       "                     messaged_gambit              455697\n",
       "                     post                          27410\n",
       "                     signup                       283348\n",
       "web                  account_creation             309095\n",
       "                     bertly_link_click              1379\n",
       "                     bertly_link_preview               5\n",
       "                     bertly_link_uncertain          2243\n",
       "                     post                          57740\n",
       "                     signup                       471745\n",
       "                     site_access                  381545\n",
       "                     site_login                   382042"
      ]
     },
     "execution_count": 29,
     "metadata": {},
     "output_type": "execute_result"
    }
   ],
   "source": [
    "df_mel.groupby(['channel', 'action_type']).agg({'northstar_id': lambda x: len(x.unique())})"
   ]
  },
  {
   "cell_type": "markdown",
   "metadata": {},
   "source": [
    "Questions on above combinations:\n",
    "- Other + account_creation: importer-client for voter registration? Should this go toward MAM counts?\n",
    "- Other + post: RTV/TV, dev-oauth/rogue-oauth/rogue-admin, paw, importer-client --- do we want these sources to all count toward MAMs? \n",
    "- Web + bertly actions: I know that this is intended based on the target URL, but I guess it's not necessarily clear what source means (e.g. a link sourced from web vs email but sent via SMS?).\n",
    "- How come we're no longer identifying voter reg as an action type? I know they were ingested as posts/signups, but this seems like a distinctive enough action type that maybe it shouldn't be fit into that paradigm / justifies having a separate table to pull from (rather than being incorporated into posts/signups). The benefits of that could be \n",
    "\n",
    "    1. Not having to deal with date discrepancies in two places.\n",
    "    2. A more accurate accounting of activity through better being able to separate members from nonmembers: members would flow through the traditional journey of campaign signup --> 'post', while nonmembers wouldn't have 3 actions associated with them -- account creation, campaign signup, and post -- when they only knowingly performed 1?"
   ]
  },
  {
   "cell_type": "markdown",
   "metadata": {},
   "source": [
    "### Check User ID consistency"
   ]
  },
  {
   "cell_type": "code",
   "execution_count": 30,
   "metadata": {},
   "outputs": [],
   "source": [
    "def find_length(x):\n",
    "    if isinstance(x, float):\n",
    "        return 0\n",
    "    else:\n",
    "        return len(x)"
   ]
  },
  {
   "cell_type": "code",
   "execution_count": 31,
   "metadata": {},
   "outputs": [],
   "source": [
    "df_mel['len_ns_id'] = df_mel['northstar_id'].apply(find_length)"
   ]
  },
  {
   "cell_type": "code",
   "execution_count": 32,
   "metadata": {},
   "outputs": [
    {
     "data": {
      "text/plain": [
       "count    7.505103e+06\n",
       "mean     2.399858e+01\n",
       "std      1.131569e-01\n",
       "min      0.000000e+00\n",
       "25%      2.400000e+01\n",
       "50%      2.400000e+01\n",
       "75%      2.400000e+01\n",
       "max      2.400000e+01\n",
       "Name: len_ns_id, dtype: float64"
      ]
     },
     "execution_count": 32,
     "metadata": {},
     "output_type": "execute_result"
    }
   ],
   "source": [
    "df_mel['len_ns_id'].describe()"
   ]
  },
  {
   "cell_type": "code",
   "execution_count": 33,
   "metadata": {},
   "outputs": [
    {
     "data": {
      "text/plain": [
       "22    3607\n",
       "0      140\n",
       "5        2\n",
       "6        1\n",
       "Name: len_ns_id, dtype: int64"
      ]
     },
     "execution_count": 33,
     "metadata": {},
     "output_type": "execute_result"
    }
   ],
   "source": [
    "df_mel[df_mel['len_ns_id'] != 24]['len_ns_id'].value_counts()"
   ]
  },
  {
   "cell_type": "code",
   "execution_count": 34,
   "metadata": {},
   "outputs": [
    {
     "data": {
      "text/plain": [
       "bertly_link_uncertain    3169\n",
       "bertly_link_preview       488\n",
       "bertly_link_click          87\n",
       "clicked_link                6\n",
       "Name: action_type, dtype: int64"
      ]
     },
     "execution_count": 34,
     "metadata": {},
     "output_type": "execute_result"
    }
   ],
   "source": [
    "df_mel[df_mel['len_ns_id'] != 24]['action_type'].value_counts()"
   ]
  },
  {
   "cell_type": "code",
   "execution_count": 35,
   "metadata": {},
   "outputs": [
    {
     "data": {
      "text/plain": [
       "sms      3614\n",
       "web       130\n",
       "email       6\n",
       "Name: channel, dtype: int64"
      ]
     },
     "execution_count": 35,
     "metadata": {},
     "output_type": "execute_result"
    }
   ],
   "source": [
    "df_mel[df_mel['len_ns_id'] != 24]['channel'].value_counts()"
   ]
  },
  {
   "cell_type": "markdown",
   "metadata": {},
   "source": [
    "Is this a known issue or related to the way that NS gets pulled for bertly table?"
   ]
  },
  {
   "cell_type": "markdown",
   "metadata": {},
   "source": [
    "### Check source values"
   ]
  },
  {
   "cell_type": "code",
   "execution_count": 36,
   "metadata": {},
   "outputs": [],
   "source": [
    "source_counts = df_mel.groupby(['action_type', 'source'])['northstar_id'].count()"
   ]
  },
  {
   "cell_type": "code",
   "execution_count": 37,
   "metadata": {
    "scrolled": false
   },
   "outputs": [
    {
     "name": "stdout",
     "output_type": "stream",
     "text": [
      "account_creation\n",
      "source\n",
      "GDPR                  722\n",
      "aurora-oauth            1\n",
      "importer-client     86862\n",
      "niche               99290\n",
      "nightwing-oauth         1\n",
      "northstar             835\n",
      "phoenix-next       276417\n",
      "phoenix-oauth       32678\n",
      "rogue-oauth             8\n",
      "runscope-client       101\n",
      "sms                  6974\n",
      "Name: northstar_id, dtype: int64 \n",
      "\n",
      "bertly_link_click\n",
      "source\n",
      "bertly    631761\n",
      "Name: northstar_id, dtype: int64 \n",
      "\n",
      "bertly_link_preview\n",
      "source\n",
      "bertly    1010593\n",
      "Name: northstar_id, dtype: int64 \n",
      "\n",
      "bertly_link_uncertain\n",
      "source\n",
      "bertly    415829\n",
      "Name: northstar_id, dtype: int64 \n",
      "\n",
      "clicked_link\n",
      "source\n",
      "1    316081\n",
      "2    262946\n",
      "3      2617\n",
      "4       264\n",
      "5        98\n",
      "6       305\n",
      "7      6488\n",
      "8      3600\n",
      "9      3219\n",
      "Name: northstar_id, dtype: int64 \n",
      "\n",
      "messaged_gambit\n",
      "source\n",
      "SMS    1530031\n",
      "Name: northstar_id, dtype: int64 \n",
      "\n",
      "post\n",
      "source\n",
      "dev-oauth                 3\n",
      "importer-client       57084\n",
      "paw                       6\n",
      "phoenix-ashes           504\n",
      "phoenix-next          87391\n",
      "phoenix-web            6042\n",
      "rock-the-vote        161312\n",
      "rogue-admin              44\n",
      "rogue-oauth              44\n",
      "runscope                196\n",
      "runscope-oauth           22\n",
      "sms                   38920\n",
      "sms-mobilecommons        87\n",
      "turbovote             27036\n",
      "Name: northstar_id, dtype: int64 \n",
      "\n",
      "signup\n",
      "source\n",
      "11facts                   1\n",
      "campaigns              6511\n",
      "dev-oauth                 1\n",
      "ds_scholarship          483\n",
      "email                    24\n",
      "fastweb                  13\n",
      "importer-client        5102\n",
      "niche                112960\n",
      "node/1141               690\n",
      "node/152                  1\n",
      "node/3298               950\n",
      "node/3307               149\n",
      "node/3490                60\n",
      "node/3510                17\n",
      "node/3590                 2\n",
      "node/4131                54\n",
      "node/4220                 2\n",
      "node/451                  1\n",
      "node/479                  1\n",
      "node/4965                89\n",
      "node/5696                91\n",
      "node/5840                 1\n",
      "node/617                  1\n",
      "node/688                  1\n",
      "node/775                  1\n",
      "partner                  67\n",
      "paw                       1\n",
      "phoenix-ashes          4304\n",
      "phoenix-next         453380\n",
      "phoenix-web              10\n",
      "rock-the-vote        151984\n",
      "rogue-oauth               4\n",
      "runscope                 20\n",
      "runscope-oauth           19\n",
      "sms                  482108\n",
      "sms-mobilecommons        61\n",
      "taxonomy/term/19          3\n",
      "thewall                   5\n",
      "turbovote             10127\n",
      "Name: northstar_id, dtype: int64 \n",
      "\n"
     ]
    }
   ],
   "source": [
    "for idx in source_counts.index.levels[0]:\n",
    "    if idx not in ['site_access', 'site_login']:\n",
    "        print(idx)\n",
    "        print(source_counts[idx], '\\n')"
   ]
  },
  {
   "cell_type": "markdown",
   "metadata": {},
   "source": [
    "Could this use some cleanup?"
   ]
  },
  {
   "cell_type": "markdown",
   "metadata": {},
   "source": [
    "### RTV Data Ingestion - Estimated Impact \n",
    "\n",
    "Compare RTV counts by import date vs. registered date to see the extent to which MAM might be inflated."
   ]
  },
  {
   "cell_type": "code",
   "execution_count": 38,
   "metadata": {},
   "outputs": [],
   "source": [
    "ca_vote_sql = '''\n",
    "select *\n",
    "from public.campaign_activity\n",
    "where signup_created_at between '2018-01-01' and '2018-11-01' \n",
    "'''\n",
    "\n",
    "df_ca = pd.read_sql(ca_vote_sql, con=conn)"
   ]
  },
  {
   "cell_type": "code",
   "execution_count": 39,
   "metadata": {
    "scrolled": true
   },
   "outputs": [
    {
     "data": {
      "text/plain": [
       "rock-the-vote      155835\n",
       "phoenix-next         6513\n",
       "sms                  2930\n",
       "importer-client        18\n",
       "Name: signup_source, dtype: int64"
      ]
     },
     "execution_count": 39,
     "metadata": {},
     "output_type": "execute_result"
    }
   ],
   "source": [
    "# should signup source be importer-client for these rows in campaign activity, or rock-the-vote? \n",
    "df_ca[(df_ca['post_source'] == 'rock-the-vote')]['signup_source'].value_counts()"
   ]
  },
  {
   "cell_type": "code",
   "execution_count": 40,
   "metadata": {},
   "outputs": [
    {
     "data": {
      "text/plain": [
       "post      161312\n",
       "signup    151984\n",
       "Name: action_type, dtype: int64"
      ]
     },
     "execution_count": 40,
     "metadata": {},
     "output_type": "execute_result"
    }
   ],
   "source": [
    "df_mel[df_mel['source'] == 'rock-the-vote']['action_type'].value_counts()"
   ]
  },
  {
   "cell_type": "code",
   "execution_count": 41,
   "metadata": {},
   "outputs": [
    {
     "data": {
      "text/plain": [
       "5bb98041664abb00bc335482    2\n",
       "5ba55d264a047f008c54cae7    2\n",
       "5bc8fd6e92f7af00ce77b615    2\n",
       "5bca09c292f7af00a9432456    2\n",
       "5bd04a8f3f4bdf00b82d4484    2\n",
       "Name: northstar_id, dtype: int64"
      ]
     },
     "execution_count": 41,
     "metadata": {},
     "output_type": "execute_result"
    }
   ],
   "source": [
    "df_mel[(df_mel['action_type'] == 'signup') & (\n",
    "    df_mel['source'] == 'rock-the-vote')]['northstar_id'].value_counts().head()"
   ]
  },
  {
   "cell_type": "code",
   "execution_count": 42,
   "metadata": {},
   "outputs": [
    {
     "data": {
      "text/html": [
       "<div>\n",
       "<style scoped>\n",
       "    .dataframe tbody tr th:only-of-type {\n",
       "        vertical-align: middle;\n",
       "    }\n",
       "\n",
       "    .dataframe tbody tr th {\n",
       "        vertical-align: top;\n",
       "    }\n",
       "\n",
       "    .dataframe thead th {\n",
       "        text-align: right;\n",
       "    }\n",
       "</style>\n",
       "<table border=\"1\" class=\"dataframe\">\n",
       "  <thead>\n",
       "    <tr style=\"text-align: right;\">\n",
       "      <th></th>\n",
       "      <th>event_id</th>\n",
       "      <th>northstar_id</th>\n",
       "      <th>timestamp</th>\n",
       "      <th>action_type</th>\n",
       "      <th>action_id</th>\n",
       "      <th>source</th>\n",
       "      <th>action_serial_id</th>\n",
       "      <th>channel</th>\n",
       "      <th>len_ns_id</th>\n",
       "    </tr>\n",
       "  </thead>\n",
       "  <tbody>\n",
       "    <tr>\n",
       "      <th>5342505</th>\n",
       "      <td>d9df3bc57c4a878459f9327830f259a3</td>\n",
       "      <td>56fddf46469c647a428c138a</td>\n",
       "      <td>2018-10-19 19:18:15</td>\n",
       "      <td>signup</td>\n",
       "      <td>1</td>\n",
       "      <td>rock-the-vote</td>\n",
       "      <td>9629460</td>\n",
       "      <td>web</td>\n",
       "      <td>24</td>\n",
       "    </tr>\n",
       "    <tr>\n",
       "      <th>5342506</th>\n",
       "      <td>f9f2df00d30fa9ec95bd946017b4e835</td>\n",
       "      <td>56fddf46469c647a428c138a</td>\n",
       "      <td>2018-10-19 21:10:31</td>\n",
       "      <td>signup</td>\n",
       "      <td>1</td>\n",
       "      <td>rock-the-vote</td>\n",
       "      <td>9634423</td>\n",
       "      <td>web</td>\n",
       "      <td>24</td>\n",
       "    </tr>\n",
       "  </tbody>\n",
       "</table>\n",
       "</div>"
      ],
      "text/plain": [
       "                                 event_id              northstar_id  \\\n",
       "5342505  d9df3bc57c4a878459f9327830f259a3  56fddf46469c647a428c138a   \n",
       "5342506  f9f2df00d30fa9ec95bd946017b4e835  56fddf46469c647a428c138a   \n",
       "\n",
       "                  timestamp action_type  action_id         source  \\\n",
       "5342505 2018-10-19 19:18:15      signup          1  rock-the-vote   \n",
       "5342506 2018-10-19 21:10:31      signup          1  rock-the-vote   \n",
       "\n",
       "        action_serial_id channel  len_ns_id  \n",
       "5342505          9629460     web         24  \n",
       "5342506          9634423     web         24  "
      ]
     },
     "execution_count": 42,
     "metadata": {},
     "output_type": "execute_result"
    }
   ],
   "source": [
    "df_mel[(df_mel['action_type'] == 'signup') & (df_mel['source'] == 'rock-the-vote') & (\n",
    "    df_mel['northstar_id'] == '56fddf46469c647a428c138a')]"
   ]
  },
  {
   "cell_type": "markdown",
   "metadata": {},
   "source": [
    "Remove duplicates in both tables keeping the most recent."
   ]
  },
  {
   "cell_type": "code",
   "execution_count": 43,
   "metadata": {},
   "outputs": [],
   "source": [
    "df_mel = df_mel.sort_values(['northstar_id', 'timestamp'])\n",
    "df_mel = df_mel[~((df_mel['action_type'] == 'signup') & (df_mel['source'] == 'rock-the-vote') & (\n",
    "    df_mel.duplicated(['northstar_id', 'action_type', 'source'], keep='last')))]"
   ]
  },
  {
   "cell_type": "code",
   "execution_count": 44,
   "metadata": {},
   "outputs": [],
   "source": [
    "df_mel = df_mel[~((df_mel['action_type'] == 'post') & (df_mel['source'] == 'rock-the-vote') & (\n",
    "    df_mel.duplicated(['northstar_id', 'action_type', 'source'], keep='last')))]"
   ]
  },
  {
   "cell_type": "code",
   "execution_count": 45,
   "metadata": {},
   "outputs": [],
   "source": [
    "df_ca = df_ca.sort_values(['northstar_id', 'post_created_at'])\n",
    "df_ca = df_ca[~((df_ca['post_source'] == 'rock-the-vote') & (df_ca['signup_source'] == 'rock-the-vote') & (\n",
    "    df_ca.duplicated(['northstar_id', 'post_source', 'signup_source'], keep='last')))]"
   ]
  },
  {
   "cell_type": "markdown",
   "metadata": {},
   "source": [
    "Visualize count differences."
   ]
  },
  {
   "cell_type": "code",
   "execution_count": 46,
   "metadata": {},
   "outputs": [],
   "source": [
    "reg_counts_bymonth = df_ca[(df_ca['post_source'] == 'rock-the-vote')].set_index('post_created_at').groupby(\n",
    "    pd.Grouper(freq='M'))['northstar_id'].count()"
   ]
  },
  {
   "cell_type": "code",
   "execution_count": 47,
   "metadata": {},
   "outputs": [
    {
     "data": {
      "text/plain": [
       "post_created_at\n",
       "2018-05-31     4439\n",
       "2018-06-30     8628\n",
       "2018-07-31    18549\n",
       "2018-08-31    21006\n",
       "2018-09-30    43078\n",
       "2018-10-31    69181\n",
       "Freq: M, Name: northstar_id, dtype: int64"
      ]
     },
     "execution_count": 47,
     "metadata": {},
     "output_type": "execute_result"
    }
   ],
   "source": [
    "reg_counts_bymonth"
   ]
  },
  {
   "cell_type": "code",
   "execution_count": 48,
   "metadata": {},
   "outputs": [],
   "source": [
    "chompy_counts_bymonth = df_mel[(df_mel['source'] == 'rock-the-vote') & (df_mel['action_type'] == 'post')].set_index('timestamp').groupby(\n",
    "    pd.Grouper(freq='M'))['northstar_id'].count()"
   ]
  },
  {
   "cell_type": "code",
   "execution_count": 49,
   "metadata": {},
   "outputs": [
    {
     "data": {
      "text/plain": [
       "timestamp\n",
       "2018-08-31       808\n",
       "2018-09-30         0\n",
       "2018-10-31    159087\n",
       "Freq: M, Name: northstar_id, dtype: int64"
      ]
     },
     "execution_count": 49,
     "metadata": {},
     "output_type": "execute_result"
    }
   ],
   "source": [
    "chompy_counts_bymonth"
   ]
  },
  {
   "cell_type": "code",
   "execution_count": 50,
   "metadata": {},
   "outputs": [],
   "source": [
    "merged_df = pd.merge(\n",
    "    reg_counts_bymonth.reset_index().rename(columns={'post_created_at': 'timestamp'}),\n",
    "    chompy_counts_bymonth.reset_index(),\n",
    "    on='timestamp',\n",
    "    how='left',\n",
    "    suffixes=('_reg', '_chompy')\n",
    ").fillna(0)"
   ]
  },
  {
   "cell_type": "code",
   "execution_count": 51,
   "metadata": {},
   "outputs": [
    {
     "data": {
      "image/png": "[encoded data removed]",
      "text/plain": [
       "<Figure size 720x432 with 1 Axes>"
      ]
     },
     "metadata": {
      "needs_background": "light"
     },
     "output_type": "display_data"
    }
   ],
   "source": [
    "fig, ax = plt.subplots()\n",
    "ax.bar(\n",
    "    merged_df['timestamp'].values - pd.Timedelta(days=30), merged_df['northstar_id_reg'], width=10, label='registered')\n",
    "ax.bar(\n",
    "    merged_df['timestamp'].values - pd.Timedelta(days=20), merged_df['northstar_id_chompy'], width=10, label='account created')\n",
    "ax.legend()\n",
    "fig.set_size_inches(10, 6)\n",
    "ax.set_title('Comparison of Chompy vs. RTV counts');"
   ]
  },
  {
   "cell_type": "markdown",
   "metadata": {},
   "source": [
    "If we were to look at the remaining members who did not actually register to vote in October, did they perform another action that would still make them active that month?"
   ]
  },
  {
   "cell_type": "code",
   "execution_count": 52,
   "metadata": {},
   "outputs": [],
   "source": [
    "mel_ns_ids = df_mel[(df_mel['source'] == 'rock-the-vote') & (df_mel['action_type'] == 'post') & (\n",
    "df_mel['timestamp'] >= '2018-10-01')]['northstar_id']"
   ]
  },
  {
   "cell_type": "code",
   "execution_count": 53,
   "metadata": {},
   "outputs": [],
   "source": [
    "ca_ns_ids = df_ca[\n",
    "    (df_ca['post_source'] == 'rock-the-vote') & (df_ca['post_created_at'] >= '2018-10-01')]['northstar_id']"
   ]
  },
  {
   "cell_type": "code",
   "execution_count": 54,
   "metadata": {},
   "outputs": [],
   "source": [
    "mel_remaining_ns_ids = list(set(mel_ns_ids) - set(ca_ns_ids))"
   ]
  },
  {
   "cell_type": "code",
   "execution_count": 55,
   "metadata": {},
   "outputs": [
    {
     "data": {
      "text/plain": [
       "94062"
      ]
     },
     "execution_count": 55,
     "metadata": {},
     "output_type": "execute_result"
    }
   ],
   "source": [
    "len(mel_remaining_ns_ids)"
   ]
  },
  {
   "cell_type": "code",
   "execution_count": 56,
   "metadata": {},
   "outputs": [
    {
     "data": {
      "text/html": [
       "<div>\n",
       "<style scoped>\n",
       "    .dataframe tbody tr th:only-of-type {\n",
       "        vertical-align: middle;\n",
       "    }\n",
       "\n",
       "    .dataframe tbody tr th {\n",
       "        vertical-align: top;\n",
       "    }\n",
       "\n",
       "    .dataframe thead th {\n",
       "        text-align: right;\n",
       "    }\n",
       "</style>\n",
       "<table border=\"1\" class=\"dataframe\">\n",
       "  <thead>\n",
       "    <tr style=\"text-align: right;\">\n",
       "      <th></th>\n",
       "      <th>event_id</th>\n",
       "      <th>northstar_id</th>\n",
       "      <th>timestamp</th>\n",
       "      <th>action_type</th>\n",
       "      <th>action_id</th>\n",
       "      <th>source</th>\n",
       "      <th>action_serial_id</th>\n",
       "      <th>channel</th>\n",
       "      <th>len_ns_id</th>\n",
       "    </tr>\n",
       "  </thead>\n",
       "  <tbody>\n",
       "    <tr>\n",
       "      <th>3539488</th>\n",
       "      <td>a6bbe374c565de9342fa51d8ea68fd2d</td>\n",
       "      <td>340749</td>\n",
       "      <td>2018-09-13 16:23:41.231462</td>\n",
       "      <td>bertly_link_preview</td>\n",
       "      <td>10</td>\n",
       "      <td>bertly</td>\n",
       "      <td>30d7b772-a4b3-49ab-9351-aa9f963a8d27</td>\n",
       "      <td>sms</td>\n",
       "      <td>6</td>\n",
       "    </tr>\n",
       "    <tr>\n",
       "      <th>5244357</th>\n",
       "      <td>28413a8b5e181bdd735604827a8fd26f</td>\n",
       "      <td>54fa272b469c64d7068b4567</td>\n",
       "      <td>2018-05-15 19:25:41.000000</td>\n",
       "      <td>signup</td>\n",
       "      <td>1</td>\n",
       "      <td>turbovote</td>\n",
       "      <td>9176055</td>\n",
       "      <td>web</td>\n",
       "      <td>24</td>\n",
       "    </tr>\n",
       "    <tr>\n",
       "      <th>6496899</th>\n",
       "      <td>aaedec1375b7ad51670c96ff271b3561</td>\n",
       "      <td>54fa272b469c64d7068b4567</td>\n",
       "      <td>2018-05-15 19:25:41.000000</td>\n",
       "      <td>post</td>\n",
       "      <td>2</td>\n",
       "      <td>turbovote</td>\n",
       "      <td>489534</td>\n",
       "      <td>other</td>\n",
       "      <td>24</td>\n",
       "    </tr>\n",
       "    <tr>\n",
       "      <th>4868020</th>\n",
       "      <td>f25ef2381c27f754fe1b53916c6cc0ff</td>\n",
       "      <td>54fa272d469c64d7068b4577</td>\n",
       "      <td>2018-09-10 22:28:09.078788</td>\n",
       "      <td>bertly_link_preview</td>\n",
       "      <td>10</td>\n",
       "      <td>bertly</td>\n",
       "      <td>5aac556e-b594-4f2f-a964-95523c5810f2</td>\n",
       "      <td>sms</td>\n",
       "      <td>24</td>\n",
       "    </tr>\n",
       "    <tr>\n",
       "      <th>859255</th>\n",
       "      <td>4cd5b0972e6af977a1fbf7760322ac5c</td>\n",
       "      <td>54fa272e469c64d7068b457e</td>\n",
       "      <td>2018-07-18 01:54:55.000000</td>\n",
       "      <td>messaged_gambit</td>\n",
       "      <td>6</td>\n",
       "      <td>SMS</td>\n",
       "      <td>5b4e9defb6499d00049a85d8</td>\n",
       "      <td>sms</td>\n",
       "      <td>24</td>\n",
       "    </tr>\n",
       "  </tbody>\n",
       "</table>\n",
       "</div>"
      ],
      "text/plain": [
       "                                 event_id              northstar_id  \\\n",
       "3539488  a6bbe374c565de9342fa51d8ea68fd2d                    340749   \n",
       "5244357  28413a8b5e181bdd735604827a8fd26f  54fa272b469c64d7068b4567   \n",
       "6496899  aaedec1375b7ad51670c96ff271b3561  54fa272b469c64d7068b4567   \n",
       "4868020  f25ef2381c27f754fe1b53916c6cc0ff  54fa272d469c64d7068b4577   \n",
       "859255   4cd5b0972e6af977a1fbf7760322ac5c  54fa272e469c64d7068b457e   \n",
       "\n",
       "                         timestamp          action_type  action_id     source  \\\n",
       "3539488 2018-09-13 16:23:41.231462  bertly_link_preview         10     bertly   \n",
       "5244357 2018-05-15 19:25:41.000000               signup          1  turbovote   \n",
       "6496899 2018-05-15 19:25:41.000000                 post          2  turbovote   \n",
       "4868020 2018-09-10 22:28:09.078788  bertly_link_preview         10     bertly   \n",
       "859255  2018-07-18 01:54:55.000000      messaged_gambit          6        SMS   \n",
       "\n",
       "                             action_serial_id channel  len_ns_id  \n",
       "3539488  30d7b772-a4b3-49ab-9351-aa9f963a8d27     sms          6  \n",
       "5244357                               9176055     web         24  \n",
       "6496899                                489534   other         24  \n",
       "4868020  5aac556e-b594-4f2f-a964-95523c5810f2     sms         24  \n",
       "859255               5b4e9defb6499d00049a85d8     sms         24  "
      ]
     },
     "execution_count": 56,
     "metadata": {},
     "output_type": "execute_result"
    }
   ],
   "source": [
    "df_mel.head()"
   ]
  },
  {
   "cell_type": "code",
   "execution_count": 57,
   "metadata": {},
   "outputs": [
    {
     "data": {
      "text/plain": [
       "account_creation    41171\n",
       "Name: action_type, dtype: int64"
      ]
     },
     "execution_count": 57,
     "metadata": {},
     "output_type": "execute_result"
    }
   ],
   "source": [
    "df_mel[\n",
    "    df_mel['northstar_id'].isin(mel_remaining_ns_ids) & \n",
    "    (df_mel['timestamp'] >= '2018-10-01') & \n",
    "    (df_mel['source'] != 'rock-the-vote') & (df_mel['source'] == 'importer-client')]['action_type'].value_counts()"
   ]
  },
  {
   "cell_type": "markdown",
   "metadata": {},
   "source": [
    "The biggest contributor to MAMs is account creation, but these are all generated by an importer-client, suggesting that they were accounts created by us for nonmembers who had registered to vote. Not including those... "
   ]
  },
  {
   "cell_type": "code",
   "execution_count": 58,
   "metadata": {},
   "outputs": [
    {
     "data": {
      "text/plain": [
       "bertly_link_click      9670\n",
       "clicked_link           5382\n",
       "site_access            3636\n",
       "signup                 3238\n",
       "bertly_link_preview    3185\n",
       "messaged_gambit        2511\n",
       "site_login             1855\n",
       "post                    562\n",
       "account_creation        141\n",
       "Name: action_type, dtype: int64"
      ]
     },
     "execution_count": 58,
     "metadata": {},
     "output_type": "execute_result"
    }
   ],
   "source": [
    "df_mel[\n",
    "    df_mel['northstar_id'].isin(mel_remaining_ns_ids) & \n",
    "    (df_mel['timestamp'] >= '2018-10-01') & \n",
    "    (df_mel['source'] != 'rock-the-vote') & (df_mel['source'] != 'importer-client')]['action_type'].value_counts()"
   ]
  },
  {
   "cell_type": "code",
   "execution_count": 59,
   "metadata": {},
   "outputs": [
    {
     "name": "stdout",
     "output_type": "stream",
     "text": [
      "Count if we include importer-client account creation:  48123\n",
      "Count if we do not include those:  7384\n"
     ]
    }
   ],
   "source": [
    "print('Count if we include importer-client account creation: ', len(df_mel[\n",
    "    df_mel['northstar_id'].isin(mel_remaining_ns_ids) & \n",
    "    (df_mel['timestamp'] >= '2018-10-01') & \n",
    "    (df_mel['source'] != 'rock-the-vote')\n",
    "]['northstar_id'].unique()))\n",
    "\n",
    "print('Count if we do not include those: ', len(df_mel[\n",
    "    df_mel['northstar_id'].isin(mel_remaining_ns_ids) & \n",
    "    (df_mel['timestamp'] >= '2018-10-01') & \n",
    "    (df_mel['source'] != 'rock-the-vote') & \n",
    "    (df_mel['source'] != 'importer-client')\n",
    "]['northstar_id'].unique()))"
   ]
  },
  {
   "cell_type": "code",
   "execution_count": 60,
   "metadata": {},
   "outputs": [],
   "source": [
    "mam_count_bymonth = df_mel.set_index('timestamp').groupby(\n",
    "    pd.Grouper(freq='M')).agg({'northstar_id': lambda x: len(x.unique())})"
   ]
  },
  {
   "cell_type": "code",
   "execution_count": 61,
   "metadata": {},
   "outputs": [
    {
     "data": {
      "text/html": [
       "<div>\n",
       "<style scoped>\n",
       "    .dataframe tbody tr th:only-of-type {\n",
       "        vertical-align: middle;\n",
       "    }\n",
       "\n",
       "    .dataframe tbody tr th {\n",
       "        vertical-align: top;\n",
       "    }\n",
       "\n",
       "    .dataframe thead th {\n",
       "        text-align: right;\n",
       "    }\n",
       "</style>\n",
       "<table border=\"1\" class=\"dataframe\">\n",
       "  <thead>\n",
       "    <tr style=\"text-align: right;\">\n",
       "      <th></th>\n",
       "      <th>northstar_id</th>\n",
       "    </tr>\n",
       "    <tr>\n",
       "      <th>timestamp</th>\n",
       "      <th></th>\n",
       "    </tr>\n",
       "  </thead>\n",
       "  <tbody>\n",
       "    <tr>\n",
       "      <th>2018-01-31</th>\n",
       "      <td>260189</td>\n",
       "    </tr>\n",
       "    <tr>\n",
       "      <th>2018-02-28</th>\n",
       "      <td>226427</td>\n",
       "    </tr>\n",
       "    <tr>\n",
       "      <th>2018-03-31</th>\n",
       "      <td>216263</td>\n",
       "    </tr>\n",
       "    <tr>\n",
       "      <th>2018-04-30</th>\n",
       "      <td>141322</td>\n",
       "    </tr>\n",
       "    <tr>\n",
       "      <th>2018-05-31</th>\n",
       "      <td>95034</td>\n",
       "    </tr>\n",
       "    <tr>\n",
       "      <th>2018-06-30</th>\n",
       "      <td>129257</td>\n",
       "    </tr>\n",
       "    <tr>\n",
       "      <th>2018-07-31</th>\n",
       "      <td>193245</td>\n",
       "    </tr>\n",
       "    <tr>\n",
       "      <th>2018-08-31</th>\n",
       "      <td>226623</td>\n",
       "    </tr>\n",
       "    <tr>\n",
       "      <th>2018-09-30</th>\n",
       "      <td>231882</td>\n",
       "    </tr>\n",
       "    <tr>\n",
       "      <th>2018-10-31</th>\n",
       "      <td>330245</td>\n",
       "    </tr>\n",
       "  </tbody>\n",
       "</table>\n",
       "</div>"
      ],
      "text/plain": [
       "            northstar_id\n",
       "timestamp               \n",
       "2018-01-31        260189\n",
       "2018-02-28        226427\n",
       "2018-03-31        216263\n",
       "2018-04-30        141322\n",
       "2018-05-31         95034\n",
       "2018-06-30        129257\n",
       "2018-07-31        193245\n",
       "2018-08-31        226623\n",
       "2018-09-30        231882\n",
       "2018-10-31        330245"
      ]
     },
     "execution_count": 61,
     "metadata": {},
     "output_type": "execute_result"
    }
   ],
   "source": [
    "mam_count_bymonth"
   ]
  },
  {
   "cell_type": "code",
   "execution_count": 62,
   "metadata": {},
   "outputs": [],
   "source": [
    "mam_count_byactivity_oct = df_mel[df_mel['timestamp'] > '2018-10-01'].groupby(\n",
    "    'action_type').agg({'northstar_id': lambda x: len(x.unique())})"
   ]
  },
  {
   "cell_type": "code",
   "execution_count": 63,
   "metadata": {},
   "outputs": [
    {
     "data": {
      "text/html": [
       "<div>\n",
       "<style scoped>\n",
       "    .dataframe tbody tr th:only-of-type {\n",
       "        vertical-align: middle;\n",
       "    }\n",
       "\n",
       "    .dataframe tbody tr th {\n",
       "        vertical-align: top;\n",
       "    }\n",
       "\n",
       "    .dataframe thead th {\n",
       "        text-align: right;\n",
       "    }\n",
       "</style>\n",
       "<table border=\"1\" class=\"dataframe\">\n",
       "  <thead>\n",
       "    <tr style=\"text-align: right;\">\n",
       "      <th></th>\n",
       "      <th>northstar_id</th>\n",
       "    </tr>\n",
       "    <tr>\n",
       "      <th>action_type</th>\n",
       "      <th></th>\n",
       "    </tr>\n",
       "  </thead>\n",
       "  <tbody>\n",
       "    <tr>\n",
       "      <th>account_creation</th>\n",
       "      <td>117187</td>\n",
       "    </tr>\n",
       "    <tr>\n",
       "      <th>bertly_link_click</th>\n",
       "      <td>53882</td>\n",
       "    </tr>\n",
       "    <tr>\n",
       "      <th>bertly_link_preview</th>\n",
       "      <td>80629</td>\n",
       "    </tr>\n",
       "    <tr>\n",
       "      <th>clicked_link</th>\n",
       "      <td>19006</td>\n",
       "    </tr>\n",
       "    <tr>\n",
       "      <th>messaged_gambit</th>\n",
       "      <td>22134</td>\n",
       "    </tr>\n",
       "    <tr>\n",
       "      <th>post</th>\n",
       "      <td>165486</td>\n",
       "    </tr>\n",
       "    <tr>\n",
       "      <th>signup</th>\n",
       "      <td>192489</td>\n",
       "    </tr>\n",
       "    <tr>\n",
       "      <th>site_access</th>\n",
       "      <td>47054</td>\n",
       "    </tr>\n",
       "    <tr>\n",
       "      <th>site_login</th>\n",
       "      <td>43942</td>\n",
       "    </tr>\n",
       "  </tbody>\n",
       "</table>\n",
       "</div>"
      ],
      "text/plain": [
       "                     northstar_id\n",
       "action_type                      \n",
       "account_creation           117187\n",
       "bertly_link_click           53882\n",
       "bertly_link_preview         80629\n",
       "clicked_link                19006\n",
       "messaged_gambit             22134\n",
       "post                       165486\n",
       "signup                     192489\n",
       "site_access                 47054\n",
       "site_login                  43942"
      ]
     },
     "execution_count": 63,
     "metadata": {},
     "output_type": "execute_result"
    }
   ],
   "source": [
    "mam_count_byactivity_oct"
   ]
  },
  {
   "cell_type": "code",
   "execution_count": 64,
   "metadata": {},
   "outputs": [],
   "source": [
    "# remove rock-the-vote users if they did not actually register in October\n",
    "df_mel_oct = df_mel[(df_mel['timestamp'] >= '2018-10-01')]\n",
    "\n",
    "df_mel_oct_reduced = df_mel_oct[~(\n",
    "    df_mel_oct['northstar_id'].isin(mel_remaining_ns_ids) &\n",
    "    (df_mel_oct['source'] == 'rock-the-vote'))]"
   ]
  },
  {
   "cell_type": "code",
   "execution_count": 65,
   "metadata": {},
   "outputs": [
    {
     "data": {
      "text/plain": [
       "284306"
      ]
     },
     "execution_count": 65,
     "metadata": {},
     "output_type": "execute_result"
    }
   ],
   "source": [
    "len(df_mel_oct_reduced['northstar_id'].unique())"
   ]
  },
  {
   "cell_type": "code",
   "execution_count": 66,
   "metadata": {},
   "outputs": [],
   "source": [
    "# remove rock-the-vote users and those whose actions were an account created by an importer-client\n",
    "df_mel_oct_reduced_2 = df_mel_oct[~(\n",
    "    df_mel_oct['northstar_id'].isin(mel_remaining_ns_ids) & \n",
    "    ((df_mel_oct['source'] == 'rock-the-vote') | (df_mel_oct['source'] == 'importer-client')))]"
   ]
  },
  {
   "cell_type": "code",
   "execution_count": 67,
   "metadata": {},
   "outputs": [
    {
     "data": {
      "text/plain": [
       "243567"
      ]
     },
     "execution_count": 67,
     "metadata": {},
     "output_type": "execute_result"
    }
   ],
   "source": [
    "len(df_mel_oct_reduced_2['northstar_id'].unique())"
   ]
  },
  {
   "cell_type": "code",
   "execution_count": 68,
   "metadata": {},
   "outputs": [
    {
     "data": {
      "image/png": "[encoded data removed]",
      "text/plain": [
       "<Figure size 864x576 with 1 Axes>"
      ]
     },
     "metadata": {
      "needs_background": "light"
     },
     "output_type": "display_data"
    }
   ],
   "source": [
    "# plot to look at impact on October\n",
    "\n",
    "fig1, ax1 = plt.subplots()\n",
    "ax1.bar(x=[0, 1, 2], \n",
    "        height=[\n",
    "            mam_count_bymonth.iloc[-1], \n",
    "            len(df_mel_oct_reduced['northstar_id'].unique()), \n",
    "            len(df_mel_oct_reduced_2['northstar_id'].unique())],\n",
    "        width=0.5\n",
    "       )\n",
    "ax1.set_xticks([0, 1, 2])\n",
    "ax1.set_xticklabels(['Current October MAM count', 'Current - voter reg', 'Current - voter reg - auto accounts'])\n",
    "ax1.text(-0.09, mam_count_bymonth.iloc[-1], s=str(mam_count_bymonth.iloc[-1].values[0]), fontsize=14)\n",
    "ax1.text(0.91, len(df_mel_oct_reduced['northstar_id'].unique()), \n",
    "         s=str(len(df_mel_oct_reduced['northstar_id'].unique())), fontsize=14)\n",
    "ax1.text(1.91, len(df_mel_oct_reduced_2['northstar_id'].unique()), \n",
    "         s=str(len(df_mel_oct_reduced_2['northstar_id'].unique())), fontsize=14);\n"
   ]
  },
  {
   "cell_type": "code",
   "execution_count": 69,
   "metadata": {},
   "outputs": [],
   "source": [
    "mam_count_bymonth_updated = mam_count_bymonth.copy()"
   ]
  },
  {
   "cell_type": "code",
   "execution_count": 70,
   "metadata": {},
   "outputs": [
    {
     "data": {
      "text/plain": [
       "<matplotlib.legend.Legend at 0x1bcaf27f0>"
      ]
     },
     "execution_count": 70,
     "metadata": {},
     "output_type": "execute_result"
    },
    {
     "data": {
      "image/png": "[encoded data removed]",
      "text/plain": [
       "<Figure size 864x576 with 1 Axes>"
      ]
     },
     "metadata": {
      "needs_background": "light"
     },
     "output_type": "display_data"
    }
   ],
   "source": [
    "fig2, ax2 = plt.subplots()\n",
    "mam_count_bymonth.plot(ax=ax2)\n",
    "mam_count_bymonth_updated.iloc[-1] = len(df_mel_oct_reduced_2['northstar_id'].unique())\n",
    "mam_count_bymonth_updated.iloc[-2:].plot(ax=ax2, linestyle='dashed')\n",
    "ax2.legend(labels=['current', 'updated'])"
   ]
  },
  {
   "cell_type": "markdown",
   "metadata": {},
   "source": [
    "What caused the dip in MAMs in April/May/June?"
   ]
  }
 ],
 "metadata": {
  "kernelspec": {
   "display_name": "Python 3",
   "language": "python",
   "name": "python3"
  },
  "language_info": {
   "codemirror_mode": {
    "name": "ipython",
    "version": 3
   },
   "file_extension": ".py",
   "mimetype": "text/x-python",
   "name": "python",
   "nbconvert_exporter": "python",
   "pygments_lexer": "ipython3",
   "version": "3.7.0"
  }
 },
 "nbformat": 4,
 "nbformat_minor": 2
}
