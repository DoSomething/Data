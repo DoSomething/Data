{
 "cells": [
  {
   "cell_type": "code",
   "execution_count": 1,
   "metadata": {},
   "outputs": [],
   "source": [
    "%load_ext autoreload\n",
    "%autoreload 2\n",
    "%matplotlib inline"
   ]
  },
  {
   "cell_type": "code",
   "execution_count": 2,
   "metadata": {},
   "outputs": [],
   "source": [
    "import operator\n",
    "import pickle\n",
    "import sys\n",
    "\n",
    "import matplotlib.pyplot as plt\n",
    "import numpy as np\n",
    "import pandas as pd\n",
    "import seaborn as sns\n",
    "from treeinterpreter import treeinterpreter as ti\n",
    "from sklearn.metrics import f1_score\n",
    "\n",
    "sys.path.append(\"..\")\n",
    "from src.models import model_params\n",
    "\n",
    "plt.rcParams['figure.figsize'] = 12, 8"
   ]
  },
  {
   "cell_type": "code",
   "execution_count": 3,
   "metadata": {},
   "outputs": [],
   "source": [
    "df_test = pd.read_csv(\n",
    "    '../data/final/gambit_sample_test.csv.gz',\n",
    "    compression='gzip',\n",
    "    parse_dates=['most_recent_signup', 'most_recent_post'],\n",
    "    infer_datetime_format=True,\n",
    ")"
   ]
  },
  {
   "cell_type": "code",
   "execution_count": 4,
   "metadata": {},
   "outputs": [],
   "source": [
    "X_test = df_test.drop(columns=['target'])\n",
    "y_test = df_test['target']"
   ]
  },
  {
   "cell_type": "code",
   "execution_count": 5,
   "metadata": {},
   "outputs": [],
   "source": [
    "model = pickle.load(open('../models/rf-20.pkl', 'rb'))"
   ]
  },
  {
   "cell_type": "code",
   "execution_count": 6,
   "metadata": {},
   "outputs": [],
   "source": [
    "pipeline = getattr(model_params, 'feature_pipeline')"
   ]
  },
  {
   "cell_type": "code",
   "execution_count": 7,
   "metadata": {},
   "outputs": [],
   "source": [
    "X_test = pipeline.transform(X_test)"
   ]
  },
  {
   "cell_type": "code",
   "execution_count": 8,
   "metadata": {},
   "outputs": [
    {
     "name": "stdout",
     "output_type": "stream",
     "text": [
      "num_signups: 0.34747251706896753 \n",
      "\n",
      "Discrimination: 0.05191074605696599 \n",
      "\n",
      "Education: 0.09975791089760863 \n",
      "\n",
      "Environment: 0.038294446111639374 \n",
      "\n",
      "Mental Health: 0.03426427235957284 \n",
      "\n",
      "Physical Health: 0.07257670727647275 \n",
      "\n",
      "Violence: 0.010477389847597336 \n",
      "\n",
      "activity_level_less_recent_action: 0.2299361344977013 \n",
      "\n",
      "activity_level_recent_action: 0.06809389846280552 \n",
      "\n"
     ]
    }
   ],
   "source": [
    "for imp, col in zip(model.feature_importances_, X_test.columns):\n",
    "    if imp > 0.01:\n",
    "        print('{}: {} \\n'.format(col, imp))"
   ]
  },
  {
   "cell_type": "code",
   "execution_count": 9,
   "metadata": {},
   "outputs": [],
   "source": [
    "scorecard = ti.predict_explain(model, X_test, 5).assign(\n",
    "    TRUE_CLASS = y_test\n",
    ").sort_values('SCORE', ascending = False)"
   ]
  },
  {
   "cell_type": "code",
   "execution_count": 10,
   "metadata": {},
   "outputs": [
    {
     "data": {
      "text/html": [
       "<div>\n",
       "<style scoped>\n",
       "    .dataframe tbody tr th:only-of-type {\n",
       "        vertical-align: middle;\n",
       "    }\n",
       "\n",
       "    .dataframe tbody tr th {\n",
       "        vertical-align: top;\n",
       "    }\n",
       "\n",
       "    .dataframe thead th {\n",
       "        text-align: right;\n",
       "    }\n",
       "</style>\n",
       "<table border=\"1\" class=\"dataframe\">\n",
       "  <thead>\n",
       "    <tr style=\"text-align: right;\">\n",
       "      <th></th>\n",
       "      <th>SCORE</th>\n",
       "      <th>REASON1</th>\n",
       "      <th>REASON2</th>\n",
       "      <th>REASON3</th>\n",
       "      <th>REASON4</th>\n",
       "      <th>REASON5</th>\n",
       "      <th>TRUE_CLASS</th>\n",
       "    </tr>\n",
       "  </thead>\n",
       "  <tbody>\n",
       "    <tr>\n",
       "      <th>44748</th>\n",
       "      <td>0.999870</td>\n",
       "      <td>6.50 &lt; num_signups &lt;= 9.50</td>\n",
       "      <td>Education &gt; 0.50</td>\n",
       "      <td>activity_level_recent_action &gt; 0.50</td>\n",
       "      <td>Discrimination &gt; 0.50</td>\n",
       "      <td>Physical Health &gt; 0.50</td>\n",
       "      <td>1</td>\n",
       "    </tr>\n",
       "    <tr>\n",
       "      <th>29413</th>\n",
       "      <td>0.999721</td>\n",
       "      <td>num_signups &gt; 6.50</td>\n",
       "      <td>Education &gt; 0.50</td>\n",
       "      <td>activity_level_recent_action &gt; 0.50</td>\n",
       "      <td>Discrimination &gt; 0.50</td>\n",
       "      <td>Physical Health &gt; 0.50</td>\n",
       "      <td>1</td>\n",
       "    </tr>\n",
       "    <tr>\n",
       "      <th>119569</th>\n",
       "      <td>0.999662</td>\n",
       "      <td>5.50 &lt; num_signups &lt;= 9.50</td>\n",
       "      <td>Education &gt; 0.50</td>\n",
       "      <td>Discrimination &gt; 0.50</td>\n",
       "      <td>activity_level_recent_action &gt; 0.50</td>\n",
       "      <td>Physical Health &gt; 0.50</td>\n",
       "      <td>1</td>\n",
       "    </tr>\n",
       "    <tr>\n",
       "      <th>23236</th>\n",
       "      <td>0.999548</td>\n",
       "      <td>6.50 &lt; num_signups &lt;= 8.50</td>\n",
       "      <td>Education &gt; 0.50</td>\n",
       "      <td>Physical Health &gt; 0.50</td>\n",
       "      <td>Discrimination &gt; 0.50</td>\n",
       "      <td>activity_level_recent_action &gt; 0.50</td>\n",
       "      <td>1</td>\n",
       "    </tr>\n",
       "    <tr>\n",
       "      <th>48340</th>\n",
       "      <td>0.999502</td>\n",
       "      <td>5.50 &lt; num_signups &lt;= 6.50</td>\n",
       "      <td>Education &gt; 0.50</td>\n",
       "      <td>Discrimination &gt; 0.50</td>\n",
       "      <td>activity_level_recent_action &gt; 0.50</td>\n",
       "      <td>Mental Health &gt; 0.50</td>\n",
       "      <td>1</td>\n",
       "    </tr>\n",
       "    <tr>\n",
       "      <th>104487</th>\n",
       "      <td>0.999459</td>\n",
       "      <td>4.50 &lt; num_signups &lt;= 9.50</td>\n",
       "      <td>Education &gt; 0.50</td>\n",
       "      <td>Discrimination &gt; 0.50</td>\n",
       "      <td>Environment &gt; 0.50</td>\n",
       "      <td>Physical Health &gt; 0.50</td>\n",
       "      <td>1</td>\n",
       "    </tr>\n",
       "    <tr>\n",
       "      <th>46728</th>\n",
       "      <td>0.999433</td>\n",
       "      <td>6.50 &lt; num_signups &lt;= 9.50</td>\n",
       "      <td>Education &gt; 0.50</td>\n",
       "      <td>Physical Health &gt; 0.50</td>\n",
       "      <td>Discrimination &gt; 0.50</td>\n",
       "      <td>activity_level_recent_action &gt; 0.50</td>\n",
       "      <td>1</td>\n",
       "    </tr>\n",
       "    <tr>\n",
       "      <th>78015</th>\n",
       "      <td>0.999400</td>\n",
       "      <td>4.50 &lt; num_signups &lt;= 9.50</td>\n",
       "      <td>Education &gt; 0.50</td>\n",
       "      <td>Discrimination &gt; 0.50</td>\n",
       "      <td>Physical Health &gt; 0.50</td>\n",
       "      <td>activity_level_recent_action &gt; 0.50</td>\n",
       "      <td>1</td>\n",
       "    </tr>\n",
       "    <tr>\n",
       "      <th>105365</th>\n",
       "      <td>0.999355</td>\n",
       "      <td>5.50 &lt; num_signups &lt;= 9.50</td>\n",
       "      <td>Education &gt; 0.50</td>\n",
       "      <td>Physical Health &gt; 0.50</td>\n",
       "      <td>Discrimination &gt; 0.50</td>\n",
       "      <td>activity_level_recent_action &gt; 0.50</td>\n",
       "      <td>1</td>\n",
       "    </tr>\n",
       "    <tr>\n",
       "      <th>53851</th>\n",
       "      <td>0.999336</td>\n",
       "      <td>6.50 &lt; num_signups &lt;= 11.50</td>\n",
       "      <td>Education &gt; 0.50</td>\n",
       "      <td>Physical Health &gt; 0.50</td>\n",
       "      <td>Discrimination &gt; 0.50</td>\n",
       "      <td>activity_level_recent_action &gt; 0.50</td>\n",
       "      <td>1</td>\n",
       "    </tr>\n",
       "  </tbody>\n",
       "</table>\n",
       "</div>"
      ],
      "text/plain": [
       "           SCORE                      REASON1           REASON2  \\\n",
       "44748   0.999870   6.50 < num_signups <= 9.50  Education > 0.50   \n",
       "29413   0.999721           num_signups > 6.50  Education > 0.50   \n",
       "119569  0.999662   5.50 < num_signups <= 9.50  Education > 0.50   \n",
       "23236   0.999548   6.50 < num_signups <= 8.50  Education > 0.50   \n",
       "48340   0.999502   5.50 < num_signups <= 6.50  Education > 0.50   \n",
       "104487  0.999459   4.50 < num_signups <= 9.50  Education > 0.50   \n",
       "46728   0.999433   6.50 < num_signups <= 9.50  Education > 0.50   \n",
       "78015   0.999400   4.50 < num_signups <= 9.50  Education > 0.50   \n",
       "105365  0.999355   5.50 < num_signups <= 9.50  Education > 0.50   \n",
       "53851   0.999336  6.50 < num_signups <= 11.50  Education > 0.50   \n",
       "\n",
       "                                    REASON3  \\\n",
       "44748   activity_level_recent_action > 0.50   \n",
       "29413   activity_level_recent_action > 0.50   \n",
       "119569                Discrimination > 0.50   \n",
       "23236                Physical Health > 0.50   \n",
       "48340                 Discrimination > 0.50   \n",
       "104487                Discrimination > 0.50   \n",
       "46728                Physical Health > 0.50   \n",
       "78015                 Discrimination > 0.50   \n",
       "105365               Physical Health > 0.50   \n",
       "53851                Physical Health > 0.50   \n",
       "\n",
       "                                    REASON4  \\\n",
       "44748                 Discrimination > 0.50   \n",
       "29413                 Discrimination > 0.50   \n",
       "119569  activity_level_recent_action > 0.50   \n",
       "23236                 Discrimination > 0.50   \n",
       "48340   activity_level_recent_action > 0.50   \n",
       "104487                   Environment > 0.50   \n",
       "46728                 Discrimination > 0.50   \n",
       "78015                Physical Health > 0.50   \n",
       "105365                Discrimination > 0.50   \n",
       "53851                 Discrimination > 0.50   \n",
       "\n",
       "                                    REASON5  TRUE_CLASS  \n",
       "44748                Physical Health > 0.50           1  \n",
       "29413                Physical Health > 0.50           1  \n",
       "119569               Physical Health > 0.50           1  \n",
       "23236   activity_level_recent_action > 0.50           1  \n",
       "48340                  Mental Health > 0.50           1  \n",
       "104487               Physical Health > 0.50           1  \n",
       "46728   activity_level_recent_action > 0.50           1  \n",
       "78015   activity_level_recent_action > 0.50           1  \n",
       "105365  activity_level_recent_action > 0.50           1  \n",
       "53851   activity_level_recent_action > 0.50           1  "
      ]
     },
     "execution_count": 10,
     "metadata": {},
     "output_type": "execute_result"
    }
   ],
   "source": [
    "scorecard.head(10)"
   ]
  },
  {
   "cell_type": "code",
   "execution_count": 11,
   "metadata": {},
   "outputs": [
    {
     "data": {
      "text/plain": [
       "activity_level_less_recent_action > 0.50    8143\n",
       "0.50 < num_signups <= 1.50                  2431\n",
       "1.50 < num_signups <= 2.50                   691\n",
       "1.50 < num_signups <= 3.50                   502\n",
       "Education > 0.50                             416\n",
       "2.50 < num_signups <= 3.50                   387\n",
       "num_signups > 0.50                           340\n",
       "0.50 < num_signups <= 4.50                   310\n",
       "0.50 < num_signups <= 5.50                   272\n",
       "1.50 < num_signups <= 4.50                   259\n",
       "1.50 < num_signups <= 5.50                   232\n",
       "1.50 < num_signups <= 8.50                   225\n",
       "2.50 < num_signups <= 5.50                   220\n",
       "3.50 < num_signups <= 5.50                   186\n",
       "Physical Health > 0.50                       184\n",
       "2.50 < num_signups <= 4.50                   183\n",
       "3.50 < num_signups <= 4.50                   168\n",
       "num_signups > 1.50                           167\n",
       "2.50 < num_signups <= 6.50                   152\n",
       "sms_status_less > 0.50                       151\n",
       "Name: REASON1, dtype: int64"
      ]
     },
     "execution_count": 11,
     "metadata": {},
     "output_type": "execute_result"
    }
   ],
   "source": [
    "scorecard[(scorecard['SCORE'] >= 0.5) & \n",
    "          (scorecard['TRUE_CLASS'] == 1)\n",
    "         ]['REASON1'].value_counts()[:20]"
   ]
  },
  {
   "cell_type": "code",
   "execution_count": 12,
   "metadata": {},
   "outputs": [
    {
     "data": {
      "text/plain": [
       "activity_level_less_recent_action > 0.50    8081\n",
       "0.50 < num_signups <= 1.50                  2430\n",
       "1.50 < num_signups <= 2.50                   651\n",
       "1.50 < num_signups <= 3.50                   499\n",
       "2.50 < num_signups <= 3.50                   386\n",
       "num_signups > 0.50                           337\n",
       "Education > 0.50                             326\n",
       "0.50 < num_signups <= 4.50                   310\n",
       "0.50 < num_signups <= 5.50                   272\n",
       "1.50 < num_signups <= 4.50                   259\n",
       "1.50 < num_signups <= 5.50                   232\n",
       "1.50 < num_signups <= 8.50                   225\n",
       "2.50 < num_signups <= 5.50                   220\n",
       "3.50 < num_signups <= 5.50                   185\n",
       "2.50 < num_signups <= 4.50                   183\n",
       "Physical Health > 0.50                       180\n",
       "3.50 < num_signups <= 4.50                   168\n",
       "num_signups > 1.50                           167\n",
       "3.50 < num_signups <= 6.50                   149\n",
       "2.50 < num_signups <= 6.50                   149\n",
       "Name: REASON1, dtype: int64"
      ]
     },
     "execution_count": 12,
     "metadata": {},
     "output_type": "execute_result"
    }
   ],
   "source": [
    "scorecard[(scorecard['SCORE'] >= 0.8) & \n",
    "          (scorecard['TRUE_CLASS'] == 1)\n",
    "         ]['REASON1'].value_counts()[:20]"
   ]
  },
  {
   "cell_type": "code",
   "execution_count": 13,
   "metadata": {},
   "outputs": [
    {
     "data": {
      "text/plain": [
       "activity_level_less_recent_action > 0.50    3339\n",
       "Education > 0.50                            3199\n",
       "0.50 < num_signups <= 1.50                  3133\n",
       "num_signups > 0.50                          1321\n",
       "activity_level_recent_action > 0.50          998\n",
       "Physical Health > 0.50                       770\n",
       "1.50 < num_signups <= 3.50                   486\n",
       "0.50 < num_signups <= 9.00                   463\n",
       "1.50 < num_signups <= 6.50                   408\n",
       "1.50 < num_signups <= 5.50                   282\n",
       "2.50 < num_signups <= 3.50                   280\n",
       "2.50 < num_signups <= 6.50                   191\n",
       "Environment > 0.50                           176\n",
       "0.50 < num_signups <= 2.50                   155\n",
       "sms_status_pending <= 0.50                   143\n",
       "1.50 < num_signups <= 2.50                   140\n",
       "0.50 < num_signups <= 8.50                   139\n",
       "3.50 < num_signups <= 6.50                   138\n",
       "2.50 < num_signups <= 5.50                   125\n",
       "1.50 < num_signups <= 8.50                   111\n",
       "Name: REASON2, dtype: int64"
      ]
     },
     "execution_count": 13,
     "metadata": {},
     "output_type": "execute_result"
    }
   ],
   "source": [
    "scorecard[(scorecard['SCORE'] >= 0.8) & \n",
    "          (scorecard['TRUE_CLASS'] == 1)\n",
    "         ]['REASON2'].value_counts()[:20]"
   ]
  },
  {
   "cell_type": "code",
   "execution_count": 14,
   "metadata": {},
   "outputs": [
    {
     "data": {
      "text/plain": [
       "Physical Health > 0.50                      3279\n",
       "activity_level_recent_action > 0.50         3028\n",
       "Discrimination > 0.50                       3015\n",
       "Education > 0.50                            2524\n",
       "Environment > 0.50                          2082\n",
       "Mental Health > 0.50                        1898\n",
       "Violence > 0.50                              560\n",
       "0.50 < num_rbs <= 1.50                       141\n",
       "sms_status_active <= 0.50                    137\n",
       "activity_level_less_recent_action > 0.50     103\n",
       "Bullying > 0.50                               67\n",
       "num_signups > 0.50                            38\n",
       "Week Of Action > 0.50                         33\n",
       "0.50 < num_signups <= 1.50                    29\n",
       "1.50 < num_signups <= 4.50                    28\n",
       "sms_status_pending <= 0.50                    22\n",
       "3.50 < num_signups <= 4.50                    17\n",
       "Homelessness > 0.50                           12\n",
       "age <= 18.50                                  10\n",
       "2.50 < num_signups <= 4.50                     9\n",
       "Name: REASON3, dtype: int64"
      ]
     },
     "execution_count": 14,
     "metadata": {},
     "output_type": "execute_result"
    }
   ],
   "source": [
    "scorecard[(scorecard['SCORE'] >= 0.8) & \n",
    "          (scorecard['TRUE_CLASS'] == 1)\n",
    "         ]['REASON3'].value_counts()[:20]"
   ]
  },
  {
   "cell_type": "code",
   "execution_count": 15,
   "metadata": {},
   "outputs": [
    {
     "data": {
      "text/plain": [
       "voter_registration_status_registered <= 0.50    3199\n",
       "Education > 0.50                                2845\n",
       "Discrimination > 0.50                           2148\n",
       "Mental Health > 0.50                            1465\n",
       "num_rbs <= 0.50                                 1136\n",
       "Physical Health > 0.50                          1050\n",
       "activity_level_recent_action > 0.50              930\n",
       "17.50 < age <= 18.50                             505\n",
       "Environment > 0.50                               495\n",
       "Bullying > 0.50                                  487\n",
       "Bullying <= 0.50                                 462\n",
       "source_phoenix <= 0.50                           381\n",
       "Violence > 0.50                                  360\n",
       "source_phoenix-oauth <= 0.50                     274\n",
       "sms_status_pending <= 0.50                       260\n",
       "13.00 < age <= 18.50                             143\n",
       "Discrimination <= 0.50                           141\n",
       "Week Of Action > 0.50                            117\n",
       "0.50 < num_rbs <= 2.50                           113\n",
       "0.50 < num_rbs <= 1.50                            98\n",
       "Name: REASON4, dtype: int64"
      ]
     },
     "execution_count": 15,
     "metadata": {},
     "output_type": "execute_result"
    }
   ],
   "source": [
    "scorecard[(scorecard['SCORE'] >= 0.8) & \n",
    "          (scorecard['TRUE_CLASS'] == 1)\n",
    "         ]['REASON4'].value_counts()[:20]"
   ]
  },
  {
   "cell_type": "code",
   "execution_count": 16,
   "metadata": {},
   "outputs": [
    {
     "data": {
      "text/plain": [
       "num_rbs <= 0.50                                 4154\n",
       "voter_registration_status_registered <= 0.50    2843\n",
       "Physical Health > 0.50                          1982\n",
       "source_phoenix <= 0.50                          1431\n",
       "source_phoenix-oauth <= 0.50                     776\n",
       "Discrimination > 0.50                            716\n",
       "Mental Health > 0.50                             688\n",
       "Discrimination <= 0.50                           585\n",
       "sms_status_pending <= 0.50                       530\n",
       "Environment > 0.50                               498\n",
       "activity_level_recent_action > 0.50              419\n",
       "Bullying > 0.50                                  336\n",
       "Violence > 0.50                                  333\n",
       "19.50 < age <= 21.50                             308\n",
       "0.50 < num_rbs <= 1.50                           242\n",
       "17.50 < age <= 18.50                             236\n",
       "Bullying <= 0.50                                 235\n",
       "source_sms <= 0.50                                99\n",
       "Week Of Action > 0.50                             82\n",
       "source_phoenix-next > 0.50                        71\n",
       "Name: REASON5, dtype: int64"
      ]
     },
     "execution_count": 16,
     "metadata": {},
     "output_type": "execute_result"
    }
   ],
   "source": [
    "scorecard[(scorecard['SCORE'] >= 0.8) & \n",
    "          (scorecard['TRUE_CLASS'] == 1)\n",
    "         ]['REASON5'].value_counts()[:20]"
   ]
  },
  {
   "cell_type": "code",
   "execution_count": null,
   "metadata": {},
   "outputs": [],
   "source": []
  }
 ],
 "metadata": {
  "kernelspec": {
   "display_name": "Python 3",
   "language": "python",
   "name": "python3"
  },
  "language_info": {
   "codemirror_mode": {
    "name": "ipython",
    "version": 3
   },
   "file_extension": ".py",
   "mimetype": "text/x-python",
   "name": "python",
   "nbconvert_exporter": "python",
   "pygments_lexer": "ipython3",
   "version": "3.7.0"
  }
 },
 "nbformat": 4,
 "nbformat_minor": 2
}
