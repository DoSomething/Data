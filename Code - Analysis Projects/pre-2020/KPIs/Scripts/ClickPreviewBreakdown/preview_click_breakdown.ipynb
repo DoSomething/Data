{
 "cells": [
  {
   "cell_type": "code",
   "execution_count": 2,
   "metadata": {},
   "outputs": [
    {
     "name": "stdout",
     "output_type": "stream",
     "text": [
      "The autoreload extension is already loaded. To reload it, use:\n",
      "  %reload_ext autoreload\n"
     ]
    }
   ],
   "source": [
    "%matplotlib inline\n",
    "%load_ext autoreload\n",
    "%autoreload 2\n",
    "\n",
    "import matplotlib.pyplot as plt\n",
    "import numpy as np\n",
    "import os\n",
    "import pandas as pd\n",
    "\n",
    "import utils\n",
    "\n",
    "pd.options.mode.chained_assignment = None\n",
    "plt.rcParams['figure.figsize'] = (6, 8)"
   ]
  },
  {
   "cell_type": "code",
   "execution_count": 3,
   "metadata": {},
   "outputs": [],
   "source": [
    "conn = utils.load_connection()"
   ]
  },
  {
   "cell_type": "code",
   "execution_count": 4,
   "metadata": {},
   "outputs": [],
   "source": [
    "if os.path.exists('all_clicks.csv.gz'):\n",
    "    df_all_clicks = pd.read_csv('all_clicks.csv.gz', compression='gzip')\n",
    "    df_all_clicks['click_time'] = pd.to_datetime(df_all_clicks['click_time'])\n",
    "else:\n",
    "    clicks_sql = '''\n",
    "    select *\n",
    "    from public.bertly_clicks\n",
    "    where user_agent is not null\n",
    "    and northstar_id is not null\n",
    "    '''\n",
    "    df_all_clicks = pd.read_sql(clicks_sql, con=conn)\n",
    "    df_all_clicks.to_csv('all_clicks.csv.gz', compression='gzip', index=False)"
   ]
  },
  {
   "cell_type": "code",
   "execution_count": 5,
   "metadata": {},
   "outputs": [],
   "source": [
    "#  known user agents to filter on\n",
    "samsung_preview_ua = 'Mozilla/5.0 (X11; Ubuntu; Linux i686; rv:24.0) Gecko/20100101 Firefox/24.0'\n",
    "samsung_unknown_ua = 'Apache-HttpClient/UNAVAILABLE (java 1.4)'\n",
    "ios_preview_ua = 'Mozilla/5.0 (Macintosh; Intel Mac OS X 10_11_1) AppleWebKit/601.2.4 (KHTML, like Gecko) Version/9.0.1 Safari/601.2.4 facebookexternalhit/1.1 Facebot Twitterbot/1.0'\n"
   ]
  },
  {
   "cell_type": "code",
   "execution_count": 6,
   "metadata": {},
   "outputs": [],
   "source": [
    "#  known bots\n",
    "bots = list(df_all_clicks[\n",
    "    df_all_clicks['user_agent'].str.contains('bot') & (df_all_clicks['user_agent'] != ios_preview_ua)]['user_agent'].unique()) + [\n",
    "    'Mozilla/5.0 (X11; Linux x86_64) AppleWebKit/537.36 (KHTML, like Gecko) Chrome/49.0.2623.75 Safari/537.36 Google Favicon',\n",
    "    'Mozilla/5.0 (Windows NT 6.1; WOW64; Trident/7.0; rv:11.0) like Gecko',\n",
    "    'Mozilla/5.0 (Windows NT 6.1) AppleWebKit/537.36 (KHTML, like Gecko) Chrome/41.0.2228.0 Safari/537.36',\n",
    "    'Mozilla/5.0 (X11; Linux x86_64) AppleWebKit/537.36 (KHTML, like Gecko) Chrome/56.0.2924.87 Safari/537.36 Google (+https://developers.google.com/+/web/snippet/)',\n",
    "]"
   ]
  },
  {
   "cell_type": "markdown",
   "metadata": {},
   "source": [
    "### Breakdown of interaction by activity type"
   ]
  },
  {
   "cell_type": "code",
   "execution_count": 7,
   "metadata": {},
   "outputs": [],
   "source": [
    "df_all_clicks.loc[df_all_clicks['user_agent'] == samsung_preview_ua, 'ua_bucket'] = 'preview_android'\n",
    "df_all_clicks.loc[df_all_clicks['user_agent'] == ios_preview_ua, 'ua_bucket'] = 'preview_ios'\n",
    "df_all_clicks.loc[df_all_clicks['user_agent'] == samsung_unknown_ua, 'ua_bucket'] = 'unclassified'\n",
    "df_all_clicks.loc[df_all_clicks['user_agent'].isin(bots), 'ua_bucket'] = 'unclassified_bots'\n",
    "df_all_clicks.loc[df_all_clicks['user_agent'].str.contains('iphone', case=False), 'ua_bucket'] = 'click_ios'\n",
    "df_all_clicks.loc[df_all_clicks['user_agent'].str.contains('android', case=False), 'ua_bucket'] = 'click_android'\n",
    "df_all_clicks.loc[df_all_clicks['ua_bucket'].isnull(), 'ua_bucket'] = 'unclassified'"
   ]
  },
  {
   "cell_type": "code",
   "execution_count": 8,
   "metadata": {},
   "outputs": [],
   "source": [
    "df_clicks_byua_month = df_all_clicks.set_index('click_time').groupby(\n",
    "    ['ua_bucket', pd.Grouper(freq='M')])['northstar_id'].count().sort_values(ascending=False).reset_index()"
   ]
  },
  {
   "cell_type": "code",
   "execution_count": 9,
   "metadata": {},
   "outputs": [
    {
     "data": {
      "text/html": [
       "<div>\n",
       "<style scoped>\n",
       "    .dataframe tbody tr th:only-of-type {\n",
       "        vertical-align: middle;\n",
       "    }\n",
       "\n",
       "    .dataframe tbody tr th {\n",
       "        vertical-align: top;\n",
       "    }\n",
       "\n",
       "    .dataframe thead th {\n",
       "        text-align: right;\n",
       "    }\n",
       "</style>\n",
       "<table border=\"1\" class=\"dataframe\">\n",
       "  <thead>\n",
       "    <tr style=\"text-align: right;\">\n",
       "      <th></th>\n",
       "      <th>ua_bucket</th>\n",
       "      <th>click_time</th>\n",
       "      <th>northstar_id</th>\n",
       "    </tr>\n",
       "  </thead>\n",
       "  <tbody>\n",
       "    <tr>\n",
       "      <th>0</th>\n",
       "      <td>preview_android</td>\n",
       "      <td>2018-08-31</td>\n",
       "      <td>330988</td>\n",
       "    </tr>\n",
       "    <tr>\n",
       "      <th>1</th>\n",
       "      <td>preview_android</td>\n",
       "      <td>2018-09-30</td>\n",
       "      <td>319457</td>\n",
       "    </tr>\n",
       "    <tr>\n",
       "      <th>2</th>\n",
       "      <td>preview_android</td>\n",
       "      <td>2018-10-31</td>\n",
       "      <td>211610</td>\n",
       "    </tr>\n",
       "    <tr>\n",
       "      <th>3</th>\n",
       "      <td>unclassified</td>\n",
       "      <td>2018-10-31</td>\n",
       "      <td>159742</td>\n",
       "    </tr>\n",
       "    <tr>\n",
       "      <th>4</th>\n",
       "      <td>click_ios</td>\n",
       "      <td>2018-09-30</td>\n",
       "      <td>80816</td>\n",
       "    </tr>\n",
       "  </tbody>\n",
       "</table>\n",
       "</div>"
      ],
      "text/plain": [
       "         ua_bucket click_time  northstar_id\n",
       "0  preview_android 2018-08-31        330988\n",
       "1  preview_android 2018-09-30        319457\n",
       "2  preview_android 2018-10-31        211610\n",
       "3     unclassified 2018-10-31        159742\n",
       "4        click_ios 2018-09-30         80816"
      ]
     },
     "execution_count": 9,
     "metadata": {},
     "output_type": "execute_result"
    }
   ],
   "source": [
    "df_clicks_byua_month.head()"
   ]
  },
  {
   "cell_type": "code",
   "execution_count": 10,
   "metadata": {},
   "outputs": [],
   "source": [
    "df_clicks_byua_month = df_clicks_byua_month.pivot(\n",
    "    index='ua_bucket', columns='click_time', values='northstar_id').fillna(0)"
   ]
  },
  {
   "cell_type": "code",
   "execution_count": 11,
   "metadata": {},
   "outputs": [
    {
     "data": {
      "text/html": [
       "<div>\n",
       "<style scoped>\n",
       "    .dataframe tbody tr th:only-of-type {\n",
       "        vertical-align: middle;\n",
       "    }\n",
       "\n",
       "    .dataframe tbody tr th {\n",
       "        vertical-align: top;\n",
       "    }\n",
       "\n",
       "    .dataframe thead th {\n",
       "        text-align: right;\n",
       "    }\n",
       "</style>\n",
       "<table border=\"1\" class=\"dataframe\">\n",
       "  <thead>\n",
       "    <tr style=\"text-align: right;\">\n",
       "      <th>click_time</th>\n",
       "      <th>2018-08-31 00:00:00</th>\n",
       "      <th>2018-09-30 00:00:00</th>\n",
       "      <th>2018-10-31 00:00:00</th>\n",
       "    </tr>\n",
       "    <tr>\n",
       "      <th>ua_bucket</th>\n",
       "      <th></th>\n",
       "      <th></th>\n",
       "      <th></th>\n",
       "    </tr>\n",
       "  </thead>\n",
       "  <tbody>\n",
       "    <tr>\n",
       "      <th>click_android</th>\n",
       "      <td>25911</td>\n",
       "      <td>20981</td>\n",
       "      <td>13645</td>\n",
       "    </tr>\n",
       "    <tr>\n",
       "      <th>click_ios</th>\n",
       "      <td>80787</td>\n",
       "      <td>80816</td>\n",
       "      <td>53760</td>\n",
       "    </tr>\n",
       "    <tr>\n",
       "      <th>preview_android</th>\n",
       "      <td>330988</td>\n",
       "      <td>319457</td>\n",
       "      <td>211610</td>\n",
       "    </tr>\n",
       "    <tr>\n",
       "      <th>preview_ios</th>\n",
       "      <td>42606</td>\n",
       "      <td>28639</td>\n",
       "      <td>12695</td>\n",
       "    </tr>\n",
       "    <tr>\n",
       "      <th>unclassified</th>\n",
       "      <td>62709</td>\n",
       "      <td>70343</td>\n",
       "      <td>159742</td>\n",
       "    </tr>\n",
       "    <tr>\n",
       "      <th>unclassified_bots</th>\n",
       "      <td>6080</td>\n",
       "      <td>7094</td>\n",
       "      <td>4898</td>\n",
       "    </tr>\n",
       "  </tbody>\n",
       "</table>\n",
       "</div>"
      ],
      "text/plain": [
       "click_time         2018-08-31  2018-09-30  2018-10-31\n",
       "ua_bucket                                            \n",
       "click_android           25911       20981       13645\n",
       "click_ios               80787       80816       53760\n",
       "preview_android        330988      319457      211610\n",
       "preview_ios             42606       28639       12695\n",
       "unclassified            62709       70343      159742\n",
       "unclassified_bots        6080        7094        4898"
      ]
     },
     "execution_count": 11,
     "metadata": {},
     "output_type": "execute_result"
    }
   ],
   "source": [
    "df_clicks_byua_month"
   ]
  },
  {
   "cell_type": "code",
   "execution_count": 12,
   "metadata": {},
   "outputs": [
    {
     "data": {
      "text/html": [
       "<div>\n",
       "<style scoped>\n",
       "    .dataframe tbody tr th:only-of-type {\n",
       "        vertical-align: middle;\n",
       "    }\n",
       "\n",
       "    .dataframe tbody tr th {\n",
       "        vertical-align: top;\n",
       "    }\n",
       "\n",
       "    .dataframe thead th {\n",
       "        text-align: right;\n",
       "    }\n",
       "</style>\n",
       "<table border=\"1\" class=\"dataframe\">\n",
       "  <thead>\n",
       "    <tr style=\"text-align: right;\">\n",
       "      <th>click_time</th>\n",
       "      <th>2018-08-31 00:00:00</th>\n",
       "      <th>2018-09-30 00:00:00</th>\n",
       "      <th>2018-10-31 00:00:00</th>\n",
       "    </tr>\n",
       "    <tr>\n",
       "      <th>ua_bucket</th>\n",
       "      <th></th>\n",
       "      <th></th>\n",
       "      <th></th>\n",
       "    </tr>\n",
       "  </thead>\n",
       "  <tbody>\n",
       "    <tr>\n",
       "      <th>click_android</th>\n",
       "      <td>0.047190</td>\n",
       "      <td>0.039787</td>\n",
       "      <td>0.029900</td>\n",
       "    </tr>\n",
       "    <tr>\n",
       "      <th>click_ios</th>\n",
       "      <td>0.147131</td>\n",
       "      <td>0.153255</td>\n",
       "      <td>0.117804</td>\n",
       "    </tr>\n",
       "    <tr>\n",
       "      <th>preview_android</th>\n",
       "      <td>0.602804</td>\n",
       "      <td>0.605801</td>\n",
       "      <td>0.463701</td>\n",
       "    </tr>\n",
       "    <tr>\n",
       "      <th>preview_ios</th>\n",
       "      <td>0.077595</td>\n",
       "      <td>0.054309</td>\n",
       "      <td>0.027819</td>\n",
       "    </tr>\n",
       "    <tr>\n",
       "      <th>unclassified</th>\n",
       "      <td>0.114207</td>\n",
       "      <td>0.133395</td>\n",
       "      <td>0.350043</td>\n",
       "    </tr>\n",
       "    <tr>\n",
       "      <th>unclassified_bots</th>\n",
       "      <td>0.011073</td>\n",
       "      <td>0.013453</td>\n",
       "      <td>0.010733</td>\n",
       "    </tr>\n",
       "  </tbody>\n",
       "</table>\n",
       "</div>"
      ],
      "text/plain": [
       "click_time         2018-08-31  2018-09-30  2018-10-31\n",
       "ua_bucket                                            \n",
       "click_android        0.047190    0.039787    0.029900\n",
       "click_ios            0.147131    0.153255    0.117804\n",
       "preview_android      0.602804    0.605801    0.463701\n",
       "preview_ios          0.077595    0.054309    0.027819\n",
       "unclassified         0.114207    0.133395    0.350043\n",
       "unclassified_bots    0.011073    0.013453    0.010733"
      ]
     },
     "execution_count": 12,
     "metadata": {},
     "output_type": "execute_result"
    }
   ],
   "source": [
    "df_clicks_byua_month / df_clicks_byua_month.sum(axis=0)"
   ]
  },
  {
   "cell_type": "markdown",
   "metadata": {},
   "source": [
    "### Define autogenerated vs. tap-to-load previews.\n",
    "Group by northstar_id and broadcast_id to look at groups of interactions and code previews within each group according to below heuristics:\n",
    "\n",
    "A. Consider tap-to-load if...\n",
    "    1. The group has 1 record, and it's a preview.\n",
    "    2. The group has 2 records: both previews from either os.\n",
    "    3. The group has 2 records: 1 preview, 1 click (from either os).\n",
    "    4. The group has > 2 records: 1 preview, 2+ clicks (from either os).\n",
    "B. Consider autogenerated if...\n",
    "    1. The group has more than 1 preview."
   ]
  },
  {
   "cell_type": "code",
   "execution_count": 13,
   "metadata": {
    "scrolled": false
   },
   "outputs": [],
   "source": [
    "df_all_clicks = df_all_clicks.sort_values(['northstar_id', 'broadcast_id', 'click_time'])"
   ]
  },
  {
   "cell_type": "code",
   "execution_count": 14,
   "metadata": {},
   "outputs": [],
   "source": [
    "# find boundaries to define groups where northstar_id or broadcast_id change\n",
    "df_all_clicks['group'] = ((\n",
    "    (df_all_clicks[['northstar_id', 'broadcast_id']].shift(1) == df_all_clicks[['northstar_id', 'broadcast_id']]).sum(\n",
    "        axis=1)) < 2).astype(int)"
   ]
  },
  {
   "cell_type": "code",
   "execution_count": 15,
   "metadata": {},
   "outputs": [],
   "source": [
    "df_all_clicks['group'] = df_all_clicks['group'].cumsum()"
   ]
  },
  {
   "cell_type": "code",
   "execution_count": 16,
   "metadata": {},
   "outputs": [],
   "source": [
    "if os.path.exists('final_grouped.csv.gz'):\n",
    "    df_all_clicks_grouped = pd.read_csv('final_grouped.csv.gz', compression='gzip')\n",
    "    df_all_clicks_grouped.rename(columns={'Unnamed: 0': 'group'}, inplace=True)\n",
    "else:\n",
    "    df_all_clicks_grouped = df_all_clicks.groupby('group').agg({\n",
    "        'ua_bucket':  {'unique_uas': lambda x: str(x.unique()), 'num_previews': utils.num_previews},\n",
    "        'northstar_id': 'count',\n",
    "    }).reset_index()\n",
    "    df_all_clicks_grouped.columns = df_all_clicks_grouped.columns.droplevel(0)\n",
    "\n",
    "    df_all_clicks_grouped.to_csv('final_grouped.csv.gz', index=False, compression='gzip')\n",
    "    df_all_clicks_grouped.rename(columns={'Unnamed: 0': 'group'}, inplace=True)"
   ]
  },
  {
   "cell_type": "code",
   "execution_count": 17,
   "metadata": {},
   "outputs": [],
   "source": [
    "df_all_clicks_grouped['contains_preview'] = df_all_clicks_grouped['unique_uas'].apply(utils.contains_preview)\n",
    "df_all_clicks_grouped['contains_click'] = df_all_clicks_grouped['unique_uas'].apply(utils.contains_click)\n",
    "df_all_clicks_grouped['contains_multiple_os'] = df_all_clicks_grouped['unique_uas'].apply(utils.contains_multiple_os)"
   ]
  },
  {
   "cell_type": "code",
   "execution_count": 18,
   "metadata": {},
   "outputs": [],
   "source": [
    "# create clicks groups\n",
    "click_groups = df_all_clicks_grouped[\n",
    "    (df_all_clicks_grouped['count'] > 1) & \n",
    "    (df_all_clicks_grouped['contains_click'] == 1) &\n",
    "    (df_all_clicks_grouped['contains_multiple_os'] == 0) &\n",
    "    (df_all_clicks_grouped['contains_preview'] == 0)\n",
    "]['group']\n",
    "\n",
    "df_all_clicks.loc[(df_all_clicks['ua_bucket'].str.contains('click')) & \n",
    "                  (df_all_clicks['group'].isin(list(click_groups))), \n",
    "                  'preview_bucket'] = 'click'"
   ]
  },
  {
   "cell_type": "code",
   "execution_count": 19,
   "metadata": {},
   "outputs": [],
   "source": [
    "# create group A1\n",
    "preview_tap_groups = df_all_clicks_grouped[\n",
    "    (df_all_clicks_grouped['count'] == 1) & (df_all_clicks_grouped['contains_preview'] == 1)]['group']\n",
    "\n",
    "df_all_clicks.loc[(df_all_clicks['ua_bucket'].str.contains('preview')) & \n",
    "                  (df_all_clicks['group'].isin(list(preview_tap_groups))), \n",
    "                  'preview_bucket'] = 'tap-to-load'"
   ]
  },
  {
   "cell_type": "code",
   "execution_count": 20,
   "metadata": {},
   "outputs": [],
   "source": [
    "# create group A2\n",
    "preview_multipleos_tap_groups = df_all_clicks_grouped[\n",
    "    (df_all_clicks_grouped['count'] == 2) & \n",
    "    (df_all_clicks_grouped['contains_preview'] == 1) &\n",
    "    (df_all_clicks_grouped['contains_click'] == 0) &\n",
    "    (df_all_clicks_grouped['contains_multiple_os'] == 1)\n",
    "]['group']\n",
    "\n",
    "df_all_clicks.loc[(df_all_clicks['ua_bucket'].str.contains('preview')) & \n",
    "                  (df_all_clicks['group'].isin(list(preview_multipleos_tap_groups))), \n",
    "                  'preview_bucket'] = 'tap-to-load'"
   ]
  },
  {
   "cell_type": "code",
   "execution_count": 21,
   "metadata": {},
   "outputs": [],
   "source": [
    "# create group A3\n",
    "previewclick_tap_groups = df_all_clicks_grouped[\n",
    "    (df_all_clicks_grouped['count'] == 2) & \n",
    "    (df_all_clicks_grouped['contains_preview'] == 1) & \n",
    "    (df_all_clicks_grouped['contains_click'] == 1) &\n",
    "    (df_all_clicks_grouped['contains_multiple_os'] != 2)\n",
    "]['group']\n",
    "\n",
    "df_all_clicks.loc[(df_all_clicks['ua_bucket'].str.contains('preview')) & \n",
    "                  (df_all_clicks['group'].isin(list(previewclick_tap_groups))), \n",
    "                  'preview_bucket'] = 'tap-to-load'\n",
    "\n",
    "df_all_clicks.loc[(df_all_clicks['ua_bucket'].str.contains('click')) & \n",
    "                  (df_all_clicks['group'].isin(list(previewclick_tap_groups))), \n",
    "                  'preview_bucket'] = 'click'"
   ]
  },
  {
   "cell_type": "code",
   "execution_count": 22,
   "metadata": {},
   "outputs": [],
   "source": [
    "# create group A4\n",
    "previewclick_mult_tap_groups = df_all_clicks_grouped[\n",
    "    (df_all_clicks_grouped['count'] > 2) & \n",
    "    (df_all_clicks_grouped['contains_preview'] == 1) & \n",
    "    (df_all_clicks_grouped['contains_click'] == 1) &\n",
    "    (df_all_clicks_grouped['contains_multiple_os'] != 2) &\n",
    "    (df_all_clicks_grouped['num_previews'] == 1)\n",
    "]['group']\n",
    "\n",
    "df_all_clicks.loc[(df_all_clicks['ua_bucket'].str.contains('preview')) & \n",
    "                  (df_all_clicks['group'].isin(previewclick_mult_tap_groups)),\n",
    "                  'preview_bucket'] = 'tap-to-load'\n",
    "\n",
    "df_all_clicks.loc[(df_all_clicks['ua_bucket'].str.contains('click')) & \n",
    "                  (df_all_clicks['group'].isin(previewclick_mult_tap_groups)),\n",
    "                  'preview_bucket'] = 'click'"
   ]
  },
  {
   "cell_type": "code",
   "execution_count": 23,
   "metadata": {},
   "outputs": [],
   "source": [
    "# labels remaining cases of previews as 'autogenerated'\n",
    "df_all_clicks.loc[(df_all_clicks['ua_bucket'].str.contains('preview')) & \n",
    "                  (df_all_clicks['preview_bucket'].isnull()),\n",
    "                  'preview_bucket'] = 'autogenerated'"
   ]
  },
  {
   "cell_type": "markdown",
   "metadata": {},
   "source": [
    "<b> Clicks by activity type </b>"
   ]
  },
  {
   "cell_type": "code",
   "execution_count": 24,
   "metadata": {},
   "outputs": [],
   "source": [
    "# grab september from clicks by activity type\n",
    "df_clicks_byactivity_sept = (df_clicks_byua_month / df_clicks_byua_month.sum(axis=0)).iloc[:, 1]"
   ]
  },
  {
   "cell_type": "code",
   "execution_count": 25,
   "metadata": {},
   "outputs": [
    {
     "data": {
      "text/plain": [
       "ua_bucket\n",
       "click_android        0.039787\n",
       "click_ios            0.153255\n",
       "preview_android      0.605801\n",
       "preview_ios          0.054309\n",
       "unclassified         0.133395\n",
       "unclassified_bots    0.013453\n",
       "Name: 2018-09-30 00:00:00, dtype: float64"
      ]
     },
     "execution_count": 25,
     "metadata": {},
     "output_type": "execute_result"
    }
   ],
   "source": [
    "df_clicks_byactivity_sept "
   ]
  },
  {
   "cell_type": "markdown",
   "metadata": {},
   "source": [
    "<b> Clicks by preview type </b>"
   ]
  },
  {
   "cell_type": "code",
   "execution_count": 26,
   "metadata": {},
   "outputs": [],
   "source": [
    "df_clicks_bypreview_mo = df_all_clicks.set_index('click_time').groupby(\n",
    "    ['ua_bucket', 'preview_bucket', pd.Grouper(freq='m')])['northstar_id'].count().unstack()"
   ]
  },
  {
   "cell_type": "code",
   "execution_count": 27,
   "metadata": {},
   "outputs": [
    {
     "data": {
      "text/html": [
       "<div>\n",
       "<style scoped>\n",
       "    .dataframe tbody tr th:only-of-type {\n",
       "        vertical-align: middle;\n",
       "    }\n",
       "\n",
       "    .dataframe tbody tr th {\n",
       "        vertical-align: top;\n",
       "    }\n",
       "\n",
       "    .dataframe thead th {\n",
       "        text-align: right;\n",
       "    }\n",
       "</style>\n",
       "<table border=\"1\" class=\"dataframe\">\n",
       "  <thead>\n",
       "    <tr style=\"text-align: right;\">\n",
       "      <th></th>\n",
       "      <th>click_time</th>\n",
       "      <th>2018-08-31 00:00:00</th>\n",
       "      <th>2018-09-30 00:00:00</th>\n",
       "      <th>2018-10-31 00:00:00</th>\n",
       "    </tr>\n",
       "    <tr>\n",
       "      <th>ua_bucket</th>\n",
       "      <th>preview_bucket</th>\n",
       "      <th></th>\n",
       "      <th></th>\n",
       "      <th></th>\n",
       "    </tr>\n",
       "  </thead>\n",
       "  <tbody>\n",
       "    <tr>\n",
       "      <th>click_android</th>\n",
       "      <th>click</th>\n",
       "      <td>7829</td>\n",
       "      <td>5669</td>\n",
       "      <td>3503</td>\n",
       "    </tr>\n",
       "    <tr>\n",
       "      <th>click_ios</th>\n",
       "      <th>click</th>\n",
       "      <td>23587</td>\n",
       "      <td>12726</td>\n",
       "      <td>7610</td>\n",
       "    </tr>\n",
       "    <tr>\n",
       "      <th rowspan=\"2\" valign=\"top\">preview_android</th>\n",
       "      <th>autogenerated</th>\n",
       "      <td>282216</td>\n",
       "      <td>270677</td>\n",
       "      <td>162676</td>\n",
       "    </tr>\n",
       "    <tr>\n",
       "      <th>tap-to-load</th>\n",
       "      <td>48772</td>\n",
       "      <td>48780</td>\n",
       "      <td>48934</td>\n",
       "    </tr>\n",
       "    <tr>\n",
       "      <th rowspan=\"2\" valign=\"top\">preview_ios</th>\n",
       "      <th>autogenerated</th>\n",
       "      <td>2427</td>\n",
       "      <td>1495</td>\n",
       "      <td>745</td>\n",
       "    </tr>\n",
       "    <tr>\n",
       "      <th>tap-to-load</th>\n",
       "      <td>40179</td>\n",
       "      <td>27144</td>\n",
       "      <td>11950</td>\n",
       "    </tr>\n",
       "  </tbody>\n",
       "</table>\n",
       "</div>"
      ],
      "text/plain": [
       "click_time                      2018-08-31  2018-09-30  2018-10-31\n",
       "ua_bucket       preview_bucket                                    \n",
       "click_android   click                 7829        5669        3503\n",
       "click_ios       click                23587       12726        7610\n",
       "preview_android autogenerated       282216      270677      162676\n",
       "                tap-to-load          48772       48780       48934\n",
       "preview_ios     autogenerated         2427        1495         745\n",
       "                tap-to-load          40179       27144       11950"
      ]
     },
     "execution_count": 27,
     "metadata": {},
     "output_type": "execute_result"
    }
   ],
   "source": [
    "df_clicks_bypreview_mo"
   ]
  },
  {
   "cell_type": "code",
   "execution_count": 28,
   "metadata": {},
   "outputs": [],
   "source": [
    "# grab september column and reshape \n",
    "df_clicks_bypreview_sept = df_clicks_bypreview_mo.iloc[:, 1].unstack(1).iloc[2:]"
   ]
  },
  {
   "cell_type": "code",
   "execution_count": 29,
   "metadata": {},
   "outputs": [],
   "source": [
    "df_clicks_bypreview_sept['total'] = df_clicks_bypreview_sept.sum(axis=1)"
   ]
  },
  {
   "cell_type": "code",
   "execution_count": 30,
   "metadata": {},
   "outputs": [],
   "source": [
    "df_clicks_bypreview_sept = (df_clicks_bypreview_sept).divide(df_clicks_bypreview_sept['total'], axis=0)"
   ]
  },
  {
   "cell_type": "code",
   "execution_count": 31,
   "metadata": {},
   "outputs": [],
   "source": [
    "df_clicks_bypreview_sept.drop(['total'], axis=1, inplace=True)"
   ]
  },
  {
   "cell_type": "code",
   "execution_count": 32,
   "metadata": {},
   "outputs": [
    {
     "data": {
      "text/plain": [
       "ua_bucket        preview_bucket\n",
       "preview_android  autogenerated     0.847303\n",
       "                 tap-to-load       0.152697\n",
       "preview_ios      autogenerated     0.052202\n",
       "                 tap-to-load       0.947798\n",
       "dtype: float64"
      ]
     },
     "execution_count": 32,
     "metadata": {},
     "output_type": "execute_result"
    }
   ],
   "source": [
    "df_clicks_bypreview_sept = df_clicks_bypreview_sept.stack()\n",
    "df_clicks_bypreview_sept"
   ]
  },
  {
   "cell_type": "code",
   "execution_count": 65,
   "metadata": {
    "scrolled": false
   },
   "outputs": [
    {
     "data": {
      "image/png": "[encoded data removed]",
      "text/plain": [
       "<Figure size 1152x720 with 2 Axes>"
      ]
     },
     "metadata": {
      "needs_background": "light"
     },
     "output_type": "display_data"
    }
   ],
   "source": [
    "clicks_color_dict = {\n",
    "    'click_ios': '#31a354',\n",
    "    'click_android': '#addd8e',\n",
    "    'preview_ios': '#3182bd',\n",
    "    'preview_android': '#9ecae1',\n",
    "    'unclassified_bots': '#bdbdbd',\n",
    "    'unclassified': '#636363',\n",
    "}\n",
    "\n",
    "previewtype_color_dict = {\n",
    "    'autogenerated': '#fdae6b',\n",
    "    'tap-to-load': '#e6550d',\n",
    "}\n",
    "\n",
    "fig, (ax1, ax2) = plt.subplots(1, 2)\n",
    "utils.plot_interactions_stacked_bar(\n",
    "    df_clicks_byactivity_sept,\n",
    "    ax=ax1,\n",
    "    color_dict=clicks_color_dict,\n",
    "    title='Click Activity by Interaction Type \\n September 2018')\n",
    "utils.plot_previews_stacked_bar(\n",
    "    df_clicks_bypreview_sept,\n",
    "    ax=ax2,\n",
    "    color_dict=previewtype_color_dict,\n",
    "    title='Preview Interactions by Type and OS \\n September 2018'\n",
    ")\n",
    "fig.set_size_inches(16, 10)\n",
    "fig.savefig('click_activity_breakdown.png', format='png', dpi=1000)"
   ]
  },
  {
   "cell_type": "markdown",
   "metadata": {},
   "source": [
    "### Breakdown of unique members by activity type\n",
    "Click [broken down by OS]: At least 1 click that month and in one of the above defined groups.    \n",
    "Preview [broken down by OS]: No clicks, only previews of any type.    \n",
    "Other: Can't determine from UA."
   ]
  },
  {
   "cell_type": "code",
   "execution_count": 34,
   "metadata": {},
   "outputs": [
    {
     "name": "stderr",
     "output_type": "stream",
     "text": [
      "/usr/local/lib/python3.7/site-packages/pandas/core/groupby/groupby.py:4656: FutureWarning: using a dict with renaming is deprecated and will be removed in a future version\n",
      "  return super(DataFrameGroupBy, self).aggregate(arg, *args, **kwargs)\n"
     ]
    }
   ],
   "source": [
    "df_preview_activity_bymo = df_all_clicks.set_index('click_time').groupby(['northstar_id', pd.Grouper(freq='M')]).agg({\n",
    "    'preview_bucket': {'activity_bucket': utils.user_monthly_activity, 'preview_bucket': utils.user_preview_activity},\n",
    "    'ua_bucket': utils.return_os,\n",
    "}).reset_index()"
   ]
  },
  {
   "cell_type": "code",
   "execution_count": 35,
   "metadata": {},
   "outputs": [],
   "source": [
    "df_preview_activity_bymo.columns = ['northstar_id', 'click_time', 'activity_bucket', 'preview_bucket', 'os']"
   ]
  },
  {
   "cell_type": "code",
   "execution_count": 36,
   "metadata": {},
   "outputs": [
    {
     "data": {
      "text/html": [
       "<div>\n",
       "<style scoped>\n",
       "    .dataframe tbody tr th:only-of-type {\n",
       "        vertical-align: middle;\n",
       "    }\n",
       "\n",
       "    .dataframe tbody tr th {\n",
       "        vertical-align: top;\n",
       "    }\n",
       "\n",
       "    .dataframe thead th {\n",
       "        text-align: right;\n",
       "    }\n",
       "</style>\n",
       "<table border=\"1\" class=\"dataframe\">\n",
       "  <thead>\n",
       "    <tr style=\"text-align: right;\">\n",
       "      <th></th>\n",
       "      <th>northstar_id</th>\n",
       "      <th>click_time</th>\n",
       "      <th>activity_bucket</th>\n",
       "      <th>preview_bucket</th>\n",
       "      <th>os</th>\n",
       "    </tr>\n",
       "  </thead>\n",
       "  <tbody>\n",
       "    <tr>\n",
       "      <th>0</th>\n",
       "      <td>340749</td>\n",
       "      <td>2018-09-30</td>\n",
       "      <td>preview</td>\n",
       "      <td>tap-to-load</td>\n",
       "      <td>ios</td>\n",
       "    </tr>\n",
       "    <tr>\n",
       "      <th>1</th>\n",
       "      <td>54fa272d469c64d7068b4577</td>\n",
       "      <td>2018-09-30</td>\n",
       "      <td>preview</td>\n",
       "      <td>tap-to-load</td>\n",
       "      <td>ios</td>\n",
       "    </tr>\n",
       "    <tr>\n",
       "      <th>2</th>\n",
       "      <td>54fa2731469c64d8068b458e</td>\n",
       "      <td>2018-08-31</td>\n",
       "      <td>unclassified/bot</td>\n",
       "      <td>None</td>\n",
       "      <td>unclassified/bot</td>\n",
       "    </tr>\n",
       "    <tr>\n",
       "      <th>3</th>\n",
       "      <td>54fa2731469c64d8068b458e</td>\n",
       "      <td>2018-09-30</td>\n",
       "      <td>unclassified/bot</td>\n",
       "      <td>None</td>\n",
       "      <td>unclassified/bot</td>\n",
       "    </tr>\n",
       "    <tr>\n",
       "      <th>4</th>\n",
       "      <td>54fa2732469c64d7068b4595</td>\n",
       "      <td>2018-08-31</td>\n",
       "      <td>unclassified/bot</td>\n",
       "      <td>None</td>\n",
       "      <td>ios</td>\n",
       "    </tr>\n",
       "  </tbody>\n",
       "</table>\n",
       "</div>"
      ],
      "text/plain": [
       "               northstar_id click_time   activity_bucket preview_bucket  \\\n",
       "0                    340749 2018-09-30           preview    tap-to-load   \n",
       "1  54fa272d469c64d7068b4577 2018-09-30           preview    tap-to-load   \n",
       "2  54fa2731469c64d8068b458e 2018-08-31  unclassified/bot           None   \n",
       "3  54fa2731469c64d8068b458e 2018-09-30  unclassified/bot           None   \n",
       "4  54fa2732469c64d7068b4595 2018-08-31  unclassified/bot           None   \n",
       "\n",
       "                 os  \n",
       "0               ios  \n",
       "1               ios  \n",
       "2  unclassified/bot  \n",
       "3  unclassified/bot  \n",
       "4               ios  "
      ]
     },
     "execution_count": 36,
     "metadata": {},
     "output_type": "execute_result"
    }
   ],
   "source": [
    "df_preview_activity_bymo.head()"
   ]
  },
  {
   "cell_type": "code",
   "execution_count": 37,
   "metadata": {},
   "outputs": [],
   "source": [
    "df_mam_activity_bymo = df_preview_activity_bymo.groupby(\n",
    "    ['activity_bucket', 'os', 'click_time'])['northstar_id'].count().unstack()"
   ]
  },
  {
   "cell_type": "code",
   "execution_count": 38,
   "metadata": {},
   "outputs": [],
   "source": [
    "df_mam_activity_sept = df_mam_activity_bymo.iloc[:, 1]"
   ]
  },
  {
   "cell_type": "code",
   "execution_count": 39,
   "metadata": {},
   "outputs": [
    {
     "data": {
      "text/plain": [
       "activity_bucket   os              \n",
       "click             android              1998\n",
       "                  ios                 11201\n",
       "preview           android             69346\n",
       "                  ios                 14394\n",
       "unclassified/bot  android              8789\n",
       "                  ios                 11848\n",
       "                  unclassified/bot    22417\n",
       "Name: 2018-09-30 00:00:00, dtype: int64"
      ]
     },
     "execution_count": 39,
     "metadata": {},
     "output_type": "execute_result"
    }
   ],
   "source": [
    "df_mam_activity_sept"
   ]
  },
  {
   "cell_type": "code",
   "execution_count": 40,
   "metadata": {},
   "outputs": [],
   "source": [
    "df_mam_activity_sept_percent = df_mam_activity_sept / df_mam_activity_sept.sum()"
   ]
  },
  {
   "cell_type": "code",
   "execution_count": 41,
   "metadata": {},
   "outputs": [],
   "source": [
    "labels = df_mam_activity_sept_percent.reset_index().apply(utils.create_label, axis=1)"
   ]
  },
  {
   "cell_type": "code",
   "execution_count": 42,
   "metadata": {},
   "outputs": [],
   "source": [
    "df_mam_activity_sept_percent = pd.DataFrame({'percent': df_mam_activity_sept_percent.values}, index=labels)"
   ]
  },
  {
   "cell_type": "code",
   "execution_count": 43,
   "metadata": {},
   "outputs": [
    {
     "data": {
      "text/html": [
       "<div>\n",
       "<style scoped>\n",
       "    .dataframe tbody tr th:only-of-type {\n",
       "        vertical-align: middle;\n",
       "    }\n",
       "\n",
       "    .dataframe tbody tr th {\n",
       "        vertical-align: top;\n",
       "    }\n",
       "\n",
       "    .dataframe thead th {\n",
       "        text-align: right;\n",
       "    }\n",
       "</style>\n",
       "<table border=\"1\" class=\"dataframe\">\n",
       "  <thead>\n",
       "    <tr style=\"text-align: right;\">\n",
       "      <th></th>\n",
       "      <th>percent</th>\n",
       "    </tr>\n",
       "  </thead>\n",
       "  <tbody>\n",
       "    <tr>\n",
       "      <th>click_android</th>\n",
       "      <td>0.014272</td>\n",
       "    </tr>\n",
       "    <tr>\n",
       "      <th>click_ios</th>\n",
       "      <td>0.080011</td>\n",
       "    </tr>\n",
       "    <tr>\n",
       "      <th>preview_android</th>\n",
       "      <td>0.495353</td>\n",
       "    </tr>\n",
       "    <tr>\n",
       "      <th>preview_ios</th>\n",
       "      <td>0.102819</td>\n",
       "    </tr>\n",
       "    <tr>\n",
       "      <th>unclassified/bot</th>\n",
       "      <td>0.062782</td>\n",
       "    </tr>\n",
       "    <tr>\n",
       "      <th>unclassified/bot</th>\n",
       "      <td>0.084633</td>\n",
       "    </tr>\n",
       "    <tr>\n",
       "      <th>unclassified/bot</th>\n",
       "      <td>0.160129</td>\n",
       "    </tr>\n",
       "  </tbody>\n",
       "</table>\n",
       "</div>"
      ],
      "text/plain": [
       "                   percent\n",
       "click_android     0.014272\n",
       "click_ios         0.080011\n",
       "preview_android   0.495353\n",
       "preview_ios       0.102819\n",
       "unclassified/bot  0.062782\n",
       "unclassified/bot  0.084633\n",
       "unclassified/bot  0.160129"
      ]
     },
     "execution_count": 43,
     "metadata": {},
     "output_type": "execute_result"
    }
   ],
   "source": [
    "df_mam_activity_sept_percent"
   ]
  },
  {
   "cell_type": "markdown",
   "metadata": {},
   "source": [
    "### Breakdown of unique members by preview type"
   ]
  },
  {
   "cell_type": "code",
   "execution_count": 44,
   "metadata": {},
   "outputs": [],
   "source": [
    "df_mam_by_preview_sept = df_preview_activity_bymo[df_preview_activity_bymo['activity_bucket'] == 'preview'].groupby(\n",
    "    ['preview_bucket', 'os', 'click_time'])['northstar_id'].count().unstack().iloc[:, 1]"
   ]
  },
  {
   "cell_type": "code",
   "execution_count": 45,
   "metadata": {},
   "outputs": [],
   "source": [
    "df_mam_by_preview_sept = df_mam_by_preview_sept.unstack(0)"
   ]
  },
  {
   "cell_type": "code",
   "execution_count": 46,
   "metadata": {},
   "outputs": [],
   "source": [
    "df_mam_by_preview_sept['total'] = df_mam_by_preview_sept.sum(axis=1)"
   ]
  },
  {
   "cell_type": "code",
   "execution_count": 47,
   "metadata": {},
   "outputs": [],
   "source": [
    "df_mam_by_preview_sept_percent = (df_mam_by_preview_sept).divide(df_mam_by_preview_sept['total'], axis=0)"
   ]
  },
  {
   "cell_type": "code",
   "execution_count": 48,
   "metadata": {},
   "outputs": [],
   "source": [
    "df_mam_by_preview_sept_percent.drop(['total'], axis=1, inplace=True)"
   ]
  },
  {
   "cell_type": "code",
   "execution_count": 49,
   "metadata": {},
   "outputs": [],
   "source": [
    "df_mam_by_preview_sept_percent = df_mam_by_preview_sept_percent.stack()"
   ]
  },
  {
   "cell_type": "code",
   "execution_count": 50,
   "metadata": {},
   "outputs": [
    {
     "data": {
      "image/png": "[encoded data removed]",
      "text/plain": [
       "<Figure size 1152x720 with 2 Axes>"
      ]
     },
     "metadata": {
      "needs_background": "light"
     },
     "output_type": "display_data"
    }
   ],
   "source": [
    "previews_color_dict = {\n",
    "    'click_ios': '#31a354',\n",
    "    'click_android': '#addd8e',\n",
    "    'preview_ios': '#3182bd',\n",
    "    'preview_android': '#9ecae1',\n",
    "    'unclassified/bot': '#636363',\n",
    "}\n",
    "\n",
    "fig, (ax1, ax2) = plt.subplots(1, 2)\n",
    "utils.plot_interactions_stacked_bar(\n",
    "    df_mam_activity_sept_percent['percent'], \n",
    "    ax=ax1,\n",
    "    color_dict=previews_color_dict, \n",
    "    title='Unique Member Activity by Interaction Type \\n September 2018',\n",
    "    ylabel='Percentage of Total Unique Members'\n",
    ")\n",
    "utils.plot_previews_stacked_bar(\n",
    "    df_mam_by_preview_sept_percent,\n",
    "    ax=ax2,\n",
    "    color_dict=previewtype_color_dict,\n",
    "    title='Unique Preview-Only Members by Preview Type and OS \\n September 2018',\n",
    "    ylabel='Percentage of Total Unique Members'\n",
    ")\n",
    "fig.set_size_inches(16, 10)"
   ]
  },
  {
   "cell_type": "markdown",
   "metadata": {},
   "source": [
    "### Count of Unique Members "
   ]
  },
  {
   "cell_type": "code",
   "execution_count": 51,
   "metadata": {},
   "outputs": [],
   "source": [
    "total_num_members = df_mam_activity_sept.sum()"
   ]
  },
  {
   "cell_type": "code",
   "execution_count": 52,
   "metadata": {},
   "outputs": [],
   "source": [
    "num_autogen_members = df_mam_by_preview_sept['autogenerated'].sum()"
   ]
  },
  {
   "cell_type": "code",
   "execution_count": 53,
   "metadata": {},
   "outputs": [],
   "source": [
    "df_num_unique_members_sept = df_mam_activity_sept.reset_index()\n",
    "df_num_unique_members_sept.columns = ['activity_bucket', 'os', 'num_members']\n",
    "num_no_preview_members = df_num_unique_members_sept[~(\n",
    "    df_num_unique_members_sept['activity_bucket'] == 'preview')]['num_members'].sum()"
   ]
  },
  {
   "cell_type": "code",
   "execution_count": 54,
   "metadata": {},
   "outputs": [],
   "source": [
    "num_members_estimate = total_num_members - num_autogen_members"
   ]
  },
  {
   "cell_type": "code",
   "execution_count": 55,
   "metadata": {},
   "outputs": [
    {
     "name": "stdout",
     "output_type": "stream",
     "text": [
      "139993 103293 56253\n"
     ]
    }
   ],
   "source": [
    "print(total_num_members, num_members_estimate, num_no_preview_members)"
   ]
  },
  {
   "cell_type": "code",
   "execution_count": 56,
   "metadata": {
    "scrolled": false
   },
   "outputs": [
    {
     "data": {
      "image/png": "[encoded data removed]",
      "text/plain": [
       "<Figure size 432x576 with 1 Axes>"
      ]
     },
     "metadata": {
      "needs_background": "light"
     },
     "output_type": "display_data"
    }
   ],
   "source": [
    "bars = plt.bar(x=[0, 1, 2], height=[total_num_members, num_members_estimate, num_no_preview_members])\n",
    "plt.xticks(ticks=[0, 1, 2], labels=[\n",
    "    'Total', 'Realistic Estimate \\n No Autogenerated Previews', 'Conservative \\n No Previews'])\n",
    "for rect in bars:\n",
    "    height = rect.get_height()\n",
    "    plt.text(rect.get_x() + rect.get_width()/2.0, height, '%d' % int(height), ha='center', va='bottom')\n",
    "plt.ylabel('Number of Unique Members')\n",
    "plt.title('Number of Unique Members in 09/2018 \\n SMS Clicked Links');"
   ]
  },
  {
   "cell_type": "markdown",
   "metadata": {},
   "source": [
    "### Count of unique members pulling in all interaction types"
   ]
  },
  {
   "cell_type": "code",
   "execution_count": 57,
   "metadata": {},
   "outputs": [],
   "source": [
    "member_activity_sept_sql = '''\n",
    "select *\n",
    "from public.member_event_log\n",
    "where timestamp between '2018-09-01' and '2018-10-01'\n",
    "'''\n",
    "df_member_activity_sept = pd.read_sql(member_activity_sept_sql, con=conn)"
   ]
  },
  {
   "cell_type": "code",
   "execution_count": 58,
   "metadata": {},
   "outputs": [],
   "source": [
    "num_members_allactivity = len(df_member_activity_sept['northstar_id'].unique())"
   ]
  },
  {
   "cell_type": "code",
   "execution_count": 59,
   "metadata": {},
   "outputs": [],
   "source": [
    "df_member_activity_sept_nobertly = df_member_activity_sept[~(\n",
    "    df_member_activity_sept['action_type'] == 'bertly_link_click')]"
   ]
  },
  {
   "cell_type": "code",
   "execution_count": 60,
   "metadata": {},
   "outputs": [],
   "source": [
    "df_preview_activity_sept = df_preview_activity_bymo[(df_preview_activity_bymo['click_time'] < '2018-10-01') & (\n",
    "    df_preview_activity_bymo['click_time'] > '2018-08-31')]"
   ]
  },
  {
   "cell_type": "code",
   "execution_count": 61,
   "metadata": {},
   "outputs": [],
   "source": [
    "noautogen_nsids = set(df_preview_activity_sept[(df_preview_activity_sept['activity_bucket'] != 'unclassified/bot') & (\n",
    "    df_preview_activity_sept['preview_bucket'] != 'autogenerated')]['northstar_id'].unique())\n",
    "\n",
    "num_members_noautogen = len(noautogen_nsids | set(df_member_activity_sept_nobertly['northstar_id'].unique()))"
   ]
  },
  {
   "cell_type": "code",
   "execution_count": 62,
   "metadata": {},
   "outputs": [],
   "source": [
    "nopreviews_nsids = set(df_preview_activity_sept[(df_preview_activity_sept['activity_bucket'] != 'unclassified/bot') & (\n",
    "    df_preview_activity_sept['activity_bucket'] != 'preview')]['northstar_id'].unique())\n",
    "\n",
    "num_members_nopreviews = len(nopreviews_nsids | set(df_member_activity_sept_nobertly['northstar_id'].unique()))"
   ]
  },
  {
   "cell_type": "code",
   "execution_count": 63,
   "metadata": {},
   "outputs": [
    {
     "data": {
      "image/png": "[encoded data removed]",
      "text/plain": [
       "<Figure size 432x576 with 1 Axes>"
      ]
     },
     "metadata": {
      "needs_background": "light"
     },
     "output_type": "display_data"
    }
   ],
   "source": [
    "fig1, ax1 = plt.subplots()\n",
    "bars = ax1.bar(x=[0, 1, 2], height=[num_members_allactivity, num_members_noautogen, num_members_nopreviews])\n",
    "ax1.set_xticks([0, 1, 2])\n",
    "ax1.set_xticklabels(['Total', 'Realistic Estimate \\n No Autogenerated Previews', 'Conservative \\n No Previews'])\n",
    "for rect in bars:\n",
    "    height = rect.get_height()\n",
    "    ax1.text(rect.get_x() + rect.get_width()/2.0, height, '%d' % int(height), ha='center', va='bottom')\n",
    "ax1.set_ylabel('Number of Unique Members')\n",
    "ax1.set_title('Monthly Active Members in 09/2018 \\n All Activity');"
   ]
  },
  {
   "cell_type": "code",
   "execution_count": 64,
   "metadata": {},
   "outputs": [],
   "source": [
    "fig1.savefig('mam_estimates.png', bbox_inches='tight', dpi=1000);"
   ]
  }
 ],
 "metadata": {
  "kernelspec": {
   "display_name": "Python 3",
   "language": "python",
   "name": "python3"
  },
  "language_info": {
   "codemirror_mode": {
    "name": "ipython",
    "version": 3
   },
   "file_extension": ".py",
   "mimetype": "text/x-python",
   "name": "python",
   "nbconvert_exporter": "python",
   "pygments_lexer": "ipython3",
   "version": "3.7.0"
  }
 },
 "nbformat": 4,
 "nbformat_minor": 2
}
