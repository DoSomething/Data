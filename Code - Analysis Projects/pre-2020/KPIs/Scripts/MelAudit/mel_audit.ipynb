{
 "cells": [
  {
   "cell_type": "code",
   "execution_count": 1,
   "metadata": {},
   "outputs": [],
   "source": [
    "%load_ext autoreload\n",
    "%autoreload 2\n",
    "%matplotlib inline"
   ]
  },
  {
   "cell_type": "code",
   "execution_count": 2,
   "metadata": {},
   "outputs": [
    {
     "name": "stderr",
     "output_type": "stream",
     "text": [
      "/Users/mjain/DoSomething/data/lib/python3.7/site-packages/psycopg2/__init__.py:144: UserWarning: The psycopg2 wheel package will be renamed from release 2.8; in order to keep installing from binary please use \"pip install psycopg2-binary\" instead. For details see: <http://initd.org/psycopg/docs/install.html#binary-install-from-pypi>.\n",
      "  \"\"\")\n"
     ]
    }
   ],
   "source": [
    "import matplotlib.pyplot as plt\n",
    "import numpy as np\n",
    "import os\n",
    "import pandas as pd\n",
    "import seaborn as sns\n",
    "\n",
    "import utils\n",
    "\n",
    "plt.rcParams['figure.figsize'] = (12, 8)"
   ]
  },
  {
   "cell_type": "code",
   "execution_count": 3,
   "metadata": {},
   "outputs": [],
   "source": [
    "# set below variables according to how they're stored in your environ file\n",
    "conn = utils.load_connection(db_user_env='DB_USER', db_pw_env='DB_PW', db_name_env='DB_NAME', db_host_env='DB_HOST')"
   ]
  },
  {
   "cell_type": "code",
   "execution_count": 4,
   "metadata": {},
   "outputs": [],
   "source": [
    "mel_sql = '''\n",
    "select *\n",
    "from public.member_event_log\n",
    "where \"timestamp\" between '2018-01-01' and '2018-11-01'\n",
    "'''"
   ]
  },
  {
   "cell_type": "code",
   "execution_count": 5,
   "metadata": {},
   "outputs": [],
   "source": [
    "if os.path.exists('member_event_log.csv.gz'):\n",
    "    df_mel = pd.read_csv('member_event_log.csv.gz', compression='gzip', low_memory=False)\n",
    "    df_mel['timestamp'] = pd.to_datetime(df_mel['timestamp'], utc=True)\n",
    "else:\n",
    "    df_mel = pd.read_sql(mel_sql, con=conn)\n",
    "    df_mel['timestamp'] = pd.to_datetime(df_mel['timestamp'], utc=True)\n",
    "    df_mel.to_csv('member_event_log.csv.gz', compression='gzip', index=False)"
   ]
  },
  {
   "cell_type": "code",
   "execution_count": 6,
   "metadata": {},
   "outputs": [
    {
     "data": {
      "text/html": [
       "<div>\n",
       "<style scoped>\n",
       "    .dataframe tbody tr th:only-of-type {\n",
       "        vertical-align: middle;\n",
       "    }\n",
       "\n",
       "    .dataframe tbody tr th {\n",
       "        vertical-align: top;\n",
       "    }\n",
       "\n",
       "    .dataframe thead th {\n",
       "        text-align: right;\n",
       "    }\n",
       "</style>\n",
       "<table border=\"1\" class=\"dataframe\">\n",
       "  <thead>\n",
       "    <tr style=\"text-align: right;\">\n",
       "      <th></th>\n",
       "      <th>event_id</th>\n",
       "      <th>northstar_id</th>\n",
       "      <th>timestamp</th>\n",
       "      <th>action_type</th>\n",
       "      <th>action_id</th>\n",
       "      <th>source</th>\n",
       "      <th>action_serial_id</th>\n",
       "      <th>channel</th>\n",
       "    </tr>\n",
       "  </thead>\n",
       "  <tbody>\n",
       "    <tr>\n",
       "      <th>0</th>\n",
       "      <td>5539d9a4de43b053e5ed1a6d750eca84</td>\n",
       "      <td>5add0474a0bfad7cd84aaf39</td>\n",
       "      <td>2018-04-22 21:58:35+00:00</td>\n",
       "      <td>post</td>\n",
       "      <td>2</td>\n",
       "      <td>importer-client</td>\n",
       "      <td>620990</td>\n",
       "      <td>other</td>\n",
       "    </tr>\n",
       "    <tr>\n",
       "      <th>1</th>\n",
       "      <td>fd97ac13beef2e1b62e276fc2bdfec34</td>\n",
       "      <td>5add04dba0bfad7cd84aaf3c</td>\n",
       "      <td>2018-04-22 21:58:58+00:00</td>\n",
       "      <td>post</td>\n",
       "      <td>2</td>\n",
       "      <td>importer-client</td>\n",
       "      <td>620988</td>\n",
       "      <td>other</td>\n",
       "    </tr>\n",
       "    <tr>\n",
       "      <th>2</th>\n",
       "      <td>411682d8311f51e8ae36a23addd58132</td>\n",
       "      <td>5add05b5a0bfad0302532120</td>\n",
       "      <td>2018-04-22 23:06:58+00:00</td>\n",
       "      <td>post</td>\n",
       "      <td>2</td>\n",
       "      <td>phoenix-next</td>\n",
       "      <td>464361</td>\n",
       "      <td>web</td>\n",
       "    </tr>\n",
       "    <tr>\n",
       "      <th>3</th>\n",
       "      <td>abc30a17eb3e18cf745b4c914c4b7af7</td>\n",
       "      <td>5add071ea0bfad030253212f</td>\n",
       "      <td>2018-04-22 22:06:20+00:00</td>\n",
       "      <td>post</td>\n",
       "      <td>2</td>\n",
       "      <td>importer-client</td>\n",
       "      <td>620986</td>\n",
       "      <td>other</td>\n",
       "    </tr>\n",
       "    <tr>\n",
       "      <th>4</th>\n",
       "      <td>5e74e7a0ae28f63784d71d006ddbc4e0</td>\n",
       "      <td>5add0765a0bfad0302532132</td>\n",
       "      <td>2018-04-22 22:21:17+00:00</td>\n",
       "      <td>post</td>\n",
       "      <td>2</td>\n",
       "      <td>importer-client</td>\n",
       "      <td>620977</td>\n",
       "      <td>other</td>\n",
       "    </tr>\n",
       "  </tbody>\n",
       "</table>\n",
       "</div>"
      ],
      "text/plain": [
       "                           event_id              northstar_id  \\\n",
       "0  5539d9a4de43b053e5ed1a6d750eca84  5add0474a0bfad7cd84aaf39   \n",
       "1  fd97ac13beef2e1b62e276fc2bdfec34  5add04dba0bfad7cd84aaf3c   \n",
       "2  411682d8311f51e8ae36a23addd58132  5add05b5a0bfad0302532120   \n",
       "3  abc30a17eb3e18cf745b4c914c4b7af7  5add071ea0bfad030253212f   \n",
       "4  5e74e7a0ae28f63784d71d006ddbc4e0  5add0765a0bfad0302532132   \n",
       "\n",
       "                  timestamp action_type  action_id           source  \\\n",
       "0 2018-04-22 21:58:35+00:00        post          2  importer-client   \n",
       "1 2018-04-22 21:58:58+00:00        post          2  importer-client   \n",
       "2 2018-04-22 23:06:58+00:00        post          2     phoenix-next   \n",
       "3 2018-04-22 22:06:20+00:00        post          2  importer-client   \n",
       "4 2018-04-22 22:21:17+00:00        post          2  importer-client   \n",
       "\n",
       "  action_serial_id channel  \n",
       "0           620990   other  \n",
       "1           620988   other  \n",
       "2           464361     web  \n",
       "3           620986   other  \n",
       "4           620977   other  "
      ]
     },
     "execution_count": 6,
     "metadata": {},
     "output_type": "execute_result"
    }
   ],
   "source": [
    "df_mel.head()"
   ]
  },
  {
   "cell_type": "markdown",
   "metadata": {},
   "source": [
    "## Look at fields with null values."
   ]
  },
  {
   "cell_type": "code",
   "execution_count": 7,
   "metadata": {},
   "outputs": [
    {
     "data": {
      "text/html": [
       "<div>\n",
       "<style scoped>\n",
       "    .dataframe tbody tr th:only-of-type {\n",
       "        vertical-align: middle;\n",
       "    }\n",
       "\n",
       "    .dataframe tbody tr th {\n",
       "        vertical-align: top;\n",
       "    }\n",
       "\n",
       "    .dataframe thead th {\n",
       "        text-align: right;\n",
       "    }\n",
       "</style>\n",
       "<table border=\"1\" class=\"dataframe\">\n",
       "  <thead>\n",
       "    <tr style=\"text-align: right;\">\n",
       "      <th></th>\n",
       "      <th>col</th>\n",
       "      <th>num_null</th>\n",
       "      <th>percent_null</th>\n",
       "    </tr>\n",
       "  </thead>\n",
       "  <tbody>\n",
       "    <tr>\n",
       "      <th>0</th>\n",
       "      <td>event_id</td>\n",
       "      <td>0</td>\n",
       "      <td>0.000000</td>\n",
       "    </tr>\n",
       "    <tr>\n",
       "      <th>1</th>\n",
       "      <td>northstar_id</td>\n",
       "      <td>140</td>\n",
       "      <td>0.000019</td>\n",
       "    </tr>\n",
       "    <tr>\n",
       "      <th>2</th>\n",
       "      <td>timestamp</td>\n",
       "      <td>140</td>\n",
       "      <td>0.000019</td>\n",
       "    </tr>\n",
       "    <tr>\n",
       "      <th>3</th>\n",
       "      <td>action_type</td>\n",
       "      <td>0</td>\n",
       "      <td>0.000000</td>\n",
       "    </tr>\n",
       "    <tr>\n",
       "      <th>4</th>\n",
       "      <td>action_id</td>\n",
       "      <td>0</td>\n",
       "      <td>0.000000</td>\n",
       "    </tr>\n",
       "    <tr>\n",
       "      <th>5</th>\n",
       "      <td>source</td>\n",
       "      <td>1217794</td>\n",
       "      <td>0.166543</td>\n",
       "    </tr>\n",
       "    <tr>\n",
       "      <th>6</th>\n",
       "      <td>action_serial_id</td>\n",
       "      <td>1608620</td>\n",
       "      <td>0.219991</td>\n",
       "    </tr>\n",
       "    <tr>\n",
       "      <th>7</th>\n",
       "      <td>channel</td>\n",
       "      <td>0</td>\n",
       "      <td>0.000000</td>\n",
       "    </tr>\n",
       "  </tbody>\n",
       "</table>\n",
       "</div>"
      ],
      "text/plain": [
       "                col  num_null  percent_null\n",
       "0          event_id         0      0.000000\n",
       "1      northstar_id       140      0.000019\n",
       "2         timestamp       140      0.000019\n",
       "3       action_type         0      0.000000\n",
       "4         action_id         0      0.000000\n",
       "5            source   1217794      0.166543\n",
       "6  action_serial_id   1608620      0.219991\n",
       "7           channel         0      0.000000"
      ]
     },
     "execution_count": 7,
     "metadata": {},
     "output_type": "execute_result"
    }
   ],
   "source": [
    "# print each column and number of null values\n",
    "utils.print_null_vals(df_mel)"
   ]
  },
  {
   "cell_type": "markdown",
   "metadata": {},
   "source": [
    "### NS IDs"
   ]
  },
  {
   "cell_type": "code",
   "execution_count": 8,
   "metadata": {},
   "outputs": [
    {
     "data": {
      "text/html": [
       "<div>\n",
       "<style scoped>\n",
       "    .dataframe tbody tr th:only-of-type {\n",
       "        vertical-align: middle;\n",
       "    }\n",
       "\n",
       "    .dataframe tbody tr th {\n",
       "        vertical-align: top;\n",
       "    }\n",
       "\n",
       "    .dataframe thead th {\n",
       "        text-align: right;\n",
       "    }\n",
       "</style>\n",
       "<table border=\"1\" class=\"dataframe\">\n",
       "  <thead>\n",
       "    <tr style=\"text-align: right;\">\n",
       "      <th></th>\n",
       "      <th>event_id</th>\n",
       "      <th>northstar_id</th>\n",
       "      <th>timestamp</th>\n",
       "      <th>action_type</th>\n",
       "      <th>action_id</th>\n",
       "      <th>source</th>\n",
       "      <th>action_serial_id</th>\n",
       "      <th>channel</th>\n",
       "    </tr>\n",
       "  </thead>\n",
       "  <tbody>\n",
       "    <tr>\n",
       "      <th>2119964</th>\n",
       "      <td>53e15060db70b1d56167f1bbd717bfa8</td>\n",
       "      <td>NaN</td>\n",
       "      <td>2018-05-26 09:41:35+00:00</td>\n",
       "      <td>clicked_link</td>\n",
       "      <td>7</td>\n",
       "      <td>1</td>\n",
       "      <td>01CEDX68XVTV6ZCHGQDVTZF7H5</td>\n",
       "      <td>email</td>\n",
       "    </tr>\n",
       "    <tr>\n",
       "      <th>2180952</th>\n",
       "      <td>9f26aaab8358db78e5d630099d4f105e</td>\n",
       "      <td>NaN</td>\n",
       "      <td>2018-06-26 11:44:17+00:00</td>\n",
       "      <td>clicked_link</td>\n",
       "      <td>7</td>\n",
       "      <td>4</td>\n",
       "      <td>01CGXYH8935N409HG5P12GF8X1</td>\n",
       "      <td>email</td>\n",
       "    </tr>\n",
       "    <tr>\n",
       "      <th>2195257</th>\n",
       "      <td>29fd201ef1767c26371ebdb21bcc5922</td>\n",
       "      <td>NaN</td>\n",
       "      <td>2018-08-06 15:33:55+00:00</td>\n",
       "      <td>clicked_link</td>\n",
       "      <td>7</td>\n",
       "      <td>3</td>\n",
       "      <td>01CM7XZ60EMREMEQ80X0EHHSFD</td>\n",
       "      <td>email</td>\n",
       "    </tr>\n",
       "    <tr>\n",
       "      <th>2327215</th>\n",
       "      <td>120dd53b7105561e380a4dac44223868</td>\n",
       "      <td>NaN</td>\n",
       "      <td>2018-07-26 21:54:10+00:00</td>\n",
       "      <td>clicked_link</td>\n",
       "      <td>7</td>\n",
       "      <td>1</td>\n",
       "      <td>01CKC9BHQZPBZXXRBYXYMCWEAT</td>\n",
       "      <td>email</td>\n",
       "    </tr>\n",
       "    <tr>\n",
       "      <th>2333671</th>\n",
       "      <td>09f04d7d2c7855e0ebe3a5bd2918193f</td>\n",
       "      <td>NaN</td>\n",
       "      <td>2018-08-24 08:52:58+00:00</td>\n",
       "      <td>clicked_link</td>\n",
       "      <td>7</td>\n",
       "      <td>2</td>\n",
       "      <td>01CNNJ5Z0E9GH8P23FXJAYFYHN</td>\n",
       "      <td>email</td>\n",
       "    </tr>\n",
       "    <tr>\n",
       "      <th>2534779</th>\n",
       "      <td>d442154bd9c93a4a66cc6bed261ef979</td>\n",
       "      <td>NaN</td>\n",
       "      <td>2018-05-28 10:57:27+00:00</td>\n",
       "      <td>clicked_link</td>\n",
       "      <td>7</td>\n",
       "      <td>1</td>\n",
       "      <td>01CEK6AN9Y1QAC1YF5PBSENFCW</td>\n",
       "      <td>email</td>\n",
       "    </tr>\n",
       "    <tr>\n",
       "      <th>2652859</th>\n",
       "      <td>b58ec6356eea61921a6051ae80b28cac</td>\n",
       "      <td>NaN</td>\n",
       "      <td>2018-07-27 18:52:56.690540+00:00</td>\n",
       "      <td>bertly_link_uncertain</td>\n",
       "      <td>10</td>\n",
       "      <td>bertly</td>\n",
       "      <td>527b3c63-2d46-45a9-898f-9c513bd4c8d1</td>\n",
       "      <td>web</td>\n",
       "    </tr>\n",
       "    <tr>\n",
       "      <th>2652860</th>\n",
       "      <td>e8b4c7d2cd7854e56a075f52ad16dcfd</td>\n",
       "      <td>NaN</td>\n",
       "      <td>2018-07-27 19:16:01.808868+00:00</td>\n",
       "      <td>bertly_link_uncertain</td>\n",
       "      <td>10</td>\n",
       "      <td>bertly</td>\n",
       "      <td>dabb85b1-c58c-4bcb-8f84-55c7ea566916</td>\n",
       "      <td>web</td>\n",
       "    </tr>\n",
       "    <tr>\n",
       "      <th>2652861</th>\n",
       "      <td>e959faae9250cf59575a848bb2778472</td>\n",
       "      <td>NaN</td>\n",
       "      <td>2018-07-27 20:06:12.538669+00:00</td>\n",
       "      <td>bertly_link_uncertain</td>\n",
       "      <td>10</td>\n",
       "      <td>bertly</td>\n",
       "      <td>01a2857f-e7fc-4d32-8d20-7abb2edf2ad9</td>\n",
       "      <td>web</td>\n",
       "    </tr>\n",
       "    <tr>\n",
       "      <th>2652862</th>\n",
       "      <td>8c40dedeb81eed926ea6c335cae11dcc</td>\n",
       "      <td>NaN</td>\n",
       "      <td>2018-07-27 20:30:16.998055+00:00</td>\n",
       "      <td>bertly_link_uncertain</td>\n",
       "      <td>10</td>\n",
       "      <td>bertly</td>\n",
       "      <td>12c19a30-6dba-43b5-a77c-f853bb3499e3</td>\n",
       "      <td>web</td>\n",
       "    </tr>\n",
       "  </tbody>\n",
       "</table>\n",
       "</div>"
      ],
      "text/plain": [
       "                                 event_id northstar_id  \\\n",
       "2119964  53e15060db70b1d56167f1bbd717bfa8          NaN   \n",
       "2180952  9f26aaab8358db78e5d630099d4f105e          NaN   \n",
       "2195257  29fd201ef1767c26371ebdb21bcc5922          NaN   \n",
       "2327215  120dd53b7105561e380a4dac44223868          NaN   \n",
       "2333671  09f04d7d2c7855e0ebe3a5bd2918193f          NaN   \n",
       "2534779  d442154bd9c93a4a66cc6bed261ef979          NaN   \n",
       "2652859  b58ec6356eea61921a6051ae80b28cac          NaN   \n",
       "2652860  e8b4c7d2cd7854e56a075f52ad16dcfd          NaN   \n",
       "2652861  e959faae9250cf59575a848bb2778472          NaN   \n",
       "2652862  8c40dedeb81eed926ea6c335cae11dcc          NaN   \n",
       "\n",
       "                               timestamp            action_type  action_id  \\\n",
       "2119964        2018-05-26 09:41:35+00:00           clicked_link          7   \n",
       "2180952        2018-06-26 11:44:17+00:00           clicked_link          7   \n",
       "2195257        2018-08-06 15:33:55+00:00           clicked_link          7   \n",
       "2327215        2018-07-26 21:54:10+00:00           clicked_link          7   \n",
       "2333671        2018-08-24 08:52:58+00:00           clicked_link          7   \n",
       "2534779        2018-05-28 10:57:27+00:00           clicked_link          7   \n",
       "2652859 2018-07-27 18:52:56.690540+00:00  bertly_link_uncertain         10   \n",
       "2652860 2018-07-27 19:16:01.808868+00:00  bertly_link_uncertain         10   \n",
       "2652861 2018-07-27 20:06:12.538669+00:00  bertly_link_uncertain         10   \n",
       "2652862 2018-07-27 20:30:16.998055+00:00  bertly_link_uncertain         10   \n",
       "\n",
       "         source                      action_serial_id channel  \n",
       "2119964       1            01CEDX68XVTV6ZCHGQDVTZF7H5   email  \n",
       "2180952       4            01CGXYH8935N409HG5P12GF8X1   email  \n",
       "2195257       3            01CM7XZ60EMREMEQ80X0EHHSFD   email  \n",
       "2327215       1            01CKC9BHQZPBZXXRBYXYMCWEAT   email  \n",
       "2333671       2            01CNNJ5Z0E9GH8P23FXJAYFYHN   email  \n",
       "2534779       1            01CEK6AN9Y1QAC1YF5PBSENFCW   email  \n",
       "2652859  bertly  527b3c63-2d46-45a9-898f-9c513bd4c8d1     web  \n",
       "2652860  bertly  dabb85b1-c58c-4bcb-8f84-55c7ea566916     web  \n",
       "2652861  bertly  01a2857f-e7fc-4d32-8d20-7abb2edf2ad9     web  \n",
       "2652862  bertly  12c19a30-6dba-43b5-a77c-f853bb3499e3     web  "
      ]
     },
     "execution_count": 8,
     "metadata": {},
     "output_type": "execute_result"
    }
   ],
   "source": [
    "df_mel[(df_mel['northstar_id'].isnull()) | (df_mel['northstar_id'] == '')].head(10)"
   ]
  },
  {
   "cell_type": "code",
   "execution_count": 9,
   "metadata": {},
   "outputs": [
    {
     "data": {
      "text/plain": [
       "bertly_link_uncertain    100\n",
       "bertly_link_click         33\n",
       "clicked_link               6\n",
       "bertly_link_preview        1\n",
       "Name: action_type, dtype: int64"
      ]
     },
     "execution_count": 9,
     "metadata": {},
     "output_type": "execute_result"
    }
   ],
   "source": [
    "df_mel[(df_mel['northstar_id'].isnull()) | (df_mel['northstar_id'] == '')]['action_type'].value_counts()"
   ]
  },
  {
   "cell_type": "markdown",
   "metadata": {},
   "source": [
    "Is this related to the known issue of when pulling the northstar_id from a url string for bertly fails? Is there a way to safeguard against this?"
   ]
  },
  {
   "cell_type": "markdown",
   "metadata": {},
   "source": [
    "### Source"
   ]
  },
  {
   "cell_type": "code",
   "execution_count": 10,
   "metadata": {},
   "outputs": [
    {
     "data": {
      "text/plain": [
       "site_access    654970\n",
       "site_login     532913\n",
       "signup          29910\n",
       "post                1\n",
       "Name: action_type, dtype: int64"
      ]
     },
     "execution_count": 10,
     "metadata": {},
     "output_type": "execute_result"
    }
   ],
   "source": [
    "df_mel[df_mel['source'].isnull()]['action_type'].value_counts()"
   ]
  },
  {
   "cell_type": "code",
   "execution_count": 11,
   "metadata": {},
   "outputs": [
    {
     "data": {
      "text/html": [
       "<div>\n",
       "<style scoped>\n",
       "    .dataframe tbody tr th:only-of-type {\n",
       "        vertical-align: middle;\n",
       "    }\n",
       "\n",
       "    .dataframe tbody tr th {\n",
       "        vertical-align: top;\n",
       "    }\n",
       "\n",
       "    .dataframe thead th {\n",
       "        text-align: right;\n",
       "    }\n",
       "</style>\n",
       "<table border=\"1\" class=\"dataframe\">\n",
       "  <thead>\n",
       "    <tr style=\"text-align: right;\">\n",
       "      <th></th>\n",
       "      <th>event_id</th>\n",
       "      <th>northstar_id</th>\n",
       "      <th>timestamp</th>\n",
       "      <th>action_type</th>\n",
       "      <th>action_id</th>\n",
       "      <th>source</th>\n",
       "      <th>action_serial_id</th>\n",
       "      <th>channel</th>\n",
       "    </tr>\n",
       "  </thead>\n",
       "  <tbody>\n",
       "    <tr>\n",
       "      <th>4954716</th>\n",
       "      <td>3c9e026bea0c3fe8f81a398b0f957868</td>\n",
       "      <td>554e678a469c64ec7d8b655d</td>\n",
       "      <td>2018-01-25 14:31:34+00:00</td>\n",
       "      <td>signup</td>\n",
       "      <td>1</td>\n",
       "      <td>NaN</td>\n",
       "      <td>8623767</td>\n",
       "      <td>web</td>\n",
       "    </tr>\n",
       "    <tr>\n",
       "      <th>4954717</th>\n",
       "      <td>135c318c949c59f91d9880813da5ef8f</td>\n",
       "      <td>55632554469c6430068b7e00</td>\n",
       "      <td>2018-06-23 00:33:52+00:00</td>\n",
       "      <td>signup</td>\n",
       "      <td>1</td>\n",
       "      <td>NaN</td>\n",
       "      <td>9282988</td>\n",
       "      <td>web</td>\n",
       "    </tr>\n",
       "    <tr>\n",
       "      <th>4954718</th>\n",
       "      <td>7d4be20a57890ebf5244773d3360d4be</td>\n",
       "      <td>5594c41d469c64d53d8b5e9e</td>\n",
       "      <td>2018-03-05 21:56:12+00:00</td>\n",
       "      <td>signup</td>\n",
       "      <td>1</td>\n",
       "      <td>NaN</td>\n",
       "      <td>8872055</td>\n",
       "      <td>web</td>\n",
       "    </tr>\n",
       "    <tr>\n",
       "      <th>4954719</th>\n",
       "      <td>2563ead0fb08a5f747d5ea2bfdedd69e</td>\n",
       "      <td>55a7efbc469c64022e8e2dbd</td>\n",
       "      <td>2018-01-28 10:54:53+00:00</td>\n",
       "      <td>signup</td>\n",
       "      <td>1</td>\n",
       "      <td>NaN</td>\n",
       "      <td>8637201</td>\n",
       "      <td>web</td>\n",
       "    </tr>\n",
       "    <tr>\n",
       "      <th>4954720</th>\n",
       "      <td>4dfc5a0efdd785ef04cfe6e7916da0d9</td>\n",
       "      <td>55a869fe469c649e2b8fb941</td>\n",
       "      <td>2018-08-22 02:19:52+00:00</td>\n",
       "      <td>signup</td>\n",
       "      <td>1</td>\n",
       "      <td>NaN</td>\n",
       "      <td>9408787</td>\n",
       "      <td>web</td>\n",
       "    </tr>\n",
       "  </tbody>\n",
       "</table>\n",
       "</div>"
      ],
      "text/plain": [
       "                                 event_id              northstar_id  \\\n",
       "4954716  3c9e026bea0c3fe8f81a398b0f957868  554e678a469c64ec7d8b655d   \n",
       "4954717  135c318c949c59f91d9880813da5ef8f  55632554469c6430068b7e00   \n",
       "4954718  7d4be20a57890ebf5244773d3360d4be  5594c41d469c64d53d8b5e9e   \n",
       "4954719  2563ead0fb08a5f747d5ea2bfdedd69e  55a7efbc469c64022e8e2dbd   \n",
       "4954720  4dfc5a0efdd785ef04cfe6e7916da0d9  55a869fe469c649e2b8fb941   \n",
       "\n",
       "                        timestamp action_type  action_id source  \\\n",
       "4954716 2018-01-25 14:31:34+00:00      signup          1    NaN   \n",
       "4954717 2018-06-23 00:33:52+00:00      signup          1    NaN   \n",
       "4954718 2018-03-05 21:56:12+00:00      signup          1    NaN   \n",
       "4954719 2018-01-28 10:54:53+00:00      signup          1    NaN   \n",
       "4954720 2018-08-22 02:19:52+00:00      signup          1    NaN   \n",
       "\n",
       "        action_serial_id channel  \n",
       "4954716          8623767     web  \n",
       "4954717          9282988     web  \n",
       "4954718          8872055     web  \n",
       "4954719          8637201     web  \n",
       "4954720          9408787     web  "
      ]
     },
     "execution_count": 11,
     "metadata": {},
     "output_type": "execute_result"
    }
   ],
   "source": [
    "df_mel[(df_mel['source'].isnull()) & (df_mel['action_type'] == 'signup')].head()"
   ]
  },
  {
   "cell_type": "code",
   "execution_count": 12,
   "metadata": {},
   "outputs": [],
   "source": [
    "df_mel_check = df_mel[\n",
    "    (df_mel['source'].isnull()) & (df_mel['action_type'] == 'signup')].set_index('timestamp').groupby(\n",
    "    [pd.Grouper(freq='W')]\n",
    ").agg({'northstar_id': lambda x: len(x.unique())})"
   ]
  },
  {
   "cell_type": "code",
   "execution_count": 13,
   "metadata": {},
   "outputs": [
    {
     "data": {
      "image/png": "[encoded data removed]",
      "text/plain": [
       "<Figure size 864x576 with 1 Axes>"
      ]
     },
     "metadata": {
      "needs_background": "light"
     },
     "output_type": "display_data"
    }
   ],
   "source": [
    "df_mel_check.plot();"
   ]
  },
  {
   "cell_type": "markdown",
   "metadata": {},
   "source": [
    "<b>Question:</b> According to MEL sql logic, campaign signups and posts can also have a null source, in which case the channel is web. What cases is this capturing, and why has this occurrence decreased over time? \n",
    "- Biggest offenders according to rogue.signups are campaign_ids 3590 (8,402 unique ns ids), 2063 (1,342), 7822 (985) "
   ]
  },
  {
   "cell_type": "markdown",
   "metadata": {},
   "source": [
    "### Action_serial_id"
   ]
  },
  {
   "cell_type": "code",
   "execution_count": 14,
   "metadata": {},
   "outputs": [
    {
     "data": {
      "text/plain": [
       "site_access         654970\n",
       "site_login          532913\n",
       "account_creation    420737\n",
       "Name: action_type, dtype: int64"
      ]
     },
     "execution_count": 14,
     "metadata": {},
     "output_type": "execute_result"
    }
   ],
   "source": [
    "df_mel[df_mel['action_serial_id'] == '0']['action_type'].value_counts()"
   ]
  },
  {
   "cell_type": "markdown",
   "metadata": {},
   "source": [
    "The above action types are expected."
   ]
  },
  {
   "cell_type": "markdown",
   "metadata": {},
   "source": [
    "## Duplicates"
   ]
  },
  {
   "cell_type": "code",
   "execution_count": 15,
   "metadata": {},
   "outputs": [
    {
     "data": {
      "text/html": [
       "<div>\n",
       "<style scoped>\n",
       "    .dataframe tbody tr th:only-of-type {\n",
       "        vertical-align: middle;\n",
       "    }\n",
       "\n",
       "    .dataframe tbody tr th {\n",
       "        vertical-align: top;\n",
       "    }\n",
       "\n",
       "    .dataframe thead th {\n",
       "        text-align: right;\n",
       "    }\n",
       "</style>\n",
       "<table border=\"1\" class=\"dataframe\">\n",
       "  <thead>\n",
       "    <tr style=\"text-align: right;\">\n",
       "      <th></th>\n",
       "      <th>event_id</th>\n",
       "      <th>northstar_id</th>\n",
       "      <th>timestamp</th>\n",
       "      <th>action_type</th>\n",
       "      <th>action_id</th>\n",
       "      <th>source</th>\n",
       "      <th>action_serial_id</th>\n",
       "      <th>channel</th>\n",
       "    </tr>\n",
       "  </thead>\n",
       "  <tbody>\n",
       "  </tbody>\n",
       "</table>\n",
       "</div>"
      ],
      "text/plain": [
       "Empty DataFrame\n",
       "Columns: [event_id, northstar_id, timestamp, action_type, action_id, source, action_serial_id, channel]\n",
       "Index: []"
      ]
     },
     "execution_count": 15,
     "metadata": {},
     "output_type": "execute_result"
    }
   ],
   "source": [
    "# The only single column I expect to be unique is the event_id, which it looks like they are.\n",
    "df_mel[df_mel.duplicated('event_id')]"
   ]
  },
  {
   "cell_type": "code",
   "execution_count": 16,
   "metadata": {},
   "outputs": [],
   "source": [
    "# Another expectation might be the northstar_id, action_type, action_serial_id combination should be unique because\n",
    "# the action_serial_id should be unique to a post/signup (given that Quasar keeps a log of posts/signups rather than \n",
    "# overwriting when updated as in Rogue)\n",
    "df_dupes = df_mel[df_mel.duplicated(\n",
    "    ['northstar_id', 'action_type', 'action_serial_id'], keep=False)].sort_values(['northstar_id', 'timestamp'])\n",
    "\n",
    "# removing site access and site logins because action_serial_id always set to 0 and duplicates expected\n",
    "df_dupes = df_dupes[~((df_dupes['action_type'] == 'site_login')| (df_dupes['action_type'] == 'site_access'))]"
   ]
  },
  {
   "cell_type": "code",
   "execution_count": 17,
   "metadata": {
    "scrolled": true
   },
   "outputs": [
    {
     "data": {
      "text/html": [
       "<div>\n",
       "<style scoped>\n",
       "    .dataframe tbody tr th:only-of-type {\n",
       "        vertical-align: middle;\n",
       "    }\n",
       "\n",
       "    .dataframe tbody tr th {\n",
       "        vertical-align: top;\n",
       "    }\n",
       "\n",
       "    .dataframe thead th {\n",
       "        text-align: right;\n",
       "    }\n",
       "</style>\n",
       "<table border=\"1\" class=\"dataframe\">\n",
       "  <thead>\n",
       "    <tr style=\"text-align: right;\">\n",
       "      <th></th>\n",
       "      <th>event_id</th>\n",
       "      <th>northstar_id</th>\n",
       "      <th>timestamp</th>\n",
       "      <th>action_type</th>\n",
       "      <th>action_id</th>\n",
       "      <th>source</th>\n",
       "      <th>action_serial_id</th>\n",
       "      <th>channel</th>\n",
       "    </tr>\n",
       "  </thead>\n",
       "  <tbody>\n",
       "    <tr>\n",
       "      <th>2052720</th>\n",
       "      <td>bcc41300bad974ec14a86ff80913c70d</td>\n",
       "      <td>5543c402469c64bf3d8b457f</td>\n",
       "      <td>2018-04-02 16:27:40+00:00</td>\n",
       "      <td>clicked_link</td>\n",
       "      <td>7</td>\n",
       "      <td>1</td>\n",
       "      <td>01CA42ETJF84VBMFCDTJMP9CKN</td>\n",
       "      <td>email</td>\n",
       "    </tr>\n",
       "    <tr>\n",
       "      <th>2485906</th>\n",
       "      <td>dfeb58a177a8fde32101d4cd19565537</td>\n",
       "      <td>5543c402469c64bf3d8b457f</td>\n",
       "      <td>2018-04-02 20:27:40+00:00</td>\n",
       "      <td>clicked_link</td>\n",
       "      <td>7</td>\n",
       "      <td>1</td>\n",
       "      <td>01CA42ETJF84VBMFCDTJMP9CKN</td>\n",
       "      <td>email</td>\n",
       "    </tr>\n",
       "    <tr>\n",
       "      <th>2629310</th>\n",
       "      <td>c4ab979dd06c10f202be324562bdd960</td>\n",
       "      <td>5543eafd469c64bf3d8b4653</td>\n",
       "      <td>2018-04-02 16:30:38+00:00</td>\n",
       "      <td>clicked_link</td>\n",
       "      <td>7</td>\n",
       "      <td>1</td>\n",
       "      <td>01CA42QWR3JWM48C6J79J8HWSM</td>\n",
       "      <td>email</td>\n",
       "    </tr>\n",
       "    <tr>\n",
       "      <th>2491011</th>\n",
       "      <td>09e7710af9e9b0dff26e23bdefb0aa56</td>\n",
       "      <td>5543eafd469c64bf3d8b4653</td>\n",
       "      <td>2018-04-02 20:30:38+00:00</td>\n",
       "      <td>clicked_link</td>\n",
       "      <td>7</td>\n",
       "      <td>1</td>\n",
       "      <td>01CA42QWR3JWM48C6J79J8HWSM</td>\n",
       "      <td>email</td>\n",
       "    </tr>\n",
       "    <tr>\n",
       "      <th>2122663</th>\n",
       "      <td>573484a129f536728ecd3be53fdfb7d8</td>\n",
       "      <td>5543fb9c469c64ec7d8b4733</td>\n",
       "      <td>2018-03-20 18:23:26+00:00</td>\n",
       "      <td>clicked_link</td>\n",
       "      <td>7</td>\n",
       "      <td>1</td>\n",
       "      <td>01C92RB7EMNHQ6H8BX6JMZ0R3F</td>\n",
       "      <td>email</td>\n",
       "    </tr>\n",
       "    <tr>\n",
       "      <th>2070459</th>\n",
       "      <td>1f69162d8aa20bf1d8a81ae273c978c9</td>\n",
       "      <td>5543fb9c469c64ec7d8b4733</td>\n",
       "      <td>2018-03-20 22:23:26+00:00</td>\n",
       "      <td>clicked_link</td>\n",
       "      <td>7</td>\n",
       "      <td>1</td>\n",
       "      <td>01C92RB7EMNHQ6H8BX6JMZ0R3F</td>\n",
       "      <td>email</td>\n",
       "    </tr>\n",
       "    <tr>\n",
       "      <th>2210074</th>\n",
       "      <td>ca8ef418320081cb8e7cc75ead5886eb</td>\n",
       "      <td>5543fb9c469c64ec7d8b4733</td>\n",
       "      <td>2018-03-24 08:55:14+00:00</td>\n",
       "      <td>clicked_link</td>\n",
       "      <td>7</td>\n",
       "      <td>1</td>\n",
       "      <td>01C9C1W6G37DGV586BSBYAKJ47</td>\n",
       "      <td>email</td>\n",
       "    </tr>\n",
       "    <tr>\n",
       "      <th>2305976</th>\n",
       "      <td>89a322a9c6ee8a6b144ec56dc75471ff</td>\n",
       "      <td>5543fb9c469c64ec7d8b4733</td>\n",
       "      <td>2018-03-24 12:55:14+00:00</td>\n",
       "      <td>clicked_link</td>\n",
       "      <td>7</td>\n",
       "      <td>1</td>\n",
       "      <td>01C9C1W6G37DGV586BSBYAKJ47</td>\n",
       "      <td>email</td>\n",
       "    </tr>\n",
       "    <tr>\n",
       "      <th>2373583</th>\n",
       "      <td>391d520feffa4a62f517be2464a18de9</td>\n",
       "      <td>5543fb9c469c64ec7d8b4733</td>\n",
       "      <td>2018-03-28 13:21:46+00:00</td>\n",
       "      <td>clicked_link</td>\n",
       "      <td>7</td>\n",
       "      <td>1</td>\n",
       "      <td>01C9PT35QKZX6MSHH1E9NSGYH5</td>\n",
       "      <td>email</td>\n",
       "    </tr>\n",
       "    <tr>\n",
       "      <th>2413891</th>\n",
       "      <td>701e33b7b94583a39115af4d1674c8a7</td>\n",
       "      <td>5543fb9c469c64ec7d8b4733</td>\n",
       "      <td>2018-03-28 17:21:46+00:00</td>\n",
       "      <td>clicked_link</td>\n",
       "      <td>7</td>\n",
       "      <td>1</td>\n",
       "      <td>01C9PT35QKZX6MSHH1E9NSGYH5</td>\n",
       "      <td>email</td>\n",
       "    </tr>\n",
       "  </tbody>\n",
       "</table>\n",
       "</div>"
      ],
      "text/plain": [
       "                                 event_id              northstar_id  \\\n",
       "2052720  bcc41300bad974ec14a86ff80913c70d  5543c402469c64bf3d8b457f   \n",
       "2485906  dfeb58a177a8fde32101d4cd19565537  5543c402469c64bf3d8b457f   \n",
       "2629310  c4ab979dd06c10f202be324562bdd960  5543eafd469c64bf3d8b4653   \n",
       "2491011  09e7710af9e9b0dff26e23bdefb0aa56  5543eafd469c64bf3d8b4653   \n",
       "2122663  573484a129f536728ecd3be53fdfb7d8  5543fb9c469c64ec7d8b4733   \n",
       "2070459  1f69162d8aa20bf1d8a81ae273c978c9  5543fb9c469c64ec7d8b4733   \n",
       "2210074  ca8ef418320081cb8e7cc75ead5886eb  5543fb9c469c64ec7d8b4733   \n",
       "2305976  89a322a9c6ee8a6b144ec56dc75471ff  5543fb9c469c64ec7d8b4733   \n",
       "2373583  391d520feffa4a62f517be2464a18de9  5543fb9c469c64ec7d8b4733   \n",
       "2413891  701e33b7b94583a39115af4d1674c8a7  5543fb9c469c64ec7d8b4733   \n",
       "\n",
       "                        timestamp   action_type  action_id source  \\\n",
       "2052720 2018-04-02 16:27:40+00:00  clicked_link          7      1   \n",
       "2485906 2018-04-02 20:27:40+00:00  clicked_link          7      1   \n",
       "2629310 2018-04-02 16:30:38+00:00  clicked_link          7      1   \n",
       "2491011 2018-04-02 20:30:38+00:00  clicked_link          7      1   \n",
       "2122663 2018-03-20 18:23:26+00:00  clicked_link          7      1   \n",
       "2070459 2018-03-20 22:23:26+00:00  clicked_link          7      1   \n",
       "2210074 2018-03-24 08:55:14+00:00  clicked_link          7      1   \n",
       "2305976 2018-03-24 12:55:14+00:00  clicked_link          7      1   \n",
       "2373583 2018-03-28 13:21:46+00:00  clicked_link          7      1   \n",
       "2413891 2018-03-28 17:21:46+00:00  clicked_link          7      1   \n",
       "\n",
       "                   action_serial_id channel  \n",
       "2052720  01CA42ETJF84VBMFCDTJMP9CKN   email  \n",
       "2485906  01CA42ETJF84VBMFCDTJMP9CKN   email  \n",
       "2629310  01CA42QWR3JWM48C6J79J8HWSM   email  \n",
       "2491011  01CA42QWR3JWM48C6J79J8HWSM   email  \n",
       "2122663  01C92RB7EMNHQ6H8BX6JMZ0R3F   email  \n",
       "2070459  01C92RB7EMNHQ6H8BX6JMZ0R3F   email  \n",
       "2210074  01C9C1W6G37DGV586BSBYAKJ47   email  \n",
       "2305976  01C9C1W6G37DGV586BSBYAKJ47   email  \n",
       "2373583  01C9PT35QKZX6MSHH1E9NSGYH5   email  \n",
       "2413891  01C9PT35QKZX6MSHH1E9NSGYH5   email  "
      ]
     },
     "execution_count": 17,
     "metadata": {},
     "output_type": "execute_result"
    }
   ],
   "source": [
    "df_dupes.head(10)"
   ]
  },
  {
   "cell_type": "code",
   "execution_count": 18,
   "metadata": {},
   "outputs": [
    {
     "data": {
      "text/plain": [
       "56dad08d469c64d8578b4f14    74\n",
       "56daa439469c6444628b4d95    72\n",
       "56dafb96469c6444628b4db5    66\n",
       "56db2b2d469c64d8578b4f64    64\n",
       "5a9b23f2a0bfad2e34699896    24\n",
       "59dbaa60a0bfad082a6207c2    22\n",
       "5a517200a0bfad6541202414    22\n",
       "59d2b090a0bfad02a813b46a    20\n",
       "59d7a716a0bfad17256c8e5a    20\n",
       "5a5ee751a0bfad793c61883b    20\n",
       "Name: northstar_id, dtype: int64"
      ]
     },
     "execution_count": 18,
     "metadata": {},
     "output_type": "execute_result"
    }
   ],
   "source": [
    "df_dupes['northstar_id'].value_counts().head(10)"
   ]
  },
  {
   "cell_type": "code",
   "execution_count": 19,
   "metadata": {},
   "outputs": [
    {
     "data": {
      "text/plain": [
       "email    59120\n",
       "Name: channel, dtype: int64"
      ]
     },
     "execution_count": 19,
     "metadata": {},
     "output_type": "execute_result"
    }
   ],
   "source": [
    "df_dupes['channel'].value_counts()"
   ]
  },
  {
   "cell_type": "code",
   "execution_count": 20,
   "metadata": {},
   "outputs": [
    {
     "data": {
      "text/plain": [
       "<matplotlib.axes._subplots.AxesSubplot at 0x115e785c0>"
      ]
     },
     "execution_count": 20,
     "metadata": {},
     "output_type": "execute_result"
    },
    {
     "data": {
      "image/png": "[encoded data removed]",
      "text/plain": [
       "<Figure size 864x576 with 1 Axes>"
      ]
     },
     "metadata": {
      "needs_background": "light"
     },
     "output_type": "display_data"
    }
   ],
   "source": [
    "df_dupes.set_index('timestamp').groupby(pd.Grouper(freq='M'))['northstar_id'].count().plot()"
   ]
  },
  {
   "cell_type": "markdown",
   "metadata": {},
   "source": [
    "<b> Action Item</b>: Why are there email duplicates where one timestamp is exactly 4 hours ahead of the other? This only seems to be an issue in Mar/April."
   ]
  },
  {
   "cell_type": "code",
   "execution_count": 21,
   "metadata": {},
   "outputs": [],
   "source": [
    "# Another combination of fields that should potentially be unique are NS ids, timestamps, and action types.\n",
    "# In which case, how were different action_serial_ids generated?\n",
    "df_dupes2 = df_mel[df_mel.duplicated(\n",
    "    ['northstar_id', 'timestamp', 'action_type'], keep=False)].sort_values(['northstar_id', 'timestamp'])"
   ]
  },
  {
   "cell_type": "code",
   "execution_count": 22,
   "metadata": {},
   "outputs": [
    {
     "data": {
      "text/html": [
       "<div>\n",
       "<style scoped>\n",
       "    .dataframe tbody tr th:only-of-type {\n",
       "        vertical-align: middle;\n",
       "    }\n",
       "\n",
       "    .dataframe tbody tr th {\n",
       "        vertical-align: top;\n",
       "    }\n",
       "\n",
       "    .dataframe thead th {\n",
       "        text-align: right;\n",
       "    }\n",
       "</style>\n",
       "<table border=\"1\" class=\"dataframe\">\n",
       "  <thead>\n",
       "    <tr style=\"text-align: right;\">\n",
       "      <th></th>\n",
       "      <th>event_id</th>\n",
       "      <th>northstar_id</th>\n",
       "      <th>timestamp</th>\n",
       "      <th>action_type</th>\n",
       "      <th>action_id</th>\n",
       "      <th>source</th>\n",
       "      <th>action_serial_id</th>\n",
       "      <th>channel</th>\n",
       "    </tr>\n",
       "  </thead>\n",
       "  <tbody>\n",
       "    <tr>\n",
       "      <th>2654751</th>\n",
       "      <td>38529c9b4577f02fa315112e3ab8a785</td>\n",
       "      <td>5543dfd6469c64ec7d8b46b3</td>\n",
       "      <td>2018-06-07 18:14:51.829585+00:00</td>\n",
       "      <td>bertly_link_uncertain</td>\n",
       "      <td>10</td>\n",
       "      <td>bertly</td>\n",
       "      <td>1133f90c-6485-408a-976a-d04cd3bf023f</td>\n",
       "      <td>sms</td>\n",
       "    </tr>\n",
       "    <tr>\n",
       "      <th>2654752</th>\n",
       "      <td>550a5e755608beaf5a2162ce8d85fdff</td>\n",
       "      <td>5543dfd6469c64ec7d8b46b3</td>\n",
       "      <td>2018-06-07 18:14:51.829585+00:00</td>\n",
       "      <td>bertly_link_uncertain</td>\n",
       "      <td>10</td>\n",
       "      <td>bertly</td>\n",
       "      <td>f5a614a0-0f57-4420-b57c-d555971431fe</td>\n",
       "      <td>sms</td>\n",
       "    </tr>\n",
       "    <tr>\n",
       "      <th>2654777</th>\n",
       "      <td>8d8ea32998fd5032c14f9799d4b883c3</td>\n",
       "      <td>5543dfd6469c64ec7d8b46b3</td>\n",
       "      <td>2018-06-07 18:14:51.887231+00:00</td>\n",
       "      <td>bertly_link_uncertain</td>\n",
       "      <td>10</td>\n",
       "      <td>bertly</td>\n",
       "      <td>26d61671-708b-4334-be52-84621c0ef3fd</td>\n",
       "      <td>sms</td>\n",
       "    </tr>\n",
       "    <tr>\n",
       "      <th>2654778</th>\n",
       "      <td>92d443681cf6766c5de3cbe5a9cdabcb</td>\n",
       "      <td>5543dfd6469c64ec7d8b46b3</td>\n",
       "      <td>2018-06-07 18:14:51.887231+00:00</td>\n",
       "      <td>bertly_link_uncertain</td>\n",
       "      <td>10</td>\n",
       "      <td>bertly</td>\n",
       "      <td>c04cf487-3e6b-4ebb-9450-0ca3e87f446a</td>\n",
       "      <td>sms</td>\n",
       "    </tr>\n",
       "    <tr>\n",
       "      <th>2655988</th>\n",
       "      <td>ac6af34ab0c18bfe4451bd8410bf86ac</td>\n",
       "      <td>5543dfd6469c64ec7d8b46b3</td>\n",
       "      <td>2018-06-07 18:14:59.462954+00:00</td>\n",
       "      <td>bertly_link_uncertain</td>\n",
       "      <td>10</td>\n",
       "      <td>bertly</td>\n",
       "      <td>38c85408-3ae4-450f-b965-db839b538e06</td>\n",
       "      <td>sms</td>\n",
       "    </tr>\n",
       "  </tbody>\n",
       "</table>\n",
       "</div>"
      ],
      "text/plain": [
       "                                 event_id              northstar_id  \\\n",
       "2654751  38529c9b4577f02fa315112e3ab8a785  5543dfd6469c64ec7d8b46b3   \n",
       "2654752  550a5e755608beaf5a2162ce8d85fdff  5543dfd6469c64ec7d8b46b3   \n",
       "2654777  8d8ea32998fd5032c14f9799d4b883c3  5543dfd6469c64ec7d8b46b3   \n",
       "2654778  92d443681cf6766c5de3cbe5a9cdabcb  5543dfd6469c64ec7d8b46b3   \n",
       "2655988  ac6af34ab0c18bfe4451bd8410bf86ac  5543dfd6469c64ec7d8b46b3   \n",
       "\n",
       "                               timestamp            action_type  action_id  \\\n",
       "2654751 2018-06-07 18:14:51.829585+00:00  bertly_link_uncertain         10   \n",
       "2654752 2018-06-07 18:14:51.829585+00:00  bertly_link_uncertain         10   \n",
       "2654777 2018-06-07 18:14:51.887231+00:00  bertly_link_uncertain         10   \n",
       "2654778 2018-06-07 18:14:51.887231+00:00  bertly_link_uncertain         10   \n",
       "2655988 2018-06-07 18:14:59.462954+00:00  bertly_link_uncertain         10   \n",
       "\n",
       "         source                      action_serial_id channel  \n",
       "2654751  bertly  1133f90c-6485-408a-976a-d04cd3bf023f     sms  \n",
       "2654752  bertly  f5a614a0-0f57-4420-b57c-d555971431fe     sms  \n",
       "2654777  bertly  26d61671-708b-4334-be52-84621c0ef3fd     sms  \n",
       "2654778  bertly  c04cf487-3e6b-4ebb-9450-0ca3e87f446a     sms  \n",
       "2655988  bertly  38c85408-3ae4-450f-b965-db839b538e06     sms  "
      ]
     },
     "execution_count": 22,
     "metadata": {},
     "output_type": "execute_result"
    }
   ],
   "source": [
    "df_dupes2.head()"
   ]
  },
  {
   "cell_type": "code",
   "execution_count": 23,
   "metadata": {},
   "outputs": [
    {
     "data": {
      "text/plain": [
       "SMS                26839\n",
       "phoenix-next        3186\n",
       "1                    816\n",
       "sms                  624\n",
       "bertly               528\n",
       "2                    377\n",
       "turbovote            130\n",
       "7                     16\n",
       "8                      8\n",
       "campaigns              6\n",
       "niche                  4\n",
       "3                      3\n",
       "5                      2\n",
       "9                      2\n",
       "importer-client        2\n",
       "rock-the-vote          2\n",
       "Name: source, dtype: int64"
      ]
     },
     "execution_count": 23,
     "metadata": {},
     "output_type": "execute_result"
    }
   ],
   "source": [
    "# It seems like many of these are related to bertly clicks occuring before user agent strings were being captured.\n",
    "df_dupes2['source'].value_counts()"
   ]
  },
  {
   "cell_type": "markdown",
   "metadata": {},
   "source": [
    "### SMS / Gambit"
   ]
  },
  {
   "cell_type": "code",
   "execution_count": 24,
   "metadata": {
    "scrolled": true
   },
   "outputs": [
    {
     "data": {
      "text/html": [
       "<div>\n",
       "<style scoped>\n",
       "    .dataframe tbody tr th:only-of-type {\n",
       "        vertical-align: middle;\n",
       "    }\n",
       "\n",
       "    .dataframe tbody tr th {\n",
       "        vertical-align: top;\n",
       "    }\n",
       "\n",
       "    .dataframe thead th {\n",
       "        text-align: right;\n",
       "    }\n",
       "</style>\n",
       "<table border=\"1\" class=\"dataframe\">\n",
       "  <thead>\n",
       "    <tr style=\"text-align: right;\">\n",
       "      <th></th>\n",
       "      <th>event_id</th>\n",
       "      <th>northstar_id</th>\n",
       "      <th>timestamp</th>\n",
       "      <th>action_type</th>\n",
       "      <th>action_id</th>\n",
       "      <th>source</th>\n",
       "      <th>action_serial_id</th>\n",
       "      <th>channel</th>\n",
       "    </tr>\n",
       "  </thead>\n",
       "  <tbody>\n",
       "    <tr>\n",
       "      <th>486821</th>\n",
       "      <td>739f12045d1ecf17a8a2732d9bb9fecb</td>\n",
       "      <td>554764a5469c64ed7d8b4f68</td>\n",
       "      <td>2018-09-06 16:46:12+00:00</td>\n",
       "      <td>messaged_gambit</td>\n",
       "      <td>6</td>\n",
       "      <td>SMS</td>\n",
       "      <td>5b9159d456e5e3000464c27b</td>\n",
       "      <td>sms</td>\n",
       "    </tr>\n",
       "    <tr>\n",
       "      <th>486822</th>\n",
       "      <td>c17d6cb0d5a1d5a4226da07d228227e2</td>\n",
       "      <td>554764a5469c64ed7d8b4f68</td>\n",
       "      <td>2018-09-06 16:46:12+00:00</td>\n",
       "      <td>messaged_gambit</td>\n",
       "      <td>6</td>\n",
       "      <td>SMS</td>\n",
       "      <td>5b9159d4b18c6a00040e9af5</td>\n",
       "      <td>sms</td>\n",
       "    </tr>\n",
       "    <tr>\n",
       "      <th>486823</th>\n",
       "      <td>55efd06a0059facd88f04a7c67325106</td>\n",
       "      <td>554764a5469c64ed7d8b4f68</td>\n",
       "      <td>2018-09-06 16:46:12+00:00</td>\n",
       "      <td>messaged_gambit</td>\n",
       "      <td>6</td>\n",
       "      <td>SMS</td>\n",
       "      <td>5b9159d4e309ed00043830ab</td>\n",
       "      <td>sms</td>\n",
       "    </tr>\n",
       "    <tr>\n",
       "      <th>486881</th>\n",
       "      <td>9c0894a88ebf17324dd2d5eb0cccc910</td>\n",
       "      <td>55479986469c64ec7d8b5085</td>\n",
       "      <td>2018-01-31 03:14:48+00:00</td>\n",
       "      <td>messaged_gambit</td>\n",
       "      <td>6</td>\n",
       "      <td>SMS</td>\n",
       "      <td>5a7134a83fa8aa0004713f15</td>\n",
       "      <td>sms</td>\n",
       "    </tr>\n",
       "    <tr>\n",
       "      <th>486882</th>\n",
       "      <td>8fc7070a954995cc6b650a804fd8a2f5</td>\n",
       "      <td>55479986469c64ec7d8b5085</td>\n",
       "      <td>2018-01-31 03:14:48+00:00</td>\n",
       "      <td>messaged_gambit</td>\n",
       "      <td>6</td>\n",
       "      <td>SMS</td>\n",
       "      <td>5a7134a86cfd310004722717</td>\n",
       "      <td>sms</td>\n",
       "    </tr>\n",
       "    <tr>\n",
       "      <th>486890</th>\n",
       "      <td>79b001a997767cd145df933c3f7a51bc</td>\n",
       "      <td>55479986469c64ec7d8b5085</td>\n",
       "      <td>2018-08-28 19:39:59+00:00</td>\n",
       "      <td>messaged_gambit</td>\n",
       "      <td>6</td>\n",
       "      <td>SMS</td>\n",
       "      <td>5b85a50f4b53610004be5039</td>\n",
       "      <td>sms</td>\n",
       "    </tr>\n",
       "    <tr>\n",
       "      <th>486891</th>\n",
       "      <td>8f3861df198a6e9606ad3af6662c8c2e</td>\n",
       "      <td>55479986469c64ec7d8b5085</td>\n",
       "      <td>2018-08-28 19:39:59+00:00</td>\n",
       "      <td>messaged_gambit</td>\n",
       "      <td>6</td>\n",
       "      <td>SMS</td>\n",
       "      <td>5b85a50fce46d90004536742</td>\n",
       "      <td>sms</td>\n",
       "    </tr>\n",
       "    <tr>\n",
       "      <th>487887</th>\n",
       "      <td>4b3c6ab8854586d55a9d8862e6c144cd</td>\n",
       "      <td>554a0e2c469c64bf3d8b5860</td>\n",
       "      <td>2018-01-23 21:05:09+00:00</td>\n",
       "      <td>messaged_gambit</td>\n",
       "      <td>6</td>\n",
       "      <td>SMS</td>\n",
       "      <td>5a67a3856340af00043e3306</td>\n",
       "      <td>sms</td>\n",
       "    </tr>\n",
       "    <tr>\n",
       "      <th>487888</th>\n",
       "      <td>2d79d555a152cf14c1208a9354108ee2</td>\n",
       "      <td>554a0e2c469c64bf3d8b5860</td>\n",
       "      <td>2018-01-23 21:05:09+00:00</td>\n",
       "      <td>messaged_gambit</td>\n",
       "      <td>6</td>\n",
       "      <td>SMS</td>\n",
       "      <td>5a67a3858d3c0c000475932d</td>\n",
       "      <td>sms</td>\n",
       "    </tr>\n",
       "    <tr>\n",
       "      <th>489182</th>\n",
       "      <td>838ceab434a94a5ae0981fbb6784fca5</td>\n",
       "      <td>5554cb62469c6455048b4570</td>\n",
       "      <td>2018-09-19 17:48:32+00:00</td>\n",
       "      <td>messaged_gambit</td>\n",
       "      <td>6</td>\n",
       "      <td>SMS</td>\n",
       "      <td>5ba28bf02217640004b60f65</td>\n",
       "      <td>sms</td>\n",
       "    </tr>\n",
       "  </tbody>\n",
       "</table>\n",
       "</div>"
      ],
      "text/plain": [
       "                                event_id              northstar_id  \\\n",
       "486821  739f12045d1ecf17a8a2732d9bb9fecb  554764a5469c64ed7d8b4f68   \n",
       "486822  c17d6cb0d5a1d5a4226da07d228227e2  554764a5469c64ed7d8b4f68   \n",
       "486823  55efd06a0059facd88f04a7c67325106  554764a5469c64ed7d8b4f68   \n",
       "486881  9c0894a88ebf17324dd2d5eb0cccc910  55479986469c64ec7d8b5085   \n",
       "486882  8fc7070a954995cc6b650a804fd8a2f5  55479986469c64ec7d8b5085   \n",
       "486890  79b001a997767cd145df933c3f7a51bc  55479986469c64ec7d8b5085   \n",
       "486891  8f3861df198a6e9606ad3af6662c8c2e  55479986469c64ec7d8b5085   \n",
       "487887  4b3c6ab8854586d55a9d8862e6c144cd  554a0e2c469c64bf3d8b5860   \n",
       "487888  2d79d555a152cf14c1208a9354108ee2  554a0e2c469c64bf3d8b5860   \n",
       "489182  838ceab434a94a5ae0981fbb6784fca5  5554cb62469c6455048b4570   \n",
       "\n",
       "                       timestamp      action_type  action_id source  \\\n",
       "486821 2018-09-06 16:46:12+00:00  messaged_gambit          6    SMS   \n",
       "486822 2018-09-06 16:46:12+00:00  messaged_gambit          6    SMS   \n",
       "486823 2018-09-06 16:46:12+00:00  messaged_gambit          6    SMS   \n",
       "486881 2018-01-31 03:14:48+00:00  messaged_gambit          6    SMS   \n",
       "486882 2018-01-31 03:14:48+00:00  messaged_gambit          6    SMS   \n",
       "486890 2018-08-28 19:39:59+00:00  messaged_gambit          6    SMS   \n",
       "486891 2018-08-28 19:39:59+00:00  messaged_gambit          6    SMS   \n",
       "487887 2018-01-23 21:05:09+00:00  messaged_gambit          6    SMS   \n",
       "487888 2018-01-23 21:05:09+00:00  messaged_gambit          6    SMS   \n",
       "489182 2018-09-19 17:48:32+00:00  messaged_gambit          6    SMS   \n",
       "\n",
       "                action_serial_id channel  \n",
       "486821  5b9159d456e5e3000464c27b     sms  \n",
       "486822  5b9159d4b18c6a00040e9af5     sms  \n",
       "486823  5b9159d4e309ed00043830ab     sms  \n",
       "486881  5a7134a83fa8aa0004713f15     sms  \n",
       "486882  5a7134a86cfd310004722717     sms  \n",
       "486890  5b85a50f4b53610004be5039     sms  \n",
       "486891  5b85a50fce46d90004536742     sms  \n",
       "487887  5a67a3856340af00043e3306     sms  \n",
       "487888  5a67a3858d3c0c000475932d     sms  \n",
       "489182  5ba28bf02217640004b60f65     sms  "
      ]
     },
     "execution_count": 24,
     "metadata": {},
     "output_type": "execute_result"
    }
   ],
   "source": [
    "df_dupes2[df_dupes2['source'] == 'SMS'].head(10)"
   ]
  },
  {
   "cell_type": "code",
   "execution_count": 25,
   "metadata": {},
   "outputs": [],
   "source": [
    "id_str = ''\n",
    "all_ids = df_dupes2[df_dupes2['source'] == 'SMS']['northstar_id'].unique()\n",
    "for pos, idx in enumerate(all_ids):\n",
    "    if pos == (len(all_ids) - 1):\n",
    "        id_str += '\\'' + str(idx) + '\\''\n",
    "    else:\n",
    "        id_str += '\\'' + str(idx) + '\\', '\n",
    "        \n",
    "gambit_sql_str = '''\n",
    "SELECT *\n",
    "FROM public.gambit_messages_inbound\n",
    "WHERE user_id IN ({})\n",
    "AND macro = 'subscriptionStatusStop' \n",
    "'''.format(id_str)\n",
    "\n",
    "df_gambit_check = pd.read_sql(gambit_sql_str, con=conn)"
   ]
  },
  {
   "cell_type": "code",
   "execution_count": 26,
   "metadata": {},
   "outputs": [
    {
     "data": {
      "text/plain": [
       "918"
      ]
     },
     "execution_count": 26,
     "metadata": {},
     "output_type": "execute_result"
    }
   ],
   "source": [
    "len(df_gambit_check['user_id'].unique())"
   ]
  },
  {
   "cell_type": "code",
   "execution_count": 27,
   "metadata": {},
   "outputs": [
    {
     "data": {
      "text/plain": [
       "array(['5994f70ea0bfad1de92f361d', '57f8a1dd42a064025b8b484c',\n",
       "       '5580d2c7469c6475138b501b', '58bb70c6a0bfad1dc913383c',\n",
       "       '57f8a37a42a064085b8b48a3', '5876b699a0bfad51b9208cc1',\n",
       "       '58b0932da0bfad7aba26248d', '58ba4043a0bfad4b2c789c31',\n",
       "       '58890ca0a0bfad46df0bb06b', '58ba857ba0bfad5f21676315'],\n",
       "      dtype=object)"
      ]
     },
     "execution_count": 27,
     "metadata": {},
     "output_type": "execute_result"
    }
   ],
   "source": [
    "df_gambit_check['user_id'].unique()[:10]"
   ]
  },
  {
   "cell_type": "code",
   "execution_count": 28,
   "metadata": {},
   "outputs": [],
   "source": [
    "gambitupdate_sql = '''\n",
    "SELECT a1.*\n",
    "FROM\n",
    "(SELECT\n",
    "    MD5(concat(a.northstar_id, a.\"timestamp\", a.action_id, a.action_serial_id)) AS event_id,\n",
    "    a.northstar_id AS northstar_id,\n",
    "    a.\"timestamp\" AS \"timestamp\",\n",
    "    a.\"action\" AS action_type,\n",
    "    a.action_id AS action_id,\n",
    "    a.\"source\" AS \"source\",\n",
    "    a.action_serial_id AS action_serial_id,\n",
    "    a.channel AS channel\n",
    "FROM ( \n",
    "    SELECT -- LAST MESSAGED SMS \n",
    "        DISTINCT g.user_id AS northstar_id,\n",
    "        g.created_at AS \"timestamp\",\n",
    "        'messaged_gambit' AS \"action\", \n",
    "        '6' AS action_id,\n",
    "        'SMS' AS \"source\",\n",
    "        g.message_id AS action_serial_id,\n",
    "        'sms' AS \"channel\"\n",
    "    FROM\n",
    "        public.gambit_messages_inbound g\n",
    "    WHERE \n",
    "    \tg.user_id IS NOT NULL\n",
    "    \tAND g.macro <> 'subscriptionStatusStop'\n",
    "    \tAND g.macro <> 'declinedCampaign'\n",
    "    ) AS a\n",
    ") a1\n",
    "WHERE a1.\"timestamp\" between '2018-01-01' and '2018-11-01'\n",
    "; \n",
    "'''\n",
    "df_mel_gambitupdate = pd.read_sql(gambitupdate_sql, con=conn)"
   ]
  },
  {
   "cell_type": "code",
   "execution_count": 29,
   "metadata": {},
   "outputs": [],
   "source": [
    "df_mel_gambitremoved = df_mel[~(df_mel['action_type'] == 'messaged_gambit')]"
   ]
  },
  {
   "cell_type": "code",
   "execution_count": 30,
   "metadata": {},
   "outputs": [
    {
     "name": "stderr",
     "output_type": "stream",
     "text": [
      "/Users/mjain/DoSomething/data/lib/python3.7/site-packages/ipykernel_launcher.py:1: SettingWithCopyWarning: \n",
      "A value is trying to be set on a copy of a slice from a DataFrame.\n",
      "Try using .loc[row_indexer,col_indexer] = value instead\n",
      "\n",
      "See the caveats in the documentation: http://pandas.pydata.org/pandas-docs/stable/indexing.html#indexing-view-versus-copy\n",
      "  \"\"\"Entry point for launching an IPython kernel.\n"
     ]
    }
   ],
   "source": [
    "df_mel_gambitremoved['timestamp'] = pd.to_datetime(df_mel_gambitremoved['timestamp'], utc=True)"
   ]
  },
  {
   "cell_type": "code",
   "execution_count": 31,
   "metadata": {},
   "outputs": [],
   "source": [
    "df_mel_gambitcheck = pd.concat([df_mel_gambitremoved, df_mel_gambitupdate], axis=0)"
   ]
  },
  {
   "cell_type": "code",
   "execution_count": 32,
   "metadata": {},
   "outputs": [
    {
     "data": {
      "text/html": [
       "<div>\n",
       "<style scoped>\n",
       "    .dataframe tbody tr th:only-of-type {\n",
       "        vertical-align: middle;\n",
       "    }\n",
       "\n",
       "    .dataframe tbody tr th {\n",
       "        vertical-align: top;\n",
       "    }\n",
       "\n",
       "    .dataframe thead th {\n",
       "        text-align: right;\n",
       "    }\n",
       "</style>\n",
       "<table border=\"1\" class=\"dataframe\">\n",
       "  <thead>\n",
       "    <tr style=\"text-align: right;\">\n",
       "      <th></th>\n",
       "      <th>event_id</th>\n",
       "      <th>northstar_id</th>\n",
       "      <th>timestamp</th>\n",
       "      <th>action_type</th>\n",
       "      <th>action_id</th>\n",
       "      <th>source</th>\n",
       "      <th>action_serial_id</th>\n",
       "      <th>channel</th>\n",
       "    </tr>\n",
       "  </thead>\n",
       "  <tbody>\n",
       "    <tr>\n",
       "      <th>0</th>\n",
       "      <td>5539d9a4de43b053e5ed1a6d750eca84</td>\n",
       "      <td>5add0474a0bfad7cd84aaf39</td>\n",
       "      <td>2018-04-22 21:58:35+00:00</td>\n",
       "      <td>post</td>\n",
       "      <td>2</td>\n",
       "      <td>importer-client</td>\n",
       "      <td>620990</td>\n",
       "      <td>other</td>\n",
       "    </tr>\n",
       "    <tr>\n",
       "      <th>1</th>\n",
       "      <td>fd97ac13beef2e1b62e276fc2bdfec34</td>\n",
       "      <td>5add04dba0bfad7cd84aaf3c</td>\n",
       "      <td>2018-04-22 21:58:58+00:00</td>\n",
       "      <td>post</td>\n",
       "      <td>2</td>\n",
       "      <td>importer-client</td>\n",
       "      <td>620988</td>\n",
       "      <td>other</td>\n",
       "    </tr>\n",
       "    <tr>\n",
       "      <th>2</th>\n",
       "      <td>411682d8311f51e8ae36a23addd58132</td>\n",
       "      <td>5add05b5a0bfad0302532120</td>\n",
       "      <td>2018-04-22 23:06:58+00:00</td>\n",
       "      <td>post</td>\n",
       "      <td>2</td>\n",
       "      <td>phoenix-next</td>\n",
       "      <td>464361</td>\n",
       "      <td>web</td>\n",
       "    </tr>\n",
       "    <tr>\n",
       "      <th>3</th>\n",
       "      <td>abc30a17eb3e18cf745b4c914c4b7af7</td>\n",
       "      <td>5add071ea0bfad030253212f</td>\n",
       "      <td>2018-04-22 22:06:20+00:00</td>\n",
       "      <td>post</td>\n",
       "      <td>2</td>\n",
       "      <td>importer-client</td>\n",
       "      <td>620986</td>\n",
       "      <td>other</td>\n",
       "    </tr>\n",
       "    <tr>\n",
       "      <th>4</th>\n",
       "      <td>5e74e7a0ae28f63784d71d006ddbc4e0</td>\n",
       "      <td>5add0765a0bfad0302532132</td>\n",
       "      <td>2018-04-22 22:21:17+00:00</td>\n",
       "      <td>post</td>\n",
       "      <td>2</td>\n",
       "      <td>importer-client</td>\n",
       "      <td>620977</td>\n",
       "      <td>other</td>\n",
       "    </tr>\n",
       "  </tbody>\n",
       "</table>\n",
       "</div>"
      ],
      "text/plain": [
       "                           event_id              northstar_id  \\\n",
       "0  5539d9a4de43b053e5ed1a6d750eca84  5add0474a0bfad7cd84aaf39   \n",
       "1  fd97ac13beef2e1b62e276fc2bdfec34  5add04dba0bfad7cd84aaf3c   \n",
       "2  411682d8311f51e8ae36a23addd58132  5add05b5a0bfad0302532120   \n",
       "3  abc30a17eb3e18cf745b4c914c4b7af7  5add071ea0bfad030253212f   \n",
       "4  5e74e7a0ae28f63784d71d006ddbc4e0  5add0765a0bfad0302532132   \n",
       "\n",
       "                  timestamp action_type action_id           source  \\\n",
       "0 2018-04-22 21:58:35+00:00        post         2  importer-client   \n",
       "1 2018-04-22 21:58:58+00:00        post         2  importer-client   \n",
       "2 2018-04-22 23:06:58+00:00        post         2     phoenix-next   \n",
       "3 2018-04-22 22:06:20+00:00        post         2  importer-client   \n",
       "4 2018-04-22 22:21:17+00:00        post         2  importer-client   \n",
       "\n",
       "  action_serial_id channel  \n",
       "0           620990   other  \n",
       "1           620988   other  \n",
       "2           464361     web  \n",
       "3           620986   other  \n",
       "4           620977   other  "
      ]
     },
     "execution_count": 32,
     "metadata": {},
     "output_type": "execute_result"
    }
   ],
   "source": [
    "df_mel_gambitcheck.head()"
   ]
  },
  {
   "cell_type": "code",
   "execution_count": 33,
   "metadata": {},
   "outputs": [],
   "source": [
    "reg_numbers = df_mel.set_index('timestamp').groupby(pd.Grouper(freq='M')).agg(\n",
    "    {'northstar_id': lambda x: len(x.unique())})\n",
    "\n",
    "gambitupdate_numbers = df_mel_gambitcheck.set_index('timestamp').groupby(pd.Grouper(freq='M')).agg(\n",
    "    {'northstar_id': lambda x: len(x.unique())})"
   ]
  },
  {
   "cell_type": "code",
   "execution_count": 34,
   "metadata": {},
   "outputs": [
    {
     "data": {
      "text/plain": [
       "<matplotlib.legend.Legend at 0x115df1630>"
      ]
     },
     "execution_count": 34,
     "metadata": {},
     "output_type": "execute_result"
    },
    {
     "data": {
      "image/png": "[encoded data removed]",
      "text/plain": [
       "<Figure size 864x576 with 1 Axes>"
      ]
     },
     "metadata": {
      "needs_background": "light"
     },
     "output_type": "display_data"
    }
   ],
   "source": [
    "plt.plot(reg_numbers, label='Current')\n",
    "plt.plot(gambitupdate_numbers, label='Estimate', linestyle='--')\n",
    "plt.legend()"
   ]
  },
  {
   "cell_type": "code",
   "execution_count": 35,
   "metadata": {},
   "outputs": [
    {
     "data": {
      "text/plain": [
       "northstar_id   -0.061124\n",
       "dtype: float64"
      ]
     },
     "execution_count": 35,
     "metadata": {},
     "output_type": "execute_result"
    }
   ],
   "source": [
    "((gambitupdate_numbers - reg_numbers) / reg_numbers).mean()"
   ]
  },
  {
   "cell_type": "markdown",
   "metadata": {},
   "source": [
    "<b> No Action: </b> Duplicates here tend to be multi-part messages and not actual duplicates. \n",
    "\n",
    "<b> Action Item: </b> There is some user error around unsubscribing (e.g. NS ID = '554764a5469c64ed7d8b4f68'), where the user attempts to unsubscribe multiple times unsuccessfully. Consider flagging.\n",
    "\n",
    "<b> Possible Action Item: </b> I spotchecked Gambit conversation flows for around 10-12 of the 918 northstar_ids from above, and at least 75% were purely attempts to unsubscribe and included many 'declinedCampaign' statuses. It's probably not worth the effort to filter out these users. One proxy might be to exclude 'declinedCampaign', in which case the impact would be on average a 6% drop in MAMs over the year and no change for the past 3 months."
   ]
  },
  {
   "cell_type": "markdown",
   "metadata": {},
   "source": [
    "### Phoenix Next / SMS posts"
   ]
  },
  {
   "cell_type": "code",
   "execution_count": 36,
   "metadata": {},
   "outputs": [
    {
     "data": {
      "text/html": [
       "<div>\n",
       "<style scoped>\n",
       "    .dataframe tbody tr th:only-of-type {\n",
       "        vertical-align: middle;\n",
       "    }\n",
       "\n",
       "    .dataframe tbody tr th {\n",
       "        vertical-align: top;\n",
       "    }\n",
       "\n",
       "    .dataframe thead th {\n",
       "        text-align: right;\n",
       "    }\n",
       "</style>\n",
       "<table border=\"1\" class=\"dataframe\">\n",
       "  <thead>\n",
       "    <tr style=\"text-align: right;\">\n",
       "      <th></th>\n",
       "      <th>event_id</th>\n",
       "      <th>northstar_id</th>\n",
       "      <th>timestamp</th>\n",
       "      <th>action_type</th>\n",
       "      <th>action_id</th>\n",
       "      <th>source</th>\n",
       "      <th>action_serial_id</th>\n",
       "      <th>channel</th>\n",
       "    </tr>\n",
       "  </thead>\n",
       "  <tbody>\n",
       "    <tr>\n",
       "      <th>7229663</th>\n",
       "      <td>8b24147e00acc5e0bb225719f948eaa5</td>\n",
       "      <td>555520c4469c6430068b4dc5</td>\n",
       "      <td>2018-06-07 23:25:41+00:00</td>\n",
       "      <td>post</td>\n",
       "      <td>2</td>\n",
       "      <td>sms</td>\n",
       "      <td>540852</td>\n",
       "      <td>sms</td>\n",
       "    </tr>\n",
       "    <tr>\n",
       "      <th>7229664</th>\n",
       "      <td>40b695f9512f351574ebf0c5ccb4558d</td>\n",
       "      <td>555520c4469c6430068b4dc5</td>\n",
       "      <td>2018-06-07 23:25:41+00:00</td>\n",
       "      <td>post</td>\n",
       "      <td>2</td>\n",
       "      <td>sms</td>\n",
       "      <td>540853</td>\n",
       "      <td>sms</td>\n",
       "    </tr>\n",
       "    <tr>\n",
       "      <th>7229856</th>\n",
       "      <td>3118f630d80077c1e0f7067425ca3d86</td>\n",
       "      <td>55693e18469c6430068b9391</td>\n",
       "      <td>2018-06-07 20:17:53+00:00</td>\n",
       "      <td>post</td>\n",
       "      <td>2</td>\n",
       "      <td>sms</td>\n",
       "      <td>535116</td>\n",
       "      <td>sms</td>\n",
       "    </tr>\n",
       "    <tr>\n",
       "      <th>7229857</th>\n",
       "      <td>2ddd8191dc759f372cec6cc6401075c1</td>\n",
       "      <td>55693e18469c6430068b9391</td>\n",
       "      <td>2018-06-07 20:17:53+00:00</td>\n",
       "      <td>post</td>\n",
       "      <td>2</td>\n",
       "      <td>sms</td>\n",
       "      <td>535117</td>\n",
       "      <td>sms</td>\n",
       "    </tr>\n",
       "    <tr>\n",
       "      <th>7230012</th>\n",
       "      <td>4820f921a642774d30fdf1348bea059a</td>\n",
       "      <td>556f88c5469c64a1208b49ae</td>\n",
       "      <td>2018-06-07 19:25:28+00:00</td>\n",
       "      <td>post</td>\n",
       "      <td>2</td>\n",
       "      <td>sms</td>\n",
       "      <td>533287</td>\n",
       "      <td>sms</td>\n",
       "    </tr>\n",
       "    <tr>\n",
       "      <th>7230013</th>\n",
       "      <td>6d4458f10b2149c15c02c95b68f0389e</td>\n",
       "      <td>556f88c5469c64a1208b49ae</td>\n",
       "      <td>2018-06-07 19:25:28+00:00</td>\n",
       "      <td>post</td>\n",
       "      <td>2</td>\n",
       "      <td>sms</td>\n",
       "      <td>533288</td>\n",
       "      <td>sms</td>\n",
       "    </tr>\n",
       "    <tr>\n",
       "      <th>7230098</th>\n",
       "      <td>1c7eed0435fd64f4f3f5851ca2475660</td>\n",
       "      <td>5574ae92469c64f4768b4e75</td>\n",
       "      <td>2018-06-07 19:32:58+00:00</td>\n",
       "      <td>post</td>\n",
       "      <td>2</td>\n",
       "      <td>sms</td>\n",
       "      <td>533496</td>\n",
       "      <td>sms</td>\n",
       "    </tr>\n",
       "    <tr>\n",
       "      <th>7230099</th>\n",
       "      <td>637d55d86a7477c43fed126ae6371779</td>\n",
       "      <td>5574ae92469c64f4768b4e75</td>\n",
       "      <td>2018-06-07 19:32:58+00:00</td>\n",
       "      <td>post</td>\n",
       "      <td>2</td>\n",
       "      <td>sms</td>\n",
       "      <td>533497</td>\n",
       "      <td>sms</td>\n",
       "    </tr>\n",
       "    <tr>\n",
       "      <th>7230392</th>\n",
       "      <td>13a7eef8210bb7ca7da8afe8afb985b6</td>\n",
       "      <td>5589acc5469c6474138b7f4c</td>\n",
       "      <td>2018-06-08 02:05:14+00:00</td>\n",
       "      <td>post</td>\n",
       "      <td>2</td>\n",
       "      <td>sms</td>\n",
       "      <td>541991</td>\n",
       "      <td>sms</td>\n",
       "    </tr>\n",
       "    <tr>\n",
       "      <th>7230393</th>\n",
       "      <td>53145e8e7b0c65fa01d226180a47b369</td>\n",
       "      <td>5589acc5469c6474138b7f4c</td>\n",
       "      <td>2018-06-08 02:05:14+00:00</td>\n",
       "      <td>post</td>\n",
       "      <td>2</td>\n",
       "      <td>sms</td>\n",
       "      <td>541992</td>\n",
       "      <td>sms</td>\n",
       "    </tr>\n",
       "  </tbody>\n",
       "</table>\n",
       "</div>"
      ],
      "text/plain": [
       "                                 event_id              northstar_id  \\\n",
       "7229663  8b24147e00acc5e0bb225719f948eaa5  555520c4469c6430068b4dc5   \n",
       "7229664  40b695f9512f351574ebf0c5ccb4558d  555520c4469c6430068b4dc5   \n",
       "7229856  3118f630d80077c1e0f7067425ca3d86  55693e18469c6430068b9391   \n",
       "7229857  2ddd8191dc759f372cec6cc6401075c1  55693e18469c6430068b9391   \n",
       "7230012  4820f921a642774d30fdf1348bea059a  556f88c5469c64a1208b49ae   \n",
       "7230013  6d4458f10b2149c15c02c95b68f0389e  556f88c5469c64a1208b49ae   \n",
       "7230098  1c7eed0435fd64f4f3f5851ca2475660  5574ae92469c64f4768b4e75   \n",
       "7230099  637d55d86a7477c43fed126ae6371779  5574ae92469c64f4768b4e75   \n",
       "7230392  13a7eef8210bb7ca7da8afe8afb985b6  5589acc5469c6474138b7f4c   \n",
       "7230393  53145e8e7b0c65fa01d226180a47b369  5589acc5469c6474138b7f4c   \n",
       "\n",
       "                        timestamp action_type  action_id source  \\\n",
       "7229663 2018-06-07 23:25:41+00:00        post          2    sms   \n",
       "7229664 2018-06-07 23:25:41+00:00        post          2    sms   \n",
       "7229856 2018-06-07 20:17:53+00:00        post          2    sms   \n",
       "7229857 2018-06-07 20:17:53+00:00        post          2    sms   \n",
       "7230012 2018-06-07 19:25:28+00:00        post          2    sms   \n",
       "7230013 2018-06-07 19:25:28+00:00        post          2    sms   \n",
       "7230098 2018-06-07 19:32:58+00:00        post          2    sms   \n",
       "7230099 2018-06-07 19:32:58+00:00        post          2    sms   \n",
       "7230392 2018-06-08 02:05:14+00:00        post          2    sms   \n",
       "7230393 2018-06-08 02:05:14+00:00        post          2    sms   \n",
       "\n",
       "        action_serial_id channel  \n",
       "7229663           540852     sms  \n",
       "7229664           540853     sms  \n",
       "7229856           535116     sms  \n",
       "7229857           535117     sms  \n",
       "7230012           533287     sms  \n",
       "7230013           533288     sms  \n",
       "7230098           533496     sms  \n",
       "7230099           533497     sms  \n",
       "7230392           541991     sms  \n",
       "7230393           541992     sms  "
      ]
     },
     "execution_count": 36,
     "metadata": {},
     "output_type": "execute_result"
    }
   ],
   "source": [
    "df_dupes2[df_dupes2['source'] == 'sms'].head(10)"
   ]
  },
  {
   "cell_type": "code",
   "execution_count": 37,
   "metadata": {},
   "outputs": [
    {
     "data": {
      "text/html": [
       "<div>\n",
       "<style scoped>\n",
       "    .dataframe tbody tr th:only-of-type {\n",
       "        vertical-align: middle;\n",
       "    }\n",
       "\n",
       "    .dataframe tbody tr th {\n",
       "        vertical-align: top;\n",
       "    }\n",
       "\n",
       "    .dataframe thead th {\n",
       "        text-align: right;\n",
       "    }\n",
       "</style>\n",
       "<table border=\"1\" class=\"dataframe\">\n",
       "  <thead>\n",
       "    <tr style=\"text-align: right;\">\n",
       "      <th></th>\n",
       "      <th>event_id</th>\n",
       "      <th>northstar_id</th>\n",
       "      <th>timestamp</th>\n",
       "      <th>action_type</th>\n",
       "      <th>action_id</th>\n",
       "      <th>source</th>\n",
       "      <th>action_serial_id</th>\n",
       "      <th>channel</th>\n",
       "    </tr>\n",
       "  </thead>\n",
       "  <tbody>\n",
       "    <tr>\n",
       "      <th>6155533</th>\n",
       "      <td>eb62e4712946498a7fed9eaf248f4a44</td>\n",
       "      <td>5553747b469c64ec7d8b7372</td>\n",
       "      <td>2018-07-10 06:16:40+00:00</td>\n",
       "      <td>signup</td>\n",
       "      <td>1</td>\n",
       "      <td>phoenix-next</td>\n",
       "      <td>9312378</td>\n",
       "      <td>web</td>\n",
       "    </tr>\n",
       "    <tr>\n",
       "      <th>6155534</th>\n",
       "      <td>3311b33cba6ffdb2dc7a580fa2811531</td>\n",
       "      <td>5553747b469c64ec7d8b7372</td>\n",
       "      <td>2018-07-10 06:16:40+00:00</td>\n",
       "      <td>signup</td>\n",
       "      <td>1</td>\n",
       "      <td>phoenix-next</td>\n",
       "      <td>9312379</td>\n",
       "      <td>web</td>\n",
       "    </tr>\n",
       "    <tr>\n",
       "      <th>6157655</th>\n",
       "      <td>29db0b222449f2862b469fa6770b70d7</td>\n",
       "      <td>556b59fb469c6416048b9ba2</td>\n",
       "      <td>2018-06-22 23:23:28+00:00</td>\n",
       "      <td>signup</td>\n",
       "      <td>1</td>\n",
       "      <td>phoenix-next</td>\n",
       "      <td>9282903</td>\n",
       "      <td>web</td>\n",
       "    </tr>\n",
       "    <tr>\n",
       "      <th>6157656</th>\n",
       "      <td>10221fd753559aaa2d58ba776e8f28ed</td>\n",
       "      <td>556b59fb469c6416048b9ba2</td>\n",
       "      <td>2018-06-22 23:23:28+00:00</td>\n",
       "      <td>signup</td>\n",
       "      <td>1</td>\n",
       "      <td>phoenix-next</td>\n",
       "      <td>9282904</td>\n",
       "      <td>web</td>\n",
       "    </tr>\n",
       "    <tr>\n",
       "      <th>6159861</th>\n",
       "      <td>c7de5a4600dd49556daebd594187863b</td>\n",
       "      <td>5574aaac469c648c778b4c9c</td>\n",
       "      <td>2018-07-10 15:00:05+00:00</td>\n",
       "      <td>signup</td>\n",
       "      <td>1</td>\n",
       "      <td>phoenix-next</td>\n",
       "      <td>9312852</td>\n",
       "      <td>web</td>\n",
       "    </tr>\n",
       "    <tr>\n",
       "      <th>6159862</th>\n",
       "      <td>579b96d61b0655ea2a1f9c25b7b6686b</td>\n",
       "      <td>5574aaac469c648c778b4c9c</td>\n",
       "      <td>2018-07-10 15:00:05+00:00</td>\n",
       "      <td>signup</td>\n",
       "      <td>1</td>\n",
       "      <td>phoenix-next</td>\n",
       "      <td>9312853</td>\n",
       "      <td>web</td>\n",
       "    </tr>\n",
       "    <tr>\n",
       "      <th>6160562</th>\n",
       "      <td>a08fabcc8257c76dddcfba50c216c8fc</td>\n",
       "      <td>5579e3c0469c648c778b6184</td>\n",
       "      <td>2018-08-08 06:13:33+00:00</td>\n",
       "      <td>signup</td>\n",
       "      <td>1</td>\n",
       "      <td>phoenix-next</td>\n",
       "      <td>9377474</td>\n",
       "      <td>web</td>\n",
       "    </tr>\n",
       "    <tr>\n",
       "      <th>6160563</th>\n",
       "      <td>5d508064daacb4bf32bac4b536752e17</td>\n",
       "      <td>5579e3c0469c648c778b6184</td>\n",
       "      <td>2018-08-08 06:13:33+00:00</td>\n",
       "      <td>signup</td>\n",
       "      <td>1</td>\n",
       "      <td>phoenix-next</td>\n",
       "      <td>9377475</td>\n",
       "      <td>web</td>\n",
       "    </tr>\n",
       "    <tr>\n",
       "      <th>6160990</th>\n",
       "      <td>819b95ddc4d71d1f4666e79f5dd34ef8</td>\n",
       "      <td>557f1089469c648c778b6f7f</td>\n",
       "      <td>2018-03-14 02:42:02+00:00</td>\n",
       "      <td>signup</td>\n",
       "      <td>1</td>\n",
       "      <td>phoenix-next</td>\n",
       "      <td>8961794</td>\n",
       "      <td>web</td>\n",
       "    </tr>\n",
       "    <tr>\n",
       "      <th>6160991</th>\n",
       "      <td>9d181f262db87d9ce0c6cb10d072faf8</td>\n",
       "      <td>557f1089469c648c778b6f7f</td>\n",
       "      <td>2018-03-14 02:42:02+00:00</td>\n",
       "      <td>signup</td>\n",
       "      <td>1</td>\n",
       "      <td>phoenix-next</td>\n",
       "      <td>8961795</td>\n",
       "      <td>web</td>\n",
       "    </tr>\n",
       "  </tbody>\n",
       "</table>\n",
       "</div>"
      ],
      "text/plain": [
       "                                 event_id              northstar_id  \\\n",
       "6155533  eb62e4712946498a7fed9eaf248f4a44  5553747b469c64ec7d8b7372   \n",
       "6155534  3311b33cba6ffdb2dc7a580fa2811531  5553747b469c64ec7d8b7372   \n",
       "6157655  29db0b222449f2862b469fa6770b70d7  556b59fb469c6416048b9ba2   \n",
       "6157656  10221fd753559aaa2d58ba776e8f28ed  556b59fb469c6416048b9ba2   \n",
       "6159861  c7de5a4600dd49556daebd594187863b  5574aaac469c648c778b4c9c   \n",
       "6159862  579b96d61b0655ea2a1f9c25b7b6686b  5574aaac469c648c778b4c9c   \n",
       "6160562  a08fabcc8257c76dddcfba50c216c8fc  5579e3c0469c648c778b6184   \n",
       "6160563  5d508064daacb4bf32bac4b536752e17  5579e3c0469c648c778b6184   \n",
       "6160990  819b95ddc4d71d1f4666e79f5dd34ef8  557f1089469c648c778b6f7f   \n",
       "6160991  9d181f262db87d9ce0c6cb10d072faf8  557f1089469c648c778b6f7f   \n",
       "\n",
       "                        timestamp action_type  action_id        source  \\\n",
       "6155533 2018-07-10 06:16:40+00:00      signup          1  phoenix-next   \n",
       "6155534 2018-07-10 06:16:40+00:00      signup          1  phoenix-next   \n",
       "6157655 2018-06-22 23:23:28+00:00      signup          1  phoenix-next   \n",
       "6157656 2018-06-22 23:23:28+00:00      signup          1  phoenix-next   \n",
       "6159861 2018-07-10 15:00:05+00:00      signup          1  phoenix-next   \n",
       "6159862 2018-07-10 15:00:05+00:00      signup          1  phoenix-next   \n",
       "6160562 2018-08-08 06:13:33+00:00      signup          1  phoenix-next   \n",
       "6160563 2018-08-08 06:13:33+00:00      signup          1  phoenix-next   \n",
       "6160990 2018-03-14 02:42:02+00:00      signup          1  phoenix-next   \n",
       "6160991 2018-03-14 02:42:02+00:00      signup          1  phoenix-next   \n",
       "\n",
       "        action_serial_id channel  \n",
       "6155533          9312378     web  \n",
       "6155534          9312379     web  \n",
       "6157655          9282903     web  \n",
       "6157656          9282904     web  \n",
       "6159861          9312852     web  \n",
       "6159862          9312853     web  \n",
       "6160562          9377474     web  \n",
       "6160563          9377475     web  \n",
       "6160990          8961794     web  \n",
       "6160991          8961795     web  "
      ]
     },
     "execution_count": 37,
     "metadata": {},
     "output_type": "execute_result"
    }
   ],
   "source": [
    "df_dupes2[df_dupes2['source'] == 'phoenix-next'].head(10)"
   ]
  },
  {
   "cell_type": "code",
   "execution_count": 38,
   "metadata": {},
   "outputs": [],
   "source": [
    "dupe_signup_count_sql = '''\n",
    "SELECT DATE_TRUNC('month', updated_at) as month, count(*) as num_dupes\n",
    "FROM (\n",
    "\tSELECT northstar_id, campaign_id, campaign_run_id, \"source\", updated_at, count(*)\n",
    "\tFROM rogue.signups\n",
    "    WHERE created_at between '2018-01-01' and '2018-11-01'\n",
    "\tGROUP BY northstar_id, campaign_id, campaign_run_id, \"source\", updated_at\n",
    "\tHAVING COUNT(*) > 1\n",
    "\tORDER BY northstar_id, campaign_id, updated_at\n",
    ") a\n",
    "GROUP BY DATE_TRUNC('month', a.updated_at)\n",
    "ORDER BY DATE_TRUNC('month', a.updated_at);\n",
    "'''\n",
    "\n",
    "df_dupe_signup_count = pd.read_sql(dupe_signup_count_sql, con=conn, index_col='month')"
   ]
  },
  {
   "cell_type": "code",
   "execution_count": 39,
   "metadata": {
    "scrolled": false
   },
   "outputs": [
    {
     "data": {
      "image/png": "[encoded data removed]",
      "text/plain": [
       "<Figure size 864x576 with 1 Axes>"
      ]
     },
     "metadata": {
      "needs_background": "light"
     },
     "output_type": "display_data"
    }
   ],
   "source": [
    "df_dupe_signup_count.plot();"
   ]
  },
  {
   "cell_type": "markdown",
   "metadata": {},
   "source": [
    "<b> No action: </b> Post duplicates are multi-part messages. But, do we want to store multiple parts of a message as separate posts? Does it matter for reportbacks?\n",
    "\n",
    "<b> Action Item: </b> Some of the signup duplicates are not actual duplicates (they differ by campaign_id). The number of identical duplicates are plotted above. This will not affect MAMs but might be worth flagging if it's unexpected behavior."
   ]
  },
  {
   "cell_type": "markdown",
   "metadata": {},
   "source": [
    "### Look at action_type and channel combinations"
   ]
  },
  {
   "cell_type": "code",
   "execution_count": 40,
   "metadata": {},
   "outputs": [
    {
     "data": {
      "text/html": [
       "<div>\n",
       "<style scoped>\n",
       "    .dataframe tbody tr th:only-of-type {\n",
       "        vertical-align: middle;\n",
       "    }\n",
       "\n",
       "    .dataframe tbody tr th {\n",
       "        vertical-align: top;\n",
       "    }\n",
       "\n",
       "    .dataframe thead th {\n",
       "        text-align: right;\n",
       "    }\n",
       "</style>\n",
       "<table border=\"1\" class=\"dataframe\">\n",
       "  <thead>\n",
       "    <tr style=\"text-align: right;\">\n",
       "      <th></th>\n",
       "      <th></th>\n",
       "      <th>northstar_id</th>\n",
       "    </tr>\n",
       "    <tr>\n",
       "      <th>channel</th>\n",
       "      <th>action_type</th>\n",
       "      <th></th>\n",
       "    </tr>\n",
       "  </thead>\n",
       "  <tbody>\n",
       "    <tr>\n",
       "      <th rowspan=\"2\" valign=\"top\">email</th>\n",
       "      <th>clicked_link</th>\n",
       "      <td>123749</td>\n",
       "    </tr>\n",
       "    <tr>\n",
       "      <th>signup</th>\n",
       "      <td>24</td>\n",
       "    </tr>\n",
       "    <tr>\n",
       "      <th rowspan=\"2\" valign=\"top\">niche_coregistration</th>\n",
       "      <th>account_creation</th>\n",
       "      <td>99290</td>\n",
       "    </tr>\n",
       "    <tr>\n",
       "      <th>signup</th>\n",
       "      <td>112739</td>\n",
       "    </tr>\n",
       "    <tr>\n",
       "      <th rowspan=\"2\" valign=\"top\">other</th>\n",
       "      <th>account_creation</th>\n",
       "      <td>1799</td>\n",
       "    </tr>\n",
       "    <tr>\n",
       "      <th>post</th>\n",
       "      <td>42569</td>\n",
       "    </tr>\n",
       "    <tr>\n",
       "      <th rowspan=\"7\" valign=\"top\">sms</th>\n",
       "      <th>account_creation</th>\n",
       "      <td>7052</td>\n",
       "    </tr>\n",
       "    <tr>\n",
       "      <th>bertly_link_click</th>\n",
       "      <td>159841</td>\n",
       "    </tr>\n",
       "    <tr>\n",
       "      <th>bertly_link_preview</th>\n",
       "      <td>176128</td>\n",
       "    </tr>\n",
       "    <tr>\n",
       "      <th>bertly_link_uncertain</th>\n",
       "      <td>142240</td>\n",
       "    </tr>\n",
       "    <tr>\n",
       "      <th>messaged_gambit</th>\n",
       "      <td>464408</td>\n",
       "    </tr>\n",
       "    <tr>\n",
       "      <th>post</th>\n",
       "      <td>14107</td>\n",
       "    </tr>\n",
       "    <tr>\n",
       "      <th>signup</th>\n",
       "      <td>286792</td>\n",
       "    </tr>\n",
       "    <tr>\n",
       "      <th rowspan=\"8\" valign=\"top\">web</th>\n",
       "      <th>account_creation</th>\n",
       "      <td>312596</td>\n",
       "    </tr>\n",
       "    <tr>\n",
       "      <th>bertly_link_click</th>\n",
       "      <td>1380</td>\n",
       "    </tr>\n",
       "    <tr>\n",
       "      <th>bertly_link_preview</th>\n",
       "      <td>5</td>\n",
       "    </tr>\n",
       "    <tr>\n",
       "      <th>bertly_link_uncertain</th>\n",
       "      <td>2243</td>\n",
       "    </tr>\n",
       "    <tr>\n",
       "      <th>post</th>\n",
       "      <td>145779</td>\n",
       "    </tr>\n",
       "    <tr>\n",
       "      <th>signup</th>\n",
       "      <td>353677</td>\n",
       "    </tr>\n",
       "    <tr>\n",
       "      <th>site_access</th>\n",
       "      <td>385335</td>\n",
       "    </tr>\n",
       "    <tr>\n",
       "      <th>site_login</th>\n",
       "      <td>385837</td>\n",
       "    </tr>\n",
       "  </tbody>\n",
       "</table>\n",
       "</div>"
      ],
      "text/plain": [
       "                                            northstar_id\n",
       "channel              action_type                        \n",
       "email                clicked_link                 123749\n",
       "                     signup                           24\n",
       "niche_coregistration account_creation              99290\n",
       "                     signup                       112739\n",
       "other                account_creation               1799\n",
       "                     post                          42569\n",
       "sms                  account_creation               7052\n",
       "                     bertly_link_click            159841\n",
       "                     bertly_link_preview          176128\n",
       "                     bertly_link_uncertain        142240\n",
       "                     messaged_gambit              464408\n",
       "                     post                          14107\n",
       "                     signup                       286792\n",
       "web                  account_creation             312596\n",
       "                     bertly_link_click              1380\n",
       "                     bertly_link_preview               5\n",
       "                     bertly_link_uncertain          2243\n",
       "                     post                         145779\n",
       "                     signup                       353677\n",
       "                     site_access                  385335\n",
       "                     site_login                   385837"
      ]
     },
     "execution_count": 40,
     "metadata": {},
     "output_type": "execute_result"
    }
   ],
   "source": [
    "df_mel.groupby(['channel', 'action_type']).agg({'northstar_id': lambda x: len(x.unique())})"
   ]
  },
  {
   "cell_type": "code",
   "execution_count": 41,
   "metadata": {},
   "outputs": [
    {
     "data": {
      "text/plain": [
       "northstar          838\n",
       "GDPR               722\n",
       "runscope-client    229\n",
       "rogue-oauth          8\n",
       "aurora-oauth         1\n",
       "nightwing-oauth      1\n",
       "Name: source, dtype: int64"
      ]
     },
     "execution_count": 41,
     "metadata": {},
     "output_type": "execute_result"
    }
   ],
   "source": [
    "df_mel[(df_mel['channel'] == 'other') & (df_mel['action_type'] == 'account_creation')]['source'].value_counts()"
   ]
  },
  {
   "cell_type": "code",
   "execution_count": 42,
   "metadata": {},
   "outputs": [
    {
     "data": {
      "text/plain": [
       "importer-client    57084\n",
       "rogue-admin           43\n",
       "rogue-oauth           38\n",
       "Name: source, dtype: int64"
      ]
     },
     "execution_count": 42,
     "metadata": {},
     "output_type": "execute_result"
    }
   ],
   "source": [
    "df_mel[(df_mel['channel'] == 'other') & (df_mel['action_type'] == 'post')]['source'].value_counts()"
   ]
  },
  {
   "cell_type": "markdown",
   "metadata": {},
   "source": [
    "<b>Action Item:</b> What can we clean up from the below?    \n",
    "\n",
    "- Other + account_creation: GDPR, -oauth, and runscope-client sources? Is northstar okay?\n",
    "- Other + post: rogue-oauth, rogue-admin, importer-client\n",
    "- Web + bertly actions: I know that this is intended based on the target URL, but I guess it's not necessarily clear what source means (e.g. a link sourced from web vs email but sent via SMS?)."
   ]
  },
  {
   "cell_type": "markdown",
   "metadata": {},
   "source": [
    "### Check User ID consistency"
   ]
  },
  {
   "cell_type": "code",
   "execution_count": 43,
   "metadata": {},
   "outputs": [],
   "source": [
    "def find_length(x):\n",
    "    if isinstance(x, float):\n",
    "        return 0\n",
    "    else:\n",
    "        return len(x)"
   ]
  },
  {
   "cell_type": "code",
   "execution_count": 44,
   "metadata": {},
   "outputs": [],
   "source": [
    "df_mel['len_ns_id'] = df_mel['northstar_id'].apply(find_length)"
   ]
  },
  {
   "cell_type": "code",
   "execution_count": 45,
   "metadata": {},
   "outputs": [
    {
     "data": {
      "text/plain": [
       "count    7.312195e+06\n",
       "mean     2.399855e+01\n",
       "std      1.146491e-01\n",
       "min      0.000000e+00\n",
       "25%      2.400000e+01\n",
       "50%      2.400000e+01\n",
       "75%      2.400000e+01\n",
       "max      2.400000e+01\n",
       "Name: len_ns_id, dtype: float64"
      ]
     },
     "execution_count": 45,
     "metadata": {},
     "output_type": "execute_result"
    }
   ],
   "source": [
    "df_mel['len_ns_id'].describe()"
   ]
  },
  {
   "cell_type": "code",
   "execution_count": 46,
   "metadata": {},
   "outputs": [
    {
     "data": {
      "text/plain": [
       "22    3611\n",
       "0      140\n",
       "5        2\n",
       "6        1\n",
       "Name: len_ns_id, dtype: int64"
      ]
     },
     "execution_count": 46,
     "metadata": {},
     "output_type": "execute_result"
    }
   ],
   "source": [
    "df_mel[df_mel['len_ns_id'] != 24]['len_ns_id'].value_counts()"
   ]
  },
  {
   "cell_type": "code",
   "execution_count": 47,
   "metadata": {},
   "outputs": [
    {
     "data": {
      "text/plain": [
       "bertly_link_uncertain    3169\n",
       "bertly_link_preview       492\n",
       "bertly_link_click          87\n",
       "clicked_link                6\n",
       "Name: action_type, dtype: int64"
      ]
     },
     "execution_count": 47,
     "metadata": {},
     "output_type": "execute_result"
    }
   ],
   "source": [
    "df_mel[df_mel['len_ns_id'] != 24]['action_type'].value_counts()"
   ]
  },
  {
   "cell_type": "code",
   "execution_count": 48,
   "metadata": {},
   "outputs": [
    {
     "data": {
      "text/plain": [
       "sms      3618\n",
       "web       130\n",
       "email       6\n",
       "Name: channel, dtype: int64"
      ]
     },
     "execution_count": 48,
     "metadata": {},
     "output_type": "execute_result"
    }
   ],
   "source": [
    "df_mel[df_mel['len_ns_id'] != 24]['channel'].value_counts()"
   ]
  },
  {
   "cell_type": "markdown",
   "metadata": {},
   "source": [
    "<b> Action Item: </b> Is this a known issue or related to the way that NS gets pulled for bertly table?"
   ]
  },
  {
   "cell_type": "markdown",
   "metadata": {},
   "source": [
    "### Check source values"
   ]
  },
  {
   "cell_type": "code",
   "execution_count": 49,
   "metadata": {},
   "outputs": [],
   "source": [
    "source_counts = df_mel.groupby(['action_type', 'source'])['northstar_id'].count()"
   ]
  },
  {
   "cell_type": "code",
   "execution_count": 51,
   "metadata": {
    "scrolled": false
   },
   "outputs": [
    {
     "name": "stdout",
     "output_type": "stream",
     "text": [
      "account_creation\n",
      "source\n",
      "GDPR                  722\n",
      "aurora-oauth            1\n",
      "niche               99290\n",
      "nightwing-oauth         1\n",
      "northstar             838\n",
      "phoenix-next       279629\n",
      "phoenix-oauth       32967\n",
      "rogue-oauth             8\n",
      "runscope-client       229\n",
      "sms                  7052\n",
      "Name: northstar_id, dtype: int64 \n",
      "\n",
      "clicked_link\n",
      "source\n",
      "1    316423\n",
      "2    263782\n",
      "3     18142\n",
      "4       265\n",
      "5        98\n",
      "6       305\n",
      "7      6488\n",
      "8      3600\n",
      "9      3219\n",
      "Name: northstar_id, dtype: int64 \n",
      "\n",
      "messaged_gambit\n",
      "source\n",
      "SMS    1554350\n",
      "Name: northstar_id, dtype: int64 \n",
      "\n",
      "post\n",
      "source\n",
      "importer-client    57084\n",
      "phoenix-ashes         19\n",
      "phoenix-next       72005\n",
      "phoenix-web          250\n",
      "rock-the-vote      90375\n",
      "rogue-admin           43\n",
      "rogue-oauth           38\n",
      "sms                18835\n",
      "turbovote          14892\n",
      "Name: northstar_id, dtype: int64 \n",
      "\n",
      "signup\n",
      "source\n",
      "11facts                   1\n",
      "campaigns              6511\n",
      "dev-oauth                 1\n",
      "ds_scholarship          483\n",
      "email                    24\n",
      "fastweb                  13\n",
      "niche                112960\n",
      "node/1141               690\n",
      "node/152                  1\n",
      "node/3298               950\n",
      "node/3307               149\n",
      "node/3490                60\n",
      "node/3510                17\n",
      "node/3590                 2\n",
      "node/4131                54\n",
      "node/4220                 2\n",
      "node/451                  1\n",
      "node/479                  1\n",
      "node/4965                89\n",
      "node/5696                91\n",
      "node/5840                 1\n",
      "node/617                  1\n",
      "node/688                  1\n",
      "node/775                  1\n",
      "partner                  67\n",
      "paw                       1\n",
      "phoenix-ashes          4367\n",
      "phoenix-next         459080\n",
      "phoenix-web              10\n",
      "rogue-oauth               4\n",
      "runscope                 20\n",
      "runscope-oauth           19\n",
      "sms                  489795\n",
      "sms-mobilecommons        61\n",
      "taxonomy/term/19          3\n",
      "thewall                   5\n",
      "Name: northstar_id, dtype: int64 \n",
      "\n"
     ]
    }
   ],
   "source": [
    "for idx in source_counts.index.levels[0]:\n",
    "    if idx not in ['site_access', 'site_login', 'bertly_link_click', 'bertly_link_preview', 'bertly_link_uncertain']:\n",
    "        print(idx)\n",
    "        print(source_counts[idx], '\\n')"
   ]
  },
  {
   "cell_type": "markdown",
   "metadata": {},
   "source": [
    "Could this use some cleanup?"
   ]
  },
  {
   "cell_type": "markdown",
   "metadata": {},
   "source": [
    "### RTV Data Ingestion - Estimated Impact \n",
    "\n",
    "#### NOTE: This has already been cleaned up so the below analysis is now stale. If you'd like to reproduce the graphs below, I can provide a snapshot of MEL activity pre-cleaning.\n",
    "\n",
    "Compare RTV counts by import date vs. registered date to see the extent to which MAM might be inflated."
   ]
  },
  {
   "cell_type": "code",
   "execution_count": 38,
   "metadata": {},
   "outputs": [],
   "source": [
    "ca_vote_sql = '''\n",
    "select *\n",
    "from public.campaign_activity\n",
    "where signup_created_at between '2018-01-01' and '2018-11-01' \n",
    "'''\n",
    "\n",
    "df_ca = pd.read_sql(ca_vote_sql, con=conn)"
   ]
  },
  {
   "cell_type": "code",
   "execution_count": 39,
   "metadata": {
    "scrolled": true
   },
   "outputs": [
    {
     "data": {
      "text/plain": [
       "rock-the-vote      155835\n",
       "phoenix-next         6513\n",
       "sms                  2930\n",
       "importer-client        18\n",
       "Name: signup_source, dtype: int64"
      ]
     },
     "execution_count": 39,
     "metadata": {},
     "output_type": "execute_result"
    }
   ],
   "source": [
    "# should signup source be importer-client for these rows in campaign activity, or rock-the-vote? \n",
    "df_ca[(df_ca['post_source'] == 'rock-the-vote')]['signup_source'].value_counts()"
   ]
  },
  {
   "cell_type": "code",
   "execution_count": 40,
   "metadata": {},
   "outputs": [
    {
     "data": {
      "text/plain": [
       "post      161312\n",
       "signup    151984\n",
       "Name: action_type, dtype: int64"
      ]
     },
     "execution_count": 40,
     "metadata": {},
     "output_type": "execute_result"
    }
   ],
   "source": [
    "df_mel[df_mel['source'] == 'rock-the-vote']['action_type'].value_counts()"
   ]
  },
  {
   "cell_type": "code",
   "execution_count": 41,
   "metadata": {},
   "outputs": [
    {
     "data": {
      "text/plain": [
       "5bb98041664abb00bc335482    2\n",
       "5ba55d264a047f008c54cae7    2\n",
       "5bc8fd6e92f7af00ce77b615    2\n",
       "5bca09c292f7af00a9432456    2\n",
       "5bd04a8f3f4bdf00b82d4484    2\n",
       "Name: northstar_id, dtype: int64"
      ]
     },
     "execution_count": 41,
     "metadata": {},
     "output_type": "execute_result"
    }
   ],
   "source": [
    "df_mel[(df_mel['action_type'] == 'signup') & (\n",
    "    df_mel['source'] == 'rock-the-vote')]['northstar_id'].value_counts().head()"
   ]
  },
  {
   "cell_type": "code",
   "execution_count": 42,
   "metadata": {},
   "outputs": [
    {
     "data": {
      "text/html": [
       "<div>\n",
       "<style scoped>\n",
       "    .dataframe tbody tr th:only-of-type {\n",
       "        vertical-align: middle;\n",
       "    }\n",
       "\n",
       "    .dataframe tbody tr th {\n",
       "        vertical-align: top;\n",
       "    }\n",
       "\n",
       "    .dataframe thead th {\n",
       "        text-align: right;\n",
       "    }\n",
       "</style>\n",
       "<table border=\"1\" class=\"dataframe\">\n",
       "  <thead>\n",
       "    <tr style=\"text-align: right;\">\n",
       "      <th></th>\n",
       "      <th>event_id</th>\n",
       "      <th>northstar_id</th>\n",
       "      <th>timestamp</th>\n",
       "      <th>action_type</th>\n",
       "      <th>action_id</th>\n",
       "      <th>source</th>\n",
       "      <th>action_serial_id</th>\n",
       "      <th>channel</th>\n",
       "      <th>len_ns_id</th>\n",
       "    </tr>\n",
       "  </thead>\n",
       "  <tbody>\n",
       "    <tr>\n",
       "      <th>5342505</th>\n",
       "      <td>d9df3bc57c4a878459f9327830f259a3</td>\n",
       "      <td>56fddf46469c647a428c138a</td>\n",
       "      <td>2018-10-19 19:18:15</td>\n",
       "      <td>signup</td>\n",
       "      <td>1</td>\n",
       "      <td>rock-the-vote</td>\n",
       "      <td>9629460</td>\n",
       "      <td>web</td>\n",
       "      <td>24</td>\n",
       "    </tr>\n",
       "    <tr>\n",
       "      <th>5342506</th>\n",
       "      <td>f9f2df00d30fa9ec95bd946017b4e835</td>\n",
       "      <td>56fddf46469c647a428c138a</td>\n",
       "      <td>2018-10-19 21:10:31</td>\n",
       "      <td>signup</td>\n",
       "      <td>1</td>\n",
       "      <td>rock-the-vote</td>\n",
       "      <td>9634423</td>\n",
       "      <td>web</td>\n",
       "      <td>24</td>\n",
       "    </tr>\n",
       "  </tbody>\n",
       "</table>\n",
       "</div>"
      ],
      "text/plain": [
       "                                 event_id              northstar_id  \\\n",
       "5342505  d9df3bc57c4a878459f9327830f259a3  56fddf46469c647a428c138a   \n",
       "5342506  f9f2df00d30fa9ec95bd946017b4e835  56fddf46469c647a428c138a   \n",
       "\n",
       "                  timestamp action_type  action_id         source  \\\n",
       "5342505 2018-10-19 19:18:15      signup          1  rock-the-vote   \n",
       "5342506 2018-10-19 21:10:31      signup          1  rock-the-vote   \n",
       "\n",
       "        action_serial_id channel  len_ns_id  \n",
       "5342505          9629460     web         24  \n",
       "5342506          9634423     web         24  "
      ]
     },
     "execution_count": 42,
     "metadata": {},
     "output_type": "execute_result"
    }
   ],
   "source": [
    "df_mel[(df_mel['action_type'] == 'signup') & (df_mel['source'] == 'rock-the-vote') & (\n",
    "    df_mel['northstar_id'] == '56fddf46469c647a428c138a')]"
   ]
  },
  {
   "cell_type": "markdown",
   "metadata": {},
   "source": [
    "Remove duplicates in both tables keeping the most recent."
   ]
  },
  {
   "cell_type": "code",
   "execution_count": 43,
   "metadata": {},
   "outputs": [],
   "source": [
    "df_mel = df_mel.sort_values(['northstar_id', 'timestamp'])\n",
    "df_mel = df_mel[~((df_mel['action_type'] == 'signup') & (df_mel['source'] == 'rock-the-vote') & (\n",
    "    df_mel.duplicated(['northstar_id', 'action_type', 'source'], keep='last')))]"
   ]
  },
  {
   "cell_type": "code",
   "execution_count": 44,
   "metadata": {},
   "outputs": [],
   "source": [
    "df_mel = df_mel[~((df_mel['action_type'] == 'post') & (df_mel['source'] == 'rock-the-vote') & (\n",
    "    df_mel.duplicated(['northstar_id', 'action_type', 'source'], keep='last')))]"
   ]
  },
  {
   "cell_type": "code",
   "execution_count": 45,
   "metadata": {},
   "outputs": [],
   "source": [
    "df_ca = df_ca.sort_values(['northstar_id', 'post_created_at'])\n",
    "df_ca = df_ca[~((df_ca['post_source'] == 'rock-the-vote') & (df_ca['signup_source'] == 'rock-the-vote') & (\n",
    "    df_ca.duplicated(['northstar_id', 'post_source', 'signup_source'], keep='last')))]"
   ]
  },
  {
   "cell_type": "markdown",
   "metadata": {},
   "source": [
    "Visualize count differences."
   ]
  },
  {
   "cell_type": "code",
   "execution_count": 46,
   "metadata": {},
   "outputs": [],
   "source": [
    "reg_counts_bymonth = df_ca[(df_ca['post_source'] == 'rock-the-vote')].set_index('post_created_at').groupby(\n",
    "    pd.Grouper(freq='M'))['northstar_id'].count()"
   ]
  },
  {
   "cell_type": "code",
   "execution_count": 47,
   "metadata": {},
   "outputs": [
    {
     "data": {
      "text/plain": [
       "post_created_at\n",
       "2018-05-31     4439\n",
       "2018-06-30     8628\n",
       "2018-07-31    18549\n",
       "2018-08-31    21006\n",
       "2018-09-30    43078\n",
       "2018-10-31    69181\n",
       "Freq: M, Name: northstar_id, dtype: int64"
      ]
     },
     "execution_count": 47,
     "metadata": {},
     "output_type": "execute_result"
    }
   ],
   "source": [
    "reg_counts_bymonth"
   ]
  },
  {
   "cell_type": "code",
   "execution_count": 48,
   "metadata": {},
   "outputs": [],
   "source": [
    "chompy_counts_bymonth = df_mel[(df_mel['source'] == 'rock-the-vote') & (df_mel['action_type'] == 'post')].set_index('timestamp').groupby(\n",
    "    pd.Grouper(freq='M'))['northstar_id'].count()"
   ]
  },
  {
   "cell_type": "code",
   "execution_count": 49,
   "metadata": {},
   "outputs": [
    {
     "data": {
      "text/plain": [
       "timestamp\n",
       "2018-08-31       808\n",
       "2018-09-30         0\n",
       "2018-10-31    159087\n",
       "Freq: M, Name: northstar_id, dtype: int64"
      ]
     },
     "execution_count": 49,
     "metadata": {},
     "output_type": "execute_result"
    }
   ],
   "source": [
    "chompy_counts_bymonth"
   ]
  },
  {
   "cell_type": "code",
   "execution_count": 50,
   "metadata": {},
   "outputs": [],
   "source": [
    "merged_df = pd.merge(\n",
    "    reg_counts_bymonth.reset_index().rename(columns={'post_created_at': 'timestamp'}),\n",
    "    chompy_counts_bymonth.reset_index(),\n",
    "    on='timestamp',\n",
    "    how='left',\n",
    "    suffixes=('_reg', '_chompy')\n",
    ").fillna(0)"
   ]
  },
  {
   "cell_type": "code",
   "execution_count": 51,
   "metadata": {},
   "outputs": [
    {
     "data": {
      "image/png": "[encoded data removed]",
      "text/plain": [
       "<Figure size 720x432 with 1 Axes>"
      ]
     },
     "metadata": {
      "needs_background": "light"
     },
     "output_type": "display_data"
    }
   ],
   "source": [
    "fig, ax = plt.subplots()\n",
    "ax.bar(\n",
    "    merged_df['timestamp'].values - pd.Timedelta(days=30), merged_df['northstar_id_reg'], width=10, label='registered')\n",
    "ax.bar(\n",
    "    merged_df['timestamp'].values - pd.Timedelta(days=20), merged_df['northstar_id_chompy'], width=10, label='account created')\n",
    "ax.legend()\n",
    "fig.set_size_inches(10, 6)\n",
    "ax.set_title('Comparison of Chompy vs. RTV counts');"
   ]
  },
  {
   "cell_type": "markdown",
   "metadata": {},
   "source": [
    "If we were to look at the remaining members who did not actually register to vote in October, did they perform another action that would still make them active that month?"
   ]
  },
  {
   "cell_type": "code",
   "execution_count": 52,
   "metadata": {},
   "outputs": [],
   "source": [
    "mel_ns_ids = df_mel[(df_mel['source'] == 'rock-the-vote') & (df_mel['action_type'] == 'post') & (\n",
    "df_mel['timestamp'] >= '2018-10-01')]['northstar_id']"
   ]
  },
  {
   "cell_type": "code",
   "execution_count": 53,
   "metadata": {},
   "outputs": [],
   "source": [
    "ca_ns_ids = df_ca[\n",
    "    (df_ca['post_source'] == 'rock-the-vote') & (df_ca['post_created_at'] >= '2018-10-01')]['northstar_id']"
   ]
  },
  {
   "cell_type": "code",
   "execution_count": 54,
   "metadata": {},
   "outputs": [],
   "source": [
    "mel_remaining_ns_ids = list(set(mel_ns_ids) - set(ca_ns_ids))"
   ]
  },
  {
   "cell_type": "code",
   "execution_count": 55,
   "metadata": {},
   "outputs": [
    {
     "data": {
      "text/plain": [
       "94062"
      ]
     },
     "execution_count": 55,
     "metadata": {},
     "output_type": "execute_result"
    }
   ],
   "source": [
    "len(mel_remaining_ns_ids)"
   ]
  },
  {
   "cell_type": "code",
   "execution_count": 56,
   "metadata": {},
   "outputs": [
    {
     "data": {
      "text/html": [
       "<div>\n",
       "<style scoped>\n",
       "    .dataframe tbody tr th:only-of-type {\n",
       "        vertical-align: middle;\n",
       "    }\n",
       "\n",
       "    .dataframe tbody tr th {\n",
       "        vertical-align: top;\n",
       "    }\n",
       "\n",
       "    .dataframe thead th {\n",
       "        text-align: right;\n",
       "    }\n",
       "</style>\n",
       "<table border=\"1\" class=\"dataframe\">\n",
       "  <thead>\n",
       "    <tr style=\"text-align: right;\">\n",
       "      <th></th>\n",
       "      <th>event_id</th>\n",
       "      <th>northstar_id</th>\n",
       "      <th>timestamp</th>\n",
       "      <th>action_type</th>\n",
       "      <th>action_id</th>\n",
       "      <th>source</th>\n",
       "      <th>action_serial_id</th>\n",
       "      <th>channel</th>\n",
       "      <th>len_ns_id</th>\n",
       "    </tr>\n",
       "  </thead>\n",
       "  <tbody>\n",
       "    <tr>\n",
       "      <th>3539488</th>\n",
       "      <td>a6bbe374c565de9342fa51d8ea68fd2d</td>\n",
       "      <td>340749</td>\n",
       "      <td>2018-09-13 16:23:41.231462</td>\n",
       "      <td>bertly_link_preview</td>\n",
       "      <td>10</td>\n",
       "      <td>bertly</td>\n",
       "      <td>30d7b772-a4b3-49ab-9351-aa9f963a8d27</td>\n",
       "      <td>sms</td>\n",
       "      <td>6</td>\n",
       "    </tr>\n",
       "    <tr>\n",
       "      <th>5244357</th>\n",
       "      <td>28413a8b5e181bdd735604827a8fd26f</td>\n",
       "      <td>54fa272b469c64d7068b4567</td>\n",
       "      <td>2018-05-15 19:25:41.000000</td>\n",
       "      <td>signup</td>\n",
       "      <td>1</td>\n",
       "      <td>turbovote</td>\n",
       "      <td>9176055</td>\n",
       "      <td>web</td>\n",
       "      <td>24</td>\n",
       "    </tr>\n",
       "    <tr>\n",
       "      <th>6496899</th>\n",
       "      <td>aaedec1375b7ad51670c96ff271b3561</td>\n",
       "      <td>54fa272b469c64d7068b4567</td>\n",
       "      <td>2018-05-15 19:25:41.000000</td>\n",
       "      <td>post</td>\n",
       "      <td>2</td>\n",
       "      <td>turbovote</td>\n",
       "      <td>489534</td>\n",
       "      <td>other</td>\n",
       "      <td>24</td>\n",
       "    </tr>\n",
       "    <tr>\n",
       "      <th>4868020</th>\n",
       "      <td>f25ef2381c27f754fe1b53916c6cc0ff</td>\n",
       "      <td>54fa272d469c64d7068b4577</td>\n",
       "      <td>2018-09-10 22:28:09.078788</td>\n",
       "      <td>bertly_link_preview</td>\n",
       "      <td>10</td>\n",
       "      <td>bertly</td>\n",
       "      <td>5aac556e-b594-4f2f-a964-95523c5810f2</td>\n",
       "      <td>sms</td>\n",
       "      <td>24</td>\n",
       "    </tr>\n",
       "    <tr>\n",
       "      <th>859255</th>\n",
       "      <td>4cd5b0972e6af977a1fbf7760322ac5c</td>\n",
       "      <td>54fa272e469c64d7068b457e</td>\n",
       "      <td>2018-07-18 01:54:55.000000</td>\n",
       "      <td>messaged_gambit</td>\n",
       "      <td>6</td>\n",
       "      <td>SMS</td>\n",
       "      <td>5b4e9defb6499d00049a85d8</td>\n",
       "      <td>sms</td>\n",
       "      <td>24</td>\n",
       "    </tr>\n",
       "  </tbody>\n",
       "</table>\n",
       "</div>"
      ],
      "text/plain": [
       "                                 event_id              northstar_id  \\\n",
       "3539488  a6bbe374c565de9342fa51d8ea68fd2d                    340749   \n",
       "5244357  28413a8b5e181bdd735604827a8fd26f  54fa272b469c64d7068b4567   \n",
       "6496899  aaedec1375b7ad51670c96ff271b3561  54fa272b469c64d7068b4567   \n",
       "4868020  f25ef2381c27f754fe1b53916c6cc0ff  54fa272d469c64d7068b4577   \n",
       "859255   4cd5b0972e6af977a1fbf7760322ac5c  54fa272e469c64d7068b457e   \n",
       "\n",
       "                         timestamp          action_type  action_id     source  \\\n",
       "3539488 2018-09-13 16:23:41.231462  bertly_link_preview         10     bertly   \n",
       "5244357 2018-05-15 19:25:41.000000               signup          1  turbovote   \n",
       "6496899 2018-05-15 19:25:41.000000                 post          2  turbovote   \n",
       "4868020 2018-09-10 22:28:09.078788  bertly_link_preview         10     bertly   \n",
       "859255  2018-07-18 01:54:55.000000      messaged_gambit          6        SMS   \n",
       "\n",
       "                             action_serial_id channel  len_ns_id  \n",
       "3539488  30d7b772-a4b3-49ab-9351-aa9f963a8d27     sms          6  \n",
       "5244357                               9176055     web         24  \n",
       "6496899                                489534   other         24  \n",
       "4868020  5aac556e-b594-4f2f-a964-95523c5810f2     sms         24  \n",
       "859255               5b4e9defb6499d00049a85d8     sms         24  "
      ]
     },
     "execution_count": 56,
     "metadata": {},
     "output_type": "execute_result"
    }
   ],
   "source": [
    "df_mel.head()"
   ]
  },
  {
   "cell_type": "code",
   "execution_count": 57,
   "metadata": {},
   "outputs": [
    {
     "data": {
      "text/plain": [
       "account_creation    41171\n",
       "Name: action_type, dtype: int64"
      ]
     },
     "execution_count": 57,
     "metadata": {},
     "output_type": "execute_result"
    }
   ],
   "source": [
    "df_mel[\n",
    "    df_mel['northstar_id'].isin(mel_remaining_ns_ids) & \n",
    "    (df_mel['timestamp'] >= '2018-10-01') & \n",
    "    (df_mel['source'] != 'rock-the-vote') & (df_mel['source'] == 'importer-client')]['action_type'].value_counts()"
   ]
  },
  {
   "cell_type": "markdown",
   "metadata": {},
   "source": [
    "The biggest contributor to MAMs is account creation, but these are all generated by an importer-client, suggesting that they were accounts created by us for nonmembers who had registered to vote. Not including those... "
   ]
  },
  {
   "cell_type": "code",
   "execution_count": 58,
   "metadata": {},
   "outputs": [
    {
     "data": {
      "text/plain": [
       "bertly_link_click      9670\n",
       "clicked_link           5382\n",
       "site_access            3636\n",
       "signup                 3238\n",
       "bertly_link_preview    3185\n",
       "messaged_gambit        2511\n",
       "site_login             1855\n",
       "post                    562\n",
       "account_creation        141\n",
       "Name: action_type, dtype: int64"
      ]
     },
     "execution_count": 58,
     "metadata": {},
     "output_type": "execute_result"
    }
   ],
   "source": [
    "df_mel[\n",
    "    df_mel['northstar_id'].isin(mel_remaining_ns_ids) & \n",
    "    (df_mel['timestamp'] >= '2018-10-01') & \n",
    "    (df_mel['source'] != 'rock-the-vote') & (df_mel['source'] != 'importer-client')]['action_type'].value_counts()"
   ]
  },
  {
   "cell_type": "code",
   "execution_count": 59,
   "metadata": {},
   "outputs": [
    {
     "name": "stdout",
     "output_type": "stream",
     "text": [
      "Count if we include importer-client account creation:  48123\n",
      "Count if we do not include those:  7384\n"
     ]
    }
   ],
   "source": [
    "print('Count if we include importer-client account creation: ', len(df_mel[\n",
    "    df_mel['northstar_id'].isin(mel_remaining_ns_ids) & \n",
    "    (df_mel['timestamp'] >= '2018-10-01') & \n",
    "    (df_mel['source'] != 'rock-the-vote')\n",
    "]['northstar_id'].unique()))\n",
    "\n",
    "print('Count if we do not include those: ', len(df_mel[\n",
    "    df_mel['northstar_id'].isin(mel_remaining_ns_ids) & \n",
    "    (df_mel['timestamp'] >= '2018-10-01') & \n",
    "    (df_mel['source'] != 'rock-the-vote') & \n",
    "    (df_mel['source'] != 'importer-client')\n",
    "]['northstar_id'].unique()))"
   ]
  },
  {
   "cell_type": "code",
   "execution_count": 60,
   "metadata": {},
   "outputs": [],
   "source": [
    "mam_count_bymonth = df_mel.set_index('timestamp').groupby(\n",
    "    pd.Grouper(freq='M')).agg({'northstar_id': lambda x: len(x.unique())})"
   ]
  },
  {
   "cell_type": "code",
   "execution_count": 61,
   "metadata": {},
   "outputs": [
    {
     "data": {
      "text/html": [
       "<div>\n",
       "<style scoped>\n",
       "    .dataframe tbody tr th:only-of-type {\n",
       "        vertical-align: middle;\n",
       "    }\n",
       "\n",
       "    .dataframe tbody tr th {\n",
       "        vertical-align: top;\n",
       "    }\n",
       "\n",
       "    .dataframe thead th {\n",
       "        text-align: right;\n",
       "    }\n",
       "</style>\n",
       "<table border=\"1\" class=\"dataframe\">\n",
       "  <thead>\n",
       "    <tr style=\"text-align: right;\">\n",
       "      <th></th>\n",
       "      <th>northstar_id</th>\n",
       "    </tr>\n",
       "    <tr>\n",
       "      <th>timestamp</th>\n",
       "      <th></th>\n",
       "    </tr>\n",
       "  </thead>\n",
       "  <tbody>\n",
       "    <tr>\n",
       "      <th>2018-01-31</th>\n",
       "      <td>260189</td>\n",
       "    </tr>\n",
       "    <tr>\n",
       "      <th>2018-02-28</th>\n",
       "      <td>226427</td>\n",
       "    </tr>\n",
       "    <tr>\n",
       "      <th>2018-03-31</th>\n",
       "      <td>216263</td>\n",
       "    </tr>\n",
       "    <tr>\n",
       "      <th>2018-04-30</th>\n",
       "      <td>141322</td>\n",
       "    </tr>\n",
       "    <tr>\n",
       "      <th>2018-05-31</th>\n",
       "      <td>95034</td>\n",
       "    </tr>\n",
       "    <tr>\n",
       "      <th>2018-06-30</th>\n",
       "      <td>129257</td>\n",
       "    </tr>\n",
       "    <tr>\n",
       "      <th>2018-07-31</th>\n",
       "      <td>193245</td>\n",
       "    </tr>\n",
       "    <tr>\n",
       "      <th>2018-08-31</th>\n",
       "      <td>226623</td>\n",
       "    </tr>\n",
       "    <tr>\n",
       "      <th>2018-09-30</th>\n",
       "      <td>231882</td>\n",
       "    </tr>\n",
       "    <tr>\n",
       "      <th>2018-10-31</th>\n",
       "      <td>330245</td>\n",
       "    </tr>\n",
       "  </tbody>\n",
       "</table>\n",
       "</div>"
      ],
      "text/plain": [
       "            northstar_id\n",
       "timestamp               \n",
       "2018-01-31        260189\n",
       "2018-02-28        226427\n",
       "2018-03-31        216263\n",
       "2018-04-30        141322\n",
       "2018-05-31         95034\n",
       "2018-06-30        129257\n",
       "2018-07-31        193245\n",
       "2018-08-31        226623\n",
       "2018-09-30        231882\n",
       "2018-10-31        330245"
      ]
     },
     "execution_count": 61,
     "metadata": {},
     "output_type": "execute_result"
    }
   ],
   "source": [
    "mam_count_bymonth"
   ]
  },
  {
   "cell_type": "code",
   "execution_count": 62,
   "metadata": {},
   "outputs": [],
   "source": [
    "mam_count_byactivity_oct = df_mel[df_mel['timestamp'] > '2018-10-01'].groupby(\n",
    "    'action_type').agg({'northstar_id': lambda x: len(x.unique())})"
   ]
  },
  {
   "cell_type": "code",
   "execution_count": 63,
   "metadata": {},
   "outputs": [
    {
     "data": {
      "text/html": [
       "<div>\n",
       "<style scoped>\n",
       "    .dataframe tbody tr th:only-of-type {\n",
       "        vertical-align: middle;\n",
       "    }\n",
       "\n",
       "    .dataframe tbody tr th {\n",
       "        vertical-align: top;\n",
       "    }\n",
       "\n",
       "    .dataframe thead th {\n",
       "        text-align: right;\n",
       "    }\n",
       "</style>\n",
       "<table border=\"1\" class=\"dataframe\">\n",
       "  <thead>\n",
       "    <tr style=\"text-align: right;\">\n",
       "      <th></th>\n",
       "      <th>northstar_id</th>\n",
       "    </tr>\n",
       "    <tr>\n",
       "      <th>action_type</th>\n",
       "      <th></th>\n",
       "    </tr>\n",
       "  </thead>\n",
       "  <tbody>\n",
       "    <tr>\n",
       "      <th>account_creation</th>\n",
       "      <td>117187</td>\n",
       "    </tr>\n",
       "    <tr>\n",
       "      <th>bertly_link_click</th>\n",
       "      <td>53882</td>\n",
       "    </tr>\n",
       "    <tr>\n",
       "      <th>bertly_link_preview</th>\n",
       "      <td>80629</td>\n",
       "    </tr>\n",
       "    <tr>\n",
       "      <th>clicked_link</th>\n",
       "      <td>19006</td>\n",
       "    </tr>\n",
       "    <tr>\n",
       "      <th>messaged_gambit</th>\n",
       "      <td>22134</td>\n",
       "    </tr>\n",
       "    <tr>\n",
       "      <th>post</th>\n",
       "      <td>165486</td>\n",
       "    </tr>\n",
       "    <tr>\n",
       "      <th>signup</th>\n",
       "      <td>192489</td>\n",
       "    </tr>\n",
       "    <tr>\n",
       "      <th>site_access</th>\n",
       "      <td>47054</td>\n",
       "    </tr>\n",
       "    <tr>\n",
       "      <th>site_login</th>\n",
       "      <td>43942</td>\n",
       "    </tr>\n",
       "  </tbody>\n",
       "</table>\n",
       "</div>"
      ],
      "text/plain": [
       "                     northstar_id\n",
       "action_type                      \n",
       "account_creation           117187\n",
       "bertly_link_click           53882\n",
       "bertly_link_preview         80629\n",
       "clicked_link                19006\n",
       "messaged_gambit             22134\n",
       "post                       165486\n",
       "signup                     192489\n",
       "site_access                 47054\n",
       "site_login                  43942"
      ]
     },
     "execution_count": 63,
     "metadata": {},
     "output_type": "execute_result"
    }
   ],
   "source": [
    "mam_count_byactivity_oct"
   ]
  },
  {
   "cell_type": "code",
   "execution_count": 64,
   "metadata": {},
   "outputs": [],
   "source": [
    "# remove rock-the-vote users if they did not actually register in October\n",
    "df_mel_oct = df_mel[(df_mel['timestamp'] >= '2018-10-01')]\n",
    "\n",
    "df_mel_oct_reduced = df_mel_oct[~(\n",
    "    df_mel_oct['northstar_id'].isin(mel_remaining_ns_ids) &\n",
    "    (df_mel_oct['source'] == 'rock-the-vote'))]"
   ]
  },
  {
   "cell_type": "code",
   "execution_count": 65,
   "metadata": {},
   "outputs": [
    {
     "data": {
      "text/plain": [
       "284306"
      ]
     },
     "execution_count": 65,
     "metadata": {},
     "output_type": "execute_result"
    }
   ],
   "source": [
    "len(df_mel_oct_reduced['northstar_id'].unique())"
   ]
  },
  {
   "cell_type": "code",
   "execution_count": 66,
   "metadata": {},
   "outputs": [],
   "source": [
    "# remove rock-the-vote users and those whose actions were an account created by an importer-client\n",
    "df_mel_oct_reduced_2 = df_mel_oct[~(\n",
    "    df_mel_oct['northstar_id'].isin(mel_remaining_ns_ids) & \n",
    "    ((df_mel_oct['source'] == 'rock-the-vote') | (df_mel_oct['source'] == 'importer-client')))]"
   ]
  },
  {
   "cell_type": "code",
   "execution_count": 67,
   "metadata": {},
   "outputs": [
    {
     "data": {
      "text/plain": [
       "243567"
      ]
     },
     "execution_count": 67,
     "metadata": {},
     "output_type": "execute_result"
    }
   ],
   "source": [
    "len(df_mel_oct_reduced_2['northstar_id'].unique())"
   ]
  },
  {
   "cell_type": "code",
   "execution_count": 68,
   "metadata": {},
   "outputs": [
    {
     "data": {
      "image/png": "[encoded data removed]",
      "text/plain": [
       "<Figure size 864x576 with 1 Axes>"
      ]
     },
     "metadata": {
      "needs_background": "light"
     },
     "output_type": "display_data"
    }
   ],
   "source": [
    "# plot to look at impact on October\n",
    "\n",
    "fig1, ax1 = plt.subplots()\n",
    "ax1.bar(x=[0, 1, 2], \n",
    "        height=[\n",
    "            mam_count_bymonth.iloc[-1], \n",
    "            len(df_mel_oct_reduced['northstar_id'].unique()), \n",
    "            len(df_mel_oct_reduced_2['northstar_id'].unique())],\n",
    "        width=0.5\n",
    "       )\n",
    "ax1.set_xticks([0, 1, 2])\n",
    "ax1.set_xticklabels(['Current October MAM count', 'Current - voter reg', 'Current - voter reg - auto accounts'])\n",
    "ax1.text(-0.09, mam_count_bymonth.iloc[-1], s=str(mam_count_bymonth.iloc[-1].values[0]), fontsize=14)\n",
    "ax1.text(0.91, len(df_mel_oct_reduced['northstar_id'].unique()), \n",
    "         s=str(len(df_mel_oct_reduced['northstar_id'].unique())), fontsize=14)\n",
    "ax1.text(1.91, len(df_mel_oct_reduced_2['northstar_id'].unique()), \n",
    "         s=str(len(df_mel_oct_reduced_2['northstar_id'].unique())), fontsize=14);\n"
   ]
  },
  {
   "cell_type": "code",
   "execution_count": 69,
   "metadata": {},
   "outputs": [],
   "source": [
    "mam_count_bymonth_updated = mam_count_bymonth.copy()"
   ]
  },
  {
   "cell_type": "code",
   "execution_count": 70,
   "metadata": {},
   "outputs": [
    {
     "data": {
      "text/plain": [
       "<matplotlib.legend.Legend at 0x1bcaf27f0>"
      ]
     },
     "execution_count": 70,
     "metadata": {},
     "output_type": "execute_result"
    },
    {
     "data": {
      "image/png": "[encoded data removed]",
      "text/plain": [
       "<Figure size 864x576 with 1 Axes>"
      ]
     },
     "metadata": {
      "needs_background": "light"
     },
     "output_type": "display_data"
    }
   ],
   "source": [
    "fig2, ax2 = plt.subplots()\n",
    "mam_count_bymonth.plot(ax=ax2)\n",
    "mam_count_bymonth_updated.iloc[-1] = len(df_mel_oct_reduced_2['northstar_id'].unique())\n",
    "mam_count_bymonth_updated.iloc[-2:].plot(ax=ax2, linestyle='dashed')\n",
    "ax2.legend(labels=['current', 'updated'])"
   ]
  },
  {
   "cell_type": "markdown",
   "metadata": {},
   "source": [
    "What caused the dip in MAMs in April/May/June?"
   ]
  }
 ],
 "metadata": {
  "kernelspec": {
   "display_name": "Python 3",
   "language": "python",
   "name": "python3"
  },
  "language_info": {
   "codemirror_mode": {
    "name": "ipython",
    "version": 3
   },
   "file_extension": ".py",
   "mimetype": "text/x-python",
   "name": "python",
   "nbconvert_exporter": "python",
   "pygments_lexer": "ipython3",
   "version": "3.7.0"
  }
 },
 "nbformat": 4,
 "nbformat_minor": 2
}
