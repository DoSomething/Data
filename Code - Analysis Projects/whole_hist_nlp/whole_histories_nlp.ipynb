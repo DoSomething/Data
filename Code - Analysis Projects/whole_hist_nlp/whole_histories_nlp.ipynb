{
  "nbformat": 4,
  "nbformat_minor": 0,
  "metadata": {
    "colab": {
      "name": "whole_histories_nlp.ipynb",
      "provenance": []
    },
    "kernelspec": {
      "name": "python3",
      "display_name": "Python 3"
    },
    "language_info": {
      "name": "python"
    },
    "widgets": {
      "application/vnd.jupyter.widget-state+json": {
        "6a47dbfeda564f26a0853a659c7a8fa9": {
          "model_module": "@jupyter-widgets/controls",
          "model_name": "HBoxModel",
          "state": {
            "_view_name": "HBoxView",
            "_dom_classes": [],
            "_model_name": "HBoxModel",
            "_view_module": "@jupyter-widgets/controls",
            "_model_module_version": "1.5.0",
            "_view_count": null,
            "_view_module_version": "1.5.0",
            "box_style": "",
            "layout": "IPY_MODEL_f3a13dac944547158214c54136e5f541",
            "_model_module": "@jupyter-widgets/controls",
            "children": [
              "IPY_MODEL_ee5ca7e505ce4c6baa9847df95b5b525",
              "IPY_MODEL_9bcd8dd547f9492bb665f641a4a4f530"
            ]
          }
        },
        "f3a13dac944547158214c54136e5f541": {
          "model_module": "@jupyter-widgets/base",
          "model_name": "LayoutModel",
          "state": {
            "_view_name": "LayoutView",
            "grid_template_rows": null,
            "right": null,
            "justify_content": null,
            "_view_module": "@jupyter-widgets/base",
            "overflow": null,
            "_model_module_version": "1.2.0",
            "_view_count": null,
            "flex_flow": null,
            "width": null,
            "min_width": null,
            "border": null,
            "align_items": null,
            "bottom": null,
            "_model_module": "@jupyter-widgets/base",
            "top": null,
            "grid_column": null,
            "overflow_y": null,
            "overflow_x": null,
            "grid_auto_flow": null,
            "grid_area": null,
            "grid_template_columns": null,
            "flex": null,
            "_model_name": "LayoutModel",
            "justify_items": null,
            "grid_row": null,
            "max_height": null,
            "align_content": null,
            "visibility": null,
            "align_self": null,
            "height": null,
            "min_height": null,
            "padding": null,
            "grid_auto_rows": null,
            "grid_gap": null,
            "max_width": null,
            "order": null,
            "_view_module_version": "1.2.0",
            "grid_template_areas": null,
            "object_position": null,
            "object_fit": null,
            "grid_auto_columns": null,
            "margin": null,
            "display": null,
            "left": null
          }
        },
        "ee5ca7e505ce4c6baa9847df95b5b525": {
          "model_module": "@jupyter-widgets/controls",
          "model_name": "FloatProgressModel",
          "state": {
            "_view_name": "ProgressView",
            "style": "IPY_MODEL_bf464bfe06d64bd2baccf79fe6badd3e",
            "_dom_classes": [],
            "description": "100%",
            "_model_name": "FloatProgressModel",
            "bar_style": "success",
            "max": 19133,
            "_view_module": "@jupyter-widgets/controls",
            "_model_module_version": "1.5.0",
            "value": 19133,
            "_view_count": null,
            "_view_module_version": "1.5.0",
            "orientation": "horizontal",
            "min": 0,
            "description_tooltip": null,
            "_model_module": "@jupyter-widgets/controls",
            "layout": "IPY_MODEL_9c6070699b144afcb5ec0a6fc6c9263a"
          }
        },
        "9bcd8dd547f9492bb665f641a4a4f530": {
          "model_module": "@jupyter-widgets/controls",
          "model_name": "HTMLModel",
          "state": {
            "_view_name": "HTMLView",
            "style": "IPY_MODEL_e258f2dc24cc4fa7b09015a899ac57fe",
            "_dom_classes": [],
            "description": "",
            "_model_name": "HTMLModel",
            "placeholder": "​",
            "_view_module": "@jupyter-widgets/controls",
            "_model_module_version": "1.5.0",
            "value": " 19133/19133 [29:17&lt;00:00, 10.89it/s]",
            "_view_count": null,
            "_view_module_version": "1.5.0",
            "description_tooltip": null,
            "_model_module": "@jupyter-widgets/controls",
            "layout": "IPY_MODEL_a234bf47c3df4fa387bf1fd58b3b46ba"
          }
        },
        "bf464bfe06d64bd2baccf79fe6badd3e": {
          "model_module": "@jupyter-widgets/controls",
          "model_name": "ProgressStyleModel",
          "state": {
            "_view_name": "StyleView",
            "_model_name": "ProgressStyleModel",
            "description_width": "initial",
            "_view_module": "@jupyter-widgets/base",
            "_model_module_version": "1.5.0",
            "_view_count": null,
            "_view_module_version": "1.2.0",
            "bar_color": null,
            "_model_module": "@jupyter-widgets/controls"
          }
        },
        "9c6070699b144afcb5ec0a6fc6c9263a": {
          "model_module": "@jupyter-widgets/base",
          "model_name": "LayoutModel",
          "state": {
            "_view_name": "LayoutView",
            "grid_template_rows": null,
            "right": null,
            "justify_content": null,
            "_view_module": "@jupyter-widgets/base",
            "overflow": null,
            "_model_module_version": "1.2.0",
            "_view_count": null,
            "flex_flow": null,
            "width": null,
            "min_width": null,
            "border": null,
            "align_items": null,
            "bottom": null,
            "_model_module": "@jupyter-widgets/base",
            "top": null,
            "grid_column": null,
            "overflow_y": null,
            "overflow_x": null,
            "grid_auto_flow": null,
            "grid_area": null,
            "grid_template_columns": null,
            "flex": null,
            "_model_name": "LayoutModel",
            "justify_items": null,
            "grid_row": null,
            "max_height": null,
            "align_content": null,
            "visibility": null,
            "align_self": null,
            "height": null,
            "min_height": null,
            "padding": null,
            "grid_auto_rows": null,
            "grid_gap": null,
            "max_width": null,
            "order": null,
            "_view_module_version": "1.2.0",
            "grid_template_areas": null,
            "object_position": null,
            "object_fit": null,
            "grid_auto_columns": null,
            "margin": null,
            "display": null,
            "left": null
          }
        },
        "e258f2dc24cc4fa7b09015a899ac57fe": {
          "model_module": "@jupyter-widgets/controls",
          "model_name": "DescriptionStyleModel",
          "state": {
            "_view_name": "StyleView",
            "_model_name": "DescriptionStyleModel",
            "description_width": "",
            "_view_module": "@jupyter-widgets/base",
            "_model_module_version": "1.5.0",
            "_view_count": null,
            "_view_module_version": "1.2.0",
            "_model_module": "@jupyter-widgets/controls"
          }
        },
        "a234bf47c3df4fa387bf1fd58b3b46ba": {
          "model_module": "@jupyter-widgets/base",
          "model_name": "LayoutModel",
          "state": {
            "_view_name": "LayoutView",
            "grid_template_rows": null,
            "right": null,
            "justify_content": null,
            "_view_module": "@jupyter-widgets/base",
            "overflow": null,
            "_model_module_version": "1.2.0",
            "_view_count": null,
            "flex_flow": null,
            "width": null,
            "min_width": null,
            "border": null,
            "align_items": null,
            "bottom": null,
            "_model_module": "@jupyter-widgets/base",
            "top": null,
            "grid_column": null,
            "overflow_y": null,
            "overflow_x": null,
            "grid_auto_flow": null,
            "grid_area": null,
            "grid_template_columns": null,
            "flex": null,
            "_model_name": "LayoutModel",
            "justify_items": null,
            "grid_row": null,
            "max_height": null,
            "align_content": null,
            "visibility": null,
            "align_self": null,
            "height": null,
            "min_height": null,
            "padding": null,
            "grid_auto_rows": null,
            "grid_gap": null,
            "max_width": null,
            "order": null,
            "_view_module_version": "1.2.0",
            "grid_template_areas": null,
            "object_position": null,
            "object_fit": null,
            "grid_auto_columns": null,
            "margin": null,
            "display": null,
            "left": null
          }
        },
        "2b90dc9d2c0f4a26a9791e47e9887320": {
          "model_module": "@jupyter-widgets/controls",
          "model_name": "HBoxModel",
          "state": {
            "_view_name": "HBoxView",
            "_dom_classes": [],
            "_model_name": "HBoxModel",
            "_view_module": "@jupyter-widgets/controls",
            "_model_module_version": "1.5.0",
            "_view_count": null,
            "_view_module_version": "1.5.0",
            "box_style": "",
            "layout": "IPY_MODEL_1629ad4fc4684f94b1f91766ca36c9c1",
            "_model_module": "@jupyter-widgets/controls",
            "children": [
              "IPY_MODEL_b43f6c5cf14d4ff7bdf5a334adcae01a",
              "IPY_MODEL_5afae4d9f06244ceb2a007c94ac4657d"
            ]
          }
        },
        "1629ad4fc4684f94b1f91766ca36c9c1": {
          "model_module": "@jupyter-widgets/base",
          "model_name": "LayoutModel",
          "state": {
            "_view_name": "LayoutView",
            "grid_template_rows": null,
            "right": null,
            "justify_content": null,
            "_view_module": "@jupyter-widgets/base",
            "overflow": null,
            "_model_module_version": "1.2.0",
            "_view_count": null,
            "flex_flow": null,
            "width": null,
            "min_width": null,
            "border": null,
            "align_items": null,
            "bottom": null,
            "_model_module": "@jupyter-widgets/base",
            "top": null,
            "grid_column": null,
            "overflow_y": null,
            "overflow_x": null,
            "grid_auto_flow": null,
            "grid_area": null,
            "grid_template_columns": null,
            "flex": null,
            "_model_name": "LayoutModel",
            "justify_items": null,
            "grid_row": null,
            "max_height": null,
            "align_content": null,
            "visibility": null,
            "align_self": null,
            "height": null,
            "min_height": null,
            "padding": null,
            "grid_auto_rows": null,
            "grid_gap": null,
            "max_width": null,
            "order": null,
            "_view_module_version": "1.2.0",
            "grid_template_areas": null,
            "object_position": null,
            "object_fit": null,
            "grid_auto_columns": null,
            "margin": null,
            "display": null,
            "left": null
          }
        },
        "b43f6c5cf14d4ff7bdf5a334adcae01a": {
          "model_module": "@jupyter-widgets/controls",
          "model_name": "FloatProgressModel",
          "state": {
            "_view_name": "ProgressView",
            "style": "IPY_MODEL_515f3377dd0346d48105f1905a994261",
            "_dom_classes": [],
            "description": "100%",
            "_model_name": "FloatProgressModel",
            "bar_style": "success",
            "max": 19133,
            "_view_module": "@jupyter-widgets/controls",
            "_model_module_version": "1.5.0",
            "value": 19133,
            "_view_count": null,
            "_view_module_version": "1.5.0",
            "orientation": "horizontal",
            "min": 0,
            "description_tooltip": null,
            "_model_module": "@jupyter-widgets/controls",
            "layout": "IPY_MODEL_105fb80c543d4caf81b09b59b5fca6bd"
          }
        },
        "5afae4d9f06244ceb2a007c94ac4657d": {
          "model_module": "@jupyter-widgets/controls",
          "model_name": "HTMLModel",
          "state": {
            "_view_name": "HTMLView",
            "style": "IPY_MODEL_8854f99ac8084529a0330413de44d642",
            "_dom_classes": [],
            "description": "",
            "_model_name": "HTMLModel",
            "placeholder": "​",
            "_view_module": "@jupyter-widgets/controls",
            "_model_module_version": "1.5.0",
            "value": " 19133/19133 [30:15&lt;00:00, 10.54it/s]",
            "_view_count": null,
            "_view_module_version": "1.5.0",
            "description_tooltip": null,
            "_model_module": "@jupyter-widgets/controls",
            "layout": "IPY_MODEL_d6b1aabe044a41229ec8131db0a16e22"
          }
        },
        "515f3377dd0346d48105f1905a994261": {
          "model_module": "@jupyter-widgets/controls",
          "model_name": "ProgressStyleModel",
          "state": {
            "_view_name": "StyleView",
            "_model_name": "ProgressStyleModel",
            "description_width": "initial",
            "_view_module": "@jupyter-widgets/base",
            "_model_module_version": "1.5.0",
            "_view_count": null,
            "_view_module_version": "1.2.0",
            "bar_color": null,
            "_model_module": "@jupyter-widgets/controls"
          }
        },
        "105fb80c543d4caf81b09b59b5fca6bd": {
          "model_module": "@jupyter-widgets/base",
          "model_name": "LayoutModel",
          "state": {
            "_view_name": "LayoutView",
            "grid_template_rows": null,
            "right": null,
            "justify_content": null,
            "_view_module": "@jupyter-widgets/base",
            "overflow": null,
            "_model_module_version": "1.2.0",
            "_view_count": null,
            "flex_flow": null,
            "width": null,
            "min_width": null,
            "border": null,
            "align_items": null,
            "bottom": null,
            "_model_module": "@jupyter-widgets/base",
            "top": null,
            "grid_column": null,
            "overflow_y": null,
            "overflow_x": null,
            "grid_auto_flow": null,
            "grid_area": null,
            "grid_template_columns": null,
            "flex": null,
            "_model_name": "LayoutModel",
            "justify_items": null,
            "grid_row": null,
            "max_height": null,
            "align_content": null,
            "visibility": null,
            "align_self": null,
            "height": null,
            "min_height": null,
            "padding": null,
            "grid_auto_rows": null,
            "grid_gap": null,
            "max_width": null,
            "order": null,
            "_view_module_version": "1.2.0",
            "grid_template_areas": null,
            "object_position": null,
            "object_fit": null,
            "grid_auto_columns": null,
            "margin": null,
            "display": null,
            "left": null
          }
        },
        "8854f99ac8084529a0330413de44d642": {
          "model_module": "@jupyter-widgets/controls",
          "model_name": "DescriptionStyleModel",
          "state": {
            "_view_name": "StyleView",
            "_model_name": "DescriptionStyleModel",
            "description_width": "",
            "_view_module": "@jupyter-widgets/base",
            "_model_module_version": "1.5.0",
            "_view_count": null,
            "_view_module_version": "1.2.0",
            "_model_module": "@jupyter-widgets/controls"
          }
        },
        "d6b1aabe044a41229ec8131db0a16e22": {
          "model_module": "@jupyter-widgets/base",
          "model_name": "LayoutModel",
          "state": {
            "_view_name": "LayoutView",
            "grid_template_rows": null,
            "right": null,
            "justify_content": null,
            "_view_module": "@jupyter-widgets/base",
            "overflow": null,
            "_model_module_version": "1.2.0",
            "_view_count": null,
            "flex_flow": null,
            "width": null,
            "min_width": null,
            "border": null,
            "align_items": null,
            "bottom": null,
            "_model_module": "@jupyter-widgets/base",
            "top": null,
            "grid_column": null,
            "overflow_y": null,
            "overflow_x": null,
            "grid_auto_flow": null,
            "grid_area": null,
            "grid_template_columns": null,
            "flex": null,
            "_model_name": "LayoutModel",
            "justify_items": null,
            "grid_row": null,
            "max_height": null,
            "align_content": null,
            "visibility": null,
            "align_self": null,
            "height": null,
            "min_height": null,
            "padding": null,
            "grid_auto_rows": null,
            "grid_gap": null,
            "max_width": null,
            "order": null,
            "_view_module_version": "1.2.0",
            "grid_template_areas": null,
            "object_position": null,
            "object_fit": null,
            "grid_auto_columns": null,
            "margin": null,
            "display": null,
            "left": null
          }
        },
        "16a0cdb817c64cbb855268f913ea54e9": {
          "model_module": "@jupyter-widgets/controls",
          "model_name": "HBoxModel",
          "state": {
            "_view_name": "HBoxView",
            "_dom_classes": [],
            "_model_name": "HBoxModel",
            "_view_module": "@jupyter-widgets/controls",
            "_model_module_version": "1.5.0",
            "_view_count": null,
            "_view_module_version": "1.5.0",
            "box_style": "",
            "layout": "IPY_MODEL_f50c134efbd24c8a9f49cf675f7a607a",
            "_model_module": "@jupyter-widgets/controls",
            "children": [
              "IPY_MODEL_084f78ef97414d4ca2a061da3ec39355",
              "IPY_MODEL_cd30a206b98f4942a6f009c6e6668088"
            ]
          }
        },
        "f50c134efbd24c8a9f49cf675f7a607a": {
          "model_module": "@jupyter-widgets/base",
          "model_name": "LayoutModel",
          "state": {
            "_view_name": "LayoutView",
            "grid_template_rows": null,
            "right": null,
            "justify_content": null,
            "_view_module": "@jupyter-widgets/base",
            "overflow": null,
            "_model_module_version": "1.2.0",
            "_view_count": null,
            "flex_flow": null,
            "width": null,
            "min_width": null,
            "border": null,
            "align_items": null,
            "bottom": null,
            "_model_module": "@jupyter-widgets/base",
            "top": null,
            "grid_column": null,
            "overflow_y": null,
            "overflow_x": null,
            "grid_auto_flow": null,
            "grid_area": null,
            "grid_template_columns": null,
            "flex": null,
            "_model_name": "LayoutModel",
            "justify_items": null,
            "grid_row": null,
            "max_height": null,
            "align_content": null,
            "visibility": null,
            "align_self": null,
            "height": null,
            "min_height": null,
            "padding": null,
            "grid_auto_rows": null,
            "grid_gap": null,
            "max_width": null,
            "order": null,
            "_view_module_version": "1.2.0",
            "grid_template_areas": null,
            "object_position": null,
            "object_fit": null,
            "grid_auto_columns": null,
            "margin": null,
            "display": null,
            "left": null
          }
        },
        "084f78ef97414d4ca2a061da3ec39355": {
          "model_module": "@jupyter-widgets/controls",
          "model_name": "FloatProgressModel",
          "state": {
            "_view_name": "ProgressView",
            "style": "IPY_MODEL_9ef9dbb67fc9494898eb5aa01225fd1c",
            "_dom_classes": [],
            "description": "  0%",
            "_model_name": "FloatProgressModel",
            "bar_style": "danger",
            "max": 19133,
            "_view_module": "@jupyter-widgets/controls",
            "_model_module_version": "1.5.0",
            "value": 0,
            "_view_count": null,
            "_view_module_version": "1.5.0",
            "orientation": "horizontal",
            "min": 0,
            "description_tooltip": null,
            "_model_module": "@jupyter-widgets/controls",
            "layout": "IPY_MODEL_1b62599f54c34795bfbd140d866efe8d"
          }
        },
        "cd30a206b98f4942a6f009c6e6668088": {
          "model_module": "@jupyter-widgets/controls",
          "model_name": "HTMLModel",
          "state": {
            "_view_name": "HTMLView",
            "style": "IPY_MODEL_e83af3b31b9b4009a368cd1fec291488",
            "_dom_classes": [],
            "description": "",
            "_model_name": "HTMLModel",
            "placeholder": "​",
            "_view_module": "@jupyter-widgets/controls",
            "_model_module_version": "1.5.0",
            "value": " 0/19133 [00:00&lt;?, ?it/s]",
            "_view_count": null,
            "_view_module_version": "1.5.0",
            "description_tooltip": null,
            "_model_module": "@jupyter-widgets/controls",
            "layout": "IPY_MODEL_ec10ae01eaea41f0b17cfea0d1d86f27"
          }
        },
        "9ef9dbb67fc9494898eb5aa01225fd1c": {
          "model_module": "@jupyter-widgets/controls",
          "model_name": "ProgressStyleModel",
          "state": {
            "_view_name": "StyleView",
            "_model_name": "ProgressStyleModel",
            "description_width": "initial",
            "_view_module": "@jupyter-widgets/base",
            "_model_module_version": "1.5.0",
            "_view_count": null,
            "_view_module_version": "1.2.0",
            "bar_color": null,
            "_model_module": "@jupyter-widgets/controls"
          }
        },
        "1b62599f54c34795bfbd140d866efe8d": {
          "model_module": "@jupyter-widgets/base",
          "model_name": "LayoutModel",
          "state": {
            "_view_name": "LayoutView",
            "grid_template_rows": null,
            "right": null,
            "justify_content": null,
            "_view_module": "@jupyter-widgets/base",
            "overflow": null,
            "_model_module_version": "1.2.0",
            "_view_count": null,
            "flex_flow": null,
            "width": null,
            "min_width": null,
            "border": null,
            "align_items": null,
            "bottom": null,
            "_model_module": "@jupyter-widgets/base",
            "top": null,
            "grid_column": null,
            "overflow_y": null,
            "overflow_x": null,
            "grid_auto_flow": null,
            "grid_area": null,
            "grid_template_columns": null,
            "flex": null,
            "_model_name": "LayoutModel",
            "justify_items": null,
            "grid_row": null,
            "max_height": null,
            "align_content": null,
            "visibility": null,
            "align_self": null,
            "height": null,
            "min_height": null,
            "padding": null,
            "grid_auto_rows": null,
            "grid_gap": null,
            "max_width": null,
            "order": null,
            "_view_module_version": "1.2.0",
            "grid_template_areas": null,
            "object_position": null,
            "object_fit": null,
            "grid_auto_columns": null,
            "margin": null,
            "display": null,
            "left": null
          }
        },
        "e83af3b31b9b4009a368cd1fec291488": {
          "model_module": "@jupyter-widgets/controls",
          "model_name": "DescriptionStyleModel",
          "state": {
            "_view_name": "StyleView",
            "_model_name": "DescriptionStyleModel",
            "description_width": "",
            "_view_module": "@jupyter-widgets/base",
            "_model_module_version": "1.5.0",
            "_view_count": null,
            "_view_module_version": "1.2.0",
            "_model_module": "@jupyter-widgets/controls"
          }
        },
        "ec10ae01eaea41f0b17cfea0d1d86f27": {
          "model_module": "@jupyter-widgets/base",
          "model_name": "LayoutModel",
          "state": {
            "_view_name": "LayoutView",
            "grid_template_rows": null,
            "right": null,
            "justify_content": null,
            "_view_module": "@jupyter-widgets/base",
            "overflow": null,
            "_model_module_version": "1.2.0",
            "_view_count": null,
            "flex_flow": null,
            "width": null,
            "min_width": null,
            "border": null,
            "align_items": null,
            "bottom": null,
            "_model_module": "@jupyter-widgets/base",
            "top": null,
            "grid_column": null,
            "overflow_y": null,
            "overflow_x": null,
            "grid_auto_flow": null,
            "grid_area": null,
            "grid_template_columns": null,
            "flex": null,
            "_model_name": "LayoutModel",
            "justify_items": null,
            "grid_row": null,
            "max_height": null,
            "align_content": null,
            "visibility": null,
            "align_self": null,
            "height": null,
            "min_height": null,
            "padding": null,
            "grid_auto_rows": null,
            "grid_gap": null,
            "max_width": null,
            "order": null,
            "_view_module_version": "1.2.0",
            "grid_template_areas": null,
            "object_position": null,
            "object_fit": null,
            "grid_auto_columns": null,
            "margin": null,
            "display": null,
            "left": null
          }
        }
      }
    }
  },
  "cells": [
    {
      "cell_type": "markdown",
      "metadata": {
        "id": "V6sIQAzNcfen"
      },
      "source": [
        "# packages & set options"
      ]
    },
    {
      "cell_type": "code",
      "metadata": {
        "id": "Gq_2cMEm1jXz"
      },
      "source": [
        "import numpy as np\n",
        "import pandas as pd\n",
        "\n",
        "import psycopg2\n",
        "import pandas.io.sql as sqlio\n",
        "\n",
        "import gensim\n",
        "import gensim.corpora as corpora\n",
        "from gensim.utils import simple_preprocess\n",
        "from gensim.models import CoherenceModel\n",
        "\n",
        "import spacy\n",
        "from spacy.lemmatizer import Lemmatizer\n",
        "from spacy.lang.en.stop_words import STOP_WORDS\n",
        "\n",
        "# Load English tokenizer\n",
        "nlp = spacy.load(\"en_core_web_sm\")\n",
        "\n",
        "from tqdm import tqdm_notebook as tqdm\n",
        "from pprint import pprint\n",
        "\n",
        "pd.set_option('max_rows', 200)\n",
        "pd.set_option('max_colwidth', 150)"
      ],
      "execution_count": 32,
      "outputs": []
    },
    {
      "cell_type": "markdown",
      "metadata": {
        "id": "j57R8BwEcm5l"
      },
      "source": [
        "# db connection, read data for each Whole Histories question"
      ]
    },
    {
      "cell_type": "code",
      "metadata": {
        "id": "NS3boyxj1ucu"
      },
      "source": [
        "conn = psycopg2.connect(dbname='quasar_prod_warehouse', user='kkennovin', password='eBC$O55$Lcko', host='quasar-prod.c9ajz690mens.us-east-1.rds.amazonaws.com', port='5432')"
      ],
      "execution_count": 33,
      "outputs": []
    },
    {
      "cell_type": "code",
      "metadata": {
        "id": "Dyg3QwrT10BZ"
      },
      "source": [
        "\n",
        "sql_q1 = \"\"\"select \n",
        "\tnorthstar_id\n",
        ",\ttext \n",
        "from \n",
        "\tposts \n",
        "where \n",
        "\tcampaign_id = '9115' and \n",
        "\taction_id = 1126\n",
        "    \"\"\"\n",
        "\n",
        "sql_q2 = \"\"\"select \n",
        "\tnorthstar_id\n",
        ",\ttext \n",
        "from \n",
        "\tposts \n",
        "where \n",
        "\tcampaign_id = '9115' and \n",
        "\taction_id = 1127\n",
        "    \"\"\"\n",
        "\n",
        "sql_q3 = \"\"\"select \n",
        "\tnorthstar_id\n",
        ",\ttext \n",
        "from \n",
        "\tposts \n",
        "where \n",
        "\tcampaign_id = '9115' and \n",
        "\taction_id = 1128\n",
        "    \"\"\""
      ],
      "execution_count": 34,
      "outputs": []
    },
    {
      "cell_type": "code",
      "metadata": {
        "id": "KDRpbWj7P2oQ"
      },
      "source": [
        "data_q1 = sqlio.read_sql_query(sql_q1, conn)\n",
        "data_q2 = sqlio.read_sql_query(sql_q2, conn)\n",
        "data_q3 = sqlio.read_sql_query(sql_q3, conn)"
      ],
      "execution_count": 35,
      "outputs": []
    },
    {
      "cell_type": "code",
      "metadata": {
        "id": "S5MXvsLTQDa_"
      },
      "source": [
        "conn = None"
      ],
      "execution_count": 36,
      "outputs": []
    },
    {
      "cell_type": "markdown",
      "metadata": {
        "id": "mexvHh5FcVfa"
      },
      "source": [
        "# data cleaning: make lowercase & remove punctuation"
      ]
    },
    {
      "cell_type": "code",
      "metadata": {
        "id": "vUVfL3qNQ0y-"
      },
      "source": [
        "# Apply a first round of text cleaning techniques\n",
        "import re\n",
        "import string\n",
        "\n",
        "def clean_text_round1(text):\n",
        "    '''Make text lowercase, remove punctuation'''\n",
        "    text = text.lower()\n",
        "    text = re.sub('[%s]' % re.escape(string.punctuation), '', text)\n",
        "    return text\n",
        "\n",
        "round1 = lambda x: clean_text_round1(x)"
      ],
      "execution_count": 37,
      "outputs": []
    },
    {
      "cell_type": "code",
      "metadata": {
        "id": "iflf7enwRNM4"
      },
      "source": [
        "# Let's take a look at the updated text\n",
        "data_clean_q1 = pd.DataFrame(data_q1.text.apply(round1))\n",
        "#data_clean_q1.sample(50)\n",
        "data_clean_q2 = pd.DataFrame(data_q2.text.apply(round1))\n",
        "#data_clean_q2.sample(50)\n",
        "data_clean_q3 = pd.DataFrame(data_q3.text.apply(round1))\n",
        "#data_clean_q3.sample(50)\n",
        "\n",
        "# looks good! I don't see any other obvious cleaning needs"
      ],
      "execution_count": 38,
      "outputs": []
    },
    {
      "cell_type": "markdown",
      "metadata": {
        "id": "5IfCYCTub3WW"
      },
      "source": [
        "# count vectorizer & document term matrix"
      ]
    },
    {
      "cell_type": "code",
      "metadata": {
        "id": "QXCCH9KyR81u"
      },
      "source": [
        "# We are going to create a document-term matrix using CountVectorizer, and exclude common English stop words for each question\n",
        "from sklearn.feature_extraction.text import CountVectorizer\n",
        "\n",
        "cv_q1 = CountVectorizer(stop_words='english')\n",
        "data_cv_q1 = cv_q1.fit_transform(data_clean_q1.text)\n",
        "dtm_q1 = pd.DataFrame(data_cv_q1.toarray(), columns=cv_q1.get_feature_names())\n",
        "dtm_q1.index = data_clean_q1.index\n",
        "\n",
        "cv_q2 = CountVectorizer(stop_words='english')\n",
        "data_cv_q2 = cv_q2.fit_transform(data_clean_q2.text)\n",
        "dtm_q2 = pd.DataFrame(data_cv_q2.toarray(), columns=cv_q2.get_feature_names())\n",
        "dtm_q2.index = data_clean_q2.index\n",
        "\n",
        "cv_q3 = CountVectorizer(stop_words='english')\n",
        "data_cv_q3 = cv_q3.fit_transform(data_clean_q3.text)\n",
        "dtm_q3 = pd.DataFrame(data_cv_q3.toarray(), columns=cv_q3.get_feature_names())\n",
        "dtm_q3.index = data_clean_q3.index\n"
      ],
      "execution_count": 22,
      "outputs": []
    },
    {
      "cell_type": "markdown",
      "metadata": {
        "id": "IOXuqIQ6cJnW"
      },
      "source": [
        "# add lemmatizer & remove stopwords to nlp pipeline"
      ]
    },
    {
      "cell_type": "code",
      "metadata": {
        "id": "d5wV1QsbASea"
      },
      "source": [
        "def lemmatizer(response):\n",
        "    # This takes in a doc of tokens from the nlp NER and lemmatizes them. \n",
        "    # Pronouns (like \"I\" and \"you\" get lemmatized to '-PRON-', so I'm removing those.\n",
        "    response = [token.lemma_ for token in response if token.lemma_ != '-PRON-']\n",
        "    response = u' '.join(response)\n",
        "    return nlp.make_doc(response)\n",
        "    "
      ],
      "execution_count": 39,
      "outputs": []
    },
    {
      "cell_type": "code",
      "metadata": {
        "id": "kw7sNYMyBXqM"
      },
      "source": [
        "def remove_stopwords(response):\n",
        "    # This will remove stopwords and punctuation.\n",
        "    # Use token.text to return strings, which we'll need for Gensim.\n",
        "    response = [token.text for token in response if token.is_stop != True and token.is_punct != True]\n",
        "    return response\n"
      ],
      "execution_count": 40,
      "outputs": []
    },
    {
      "cell_type": "code",
      "metadata": {
        "id": "Y6oLtbTsBX2J"
      },
      "source": [
        "# The add_pipe function appends our functions to the default pipeline.\n",
        "nlp.add_pipe(lemmatizer,name='lemmatizer',after='ner')\n",
        "nlp.add_pipe(remove_stopwords, name=\"stopwords\", last=True)\n"
      ],
      "execution_count": 41,
      "outputs": []
    },
    {
      "cell_type": "code",
      "metadata": {
        "id": "Vb_IdVdjFapR"
      },
      "source": [
        "# Filter clean data to just text column\n",
        "data_clean_text_q1 = data_clean_q1['text']\n",
        "data_clean_text_q2 = data_clean_q2['text']\n",
        "data_clean_text_q3 = data_clean_q3['text']"
      ],
      "execution_count": 42,
      "outputs": []
    },
    {
      "cell_type": "markdown",
      "metadata": {
        "id": "16ApALeZcznG"
      },
      "source": [
        "# model Q1"
      ]
    },
    {
      "cell_type": "code",
      "metadata": {
        "id": "2Y7Grn14B6cG"
      },
      "source": [
        "word_list_q1 = []\n",
        "# Iterates through each response in the corpus.\n",
        "for response in tqdm(data_clean_text_q1):\n",
        "    # Passes that response through the pipeline and adds result to a new list.\n",
        "    pr = nlp(response)\n",
        "    word_list_q1.append(pr)"
      ],
      "execution_count": 17,
      "outputs": []
    },
    {
      "cell_type": "code",
      "metadata": {
        "id": "dy7iIxJyF9dv"
      },
      "source": [
        "# mapping of word IDs to words.\n",
        "words_q1 = corpora.Dictionary(word_list_q1)\n",
        "\n",
        "# Turns each document into a bag of words.\n",
        "corpus_q1 = [words_q1.doc2bow(response) for response in word_list_q1]"
      ],
      "execution_count": 19,
      "outputs": []
    },
    {
      "cell_type": "code",
      "metadata": {
        "id": "-HGgiVEaLMIv"
      },
      "source": [
        "# run latent dirichlet allocation model\n",
        "lda_model_q1 = gensim.models.ldamodel.LdaModel(corpus=corpus_q1,\n",
        "                                           id2word=words_q1,\n",
        "                                           num_topics=10, \n",
        "                                           random_state=2,\n",
        "                                           update_every=1,\n",
        "                                           passes=10,\n",
        "                                           alpha='auto',\n",
        "                                           per_word_topics=True)"
      ],
      "execution_count": 20,
      "outputs": []
    },
    {
      "cell_type": "code",
      "metadata": {
        "colab": {
          "base_uri": "https://localhost:8080/"
        },
        "id": "Td-PebpONCtB",
        "outputId": "adb51498-584c-4b29-9f6f-751604d652d8"
      },
      "source": [
        "# view topic results\n",
        "pprint(lda_model_q1.print_topics(num_topics=-1, num_words=10))"
      ],
      "execution_count": 21,
      "outputs": [
        {
          "output_type": "stream",
          "text": [
            "[(0,\n",
            "  '0.050*\"learn\" + 0.048*\"black\" + 0.036*\"social\" + 0.035*\"medium\" + '\n",
            "  '0.033*\"event\" + 0.024*\"massacre\" + 0.024*\"tulsa\" + 0.022*\"park\" + '\n",
            "  '0.021*\"rosa\" + 0.015*\"wish\"'),\n",
            " (1,\n",
            "  '0.107*\"right\" + 0.105*\"civil\" + 0.101*\"movement\" + 0.046*\"x\" + '\n",
            "  '0.042*\"learn\" + 0.034*\"malcolm\" + 0.026*\"war\" + 0.023*\"figure\" + '\n",
            "  '0.016*\"fight\" + 0.013*\"malcom\"'),\n",
            " (2,\n",
            "  '0.035*\"slave\" + 0.034*\"columbus\" + 0.032*\"native\" + 0.029*\"america\" + '\n",
            "  '0.022*\"christopher\" + 0.019*\"free\" + 0.019*\"indigenous\" + 0.019*\"land\" + '\n",
            "  '0.019*\"harriet\" + 0.017*\"tubman\"'),\n",
            " (3,\n",
            "  '0.085*\"black\" + 0.024*\"panther\" + 0.019*\"learn\" + 0.016*\"watch\" + '\n",
            "  '0.015*\"month\" + 0.015*\"party\" + 0.014*\"documentary\" + 0.013*\"community\" + '\n",
            "  '0.011*\"movie\" + 0.010*\"tuskegee\"'),\n",
            " (4,\n",
            "  '0.057*\"racism\" + 0.035*\"learn\" + 0.018*\"race\" + 0.018*\"wish\" + '\n",
            "  '0.015*\"people\" + 0.014*\"today\" + 0.013*\"racial\" + 0.013*\"issue\" + '\n",
            "  '0.012*\"social\" + 0.010*\"medium\"'),\n",
            " (5,\n",
            "  '0.054*\"woman\" + 0.024*\"role\" + 0.020*\"african\" + 0.020*\"american\" + '\n",
            "  '0.017*\"play\" + 0.016*\"figure\" + 0.011*\"war\" + 0.011*\"fight\" + 0.009*\"man\" + '\n",
            "  '0.008*\"harlem\"'),\n",
            " (6,\n",
            "  '0.087*\"learn\" + 0.042*\"school\" + 0.038*\"wish\" + 0.036*\"history\" + '\n",
            "  '0.025*\"people\" + 0.020*\"teach\" + 0.017*\"like\" + 0.016*\"slavery\" + '\n",
            "  '0.014*\"know\" + 0.012*\"black\"'),\n",
            " (7,\n",
            "  '0.026*\"woman\" + 0.023*\"slave\" + 0.017*\"africa\" + 0.016*\"figure\" + '\n",
            "  '0.013*\"man\" + 0.012*\"trade\" + 0.012*\"use\" + 0.011*\"black\" + '\n",
            "  '0.011*\"washington\" + 0.009*\"work\"'),\n",
            " (8,\n",
            "  '0.083*\"king\" + 0.073*\"martin\" + 0.072*\"luther\" + 0.053*\"jr\" + 0.019*\"mlk\" + '\n",
            "  '0.018*\"figure\" + 0.015*\"speech\" + 0.014*\"rosa\" + 0.013*\"learn\" + '\n",
            "  '0.011*\"dr\"'),\n",
            " (9,\n",
            "  '0.050*\"learn\" + 0.026*\"native\" + 0.025*\"american\" + 0.024*\"americans\" + '\n",
            "  '0.022*\"united\" + 0.021*\"states\" + 0.021*\"war\" + 0.020*\"history\" + '\n",
            "  '0.018*\"wish\" + 0.014*\"asian\"')]\n"
          ],
          "name": "stdout"
        }
      ]
    },
    {
      "cell_type": "markdown",
      "metadata": {
        "id": "MtEHsHYBc_g_"
      },
      "source": [
        "# model Q2"
      ]
    },
    {
      "cell_type": "code",
      "metadata": {
        "colab": {
          "base_uri": "https://localhost:8080/",
          "height": 117,
          "referenced_widgets": [
            "6a47dbfeda564f26a0853a659c7a8fa9",
            "f3a13dac944547158214c54136e5f541",
            "ee5ca7e505ce4c6baa9847df95b5b525",
            "9bcd8dd547f9492bb665f641a4a4f530",
            "bf464bfe06d64bd2baccf79fe6badd3e",
            "9c6070699b144afcb5ec0a6fc6c9263a",
            "e258f2dc24cc4fa7b09015a899ac57fe",
            "a234bf47c3df4fa387bf1fd58b3b46ba"
          ]
        },
        "id": "6dWOvhXvNtto",
        "outputId": "3319ba01-bb59-4cb5-c3bf-f626bffde70f"
      },
      "source": [
        "word_list_q2 = []\n",
        "# Iterates through each response in the corpus.\n",
        "for response in tqdm(data_clean_text_q2):\n",
        "    # Passes that response through the pipeline and adds result to a new list.\n",
        "    pr = nlp(response)\n",
        "    word_list_q2.append(pr)"
      ],
      "execution_count": 24,
      "outputs": [
        {
          "output_type": "stream",
          "text": [
            "/usr/local/lib/python3.7/dist-packages/ipykernel_launcher.py:3: TqdmDeprecationWarning: This function will be removed in tqdm==5.0.0\n",
            "Please use `tqdm.notebook.tqdm` instead of `tqdm.tqdm_notebook`\n",
            "  This is separate from the ipykernel package so we can avoid doing imports until\n"
          ],
          "name": "stderr"
        },
        {
          "output_type": "display_data",
          "data": {
            "application/vnd.jupyter.widget-view+json": {
              "model_id": "6a47dbfeda564f26a0853a659c7a8fa9",
              "version_minor": 0,
              "version_major": 2
            },
            "text/plain": [
              "HBox(children=(FloatProgress(value=0.0, max=19133.0), HTML(value='')))"
            ]
          },
          "metadata": {
            "tags": []
          }
        },
        {
          "output_type": "stream",
          "text": [
            "\n"
          ],
          "name": "stdout"
        }
      ]
    },
    {
      "cell_type": "code",
      "metadata": {
        "id": "M5pg2JdJdHNR"
      },
      "source": [
        "# mapping of word IDs to words.\n",
        "words_q2 = corpora.Dictionary(word_list_q2)\n",
        "\n",
        "# Turns each document into a bag of words.\n",
        "corpus_q2 = [words_q2.doc2bow(response) for response in word_list_q2]"
      ],
      "execution_count": 47,
      "outputs": []
    },
    {
      "cell_type": "code",
      "metadata": {
        "id": "RLCbYGDddTUW"
      },
      "source": [
        "# run latent dirichlet allocation model\n",
        "lda_model_q2 = gensim.models.ldamodel.LdaModel(corpus=corpus_q2,\n",
        "                                           id2word=words_q2,\n",
        "                                           num_topics=10, \n",
        "                                           random_state=2,\n",
        "                                           update_every=1,\n",
        "                                           passes=10,\n",
        "                                           alpha='auto',\n",
        "                                           per_word_topics=True)"
      ],
      "execution_count": 48,
      "outputs": []
    },
    {
      "cell_type": "code",
      "metadata": {
        "colab": {
          "base_uri": "https://localhost:8080/"
        },
        "id": "FjtKhjwadl5o",
        "outputId": "c2bb4e46-1026-498e-f4c1-5e16424d95e4"
      },
      "source": [
        "# view topic results\n",
        "pprint(lda_model_q2.print_topics(num_topics=-1, num_words=10))"
      ],
      "execution_count": 49,
      "outputs": [
        {
          "output_type": "stream",
          "text": [
            "[(0,\n",
            "  '0.056*\"racism\" + 0.055*\"teach\" + 0.049*\"school\" + 0.042*\"history\" + '\n",
            "  '0.037*\"good\" + 0.036*\"job\" + 0.035*\"teacher\" + 0.029*\"race\" + '\n",
            "  '0.024*\"people\" + 0.021*\"way\"'),\n",
            " (1,\n",
            "  '0.046*\"teacher\" + 0.032*\"class\" + 0.023*\"student\" + 0.016*\"book\" + '\n",
            "  '0.016*\"read\" + 0.015*\"event\" + 0.015*\"topic\" + 0.014*\"help\" + '\n",
            "  '0.013*\"racism\" + 0.013*\"understand\"'),\n",
            " (2,\n",
            "  '0.042*\"united\" + 0.042*\"states\" + 0.038*\"course\" + 0.032*\"college\" + '\n",
            "  '0.024*\"professor\" + 0.014*\"diversity\" + 0.014*\"ap\" + 0.013*\"american\" + '\n",
            "  '0.012*\"class\" + 0.012*\"education\"'),\n",
            " (3,\n",
            "  '0.024*\"holocaust\" + 0.017*\"enjoy\" + 0.014*\"field\" + 0.013*\"informative\" + '\n",
            "  '0.012*\"trip\" + 0.012*\"chapter\" + 0.011*\"frederick\" + 0.010*\"museum\" + '\n",
            "  '0.010*\"douglass\" + 0.009*\"speaker\"'),\n",
            " (4,\n",
            "  '0.047*\"study\" + 0.028*\"woman\" + 0.018*\"black\" + 0.017*\"club\" + '\n",
            "  '0.016*\"program\" + 0.010*\"social\" + 0.010*\"offer\" + 0.010*\"man\" + '\n",
            "  '0.010*\"american\" + 0.010*\"class\"'),\n",
            " (5,\n",
            "  '0.113*\"civil\" + 0.112*\"right\" + 0.084*\"movement\" + 0.040*\"war\" + '\n",
            "  '0.038*\"king\" + 0.037*\"martin\" + 0.037*\"luther\" + 0.025*\"jr\" + 0.018*\"rosa\" '\n",
            "  '+ 0.016*\"mlk\"'),\n",
            " (6,\n",
            "  '0.094*\"african\" + 0.080*\"americans\" + 0.070*\"american\" + 0.053*\"slave\" + '\n",
            "  '0.030*\"native\" + 0.026*\"law\" + 0.022*\"jim\" + 0.021*\"crow\" + 0.017*\"slavery\" '\n",
            "  '+ 0.012*\"trade\"'),\n",
            " (7,\n",
            "  '0.043*\"grade\" + 0.039*\"color\" + 0.030*\"skin\" + 0.022*\"treat\" + '\n",
            "  '0.021*\"young\" + 0.017*\"white\" + 0.017*\"  \" + 0.017*\"child\" + 0.014*\"age\" + '\n",
            "  '0.010*\"people\"'),\n",
            " (8,\n",
            "  '0.033*\"ap\" + 0.023*\"history\" + 0.020*\"away\" + 0.014*\"sugarcoat\" + '\n",
            "  '0.014*\"truth\" + 0.011*\"slave\" + 0.010*\"slavery\" + 0.010*\"year\" + '\n",
            "  '0.009*\"shy\" + 0.009*\"teacher\"'),\n",
            " (9,\n",
            "  '0.024*\"police\" + 0.020*\"sugar\" + 0.019*\"coat\" + 0.016*\"brutality\" + '\n",
            "  '0.013*\"art\" + 0.011*\"paper\" + 0.011*\"music\" + 0.008*\"crime\" + '\n",
            "  '0.007*\"historic\" + 0.007*\"peaceful\"')]\n"
          ],
          "name": "stdout"
        }
      ]
    },
    {
      "cell_type": "markdown",
      "metadata": {
        "id": "8dHKrAzFd9Va"
      },
      "source": [
        "# model Q3"
      ]
    },
    {
      "cell_type": "code",
      "metadata": {
        "colab": {
          "base_uri": "https://localhost:8080/",
          "height": 117,
          "referenced_widgets": [
            "2b90dc9d2c0f4a26a9791e47e9887320",
            "1629ad4fc4684f94b1f91766ca36c9c1",
            "b43f6c5cf14d4ff7bdf5a334adcae01a",
            "5afae4d9f06244ceb2a007c94ac4657d",
            "515f3377dd0346d48105f1905a994261",
            "105fb80c543d4caf81b09b59b5fca6bd",
            "8854f99ac8084529a0330413de44d642",
            "d6b1aabe044a41229ec8131db0a16e22"
          ]
        },
        "id": "JUzwQ7xpd_lR",
        "outputId": "511d182e-13e0-4f1d-fac1-a5f34c5bc04d"
      },
      "source": [
        "word_list_q3 = []\n",
        "# Iterates through each response in the corpus.\n",
        "for response in tqdm(data_clean_text_q3):\n",
        "    # Passes that response through the pipeline and adds result to a new list.\n",
        "    pr = nlp(response)\n",
        "    word_list_q3.append(pr)"
      ],
      "execution_count": 50,
      "outputs": [
        {
          "output_type": "stream",
          "text": [
            "/usr/local/lib/python3.7/dist-packages/ipykernel_launcher.py:3: TqdmDeprecationWarning: This function will be removed in tqdm==5.0.0\n",
            "Please use `tqdm.notebook.tqdm` instead of `tqdm.tqdm_notebook`\n",
            "  This is separate from the ipykernel package so we can avoid doing imports until\n"
          ],
          "name": "stderr"
        },
        {
          "output_type": "display_data",
          "data": {
            "application/vnd.jupyter.widget-view+json": {
              "model_id": "2b90dc9d2c0f4a26a9791e47e9887320",
              "version_minor": 0,
              "version_major": 2
            },
            "text/plain": [
              "HBox(children=(FloatProgress(value=0.0, max=19133.0), HTML(value='')))"
            ]
          },
          "metadata": {
            "tags": []
          }
        },
        {
          "output_type": "stream",
          "text": [
            "\n"
          ],
          "name": "stdout"
        }
      ]
    },
    {
      "cell_type": "code",
      "metadata": {
        "id": "zOzuVhU8eCo9"
      },
      "source": [
        "# mapping of word IDs to words.\n",
        "words_q3 = corpora.Dictionary(word_list_q3)\n",
        "\n",
        "# Turns each document into a bag of words.\n",
        "corpus_q3 = [words_q3.doc2bow(response) for response in word_list_q3]"
      ],
      "execution_count": 51,
      "outputs": []
    },
    {
      "cell_type": "code",
      "metadata": {
        "id": "dlCpsDHGeGgO"
      },
      "source": [
        "# run latent dirichlet allocation model\n",
        "lda_model_q3 = gensim.models.ldamodel.LdaModel(corpus=corpus_q3,\n",
        "                                           id2word=words_q3,\n",
        "                                           num_topics=10, \n",
        "                                           random_state=2,\n",
        "                                           update_every=1,\n",
        "                                           passes=10,\n",
        "                                           alpha='auto',\n",
        "                                           per_word_topics=True)"
      ],
      "execution_count": 52,
      "outputs": []
    },
    {
      "cell_type": "code",
      "metadata": {
        "colab": {
          "base_uri": "https://localhost:8080/"
        },
        "id": "RhuqvCxCeLtu",
        "outputId": "4517627b-59a8-4065-b3d6-f569ad3790aa"
      },
      "source": [
        "# view topic results\n",
        "pprint(lda_model_q3.print_topics(num_topics=-1, num_words=10))"
      ],
      "execution_count": 53,
      "outputs": [
        {
          "output_type": "stream",
          "text": [
            "[(0,\n",
            "  '0.044*\"  \" + 0.026*\"story\" + 0.017*\"hear\" + 0.011*\"documentary\" + 0.010*\"\\n'\n",
            "  ' \" + 0.009*\"accountable\" + 0.009*\"latinos\" + 0.009*\"hold\" + '\n",
            "  '0.008*\"differently\" + 0.007*\"factual\"'),\n",
            " (1,\n",
            "  '0.095*\"right\" + 0.075*\"civil\" + 0.064*\"movement\" + 0.054*\"figure\" + '\n",
            "  '0.033*\"black\" + 0.032*\"war\" + 0.026*\"historical\" + 0.020*\"slavery\" + '\n",
            "  '0.011*\"fight\" + 0.011*\"leader\"'),\n",
            " (2,\n",
            "  '0.058*\"history\" + 0.042*\"truth\" + 0.038*\"tell\" + 0.026*\"textbook\" + '\n",
            "  '0.021*\"story\" + 0.020*\"need\" + 0.018*\"want\" + 0.015*\"happen\" + 0.015*\"know\" '\n",
            "  '+ 0.015*\"stop\"'),\n",
            " (3,\n",
            "  '0.033*\"slave\" + 0.032*\"columbus\" + 0.021*\"christopher\" + 0.014*\"grade\" + '\n",
            "  '0.012*\"native\" + 0.011*\"trade\" + 0.010*\"perfect\" + 0.009*\"genocide\" + '\n",
            "  '0.008*\"century\" + 0.008*\"middle\"'),\n",
            " (4,\n",
            "  '0.088*\"people\" + 0.076*\"white\" + 0.046*\"color\" + 0.042*\"book\" + '\n",
            "  '0.035*\"black\" + 0.028*\"history\" + 0.021*\"perspective\" + 0.021*\"write\" + '\n",
            "  '0.019*\"textbook\" + 0.015*\"read\"'),\n",
            " (5,\n",
            "  '0.056*\"racism\" + 0.039*\"like\" + 0.035*\"school\" + 0.028*\"teach\" + '\n",
            "  '0.024*\"people\" + 0.021*\"think\" + 0.019*\"learn\" + 0.019*\"talk\" + '\n",
            "  '0.018*\"need\" + 0.017*\"history\"'),\n",
            " (6,\n",
            "  '0.086*\"student\" + 0.029*\"allow\" + 0.026*\"young\" + 0.024*\"teacher\" + '\n",
            "  '0.017*\"age\" + 0.016*\"opinion\" + 0.016*\"help\" + 0.013*\"education\" + '\n",
            "  '0.013*\"understand\" + 0.012*\"teach\"'),\n",
            " (7,\n",
            "  '0.101*\"history\" + 0.080*\"american\" + 0.073*\"black\" + 0.070*\"african\" + '\n",
            "  '0.068*\"americans\" + 0.027*\"month\" + 0.024*\"native\" + 0.018*\"learn\" + '\n",
            "  '0.018*\"like\" + 0.016*\"asian\"'),\n",
            " (8,\n",
            "  '0.042*\"different\" + 0.040*\"race\" + 0.030*\"culture\" + 0.029*\"minority\" + '\n",
            "  '0.026*\"history\" + 0.024*\"group\" + 0.024*\"class\" + 0.015*\"school\" + '\n",
            "  '0.013*\"curriculum\" + 0.013*\"like\"'),\n",
            " (9,\n",
            "  '0.077*\"textbook\" + 0.060*\"curriculum\" + 0.056*\"like\" + 0.054*\"way\" + '\n",
            "  '0.052*\"race\" + 0.051*\"improve\" + 0.050*\"school\" + 0.044*\"event\" + '\n",
            "  '0.044*\"racism\" + 0.039*\"content\"')]\n"
          ],
          "name": "stdout"
        }
      ]
    },
    {
      "cell_type": "code",
      "metadata": {
        "colab": {
          "base_uri": "https://localhost:8080/",
          "height": 315,
          "referenced_widgets": [
            "16a0cdb817c64cbb855268f913ea54e9",
            "f50c134efbd24c8a9f49cf675f7a607a",
            "084f78ef97414d4ca2a061da3ec39355",
            "cd30a206b98f4942a6f009c6e6668088",
            "9ef9dbb67fc9494898eb5aa01225fd1c",
            "1b62599f54c34795bfbd140d866efe8d",
            "e83af3b31b9b4009a368cd1fec291488",
            "ec10ae01eaea41f0b17cfea0d1d86f27"
          ]
        },
        "id": "Ec1QBc7728mo",
        "outputId": "aa9bb5d9-930b-4333-f836-3db3c0b184f2"
      },
      "source": [
        "ent_list_q3 = []\n",
        "# Iterates through each response in the corpus.\n",
        "for response in tqdm(data_clean_text_q3):\n",
        "    # Passes that response through the pipeline and adds result to a new list.\n",
        "    pr = nlp(response)\n",
        "    for ent in pr.ents:\n",
        "      word_list_q3.append(ent.text, ent.label_)\n",
        "\n",
        "# for ent in corpus_q3.ents:\n",
        "#     print(ent.text, ent.label_)\n",
        "\n",
        "# this section doesn't work because of pipes added to original nlp"
      ],
      "execution_count": 56,
      "outputs": [
        {
          "output_type": "stream",
          "text": [
            "/usr/local/lib/python3.7/dist-packages/ipykernel_launcher.py:3: TqdmDeprecationWarning: This function will be removed in tqdm==5.0.0\n",
            "Please use `tqdm.notebook.tqdm` instead of `tqdm.tqdm_notebook`\n",
            "  This is separate from the ipykernel package so we can avoid doing imports until\n"
          ],
          "name": "stderr"
        },
        {
          "output_type": "display_data",
          "data": {
            "application/vnd.jupyter.widget-view+json": {
              "model_id": "16a0cdb817c64cbb855268f913ea54e9",
              "version_minor": 0,
              "version_major": 2
            },
            "text/plain": [
              "HBox(children=(FloatProgress(value=0.0, max=19133.0), HTML(value='')))"
            ]
          },
          "metadata": {
            "tags": []
          }
        },
        {
          "output_type": "error",
          "ename": "AttributeError",
          "evalue": "ignored",
          "traceback": [
            "\u001b[0;31m---------------------------------------------------------------------------\u001b[0m",
            "\u001b[0;31mAttributeError\u001b[0m                            Traceback (most recent call last)",
            "\u001b[0;32m<ipython-input-56-942cb894a48b>\u001b[0m in \u001b[0;36m<module>\u001b[0;34m()\u001b[0m\n\u001b[1;32m      4\u001b[0m     \u001b[0;31m# Passes that response through the pipeline and adds result to a new list.\u001b[0m\u001b[0;34m\u001b[0m\u001b[0;34m\u001b[0m\u001b[0;34m\u001b[0m\u001b[0m\n\u001b[1;32m      5\u001b[0m     \u001b[0mpr\u001b[0m \u001b[0;34m=\u001b[0m \u001b[0mnlp\u001b[0m\u001b[0;34m(\u001b[0m\u001b[0mresponse\u001b[0m\u001b[0;34m)\u001b[0m\u001b[0;34m\u001b[0m\u001b[0;34m\u001b[0m\u001b[0m\n\u001b[0;32m----> 6\u001b[0;31m     \u001b[0;32mfor\u001b[0m \u001b[0ment\u001b[0m \u001b[0;32min\u001b[0m \u001b[0mpr\u001b[0m\u001b[0;34m.\u001b[0m\u001b[0ments\u001b[0m\u001b[0;34m:\u001b[0m\u001b[0;34m\u001b[0m\u001b[0;34m\u001b[0m\u001b[0m\n\u001b[0m\u001b[1;32m      7\u001b[0m       \u001b[0mword_list_q3\u001b[0m\u001b[0;34m.\u001b[0m\u001b[0mappend\u001b[0m\u001b[0;34m(\u001b[0m\u001b[0ment\u001b[0m\u001b[0;34m.\u001b[0m\u001b[0mtext\u001b[0m\u001b[0;34m,\u001b[0m \u001b[0ment\u001b[0m\u001b[0;34m.\u001b[0m\u001b[0mlabel_\u001b[0m\u001b[0;34m)\u001b[0m\u001b[0;34m\u001b[0m\u001b[0;34m\u001b[0m\u001b[0m\n\u001b[1;32m      8\u001b[0m \u001b[0;34m\u001b[0m\u001b[0m\n",
            "\u001b[0;31mAttributeError\u001b[0m: 'list' object has no attribute 'ents'"
          ]
        }
      ]
    },
    {
      "cell_type": "code",
      "metadata": {
        "id": "27ZtmUgD0twp"
      },
      "source": [
        "# how to refine and improve:\n",
        "\n",
        "# medium or large english tokenizer (nlp = spacy.load(\"en_core_web_md\") or nlp = spacy.load(\"en_core_web_lg\"))\n",
        "# td-idf\n",
        "# n-grams\n",
        "# more or less topics\n",
        "# more passes in model\n",
        "# identifying named entities"
      ],
      "execution_count": null,
      "outputs": []
    }
  ]
}