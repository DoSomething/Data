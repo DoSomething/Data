{
 "cells": [
  {
   "cell_type": "code",
   "execution_count": 1,
   "metadata": {},
   "outputs": [
    {
     "name": "stderr",
     "output_type": "stream",
     "text": [
      "/usr/local/lib/python3.7/site-packages/psycopg2/__init__.py:144: UserWarning: The psycopg2 wheel package will be renamed from release 2.8; in order to keep installing from binary please use \"pip install psycopg2-binary\" instead. For details see: <http://initd.org/psycopg/docs/install.html#binary-install-from-pypi>.\n",
      "  \"\"\")\n"
     ]
    }
   ],
   "source": [
    "## trello card: https://trello.com/c/W0EUPHdT/1482-data-request-grab-the-mic\n",
    "\n",
    "%matplotlib inline\n",
    "import matplotlib.pyplot as plt\n",
    "import pandas as pd\n",
    "\n",
    "import utils as u\n",
    "\n",
    "plt.rcParams['figure.figsize'] = 12, 9"
   ]
  },
  {
   "cell_type": "markdown",
   "metadata": {},
   "source": [
    "### Load data:\n",
    "\n",
    "1) Member event log data for last year    \n",
    "2) Users who participated in GTM with a flag indicating if they were new members or not\n",
    "\n",
    "Note: supply correct postgres db/user params in order to `load_connection`"
   ]
  },
  {
   "cell_type": "code",
   "execution_count": 2,
   "metadata": {},
   "outputs": [],
   "source": [
    "sql = '''\n",
    "SELECT *\n",
    "FROM member_event_log\n",
    "WHERE \"timestamp\" >= '2018-01-01'\n",
    "AND \"timestamp\" < '2019-01-01'\n",
    "'''\n",
    "\n",
    "df = pd.read_sql(sql, u.load_connection())"
   ]
  },
  {
   "cell_type": "code",
   "execution_count": 3,
   "metadata": {},
   "outputs": [],
   "source": [
    "GTM_members = '''\n",
    "SELECT DISTINCT s.northstar_id, gtm_first_users.new_GTM_member\n",
    "FROM signups s\n",
    "LEFT JOIN (\n",
    "    SELECT f.northstar_id,\n",
    "       CASE WHEN f.first_campaign = '8017' THEN 1 ELSE NULL END as new_GTM_member\n",
    "    FROM (\n",
    "        SELECT \n",
    "            northstar_id, \n",
    "            first_value(campaign_id) OVER (PARTITION BY northstar_id ORDER BY created_at) AS first_campaign\n",
    "        FROM signups\n",
    "        WHERE created_at < '2019-01-01'\n",
    "    ) f\n",
    "    WHERE f.first_campaign = '8017'\n",
    ") gtm_first_users\n",
    "ON gtm_first_users.northstar_id = s.northstar_id\n",
    "WHERE s.campaign_id = '8017'\n",
    "AND s.created_at < '2019-01-01'\n",
    "'''\n",
    "\n",
    "df_gtm_users = pd.read_sql(GTM_members, u.load_connection())"
   ]
  },
  {
   "cell_type": "code",
   "execution_count": 4,
   "metadata": {},
   "outputs": [
    {
     "data": {
      "text/plain": [
       "(379654, 161982)"
      ]
     },
     "execution_count": 4,
     "metadata": {},
     "output_type": "execute_result"
    }
   ],
   "source": [
    "len(df_gtm_users), len(df_gtm_users[df_gtm_users['new_gtm_member'].notnull()])"
   ]
  },
  {
   "cell_type": "code",
   "execution_count": 5,
   "metadata": {},
   "outputs": [],
   "source": [
    "df.loc[df['northstar_id'].isin(df_gtm_users['northstar_id'].unique()), 'GTM_participant'] = 1"
   ]
  },
  {
   "cell_type": "code",
   "execution_count": 6,
   "metadata": {},
   "outputs": [],
   "source": [
    "df.loc[df['northstar_id'].isin(\n",
    "    df_gtm_users[df_gtm_users['new_gtm_member'].notnull()]['northstar_id'].unique()), 'GTM_first_signup'] = 1"
   ]
  },
  {
   "cell_type": "code",
   "execution_count": 7,
   "metadata": {},
   "outputs": [],
   "source": [
    "df_GTM_members_returning = df[(df['GTM_participant'] == 1) & (df['GTM_first_signup'].isnull())]\n",
    "df_GTM_members_new = df[(df['GTM_participant'] == 1) & (df['GTM_first_signup'] == 1)]\n",
    "df_nonGTM_members = df[~(df['GTM_participant'] == 1)]"
   ]
  },
  {
   "cell_type": "code",
   "execution_count": 8,
   "metadata": {},
   "outputs": [
    {
     "data": {
      "text/plain": [
       "(1819624, 390194, 5079855)"
      ]
     },
     "execution_count": 8,
     "metadata": {},
     "output_type": "execute_result"
    }
   ],
   "source": [
    "len(df_GTM_members_returning), len(df_GTM_members_new), len(df_nonGTM_members)"
   ]
  },
  {
   "cell_type": "markdown",
   "metadata": {},
   "source": [
    "### How many actions on avg per user per month?"
   ]
  },
  {
   "cell_type": "code",
   "execution_count": 9,
   "metadata": {},
   "outputs": [],
   "source": [
    "returning_monthly_num_active = df_GTM_members_returning.set_index('timestamp').groupby(\n",
    "    ['northstar_id', pd.Grouper(freq='M')]).size()\n",
    "\n",
    "new_monthly_num_active = df_GTM_members_new.set_index('timestamp').groupby(\n",
    "    ['northstar_id', pd.Grouper(freq='M')]).size()\n",
    "\n",
    "nonGTM_monthly_num_active = df_nonGTM_members.set_index('timestamp').groupby(\n",
    "    ['northstar_id', pd.Grouper(freq='M')]).size()"
   ]
  },
  {
   "cell_type": "code",
   "execution_count": 10,
   "metadata": {},
   "outputs": [
    {
     "data": {
      "text/plain": [
       "(2.6666666666666665, 3.674246928854904)"
      ]
     },
     "execution_count": 10,
     "metadata": {},
     "output_type": "execute_result"
    }
   ],
   "source": [
    "(returning_monthly_num_active.groupby('northstar_id').mean().median(), \n",
    " returning_monthly_num_active.groupby('northstar_id').mean().mean())"
   ]
  },
  {
   "cell_type": "code",
   "execution_count": 11,
   "metadata": {},
   "outputs": [
    {
     "data": {
      "text/plain": [
       "(1.0, 2.553407670112482)"
      ]
     },
     "execution_count": 11,
     "metadata": {},
     "output_type": "execute_result"
    }
   ],
   "source": [
    "(new_monthly_num_active.groupby('northstar_id').mean().median(), \n",
    " new_monthly_num_active.groupby('northstar_id').mean().mean())"
   ]
  },
  {
   "cell_type": "code",
   "execution_count": 12,
   "metadata": {},
   "outputs": [
    {
     "data": {
      "text/plain": [
       "(2.0, 3.2346665208158356)"
      ]
     },
     "execution_count": 12,
     "metadata": {},
     "output_type": "execute_result"
    }
   ],
   "source": [
    "(nonGTM_monthly_num_active.groupby('northstar_id').mean().median(), \n",
    " nonGTM_monthly_num_active.groupby('northstar_id').mean().mean())"
   ]
  },
  {
   "cell_type": "markdown",
   "metadata": {},
   "source": [
    "### What actions are these groups doing?"
   ]
  },
  {
   "cell_type": "code",
   "execution_count": 13,
   "metadata": {},
   "outputs": [
    {
     "data": {
      "text/plain": [
       "messaged_gambit          0.294773\n",
       "signup                   0.257759\n",
       "site_access              0.098863\n",
       "bertly_link_click        0.083846\n",
       "site_login               0.066855\n",
       "post                     0.063797\n",
       "bertly_link_uncertain    0.055973\n",
       "clicked_link             0.048605\n",
       "account_creation         0.029529\n",
       "Name: action_type, dtype: float64"
      ]
     },
     "execution_count": 13,
     "metadata": {},
     "output_type": "execute_result"
    }
   ],
   "source": [
    "df_GTM_members_returning['action_type'].value_counts(normalize=True)"
   ]
  },
  {
   "cell_type": "code",
   "execution_count": 14,
   "metadata": {},
   "outputs": [
    {
     "data": {
      "text/plain": [
       "post                     0.215557\n",
       "signup                   0.179418\n",
       "site_access              0.168022\n",
       "site_login               0.144069\n",
       "account_creation         0.112977\n",
       "clicked_link             0.095998\n",
       "messaged_gambit          0.054547\n",
       "bertly_link_click        0.016528\n",
       "bertly_link_uncertain    0.012883\n",
       "Name: action_type, dtype: float64"
      ]
     },
     "execution_count": 14,
     "metadata": {},
     "output_type": "execute_result"
    }
   ],
   "source": [
    "df_GTM_members_new['action_type'].value_counts(normalize=True)"
   ]
  },
  {
   "cell_type": "code",
   "execution_count": 15,
   "metadata": {},
   "outputs": [
    {
     "data": {
      "text/plain": [
       "messaged_gambit          0.267357\n",
       "signup                   0.151917\n",
       "clicked_link             0.127766\n",
       "bertly_link_click        0.112758\n",
       "site_access              0.096506\n",
       "site_login               0.079741\n",
       "account_creation         0.074857\n",
       "bertly_link_uncertain    0.060214\n",
       "post                     0.028885\n",
       "Name: action_type, dtype: float64"
      ]
     },
     "execution_count": 15,
     "metadata": {},
     "output_type": "execute_result"
    }
   ],
   "source": [
    "df_nonGTM_members['action_type'].value_counts(normalize=True)"
   ]
  },
  {
   "cell_type": "markdown",
   "metadata": {},
   "source": [
    "### How many signups per user?"
   ]
  },
  {
   "cell_type": "code",
   "execution_count": 16,
   "metadata": {},
   "outputs": [],
   "source": [
    "returning_num_signups = df_GTM_members_returning[\n",
    "    df_GTM_members_returning['action_type'] == 'signup'].groupby('northstar_id').size()"
   ]
  },
  {
   "cell_type": "code",
   "execution_count": 17,
   "metadata": {},
   "outputs": [],
   "source": [
    "new_num_signups = df_GTM_members_new[\n",
    "    df_GTM_members_new['action_type'] == 'signup'].groupby('northstar_id').size()"
   ]
  },
  {
   "cell_type": "code",
   "execution_count": 18,
   "metadata": {},
   "outputs": [],
   "source": [
    "nonGTM_num_signups = df_nonGTM_members[\n",
    "    df_nonGTM_members['action_type'] == 'signup'].groupby('northstar_id').size()"
   ]
  },
  {
   "cell_type": "code",
   "execution_count": 19,
   "metadata": {},
   "outputs": [
    {
     "data": {
      "text/plain": [
       "count    198003.000000\n",
       "mean          2.368772\n",
       "std           1.785707\n",
       "min           1.000000\n",
       "25%           1.000000\n",
       "50%           2.000000\n",
       "75%           3.000000\n",
       "max         107.000000\n",
       "dtype: float64"
      ]
     },
     "execution_count": 19,
     "metadata": {},
     "output_type": "execute_result"
    }
   ],
   "source": [
    "returning_num_signups.describe()"
   ]
  },
  {
   "cell_type": "code",
   "execution_count": 20,
   "metadata": {},
   "outputs": [
    {
     "data": {
      "text/plain": [
       "count    48959.000000\n",
       "mean         1.429931\n",
       "std          1.009143\n",
       "min          1.000000\n",
       "25%          1.000000\n",
       "50%          1.000000\n",
       "75%          2.000000\n",
       "max         64.000000\n",
       "dtype: float64"
      ]
     },
     "execution_count": 20,
     "metadata": {},
     "output_type": "execute_result"
    }
   ],
   "source": [
    "new_num_signups.describe()"
   ]
  },
  {
   "cell_type": "code",
   "execution_count": 21,
   "metadata": {},
   "outputs": [
    {
     "data": {
      "text/plain": [
       "count    579030.000000\n",
       "mean          1.332770\n",
       "std           0.802298\n",
       "min           1.000000\n",
       "25%           1.000000\n",
       "50%           1.000000\n",
       "75%           1.000000\n",
       "max          97.000000\n",
       "dtype: float64"
      ]
     },
     "execution_count": 21,
     "metadata": {},
     "output_type": "execute_result"
    }
   ],
   "source": [
    "nonGTM_num_signups.describe()"
   ]
  },
  {
   "cell_type": "markdown",
   "metadata": {},
   "source": [
    "### RBs?"
   ]
  },
  {
   "cell_type": "code",
   "execution_count": 22,
   "metadata": {},
   "outputs": [],
   "source": [
    "returning_num_posts = df_GTM_members_returning[\n",
    "    df_GTM_members_returning['action_type'] == 'post'].groupby('northstar_id').size()"
   ]
  },
  {
   "cell_type": "code",
   "execution_count": 23,
   "metadata": {},
   "outputs": [],
   "source": [
    "new_num_posts = df_GTM_members_new[\n",
    "    df_GTM_members_new['action_type'] == 'post'].groupby('northstar_id').size()"
   ]
  },
  {
   "cell_type": "code",
   "execution_count": 24,
   "metadata": {},
   "outputs": [],
   "source": [
    "nonGTM_num_posts = df_nonGTM_members[\n",
    "    df_nonGTM_members['action_type'] == 'post'].groupby('northstar_id').size()"
   ]
  },
  {
   "cell_type": "code",
   "execution_count": 25,
   "metadata": {},
   "outputs": [
    {
     "data": {
      "text/plain": [
       "count    76527.000000\n",
       "mean         1.516929\n",
       "std          2.798618\n",
       "min          1.000000\n",
       "25%          1.000000\n",
       "50%          1.000000\n",
       "75%          1.000000\n",
       "max        326.000000\n",
       "dtype: float64"
      ]
     },
     "execution_count": 25,
     "metadata": {},
     "output_type": "execute_result"
    }
   ],
   "source": [
    "returning_num_posts.describe()"
   ]
  },
  {
   "cell_type": "code",
   "execution_count": 26,
   "metadata": {},
   "outputs": [
    {
     "data": {
      "text/plain": [
       "count    76000.000000\n",
       "mean         1.106697\n",
       "std          0.731350\n",
       "min          1.000000\n",
       "25%          1.000000\n",
       "50%          1.000000\n",
       "75%          1.000000\n",
       "max         59.000000\n",
       "dtype: float64"
      ]
     },
     "execution_count": 26,
     "metadata": {},
     "output_type": "execute_result"
    }
   ],
   "source": [
    "new_num_posts.describe()"
   ]
  },
  {
   "cell_type": "code",
   "execution_count": 27,
   "metadata": {},
   "outputs": [
    {
     "data": {
      "text/plain": [
       "count    99596.000000\n",
       "mean         1.473252\n",
       "std          8.817974\n",
       "min          1.000000\n",
       "25%          1.000000\n",
       "50%          1.000000\n",
       "75%          1.000000\n",
       "max       1506.000000\n",
       "dtype: float64"
      ]
     },
     "execution_count": 27,
     "metadata": {},
     "output_type": "execute_result"
    }
   ],
   "source": [
    "nonGTM_num_posts.describe()"
   ]
  },
  {
   "cell_type": "markdown",
   "metadata": {},
   "source": [
    "### What channel is most popular for each group?"
   ]
  },
  {
   "cell_type": "code",
   "execution_count": 28,
   "metadata": {},
   "outputs": [],
   "source": [
    "returning_channel = df_GTM_members_returning.groupby('channel').size()"
   ]
  },
  {
   "cell_type": "code",
   "execution_count": 29,
   "metadata": {},
   "outputs": [
    {
     "data": {
      "text/plain": [
       "channel\n",
       "email                   0.048799\n",
       "niche_coregistration    0.006997\n",
       "other                   0.035892\n",
       "sms                     0.590042\n",
       "web                     0.318270\n",
       "dtype: float64"
      ]
     },
     "execution_count": 29,
     "metadata": {},
     "output_type": "execute_result"
    }
   ],
   "source": [
    "returning_channel / returning_channel.sum()"
   ]
  },
  {
   "cell_type": "code",
   "execution_count": 30,
   "metadata": {},
   "outputs": [],
   "source": [
    "new_channel = df_GTM_members_new.groupby('channel').size()"
   ]
  },
  {
   "cell_type": "code",
   "execution_count": 31,
   "metadata": {},
   "outputs": [
    {
     "data": {
      "text/plain": [
       "channel\n",
       "email                   0.096241\n",
       "niche_coregistration    0.002405\n",
       "other                   0.190105\n",
       "sms                     0.104082\n",
       "web                     0.607167\n",
       "dtype: float64"
      ]
     },
     "execution_count": 31,
     "metadata": {},
     "output_type": "execute_result"
    }
   ],
   "source": [
    "new_channel / new_channel.sum()"
   ]
  },
  {
   "cell_type": "code",
   "execution_count": 32,
   "metadata": {},
   "outputs": [],
   "source": [
    "nonGTM_channel = df_nonGTM_members.groupby('channel').size()"
   ]
  },
  {
   "cell_type": "code",
   "execution_count": 33,
   "metadata": {},
   "outputs": [
    {
     "data": {
      "text/plain": [
       "channel\n",
       "email                   0.128415\n",
       "niche_coregistration    0.039300\n",
       "other                   0.004983\n",
       "sms                     0.497897\n",
       "web                     0.329405\n",
       "dtype: float64"
      ]
     },
     "execution_count": 33,
     "metadata": {},
     "output_type": "execute_result"
    }
   ],
   "source": [
    "nonGTM_channel / nonGTM_channel.sum()"
   ]
  }
 ],
 "metadata": {
  "kernelspec": {
   "display_name": "Python 3",
   "language": "python",
   "name": "python3"
  },
  "language_info": {
   "codemirror_mode": {
    "name": "ipython",
    "version": 3
   },
   "file_extension": ".py",
   "mimetype": "text/x-python",
   "name": "python",
   "nbconvert_exporter": "python",
   "pygments_lexer": "ipython3",
   "version": "3.7.0"
  }
 },
 "nbformat": 4,
 "nbformat_minor": 2
}
