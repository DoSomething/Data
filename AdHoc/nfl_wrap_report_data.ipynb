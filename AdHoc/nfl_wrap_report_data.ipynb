{
 "cells": [
  {
   "cell_type": "code",
   "execution_count": 1,
   "metadata": {},
   "outputs": [
    {
     "name": "stderr",
     "output_type": "stream",
     "text": [
      "/Users/mjain/DoSomething/data/lib/python3.7/site-packages/psycopg2/__init__.py:144: UserWarning: The psycopg2 wheel package will be renamed from release 2.8; in order to keep installing from binary please use \"pip install psycopg2-binary\" instead. For details see: <http://initd.org/psycopg/docs/install.html#binary-install-from-pypi>.\n",
      "  \"\"\")\n"
     ]
    }
   ],
   "source": [
    "import pandas as pd\n",
    "\n",
    "import pyutils as u"
   ]
  },
  {
   "cell_type": "markdown",
   "metadata": {},
   "source": [
    "https://trello.com/c/GLP95soX/1614-data-request-nfl-huddles\n",
    "\n",
    "### Users signing up"
   ]
  },
  {
   "cell_type": "code",
   "execution_count": 2,
   "metadata": {},
   "outputs": [],
   "source": [
    "sql_signups = '''\n",
    "    SELECT s.campaign_id, s.northstar_id, u.state, u.city\n",
    "\tFROM signups s\n",
    "\tLEFT JOIN users u ON u.northstar_id = s.northstar_id\n",
    "\tWHERE s.campaign_id in ('9011', '9024', '9030', '9034') '''\n",
    "df_signups = pd.read_sql(sql_signups, u.load_connection())"
   ]
  },
  {
   "cell_type": "code",
   "execution_count": 3,
   "metadata": {},
   "outputs": [],
   "source": [
    "# clean state values and remove users who did not provide this information\n",
    "df_signups = df_signups[~(df_signups['state'].isnull())]\n",
    "df_signups = u.clean_state_data(df_signups)"
   ]
  },
  {
   "cell_type": "code",
   "execution_count": 4,
   "metadata": {},
   "outputs": [],
   "source": [
    "# determines number of users per state and copies to clipboard\n",
    "df_signups.groupby(['state']).agg({'northstar_id': lambda x: len(x.unique())}).to_clipboard()"
   ]
  },
  {
   "cell_type": "code",
   "execution_count": 5,
   "metadata": {},
   "outputs": [],
   "source": [
    "# determines number of users per state and campaign and copies to clipboard\n",
    "df_signups.groupby(['state', 'campaign_id']).agg({'northstar_id': lambda x: len(x.unique())}).unstack().to_clipboard()"
   ]
  },
  {
   "cell_type": "code",
   "execution_count": 6,
   "metadata": {},
   "outputs": [
    {
     "name": "stderr",
     "output_type": "stream",
     "text": [
      "/Users/mjain/DoSomething/data/lib/python3.7/site-packages/ipykernel_launcher.py:3: SettingWithCopyWarning: \n",
      "A value is trying to be set on a copy of a slice from a DataFrame.\n",
      "Try using .loc[row_indexer,col_indexer] = value instead\n",
      "\n",
      "See the caveats in the documentation: http://pandas.pydata.org/pandas-docs/stable/indexing.html#indexing-view-versus-copy\n",
      "  This is separate from the ipykernel package so we can avoid doing imports until\n",
      "/Users/mjain/DoSomething/data/lib/python3.7/site-packages/ipykernel_launcher.py:4: SettingWithCopyWarning: \n",
      "A value is trying to be set on a copy of a slice from a DataFrame.\n",
      "Try using .loc[row_indexer,col_indexer] = value instead\n",
      "\n",
      "See the caveats in the documentation: http://pandas.pydata.org/pandas-docs/stable/indexing.html#indexing-view-versus-copy\n",
      "  after removing the cwd from sys.path.\n"
     ]
    }
   ],
   "source": [
    "# clean city values and remove users who did not provide this information\n",
    "df_signups_cities = df_signups[df_signups['city'].notnull()]\n",
    "df_signups_cities['city'] = df_signups_cities['city'].apply(lambda x: x.lower())\n",
    "df_signups_cities['city'] = df_signups_cities['city'].apply(lambda x: x.strip())"
   ]
  },
  {
   "cell_type": "code",
   "execution_count": 7,
   "metadata": {},
   "outputs": [],
   "source": [
    "# remove duplicate city, state values to condense as much as possible to unique pairs\n",
    "df_signups_cities[~(df_signups_cities[['city', 'state']].duplicated(keep='first'))][['city', 'state']].to_clipboard()"
   ]
  },
  {
   "cell_type": "markdown",
   "metadata": {},
   "source": [
    "### Users reporting back\n",
    "Same process as above."
   ]
  },
  {
   "cell_type": "code",
   "execution_count": 8,
   "metadata": {},
   "outputs": [],
   "source": [
    "sql_rbs = '''\n",
    "    SELECT s.campaign_id, s.northstar_id, u.state, u.city\n",
    "\tFROM signups s\n",
    "\tLEFT JOIN users u ON u.northstar_id = s.northstar_id\n",
    "\tJOIN reportbacks r ON r.signup_id = s.id\n",
    "\tWHERE s.campaign_id in ('9011', '9024', '9030', '9034') '''\n",
    "df_rbs = pd.read_sql(sql_rbs, u.load_connection())"
   ]
  },
  {
   "cell_type": "code",
   "execution_count": 9,
   "metadata": {},
   "outputs": [],
   "source": [
    "df_rbs = df_rbs[~(df_rbs['state'].isnull())]\n",
    "df_rbs = u.clean_state_data(df_rbs)"
   ]
  },
  {
   "cell_type": "code",
   "execution_count": 10,
   "metadata": {},
   "outputs": [],
   "source": [
    "df_rbs.groupby(['state']).agg({'northstar_id': lambda x: len(x.unique())}).to_clipboard()"
   ]
  },
  {
   "cell_type": "code",
   "execution_count": 11,
   "metadata": {},
   "outputs": [],
   "source": [
    "df_rbs.groupby(['state', 'campaign_id']).agg({'northstar_id': lambda x: len(x.unique())}).unstack().to_clipboard()"
   ]
  },
  {
   "cell_type": "code",
   "execution_count": 12,
   "metadata": {},
   "outputs": [
    {
     "name": "stderr",
     "output_type": "stream",
     "text": [
      "/Users/mjain/DoSomething/data/lib/python3.7/site-packages/ipykernel_launcher.py:2: SettingWithCopyWarning: \n",
      "A value is trying to be set on a copy of a slice from a DataFrame.\n",
      "Try using .loc[row_indexer,col_indexer] = value instead\n",
      "\n",
      "See the caveats in the documentation: http://pandas.pydata.org/pandas-docs/stable/indexing.html#indexing-view-versus-copy\n",
      "  \n",
      "/Users/mjain/DoSomething/data/lib/python3.7/site-packages/ipykernel_launcher.py:3: SettingWithCopyWarning: \n",
      "A value is trying to be set on a copy of a slice from a DataFrame.\n",
      "Try using .loc[row_indexer,col_indexer] = value instead\n",
      "\n",
      "See the caveats in the documentation: http://pandas.pydata.org/pandas-docs/stable/indexing.html#indexing-view-versus-copy\n",
      "  This is separate from the ipykernel package so we can avoid doing imports until\n"
     ]
    }
   ],
   "source": [
    "df_cities_rbs = df_rbs[df_rbs['city'].notnull()]\n",
    "df_cities_rbs['city'] = df_cities_rbs['city'].apply(lambda x: x.lower())\n",
    "df_cities_rbs['city'] = df_cities_rbs['city'].apply(lambda x: x.strip())"
   ]
  },
  {
   "cell_type": "code",
   "execution_count": 13,
   "metadata": {},
   "outputs": [],
   "source": [
    "df_cities_rbs[~(df_cities_rbs[['city', 'state']].duplicated(keep='first'))][['city', 'state']].to_clipboard()"
   ]
  },
  {
   "cell_type": "markdown",
   "metadata": {},
   "source": [
    "## Gender breakdown"
   ]
  },
  {
   "cell_type": "code",
   "execution_count": 14,
   "metadata": {},
   "outputs": [],
   "source": [
    "gender_sql = '''SELECT s.campaign_id, s.northstar_id, r.post_id, u.first_name, v.gender \n",
    "    FROM signups s \n",
    "    LEFT JOIN users u ON u.northstar_id = s.northstar_id\n",
    "    LEFT JOIN voter_reg_gender_list v ON LOWER(u.first_name) = LOWER(v.name)\n",
    "    LEFT JOIN reportbacks r ON r.signup_id = s.id\n",
    "    WHERE s.campaign_id in ('9011', '9024', '9030', '9034') '''\n",
    "df_gender = pd.read_sql(gender_sql, u.load_connection())"
   ]
  },
  {
   "cell_type": "code",
   "execution_count": 15,
   "metadata": {},
   "outputs": [],
   "source": [
    "# remove users whose gender could not be determined\n",
    "df_gender = df_gender[~df_gender['gender'].isnull()]"
   ]
  },
  {
   "cell_type": "markdown",
   "metadata": {},
   "source": [
    "#### Users signing up"
   ]
  },
  {
   "cell_type": "code",
   "execution_count": 16,
   "metadata": {},
   "outputs": [],
   "source": [
    "# determines number of users for each gender and copies to clipboard\n",
    "df_gender.groupby(['gender']).agg({'northstar_id': lambda x: len(x.unique())}).to_clipboard()"
   ]
  },
  {
   "cell_type": "code",
   "execution_count": 17,
   "metadata": {},
   "outputs": [],
   "source": [
    "# determines number of users for each gender and campaign and copies to clipboard\n",
    "df_gender.groupby(['gender', 'campaign_id']).agg({'northstar_id': lambda x: len(x.unique())}).unstack().to_clipboard()"
   ]
  },
  {
   "cell_type": "markdown",
   "metadata": {},
   "source": [
    "#### Users reporting back"
   ]
  },
  {
   "cell_type": "code",
   "execution_count": 18,
   "metadata": {},
   "outputs": [],
   "source": [
    "df_gender_rbs = df_gender[df_gender['post_id'].notnull()]"
   ]
  },
  {
   "cell_type": "code",
   "execution_count": 19,
   "metadata": {},
   "outputs": [],
   "source": [
    "df_gender_rbs.groupby(['gender']).agg({'northstar_id': lambda x: len(x.unique())}).to_clipboard()"
   ]
  },
  {
   "cell_type": "code",
   "execution_count": 20,
   "metadata": {},
   "outputs": [],
   "source": [
    "df_gender_rbs.groupby(\n",
    "    ['gender', 'campaign_id']).agg({'northstar_id': lambda x: len(x.unique())}).unstack().to_clipboard()"
   ]
  }
 ],
 "metadata": {
  "kernelspec": {
   "display_name": "Python 3",
   "language": "python",
   "name": "python3"
  },
  "language_info": {
   "codemirror_mode": {
    "name": "ipython",
    "version": 3
   },
   "file_extension": ".py",
   "mimetype": "text/x-python",
   "name": "python",
   "nbconvert_exporter": "python",
   "pygments_lexer": "ipython3",
   "version": "3.7.0"
  }
 },
 "nbformat": 4,
 "nbformat_minor": 2
}
